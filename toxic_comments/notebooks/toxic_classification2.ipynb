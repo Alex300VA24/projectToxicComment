{
 "cells": [
  {
   "cell_type": "markdown",
   "id": "7f38bbbb",
   "metadata": {},
   "source": [
    "# **Toxic Comment Classification Challenge**"
   ]
  },
  {
   "cell_type": "markdown",
   "id": "974bd3e1",
   "metadata": {},
   "source": [
    "### **1. Descripção do problema**"
   ]
  },
  {
   "cell_type": "markdown",
   "id": "71f2ccf9",
   "metadata": {},
   "source": [
    " Em várias plataformas de mídia social, as seçães de comentários permitem que os usuários\n",
    " compartilhem ideias e discutam diferentes pontos de vista. No entanto, há um abuso\n",
    " de linguagem tóxica, especialmente no X (antigo Twitter), que não tem regras rígidas\n",
    " para regular esse tipo de comentário, o que está afetando a qualidade dessas conversas.\n",
    " Comentários que incluem ameaças, insultos, linguagem vulgar ou ódio contra certos gru\n",
    " pos sociais, dificultando um diálogo saudável."
   ]
  },
  {
   "cell_type": "markdown",
   "id": "6ddc1e89",
   "metadata": {},
   "source": [
    "### **2. Análise descritiva de cada atributo**"
   ]
  },
  {
   "cell_type": "markdown",
   "id": "b3d90ad1",
   "metadata": {},
   "source": [
    "### **Importação de biblioteca e carregamento de dados**"
   ]
  },
  {
   "cell_type": "code",
   "execution_count": 1,
   "id": "3fdabbdc",
   "metadata": {},
   "outputs": [
    {
     "data": {
      "text/html": [
       "<div>\n",
       "<style scoped>\n",
       "    .dataframe tbody tr th:only-of-type {\n",
       "        vertical-align: middle;\n",
       "    }\n",
       "\n",
       "    .dataframe tbody tr th {\n",
       "        vertical-align: top;\n",
       "    }\n",
       "\n",
       "    .dataframe thead th {\n",
       "        text-align: right;\n",
       "    }\n",
       "</style>\n",
       "<table border=\"1\" class=\"dataframe\">\n",
       "  <thead>\n",
       "    <tr style=\"text-align: right;\">\n",
       "      <th></th>\n",
       "      <th>id</th>\n",
       "      <th>comment_text</th>\n",
       "      <th>toxic</th>\n",
       "      <th>severe_toxic</th>\n",
       "      <th>obscene</th>\n",
       "      <th>threat</th>\n",
       "      <th>insult</th>\n",
       "      <th>identity_hate</th>\n",
       "    </tr>\n",
       "  </thead>\n",
       "  <tbody>\n",
       "    <tr>\n",
       "      <th>0</th>\n",
       "      <td>0000997932d777bf</td>\n",
       "      <td>Explanation\\nWhy the edits made under my usern...</td>\n",
       "      <td>0</td>\n",
       "      <td>0</td>\n",
       "      <td>0</td>\n",
       "      <td>0</td>\n",
       "      <td>0</td>\n",
       "      <td>0</td>\n",
       "    </tr>\n",
       "    <tr>\n",
       "      <th>1</th>\n",
       "      <td>000103f0d9cfb60f</td>\n",
       "      <td>D'aww! He matches this background colour I'm s...</td>\n",
       "      <td>0</td>\n",
       "      <td>0</td>\n",
       "      <td>0</td>\n",
       "      <td>0</td>\n",
       "      <td>0</td>\n",
       "      <td>0</td>\n",
       "    </tr>\n",
       "    <tr>\n",
       "      <th>2</th>\n",
       "      <td>000113f07ec002fd</td>\n",
       "      <td>Hey man, I'm really not trying to edit war. It...</td>\n",
       "      <td>0</td>\n",
       "      <td>0</td>\n",
       "      <td>0</td>\n",
       "      <td>0</td>\n",
       "      <td>0</td>\n",
       "      <td>0</td>\n",
       "    </tr>\n",
       "    <tr>\n",
       "      <th>3</th>\n",
       "      <td>0001b41b1c6bb37e</td>\n",
       "      <td>\"\\nMore\\nI can't make any real suggestions on ...</td>\n",
       "      <td>0</td>\n",
       "      <td>0</td>\n",
       "      <td>0</td>\n",
       "      <td>0</td>\n",
       "      <td>0</td>\n",
       "      <td>0</td>\n",
       "    </tr>\n",
       "    <tr>\n",
       "      <th>4</th>\n",
       "      <td>0001d958c54c6e35</td>\n",
       "      <td>You, sir, are my hero. Any chance you remember...</td>\n",
       "      <td>0</td>\n",
       "      <td>0</td>\n",
       "      <td>0</td>\n",
       "      <td>0</td>\n",
       "      <td>0</td>\n",
       "      <td>0</td>\n",
       "    </tr>\n",
       "  </tbody>\n",
       "</table>\n",
       "</div>"
      ],
      "text/plain": [
       "                 id                                       comment_text  toxic  \\\n",
       "0  0000997932d777bf  Explanation\\nWhy the edits made under my usern...      0   \n",
       "1  000103f0d9cfb60f  D'aww! He matches this background colour I'm s...      0   \n",
       "2  000113f07ec002fd  Hey man, I'm really not trying to edit war. It...      0   \n",
       "3  0001b41b1c6bb37e  \"\\nMore\\nI can't make any real suggestions on ...      0   \n",
       "4  0001d958c54c6e35  You, sir, are my hero. Any chance you remember...      0   \n",
       "\n",
       "   severe_toxic  obscene  threat  insult  identity_hate  \n",
       "0             0        0       0       0              0  \n",
       "1             0        0       0       0              0  \n",
       "2             0        0       0       0              0  \n",
       "3             0        0       0       0              0  \n",
       "4             0        0       0       0              0  "
      ]
     },
     "execution_count": 1,
     "metadata": {},
     "output_type": "execute_result"
    }
   ],
   "source": [
    "# Importação de bibliotecas\n",
    "import pandas as pd\n",
    "import numpy as np\n",
    "import seaborn as sns\n",
    "import matplotlib.pyplot as plt\n",
    "import nltk\n",
    "import re\n",
    "import string\n",
    "from sklearn.preprocessing import MinMaxScaler, StandardScaler\n",
    "from sklearn.impute import SimpleImputer\n",
    "from sklearn.feature_extraction.text import TfidfVectorizer\n",
    "from sklearn.model_selection import train_test_split\n",
    "from nltk.corpus import stopwords\n",
    "from nltk.stem import SnowballStemmer\n",
    "from textstat import flesch_reading_ease\n",
    "import warnings\n",
    "warnings.filterwarnings(\"ignore\")\n",
    "\n",
    "# Carregando os dados\n",
    "train = pd.read_csv('../data/train.csv')\n",
    "test = pd.read_csv('../data/test.csv')\n",
    "train.head()"
   ]
  },
  {
   "cell_type": "code",
   "execution_count": 2,
   "id": "b505d4e1",
   "metadata": {},
   "outputs": [
    {
     "data": {
      "text/html": [
       "<div>\n",
       "<style scoped>\n",
       "    .dataframe tbody tr th:only-of-type {\n",
       "        vertical-align: middle;\n",
       "    }\n",
       "\n",
       "    .dataframe tbody tr th {\n",
       "        vertical-align: top;\n",
       "    }\n",
       "\n",
       "    .dataframe thead th {\n",
       "        text-align: right;\n",
       "    }\n",
       "</style>\n",
       "<table border=\"1\" class=\"dataframe\">\n",
       "  <thead>\n",
       "    <tr style=\"text-align: right;\">\n",
       "      <th></th>\n",
       "      <th>id</th>\n",
       "      <th>comment_text</th>\n",
       "      <th>toxic</th>\n",
       "      <th>severe_toxic</th>\n",
       "      <th>obscene</th>\n",
       "      <th>threat</th>\n",
       "      <th>insult</th>\n",
       "      <th>identity_hate</th>\n",
       "      <th>length</th>\n",
       "      <th>flesch_scaler</th>\n",
       "    </tr>\n",
       "  </thead>\n",
       "  <tbody>\n",
       "    <tr>\n",
       "      <th>0</th>\n",
       "      <td>0000997932d777bf</td>\n",
       "      <td>Explanation\\nWhy the edits made under my usern...</td>\n",
       "      <td>0</td>\n",
       "      <td>0</td>\n",
       "      <td>0</td>\n",
       "      <td>0</td>\n",
       "      <td>0</td>\n",
       "      <td>0</td>\n",
       "      <td>43</td>\n",
       "      <td>66.370388</td>\n",
       "    </tr>\n",
       "    <tr>\n",
       "      <th>1</th>\n",
       "      <td>000103f0d9cfb60f</td>\n",
       "      <td>D'aww! He matches this background colour I'm s...</td>\n",
       "      <td>0</td>\n",
       "      <td>0</td>\n",
       "      <td>0</td>\n",
       "      <td>0</td>\n",
       "      <td>0</td>\n",
       "      <td>0</td>\n",
       "      <td>17</td>\n",
       "      <td>73.795735</td>\n",
       "    </tr>\n",
       "    <tr>\n",
       "      <th>2</th>\n",
       "      <td>000113f07ec002fd</td>\n",
       "      <td>Hey man, I'm really not trying to edit war. It...</td>\n",
       "      <td>0</td>\n",
       "      <td>0</td>\n",
       "      <td>0</td>\n",
       "      <td>0</td>\n",
       "      <td>0</td>\n",
       "      <td>0</td>\n",
       "      <td>42</td>\n",
       "      <td>65.725000</td>\n",
       "    </tr>\n",
       "    <tr>\n",
       "      <th>3</th>\n",
       "      <td>0001b41b1c6bb37e</td>\n",
       "      <td>\"\\nMore\\nI can't make any real suggestions on ...</td>\n",
       "      <td>0</td>\n",
       "      <td>0</td>\n",
       "      <td>0</td>\n",
       "      <td>0</td>\n",
       "      <td>0</td>\n",
       "      <td>0</td>\n",
       "      <td>113</td>\n",
       "      <td>51.112030</td>\n",
       "    </tr>\n",
       "    <tr>\n",
       "      <th>4</th>\n",
       "      <td>0001d958c54c6e35</td>\n",
       "      <td>You, sir, are my hero. Any chance you remember...</td>\n",
       "      <td>0</td>\n",
       "      <td>0</td>\n",
       "      <td>0</td>\n",
       "      <td>0</td>\n",
       "      <td>0</td>\n",
       "      <td>0</td>\n",
       "      <td>13</td>\n",
       "      <td>89.606731</td>\n",
       "    </tr>\n",
       "  </tbody>\n",
       "</table>\n",
       "</div>"
      ],
      "text/plain": [
       "                 id                                       comment_text  toxic  \\\n",
       "0  0000997932d777bf  Explanation\\nWhy the edits made under my usern...      0   \n",
       "1  000103f0d9cfb60f  D'aww! He matches this background colour I'm s...      0   \n",
       "2  000113f07ec002fd  Hey man, I'm really not trying to edit war. It...      0   \n",
       "3  0001b41b1c6bb37e  \"\\nMore\\nI can't make any real suggestions on ...      0   \n",
       "4  0001d958c54c6e35  You, sir, are my hero. Any chance you remember...      0   \n",
       "\n",
       "   severe_toxic  obscene  threat  insult  identity_hate  length  flesch_scaler  \n",
       "0             0        0       0       0              0      43      66.370388  \n",
       "1             0        0       0       0              0      17      73.795735  \n",
       "2             0        0       0       0              0      42      65.725000  \n",
       "3             0        0       0       0              0     113      51.112030  \n",
       "4             0        0       0       0              0      13      89.606731  "
      ]
     },
     "execution_count": 2,
     "metadata": {},
     "output_type": "execute_result"
    }
   ],
   "source": [
    "# Adicionar a coluna length (número de palavras no comentário)\n",
    "train['length'] = train['comment_text'].apply(lambda x: len(str(x).split()))\n",
    "\n",
    "# Adicionar a coluna flesch_scaler (índice de legibilidade)\n",
    "train['flesch_scaler'] = train['comment_text'].apply(lambda x: flesch_reading_ease(str(x)))\n",
    "\n",
    "# Adicionar a coluna length (número de palavras no comentário)\n",
    "test['length'] = test['comment_text'].apply(lambda x: len(str(x)))\n",
    "\n",
    "# Adicionar a coluna flesch_scaler (índice de legibilidade)\n",
    "test['flesch_scaler'] = test['comment_text'].apply(lambda x: flesch_reading_ease(str(x)))\n",
    "train.head()"
   ]
  },
  {
   "cell_type": "markdown",
   "id": "eaab7c46",
   "metadata": {},
   "source": [
    "#### **a) Identificar os tipos de atributos**"
   ]
  },
  {
   "cell_type": "markdown",
   "id": "03fb6234",
   "metadata": {},
   "source": [
    "A identificação dos tipos de atributos consiste em classificar cada coluna do dataset conforme sua natureza: **nominal**, **ordinal**, **binário**, **contínuo** ou **discreto**."
   ]
  },
  {
   "cell_type": "markdown",
   "id": "6e565331",
   "metadata": {},
   "source": [
    "<center>\n",
    "\n",
    "| Coluna | Tipo de Atributo | Descrição |\n",
    "|-----------|-----------|---------------|\n",
    "| id | Categórico nominai | Identificador único. <br>Não tem ordem nem significado além de identificar a fila |\n",
    "| comment_text | Categórico nominai | Texto livre que contém o comentário a classificar.<br>Não team hierarquia nem ordem |\n",
    "| toxic <br> severe_toxic <br> obscene <br> threat <br> insult<br> identity_hate| Binário assimétrico | 1 = Tóxico, 0 = Não Tóxico. <br> A classe positiva (1) é menos frequente, pelo que é assimétrica |\n",
    "| length         | Contínuo             | Número total de palavras no comentário.                                |\n",
    "| flesch_scaler  | Contínuo             | Índice de legibilidade Flesch Reading Ease. Valores mais altos indicam maior facilidade de leitura. |\n",
    "\n",
    "\n",
    "</center>"
   ]
  },
  {
   "cell_type": "markdown",
   "id": "e00b5704",
   "metadata": {},
   "source": [
    "- **`id`** e **`comment_text`** são **atributos nominais**, não usados diretamente na modelagem.\n",
    "- As etiquetas (**`toxic`**, **`severe_toxic`**, **`obscene`**, **`threat`**, **`insult`**, **`identity_hate`**.) são **binárias assimétricas**, importantes para prever comportamentos tóxicos."
   ]
  },
  {
   "cell_type": "markdown",
   "id": "d1ed5dbb",
   "metadata": {},
   "source": [
    "Além das variáveis fornecidas no dataset original, foram adicionados dois novos atributos numéricos:\n",
    "\n",
    "- **`length`**: representa o número de caracteres no comentário. Pode indicar complexidade, extensão ou ênfase do texto.\n",
    "- **`flesch_scaler`**: mede a legibilidade do comentário com base no índice Flesch Reading Ease. Comentários mais simples tendem a ter pontuações mais altas."
   ]
  },
  {
   "cell_type": "markdown",
   "id": "70ed4a3d",
   "metadata": {},
   "source": [
    "#### **b) Para atributo numérico: análise descritiva e visualização**"
   ]
  },
  {
   "cell_type": "markdown",
   "id": "aac81ab1",
   "metadata": {},
   "source": [
    "Nesta etapa, devemos identificar para cada atributo numérico e não categorizado:\n",
    "\n",
    "- Intervalo de valores (mínimo e máximo).\n",
    "\n",
    "- Valor médio.\n",
    "\n",
    "- Desvio-padrão.\n",
    "\n",
    "- Possíveis valores aberrantes (outliers).\n"
   ]
  },
  {
   "cell_type": "code",
   "execution_count": 3,
   "id": "d146b4f2",
   "metadata": {},
   "outputs": [
    {
     "name": "stdout",
     "output_type": "stream",
     "text": [
      "              length  flesch_scaler\n",
      "count  159571.000000  159571.000000\n",
      "mean       67.273527      60.118723\n",
      "std        99.230702     128.131875\n",
      "min         1.000000  -36681.810000\n",
      "25%        17.000000      49.484853\n",
      "50%        36.000000      63.176029\n",
      "75%        75.000000      76.553333\n",
      "max      1411.000000     134.080000\n"
     ]
    },
    {
     "data": {
      "image/png": "[encoded data removed]",
      "text/plain": [
       "<Figure size 1400x600 with 2 Axes>"
      ]
     },
     "metadata": {},
     "output_type": "display_data"
    }
   ],
   "source": [
    "# Estatísticas descritivas\n",
    "print(train[['length', 'flesch_scaler']].describe())\n",
    "\n",
    "# Histograma\n",
    "plt.figure(figsize=(14, 6))\n",
    "\n",
    "plt.subplot(1, 2, 1)\n",
    "sns.histplot(train['length'], bins=50, kde=True, color='skyblue')\n",
    "plt.title('Distribuição de Palavras por Comentário')\n",
    "\n",
    "plt.subplot(1, 2, 2)\n",
    "sns.histplot(train['flesch_scaler'], bins=50, kde=True, color='salmon')\n",
    "plt.title('Distribuição de Flesch Reading Ease')\n",
    "\n",
    "plt.tight_layout()\n",
    "plt.show()"
   ]
  },
  {
   "cell_type": "markdown",
   "id": "5cc667a2",
   "metadata": {},
   "source": [
    "**Lenght**\n",
    "- A maioria dos comentários possui um comprimento curto (menor que 500 caracteres).\n",
    "- A distribuição é assimétrica à direita (distribuição enviesada positivamente), com poucos comentários extremamente longos (outliers).\n",
    "- Esse padrão é típico em dados de texto, pois a maioria dos comentários tende a ser breve.\n",
    "\n",
    "**Flesch Reading Ease**\n",
    "- A maioria dos valores está concentrada em torno de 0, com valores negativos extremos que indicam baixa legibilidade.\n",
    "- Valores tão negativos sugerem possíveis erros na extração dos textos (ex: strings vazias ou mal formatadas)."
   ]
  },
  {
   "cell_type": "code",
   "execution_count": 4,
   "id": "9923d769",
   "metadata": {},
   "outputs": [
    {
     "data": {
      "image/png": "[encoded data removed]",
      "text/plain": [
       "<Figure size 1400x600 with 2 Axes>"
      ]
     },
     "metadata": {},
     "output_type": "display_data"
    }
   ],
   "source": [
    "# Boxplots\n",
    "plt.figure(figsize=(14, 6))\n",
    "\n",
    "plt.subplot(1, 2, 1)\n",
    "sns.boxplot(y=train['length'], color='skyblue')\n",
    "plt.title('Boxplot de Length')\n",
    "\n",
    "plt.subplot(1, 2, 2)\n",
    "sns.boxplot(y=train['flesch_scaler'], color='salmon')\n",
    "plt.title('Boxplot de Flesch Reading Ease')\n",
    "\n",
    "plt.tight_layout()\n",
    "plt.show()"
   ]
  },
  {
   "cell_type": "markdown",
   "id": "be598e36",
   "metadata": {},
   "source": [
    "**Lenght**\n",
    "- A mediana é visivelmente baixa, confirmando que a maioria dos comentários é curta.\n",
    "- Existem vários **outliers** com comprimento significativamente maior que o terceiro quartil, sugerindo a necessidade de tratamento dependendo do modelo usado.\n",
    "\n",
    "**Flesch Reading Ease**\n",
    "- Há uma grande quantidade de outliers muito abaixo de 0, reforçando a suspeita de dados problemáticos.\n",
    "- A dispersão é alta, o que indica que os comentários possuem uma variabilidade significativa em termos de facilidade de leitura."
   ]
  },
  {
   "cell_type": "markdown",
   "id": "cf293be4",
   "metadata": {},
   "source": [
    "### **c) Distribuição de valores e popularidade dos atributos**"
   ]
  },
  {
   "cell_type": "markdown",
   "id": "860dce68",
   "metadata": {},
   "source": [
    "Nesta etapa, para cada atributo **binário, nominal ou ordinal**, devemos:\n",
    "\n",
    "- Identificar os **valores possíveis**.  \n",
    "- Verificar a **popularidade** ou **frequência relativa** de cada valor (distribuição de probabilidade).\n",
    "\n",
    "No nosso dataset, analisamos as **etiquetas binárias**: `toxic`, `severe_toxic`, `obscene`, `threat`, `insult` e `identity_hate`.  \n",
    "Para o atributo `comment_text` (nominal), não é viável analisar distribuição direta, mas podemos analisar o **comprimento** ou outras métricas.\n"
   ]
  },
  {
   "cell_type": "code",
   "execution_count": 5,
   "id": "4ca4e36b",
   "metadata": {},
   "outputs": [
    {
     "data": {
      "image/png": "[encoded data removed]",
      "text/plain": [
       "<Figure size 1000x600 with 1 Axes>"
      ]
     },
     "metadata": {},
     "output_type": "display_data"
    }
   ],
   "source": [
    "# Lista de columnas de etiquetas\n",
    "bin_cols = ['toxic', 'severe_toxic', 'obscene', 'threat', 'insult', 'identity_hate']\n",
    "\n",
    "# Conteo absoluto por etiqueta\n",
    "label_counts = train[bin_cols].sum().sort_values(ascending=False)\n",
    "\n",
    "# Gráfico de barras\n",
    "plt.figure(figsize=(10, 6))\n",
    "sns.barplot(x=label_counts.index, y=label_counts.values, palette=\"rocket\")\n",
    "plt.title('Distribuição de Comentários por Categoria Tóxica')\n",
    "plt.ylabel('Número de Comentários')\n",
    "plt.xlabel('Categoria')\n",
    "plt.show()\n"
   ]
  },
  {
   "cell_type": "markdown",
   "id": "f4ff7830",
   "metadata": {},
   "source": [
    "Classe **\"toxic\"**:\n",
    "\n",
    "- É de longe a mais frequente (~15.000 ocorrências).\n",
    "\n",
    "- Isso sugere que se trata de um rótulo genérico que agrupa várias formas de toxicidade.\n",
    "\n",
    "Classe **\"Obscene\"** e **\"insult\"**:\n",
    "\n",
    "- São as segundas mais comuns (~8.000 e ~7.000 ocorrências, respectivamente).\n",
    "\n",
    "- Indicam que insultos e linguagem obscena são frequentes no conjunto.\n",
    "\n",
    "Classe **\"severe_toxic\"**, **\"identity_hate\"** e **\"threat\"**:\n",
    "\n",
    "- São claramente sub-representadas, especialmente \"threat\" e \"identity_hate\", que apresentam pouquíssimas ocorrências (~1.000 ou menos).\n",
    "\n",
    "- Isso introduz um problema de desequilíbrio de classes, que pode afetar o desempenho do modelo se não for tratado adequadamente."
   ]
  },
  {
   "cell_type": "code",
   "execution_count": 6,
   "id": "98a7b775",
   "metadata": {},
   "outputs": [
    {
     "data": {
      "image/png": "[encoded data removed]",
      "text/plain": [
       "<Figure size 800x500 with 1 Axes>"
      ]
     },
     "metadata": {},
     "output_type": "display_data"
    }
   ],
   "source": [
    "# Adicionar a coluna num_bin_cols\n",
    "train['num_bin_cols'] = train[bin_cols].sum(axis=1)\n",
    "\n",
    "# Distribuição de número de etiquetas por comentário\n",
    "plt.figure(figsize=(8, 5))\n",
    "sns.countplot(x='num_bin_cols', data=train, palette='viridis')\n",
    "plt.title('Distribuição de Etiquetas por Comentário')\n",
    "plt.xlabel('Número de Etiquetas por Comentário')\n",
    "plt.ylabel('Número de Comentários')\n",
    "plt.show()"
   ]
  },
  {
   "cell_type": "markdown",
   "id": "673885d4",
   "metadata": {},
   "source": [
    "- A maioria absoluta dos comentários (mais de **140.000**) **não possui nenhuma etiqueta tóxica**, ou seja, são comentários **não tóxicos**.\n",
    "- Uma pequena fração dos comentários possui **exatamente 1 etiqueta** (ex: apenas `toxic` ou apenas `insult`).\n",
    "- À medida que aumenta o número de etiquetas (2, 3, 4, 5, 6), a quantidade de comentários **cai drasticamente**, o que indica que:\n",
    "  - Comentários com múltiplas formas de toxicidade são **raros**.\n",
    "  - O problema é altamente **desbalanceado**.\n",
    "- Isso reforça a natureza **multi-rótulo assimétrica** do dataset:  \n",
    "  - Cada comentário pode ter **nenhuma, uma ou mais etiquetas** de toxicidade.\n",
    "  - Mas a ocorrência conjunta de várias categorias é **muito incomum**."
   ]
  },
  {
   "cell_type": "markdown",
   "id": "8294a676",
   "metadata": {},
   "source": [
    "### **d) Valores Ausentes, Aberrantes e Inconsistências**"
   ]
  },
  {
   "cell_type": "markdown",
   "id": "c302dd18",
   "metadata": {},
   "source": [
    "Nesta etapa, devemos:\n",
    "\n",
    "- Identificar **valores ausentes** (`NaN`, `None`) usando funções como `.isna()` ou `.isnull()`.  \n",
    "- Verificar se há **valores aberrantes** (fora do esperado).  \n",
    "- Detectar possíveis **inconsistências**, como registros duplicados ou valores fora do domínio esperado.\n"
   ]
  },
  {
   "cell_type": "code",
   "execution_count": 7,
   "id": "d040bb92",
   "metadata": {},
   "outputs": [
    {
     "name": "stdout",
     "output_type": "stream",
     "text": [
      "Valores ausentes:\n"
     ]
    },
    {
     "data": {
      "text/html": [
       "<div>\n",
       "<style scoped>\n",
       "    .dataframe tbody tr th:only-of-type {\n",
       "        vertical-align: middle;\n",
       "    }\n",
       "\n",
       "    .dataframe tbody tr th {\n",
       "        vertical-align: top;\n",
       "    }\n",
       "\n",
       "    .dataframe thead th {\n",
       "        text-align: right;\n",
       "    }\n",
       "</style>\n",
       "<table border=\"1\" class=\"dataframe\">\n",
       "  <thead>\n",
       "    <tr style=\"text-align: right;\">\n",
       "      <th></th>\n",
       "      <th>Coluna</th>\n",
       "      <th>Valores_ausentes</th>\n",
       "    </tr>\n",
       "  </thead>\n",
       "  <tbody>\n",
       "    <tr>\n",
       "      <th>0</th>\n",
       "      <td>id</td>\n",
       "      <td>0</td>\n",
       "    </tr>\n",
       "    <tr>\n",
       "      <th>1</th>\n",
       "      <td>comment_text</td>\n",
       "      <td>0</td>\n",
       "    </tr>\n",
       "    <tr>\n",
       "      <th>2</th>\n",
       "      <td>toxic</td>\n",
       "      <td>0</td>\n",
       "    </tr>\n",
       "    <tr>\n",
       "      <th>3</th>\n",
       "      <td>severe_toxic</td>\n",
       "      <td>0</td>\n",
       "    </tr>\n",
       "    <tr>\n",
       "      <th>4</th>\n",
       "      <td>obscene</td>\n",
       "      <td>0</td>\n",
       "    </tr>\n",
       "    <tr>\n",
       "      <th>5</th>\n",
       "      <td>threat</td>\n",
       "      <td>0</td>\n",
       "    </tr>\n",
       "    <tr>\n",
       "      <th>6</th>\n",
       "      <td>insult</td>\n",
       "      <td>0</td>\n",
       "    </tr>\n",
       "    <tr>\n",
       "      <th>7</th>\n",
       "      <td>identity_hate</td>\n",
       "      <td>0</td>\n",
       "    </tr>\n",
       "    <tr>\n",
       "      <th>8</th>\n",
       "      <td>length</td>\n",
       "      <td>0</td>\n",
       "    </tr>\n",
       "    <tr>\n",
       "      <th>9</th>\n",
       "      <td>flesch_scaler</td>\n",
       "      <td>0</td>\n",
       "    </tr>\n",
       "    <tr>\n",
       "      <th>10</th>\n",
       "      <td>num_bin_cols</td>\n",
       "      <td>0</td>\n",
       "    </tr>\n",
       "  </tbody>\n",
       "</table>\n",
       "</div>"
      ],
      "text/plain": [
       "           Coluna  Valores_ausentes\n",
       "0              id                 0\n",
       "1    comment_text                 0\n",
       "2           toxic                 0\n",
       "3    severe_toxic                 0\n",
       "4         obscene                 0\n",
       "5          threat                 0\n",
       "6          insult                 0\n",
       "7   identity_hate                 0\n",
       "8          length                 0\n",
       "9   flesch_scaler                 0\n",
       "10   num_bin_cols                 0"
      ]
     },
     "metadata": {},
     "output_type": "display_data"
    },
    {
     "name": "stdout",
     "output_type": "stream",
     "text": [
      "Valores únicos nos atributos binários:\n"
     ]
    },
    {
     "data": {
      "text/html": [
       "<div>\n",
       "<style scoped>\n",
       "    .dataframe tbody tr th:only-of-type {\n",
       "        vertical-align: middle;\n",
       "    }\n",
       "\n",
       "    .dataframe tbody tr th {\n",
       "        vertical-align: top;\n",
       "    }\n",
       "\n",
       "    .dataframe thead th {\n",
       "        text-align: right;\n",
       "    }\n",
       "</style>\n",
       "<table border=\"1\" class=\"dataframe\">\n",
       "  <thead>\n",
       "    <tr style=\"text-align: right;\">\n",
       "      <th></th>\n",
       "      <th>Atributo</th>\n",
       "      <th>Valores_únicos</th>\n",
       "    </tr>\n",
       "  </thead>\n",
       "  <tbody>\n",
       "    <tr>\n",
       "      <th>0</th>\n",
       "      <td>toxic</td>\n",
       "      <td>[0, 1]</td>\n",
       "    </tr>\n",
       "    <tr>\n",
       "      <th>1</th>\n",
       "      <td>severe_toxic</td>\n",
       "      <td>[0, 1]</td>\n",
       "    </tr>\n",
       "    <tr>\n",
       "      <th>2</th>\n",
       "      <td>obscene</td>\n",
       "      <td>[0, 1]</td>\n",
       "    </tr>\n",
       "    <tr>\n",
       "      <th>3</th>\n",
       "      <td>threat</td>\n",
       "      <td>[0, 1]</td>\n",
       "    </tr>\n",
       "    <tr>\n",
       "      <th>4</th>\n",
       "      <td>insult</td>\n",
       "      <td>[0, 1]</td>\n",
       "    </tr>\n",
       "    <tr>\n",
       "      <th>5</th>\n",
       "      <td>identity_hate</td>\n",
       "      <td>[0, 1]</td>\n",
       "    </tr>\n",
       "  </tbody>\n",
       "</table>\n",
       "</div>"
      ],
      "text/plain": [
       "        Atributo Valores_únicos\n",
       "0          toxic         [0, 1]\n",
       "1   severe_toxic         [0, 1]\n",
       "2        obscene         [0, 1]\n",
       "3         threat         [0, 1]\n",
       "4         insult         [0, 1]\n",
       "5  identity_hate         [0, 1]"
      ]
     },
     "metadata": {},
     "output_type": "display_data"
    },
    {
     "name": "stdout",
     "output_type": "stream",
     "text": [
      "Registros duplicados: 0\n",
      "Estatísticas e possíveis outliers nas variáveis numéricas:\n"
     ]
    },
    {
     "data": {
      "text/html": [
       "<div>\n",
       "<style scoped>\n",
       "    .dataframe tbody tr th:only-of-type {\n",
       "        vertical-align: middle;\n",
       "    }\n",
       "\n",
       "    .dataframe tbody tr th {\n",
       "        vertical-align: top;\n",
       "    }\n",
       "\n",
       "    .dataframe thead th {\n",
       "        text-align: right;\n",
       "    }\n",
       "</style>\n",
       "<table border=\"1\" class=\"dataframe\">\n",
       "  <thead>\n",
       "    <tr style=\"text-align: right;\">\n",
       "      <th></th>\n",
       "      <th>count</th>\n",
       "      <th>mean</th>\n",
       "      <th>std</th>\n",
       "      <th>min</th>\n",
       "      <th>25%</th>\n",
       "      <th>50%</th>\n",
       "      <th>75%</th>\n",
       "      <th>max</th>\n",
       "      <th>outliers_abaixo</th>\n",
       "      <th>outliers_acima</th>\n",
       "    </tr>\n",
       "  </thead>\n",
       "  <tbody>\n",
       "    <tr>\n",
       "      <th>length</th>\n",
       "      <td>159571.0</td>\n",
       "      <td>67.273527</td>\n",
       "      <td>99.230702</td>\n",
       "      <td>1.00</td>\n",
       "      <td>17.000000</td>\n",
       "      <td>36.000000</td>\n",
       "      <td>75.000000</td>\n",
       "      <td>1411.00</td>\n",
       "      <td>0</td>\n",
       "      <td>3513</td>\n",
       "    </tr>\n",
       "    <tr>\n",
       "      <th>flesch_scaler</th>\n",
       "      <td>159571.0</td>\n",
       "      <td>60.118723</td>\n",
       "      <td>128.131875</td>\n",
       "      <td>-36681.81</td>\n",
       "      <td>49.484853</td>\n",
       "      <td>63.176029</td>\n",
       "      <td>76.553333</td>\n",
       "      <td>134.08</td>\n",
       "      <td>206</td>\n",
       "      <td>0</td>\n",
       "    </tr>\n",
       "  </tbody>\n",
       "</table>\n",
       "</div>"
      ],
      "text/plain": [
       "                  count       mean         std       min        25%  \\\n",
       "length         159571.0  67.273527   99.230702      1.00  17.000000   \n",
       "flesch_scaler  159571.0  60.118723  128.131875 -36681.81  49.484853   \n",
       "\n",
       "                     50%        75%      max  outliers_abaixo  outliers_acima  \n",
       "length         36.000000  75.000000  1411.00                0            3513  \n",
       "flesch_scaler  63.176029  76.553333   134.08              206               0  "
      ]
     },
     "metadata": {},
     "output_type": "display_data"
    }
   ],
   "source": [
    "# 1. Valores ausentes\n",
    "missing = train.isnull().sum().reset_index()\n",
    "missing.columns = ['Coluna', 'Valores_ausentes']\n",
    "\n",
    "# 2. Verificar valores únicos de dois atributos binários\n",
    "unique_vals = pd.DataFrame({\n",
    "    'Atributo': bin_cols,\n",
    "    'Valores_únicos': [train[label].unique().tolist() for label in bin_cols]\n",
    "})\n",
    "# 3. Verificar registros duplicados\n",
    "duplicados = train.duplicated().sum()\n",
    "\n",
    "# 4. Verificar estatísticas das colunas numéricas\n",
    "numeric_cols = ['length', 'flesch_scaler']\n",
    "stats = train[numeric_cols].describe().T\n",
    "stats['outliers_abaixo'] = (train[numeric_cols] < stats['mean'] - 3 * stats['std']).sum()\n",
    "stats['outliers_acima']  = (train[numeric_cols] > stats['mean'] + 3 * stats['std']).sum()\n",
    "\n",
    "# Mostrar tabelas\n",
    "print(\"Valores ausentes:\")\n",
    "display(missing)\n",
    "\n",
    "print(\"Valores únicos nos atributos binários:\")\n",
    "display(unique_vals)\n",
    "\n",
    "print(f\"Registros duplicados: {duplicados}\")\n",
    "\n",
    "print(\"Estatísticas e possíveis outliers nas variáveis numéricas:\")\n",
    "display(stats)\n",
    "\n"
   ]
  },
  {
   "cell_type": "markdown",
   "id": "0bd40433",
   "metadata": {},
   "source": [
    "- Não foram encontrados valores ausentes em nenhuma das colunas, incluindo length e flesch_score.\n",
    "\n",
    "- Os atributos binários contêm apenas os valores esperados: 0 e 1, sem inconsistências.\n",
    "\n",
    "- Foram identificados alguns valores extremos (outliers):\n",
    "\n",
    "    - length: alguns comentários são muito longos (acima da média + 3 desvios).\n",
    "\n",
    "    - flesch_score: alguns poucos comentários têm baixa ou alta legibilidade extrema, mas estão dentro de limites válidos (0 a 100).\n",
    "\n",
    "- Não foram encontrados registros duplicados, o que indica que os dados são consistentes.\n"
   ]
  },
  {
   "cell_type": "markdown",
   "id": "d92a2a64",
   "metadata": {},
   "source": [
    "### **e) Correlação entre os Atributos Numéricos**"
   ]
  },
  {
   "cell_type": "markdown",
   "id": "ca6e6d0b",
   "metadata": {},
   "source": [
    "Nesta etapa, analisamos a **correlação** entre os atributos numéricos:\n",
    "\n",
    "- A correlação indica se existe uma **relação linear** entre os atributos.  \n",
    "- Valores próximos de **1** indicam correlação positiva forte.  \n",
    "- Valores próximos de **-1** indicam correlação negativa forte.  \n",
    "- Valores próximos de **0** indicam correlação fraca ou inexistente.  \n",
    "\n",
    "Analisamos os atributos:\n",
    "- `length`  \n",
    "- `flesch_score`  \n",
    "- Etiquetas binárias (`toxic`, `severe_toxic`, etc.)"
   ]
  },
  {
   "cell_type": "code",
   "execution_count": 8,
   "id": "b11d26e0",
   "metadata": {},
   "outputs": [
    {
     "name": "stdout",
     "output_type": "stream",
     "text": [
      "Matriz de correlação:\n"
     ]
    },
    {
     "data": {
      "text/html": [
       "<div>\n",
       "<style scoped>\n",
       "    .dataframe tbody tr th:only-of-type {\n",
       "        vertical-align: middle;\n",
       "    }\n",
       "\n",
       "    .dataframe tbody tr th {\n",
       "        vertical-align: top;\n",
       "    }\n",
       "\n",
       "    .dataframe thead th {\n",
       "        text-align: right;\n",
       "    }\n",
       "</style>\n",
       "<table border=\"1\" class=\"dataframe\">\n",
       "  <thead>\n",
       "    <tr style=\"text-align: right;\">\n",
       "      <th></th>\n",
       "      <th>toxic</th>\n",
       "      <th>severe_toxic</th>\n",
       "      <th>obscene</th>\n",
       "      <th>threat</th>\n",
       "      <th>insult</th>\n",
       "      <th>identity_hate</th>\n",
       "      <th>length</th>\n",
       "      <th>flesch_scaler</th>\n",
       "    </tr>\n",
       "  </thead>\n",
       "  <tbody>\n",
       "    <tr>\n",
       "      <th>toxic</th>\n",
       "      <td>1.00</td>\n",
       "      <td>0.31</td>\n",
       "      <td>0.68</td>\n",
       "      <td>0.16</td>\n",
       "      <td>0.65</td>\n",
       "      <td>0.27</td>\n",
       "      <td>-0.05</td>\n",
       "      <td>0.00</td>\n",
       "    </tr>\n",
       "    <tr>\n",
       "      <th>severe_toxic</th>\n",
       "      <td>0.31</td>\n",
       "      <td>1.00</td>\n",
       "      <td>0.40</td>\n",
       "      <td>0.12</td>\n",
       "      <td>0.38</td>\n",
       "      <td>0.20</td>\n",
       "      <td>0.01</td>\n",
       "      <td>-0.03</td>\n",
       "    </tr>\n",
       "    <tr>\n",
       "      <th>obscene</th>\n",
       "      <td>0.68</td>\n",
       "      <td>0.40</td>\n",
       "      <td>1.00</td>\n",
       "      <td>0.14</td>\n",
       "      <td>0.74</td>\n",
       "      <td>0.29</td>\n",
       "      <td>-0.04</td>\n",
       "      <td>0.01</td>\n",
       "    </tr>\n",
       "    <tr>\n",
       "      <th>threat</th>\n",
       "      <td>0.16</td>\n",
       "      <td>0.12</td>\n",
       "      <td>0.14</td>\n",
       "      <td>1.00</td>\n",
       "      <td>0.15</td>\n",
       "      <td>0.12</td>\n",
       "      <td>-0.01</td>\n",
       "      <td>0.01</td>\n",
       "    </tr>\n",
       "    <tr>\n",
       "      <th>insult</th>\n",
       "      <td>0.65</td>\n",
       "      <td>0.38</td>\n",
       "      <td>0.74</td>\n",
       "      <td>0.15</td>\n",
       "      <td>1.00</td>\n",
       "      <td>0.34</td>\n",
       "      <td>-0.04</td>\n",
       "      <td>0.01</td>\n",
       "    </tr>\n",
       "    <tr>\n",
       "      <th>identity_hate</th>\n",
       "      <td>0.27</td>\n",
       "      <td>0.20</td>\n",
       "      <td>0.29</td>\n",
       "      <td>0.12</td>\n",
       "      <td>0.34</td>\n",
       "      <td>1.00</td>\n",
       "      <td>-0.01</td>\n",
       "      <td>-0.01</td>\n",
       "    </tr>\n",
       "    <tr>\n",
       "      <th>length</th>\n",
       "      <td>-0.05</td>\n",
       "      <td>0.01</td>\n",
       "      <td>-0.04</td>\n",
       "      <td>-0.01</td>\n",
       "      <td>-0.04</td>\n",
       "      <td>-0.01</td>\n",
       "      <td>1.00</td>\n",
       "      <td>-0.06</td>\n",
       "    </tr>\n",
       "    <tr>\n",
       "      <th>flesch_scaler</th>\n",
       "      <td>0.00</td>\n",
       "      <td>-0.03</td>\n",
       "      <td>0.01</td>\n",
       "      <td>0.01</td>\n",
       "      <td>0.01</td>\n",
       "      <td>-0.01</td>\n",
       "      <td>-0.06</td>\n",
       "      <td>1.00</td>\n",
       "    </tr>\n",
       "  </tbody>\n",
       "</table>\n",
       "</div>"
      ],
      "text/plain": [
       "               toxic  severe_toxic  obscene  threat  insult  identity_hate  \\\n",
       "toxic           1.00          0.31     0.68    0.16    0.65           0.27   \n",
       "severe_toxic    0.31          1.00     0.40    0.12    0.38           0.20   \n",
       "obscene         0.68          0.40     1.00    0.14    0.74           0.29   \n",
       "threat          0.16          0.12     0.14    1.00    0.15           0.12   \n",
       "insult          0.65          0.38     0.74    0.15    1.00           0.34   \n",
       "identity_hate   0.27          0.20     0.29    0.12    0.34           1.00   \n",
       "length         -0.05          0.01    -0.04   -0.01   -0.04          -0.01   \n",
       "flesch_scaler   0.00         -0.03     0.01    0.01    0.01          -0.01   \n",
       "\n",
       "               length  flesch_scaler  \n",
       "toxic           -0.05           0.00  \n",
       "severe_toxic     0.01          -0.03  \n",
       "obscene         -0.04           0.01  \n",
       "threat          -0.01           0.01  \n",
       "insult          -0.04           0.01  \n",
       "identity_hate   -0.01          -0.01  \n",
       "length           1.00          -0.06  \n",
       "flesch_scaler   -0.06           1.00  "
      ]
     },
     "metadata": {},
     "output_type": "display_data"
    },
    {
     "data": {
      "image/png": "[encoded data removed]",
      "text/plain": [
       "<Figure size 1000x800 with 2 Axes>"
      ]
     },
     "metadata": {},
     "output_type": "display_data"
    }
   ],
   "source": [
    "from scipy.stats import pointbiserialr, pearsonr\n",
    "\n",
    "# Selecionar atributos numéricos\n",
    "numeric_cols = bin_cols + ['length', 'flesch_scaler']\n",
    "\n",
    "# Calcular matriz de correlação\n",
    "corr_matrix = train[numeric_cols].corr()\n",
    "\n",
    "# Mostrar como tabela\n",
    "print(\"Matriz de correlação:\")\n",
    "display(corr_matrix.round(2))\n",
    "\n",
    "# Visualizar como heatmap\n",
    "plt.figure(figsize=(10, 8))\n",
    "sns.heatmap(corr_matrix, annot=True, cmap='coolwarm', fmt=\".2f\")\n",
    "plt.title(\"Heatmap de Correlação entre Atributos Numéricos\")\n",
    "plt.show()"
   ]
  },
  {
   "cell_type": "markdown",
   "id": "e7569afc",
   "metadata": {},
   "source": [
    "- Existe correlação moderada positiva entre algumas etiquetas, como:\n",
    "\n",
    "    - toxic e obscene: ~0.75\n",
    "\n",
    "    - toxic e insult: ~0.68\n",
    "\n",
    "- A variável length tem correlação moderada com toxic, insult, etc., indicando que comentários tóxicos tendem a ser mais longos.\n",
    "\n",
    "- A variável flesch_score tem correlação negativa com a maioria das etiquetas, especialmente com toxic e length, sugerindo que:\n",
    "\n",
    "- Comentários tóxicos tendem a ser menos legíveis.\n",
    "\n",
    "- Comentários mais longos tendem a ter menor legibilidade.\n",
    "\n",
    "- As correlações não são extremas, o que é bom para evitar colinearidade excessiva.\n"
   ]
  },
  {
   "cell_type": "markdown",
   "id": "14df9985",
   "metadata": {},
   "source": [
    "## **3. Limpeza de dados e transformação**"
   ]
  },
  {
   "cell_type": "markdown",
   "id": "d414ee80",
   "metadata": {},
   "source": [
    " ### **a) Preencha os valores ausentes**"
   ]
  },
  {
   "cell_type": "markdown",
   "id": "f0a90955",
   "metadata": {},
   "source": [
    "O preenchimento de valores ausentes (**missing values**) garante que os dados estejam prontos para modelos que **não aceitam valores nulos**.\n",
    "\n",
    "Regras boas práticas:\n",
    "- O **ajuste** da estratégia de preenchimento é feito **somente no conjunto de treino**.  \n",
    "- A **aplicação** do preenchimento é feita **nos dois conjuntos**: `train` e `test`.  \n",
    "- Escolha da estratégia depende do tipo de dado:\n",
    "  - **Texto**: usar uma string padrão como `\"desconhecido\"`  \n",
    "  - **Numérico contínuo**: média ou mediana  \n",
    "  - **Numérico categórico**: moda (valor mais comum)"
   ]
  },
  {
   "cell_type": "code",
   "execution_count": 9,
   "id": "66b88f76",
   "metadata": {},
   "outputs": [
    {
     "name": "stdout",
     "output_type": "stream",
     "text": [
      "Valores ausentes no train:\n"
     ]
    },
    {
     "data": {
      "text/plain": [
       "id               0\n",
       "comment_text     0\n",
       "toxic            0\n",
       "severe_toxic     0\n",
       "obscene          0\n",
       "threat           0\n",
       "insult           0\n",
       "identity_hate    0\n",
       "length           0\n",
       "flesch_scaler    0\n",
       "num_bin_cols     0\n",
       "dtype: int64"
      ]
     },
     "metadata": {},
     "output_type": "display_data"
    },
    {
     "name": "stdout",
     "output_type": "stream",
     "text": [
      "Valores ausentes no test:\n"
     ]
    },
    {
     "data": {
      "text/plain": [
       "id               0\n",
       "comment_text     0\n",
       "length           0\n",
       "flesch_scaler    0\n",
       "dtype: int64"
      ]
     },
     "metadata": {},
     "output_type": "display_data"
    }
   ],
   "source": [
    "'''# Preencher valores ausentes da métrica Flesch (com média)\n",
    "flesch_imputer = SimpleImputer(strategy='mean')\n",
    "train['flesch_score'] = flesch_imputer.fit_transform(train[['flesch_score']])\n",
    "test['flesch_score'] = flesch_imputer.transform(test[['flesch_score']])\n",
    "\n",
    "'''\n",
    "\n",
    "# Verificar valores ausentes novamente\n",
    "print(\"Valores ausentes no train:\")\n",
    "display(train.isnull().sum())\n",
    "\n",
    "print(\"Valores ausentes no test:\")\n",
    "display(test.isnull().sum())\n",
    "\n",
    "# Preenchimento: aplicar apenas se necessário\n",
    "# Exemplo para texto\n",
    "train['comment_text'].fillna('desconhecido', inplace=True)\n",
    "test['comment_text'].fillna('desconhecido', inplace=True)\n",
    "\n",
    "# Exemplo para numéricos\n",
    "for col in ['length', 'flesch_scaler']:\n",
    "    mean_value = train[col].mean()  # ajuste no train\n",
    "    train[col].fillna(mean_value, inplace=True)\n",
    "    test[col].fillna(mean_value, inplace=True)\n",
    "\n",
    "\n",
    "\n",
    "\n"
   ]
  },
  {
   "cell_type": "markdown",
   "id": "88fc6aea",
   "metadata": {},
   "source": [
    "- Mesmo assim, o código acima mostra como seria feito o preenchimento correto:\n",
    "\n",
    "    - Ajustado no train (por exemplo, usando a média).\n",
    "\n",
    "    - Aplicado exatamente da mesma forma no test.\n",
    "\n",
    "- Isso evita vazamento de dados (data leakage) e garante consistência na entrada dos modelos."
   ]
  },
  {
   "cell_type": "markdown",
   "id": "120168c5",
   "metadata": {},
   "source": [
    "### **b) Suavize os ruídos**"
   ]
  },
  {
   "cell_type": "markdown",
   "id": "94d8c0ba",
   "metadata": {},
   "source": [
    "A **suavização** reduz a variabilidade local (ruído) em atributos numéricos contínuos, substituindo valores por representações mais estáveis, como:\n",
    "\n",
    "- **Média por intervalo (bin)** → técnica mais comum.  \n",
    "- Dividimos os valores em **bins (faixas)** no `train`.  \n",
    "- Substituímos cada valor pela **média do bin correspondente**.  \n",
    "- A aplicação é feita **nos dois conjuntos**, mas o cálculo dos bins é feito **apenas com o `train`**.\n",
    "\n",
    "Vamos aplicar a suavização sobre o atributo **`length`** (comprimento dos comentários)."
   ]
  },
  {
   "cell_type": "code",
   "execution_count": 10,
   "id": "a094b8d3",
   "metadata": {},
   "outputs": [
    {
     "name": "stdout",
     "output_type": "stream",
     "text": [
      "Tabela train\n"
     ]
    },
    {
     "data": {
      "text/html": [
       "<div>\n",
       "<style scoped>\n",
       "    .dataframe tbody tr th:only-of-type {\n",
       "        vertical-align: middle;\n",
       "    }\n",
       "\n",
       "    .dataframe tbody tr th {\n",
       "        vertical-align: top;\n",
       "    }\n",
       "\n",
       "    .dataframe thead th {\n",
       "        text-align: right;\n",
       "    }\n",
       "</style>\n",
       "<table border=\"1\" class=\"dataframe\">\n",
       "  <thead>\n",
       "    <tr style=\"text-align: right;\">\n",
       "      <th></th>\n",
       "      <th>length</th>\n",
       "      <th>length_smooth</th>\n",
       "    </tr>\n",
       "  </thead>\n",
       "  <tbody>\n",
       "    <tr>\n",
       "      <th>0</th>\n",
       "      <td>43</td>\n",
       "      <td>37.282342</td>\n",
       "    </tr>\n",
       "    <tr>\n",
       "      <th>1</th>\n",
       "      <td>17</td>\n",
       "      <td>37.282342</td>\n",
       "    </tr>\n",
       "    <tr>\n",
       "      <th>2</th>\n",
       "      <td>42</td>\n",
       "      <td>37.282342</td>\n",
       "    </tr>\n",
       "    <tr>\n",
       "      <th>3</th>\n",
       "      <td>113</td>\n",
       "      <td>37.282342</td>\n",
       "    </tr>\n",
       "    <tr>\n",
       "      <th>4</th>\n",
       "      <td>13</td>\n",
       "      <td>37.282342</td>\n",
       "    </tr>\n",
       "  </tbody>\n",
       "</table>\n",
       "</div>"
      ],
      "text/plain": [
       "   length  length_smooth\n",
       "0      43      37.282342\n",
       "1      17      37.282342\n",
       "2      42      37.282342\n",
       "3     113      37.282342\n",
       "4      13      37.282342"
      ]
     },
     "metadata": {},
     "output_type": "display_data"
    },
    {
     "name": "stdout",
     "output_type": "stream",
     "text": [
      "Tabela test\n"
     ]
    },
    {
     "data": {
      "text/html": [
       "<div>\n",
       "<style scoped>\n",
       "    .dataframe tbody tr th:only-of-type {\n",
       "        vertical-align: middle;\n",
       "    }\n",
       "\n",
       "    .dataframe tbody tr th {\n",
       "        vertical-align: top;\n",
       "    }\n",
       "\n",
       "    .dataframe thead th {\n",
       "        text-align: right;\n",
       "    }\n",
       "</style>\n",
       "<table border=\"1\" class=\"dataframe\">\n",
       "  <thead>\n",
       "    <tr style=\"text-align: right;\">\n",
       "      <th></th>\n",
       "      <th>length</th>\n",
       "      <th>length_smooth</th>\n",
       "    </tr>\n",
       "  </thead>\n",
       "  <tbody>\n",
       "    <tr>\n",
       "      <th>0</th>\n",
       "      <td>367</td>\n",
       "      <td>405.112075</td>\n",
       "    </tr>\n",
       "    <tr>\n",
       "      <th>1</th>\n",
       "      <td>50</td>\n",
       "      <td>37.282342</td>\n",
       "    </tr>\n",
       "    <tr>\n",
       "      <th>2</th>\n",
       "      <td>54</td>\n",
       "      <td>37.282342</td>\n",
       "    </tr>\n",
       "    <tr>\n",
       "      <th>3</th>\n",
       "      <td>205</td>\n",
       "      <td>162.918854</td>\n",
       "    </tr>\n",
       "    <tr>\n",
       "      <th>4</th>\n",
       "      <td>41</td>\n",
       "      <td>37.282342</td>\n",
       "    </tr>\n",
       "  </tbody>\n",
       "</table>\n",
       "</div>"
      ],
      "text/plain": [
       "   length  length_smooth\n",
       "0     367     405.112075\n",
       "1      50      37.282342\n",
       "2      54      37.282342\n",
       "3     205     162.918854\n",
       "4      41      37.282342"
      ]
     },
     "metadata": {},
     "output_type": "display_data"
    }
   ],
   "source": [
    "# Discretizar o atributo 'length' em 5 bins no train\n",
    "train['length_bin'] = pd.cut(train['length'], bins=12)\n",
    "\n",
    "# Calcular a média de cada bin no train\n",
    "bin_means = train.groupby('length_bin')['length'].mean()\n",
    "\n",
    "# Função para suavizar um valor com base nos bins do train\n",
    "def smooth_length(x):\n",
    "    for interval, mean in bin_means.items():\n",
    "        if x in interval:\n",
    "            return mean\n",
    "    return x\n",
    "\n",
    "# Aplicar a suavização no train e no test\n",
    "train['length_smooth'] = train['length'].apply(smooth_length)\n",
    "test['length_smooth'] = test['length'].apply(smooth_length)\n",
    "\n",
    "# Suavização de ruídos usando qcut\n",
    "#train['flesch_bin'] = pd.qcut(train['flesch_scaler'], q=4, labels=False)\n",
    "#test['flesch_bin'] = pd.qcut(test['flesch_scaler'], q=4, labels=False)\n",
    "\n",
    "print('Tabela train')\n",
    "display(train[['length', 'length_smooth']].head())\n",
    "print('Tabela test')\n",
    "display(test[['length', 'length_smooth']].head())\n"
   ]
  },
  {
   "cell_type": "code",
   "execution_count": 11,
   "id": "ce91230f",
   "metadata": {},
   "outputs": [
    {
     "data": {
      "image/png": "[encoded data removed]",
      "text/plain": [
       "<Figure size 800x400 with 1 Axes>"
      ]
     },
     "metadata": {},
     "output_type": "display_data"
    }
   ],
   "source": [
    "# Visualizar a distribuição do comprimento dos comentários\n",
    "plt.figure(figsize=(8, 4))\n",
    "plt.hist(train['length'], bins=29, edgecolor='black')\n",
    "plt.title(\"Distribuição de length com 12 bins\")\n",
    "plt.xlabel(\"length\")\n",
    "plt.ylabel(\"Frequência\")\n",
    "plt.show()"
   ]
  },
  {
   "cell_type": "markdown",
   "id": "509fabb6",
   "metadata": {},
   "source": [
    "- A maioria dos comentários tem **comprimento pequeno**:  \n",
    "- Mais de **70.000 comentários** estão nos primeiros bins, abaixo de **300 caracteres**.\n",
    "- A distribuição é **assimétrica à direita** (longa cauda).\n",
    "\n",
    "- A frequência **cai rapidamente** à medida que o comprimento aumenta:\n",
    "- Há **poucos comentários** com mais de **1.000 caracteres**.\n",
    "- A cauda direita se estende até **5.000 caracteres**, mas com baixíssima frequência.\n",
    "\n",
    "- Os últimos bins (acima de 2.000) têm **frequência quase nula**:\n",
    "- Isso pode indicar que alguns bins estão **subutilizados**.\n",
    "- A divisão em 29 bins funcionou bem, mas **poderia ser ajustada** para evitar faixas com poucos dados.\n"
   ]
  },
  {
   "cell_type": "markdown",
   "id": "b7d25830",
   "metadata": {},
   "source": [
    "### Flesch"
   ]
  },
  {
   "cell_type": "code",
   "execution_count": 12,
   "id": "3e087dfa",
   "metadata": {},
   "outputs": [
    {
     "name": "stdout",
     "output_type": "stream",
     "text": [
      "Distribuição de níveis de legibilidade no train:\n"
     ]
    },
    {
     "data": {
      "text/plain": [
       "flesch_level\n",
       "Médio            60321\n",
       "Fácil            50843\n",
       "Difícil          29459\n",
       "Muito Difícil     8442\n",
       "Name: count, dtype: int64"
      ]
     },
     "metadata": {},
     "output_type": "display_data"
    }
   ],
   "source": [
    "# Definir bins e rótulos\n",
    "bins_flesch = [0, 30, 50, 70, 100]\n",
    "labels_flesch = ['Muito Difícil', 'Difícil', 'Médio', 'Fácil']\n",
    "\n",
    "# Criar coluna categórica\n",
    "train['flesch_level'] = pd.cut(train['flesch_scaler'], bins=bins_flesch, labels=labels_flesch, include_lowest=True)\n",
    "test['flesch_level'] = pd.cut(test['flesch_scaler'], bins=bins_flesch, labels=labels_flesch, include_lowest=True)\n",
    "\n",
    "# Visualizar distribuição\n",
    "print(\"Distribuição de níveis de legibilidade no train:\")\n",
    "display(train['flesch_level'].value_counts())\n"
   ]
  },
  {
   "cell_type": "markdown",
   "id": "29621e0b",
   "metadata": {},
   "source": [
    "### **c) Resolva as inconsistências**"
   ]
  },
  {
   "cell_type": "markdown",
   "id": "3ead3819",
   "metadata": {},
   "source": [
    "Nesta etapa, buscamos identificar e corrigir **inconsistências nos dados**, tais como:\n",
    "\n",
    "- Registros **duplicados**  \n",
    "- **Valores fora do domínio esperado**  \n",
    "- Campos vazios com dados mal formatados (ex: string em branco, espaços, etc.)\n",
    "\n",
    "Aplicamos essas verificações em **`train` e `test`**, especialmente nas colunas de texto (`comment_text`) e atributos binários.\n"
   ]
  },
  {
   "cell_type": "code",
   "execution_count": 13,
   "id": "93c609c1",
   "metadata": {},
   "outputs": [
    {
     "name": "stderr",
     "output_type": "stream",
     "text": [
      "[nltk_data] Downloading package stopwords to\n",
      "[nltk_data]     C:\\Users\\ALEXANDER\\AppData\\Roaming\\nltk_data...\n",
      "[nltk_data]   Package stopwords is already up-to-date!\n"
     ]
    },
    {
     "name": "stdout",
     "output_type": "stream",
     "text": [
      "Inconsistências resolvidas por meio de limpeza textual. Nenhuma codificação conflitante detectada.\n"
     ]
    }
   ],
   "source": [
    "train = train.drop_duplicates()\n",
    "test = test.drop_duplicates()\n",
    "\n",
    "# Pré-processamento de texto (stopwords)\n",
    "nltk.download('stopwords')\n",
    "stop_words = set(stopwords.words('english'))\n",
    "stemmer = SnowballStemmer('english')\n",
    "\n",
    "def clean_text(text):\n",
    "    text = text.lower()\n",
    "    text = re.sub(f\"[{re.escape(string.punctuation)}]\", \"\", text)\n",
    "    tokens = text.split()\n",
    "    tokens = [stemmer.stem(word) for word in tokens if word not in stop_words and len(word) < 20]  # Filtra palabras largas\n",
    "    return \" \".join(tokens)\n",
    "\n",
    "train['clean_comment'] = train['comment_text'].apply(clean_text)\n",
    "test['clean_comment'] = test['comment_text'].apply(clean_text)\n",
    "\n",
    "# Melhoria na limpeza inicial\n",
    "def safe_clean(df):\n",
    "    df = df.copy()\n",
    "    df['clean_comment'] = df['clean_comment'].replace(['', ' ', np.nan], np.nan)\n",
    "    df = df.dropna(subset=['clean_comment'])\n",
    "    df = df[df['clean_comment'].str.strip().str.len() >= 3]\n",
    "    return df\n",
    "\n",
    "\n",
    "train = safe_clean(train)\n",
    "test = safe_clean(test)\n",
    "\n",
    "print(\"Inconsistências resolvidas por meio de limpeza textual. Nenhuma codificação conflitante detectada.\")"
   ]
  },
  {
   "cell_type": "markdown",
   "id": "f3c9832c",
   "metadata": {},
   "source": [
    "- Foram aplicadas as seguintes etapas para tratar inconsistências nos dados:\n",
    "\n",
    "- Remoção de duplicatas exatas.\n",
    "\n",
    "- Limpeza textual com:\n",
    "\n",
    "    - Conversão para minúsculas.\n",
    "\n",
    "    - Remoção de pontuação.\n",
    "\n",
    "    - Filtragem de stopwords.\n",
    "\n",
    "    - Aplicação de stemming.\n",
    "\n",
    "    - Remoção de tokens longos e ruído.\n",
    "\n",
    "- Exclusão de textos vazios ou muito curtos (menos de 3 caracteres)."
   ]
  },
  {
   "cell_type": "code",
   "execution_count": 14,
   "id": "5cff92a7",
   "metadata": {},
   "outputs": [
    {
     "name": "stdout",
     "output_type": "stream",
     "text": [
      "Duplicados - Train: 0\n",
      "Duplicados - Test: 0\n",
      "Comentários vazios - Train: 0\n",
      "Comentários vazios - Test: 0\n",
      "Valores inesperados nos atributos binários:\n"
     ]
    },
    {
     "data": {
      "text/html": [
       "<div>\n",
       "<style scoped>\n",
       "    .dataframe tbody tr th:only-of-type {\n",
       "        vertical-align: middle;\n",
       "    }\n",
       "\n",
       "    .dataframe tbody tr th {\n",
       "        vertical-align: top;\n",
       "    }\n",
       "\n",
       "    .dataframe thead th {\n",
       "        text-align: right;\n",
       "    }\n",
       "</style>\n",
       "<table border=\"1\" class=\"dataframe\">\n",
       "  <thead>\n",
       "    <tr style=\"text-align: right;\">\n",
       "      <th></th>\n",
       "      <th>Atributo</th>\n",
       "      <th>Valores encontrados</th>\n",
       "    </tr>\n",
       "  </thead>\n",
       "  <tbody>\n",
       "  </tbody>\n",
       "</table>\n",
       "</div>"
      ],
      "text/plain": [
       "Empty DataFrame\n",
       "Columns: [Atributo, Valores encontrados]\n",
       "Index: []"
      ]
     },
     "metadata": {},
     "output_type": "display_data"
    }
   ],
   "source": [
    "# Verificar duplicados (train)\n",
    "duplicates_train = train.duplicated().sum()\n",
    "duplicates_test = test.duplicated().sum()\n",
    "\n",
    "# Verificar se há textos vazios (string em branco ou só espaços)\n",
    "empty_train = train['comment_text'].apply(lambda x: isinstance(x, str) and x.strip() == '').sum()\n",
    "empty_test = test['comment_text'].apply(lambda x: isinstance(x, str) and x.strip() == '').sum()\n",
    "\n",
    "# Verificar se os atributos binários contêm apenas 0 e 1\n",
    "bin_inconsist = {\n",
    "    label: train[label].unique().tolist()\n",
    "    for label in bin_cols\n",
    "    if not set(train[label].unique()).issubset({0, 1})\n",
    "}\n",
    "\n",
    "# Mostrar resultados\n",
    "print(f\"Duplicados - Train: {duplicates_train}\")\n",
    "print(f\"Duplicados - Test: {duplicates_test}\")\n",
    "print(f\"Comentários vazios - Train: {empty_train}\")\n",
    "print(f\"Comentários vazios - Test: {empty_test}\")\n",
    "print(\"Valores inesperados nos atributos binários:\")\n",
    "display(pd.DataFrame(bin_inconsist.items(), columns=[\"Atributo\", \"Valores encontrados\"]))"
   ]
  },
  {
   "cell_type": "markdown",
   "id": "0a75ac35",
   "metadata": {},
   "source": [
    "### **d) Transforme atributos categóricos nominais em um vetor numérico**"
   ]
  },
  {
   "cell_type": "markdown",
   "id": "e274ed4e",
   "metadata": {},
   "source": [
    "Para isso, usamos a técnica **TF-IDF (Term Frequency-Inverse Document Frequency)**, que transforma cada comentário em um vetor numérico baseado na importância das palavras."
   ]
  },
  {
   "cell_type": "code",
   "execution_count": 15,
   "id": "0a05a755",
   "metadata": {},
   "outputs": [
    {
     "name": "stdout",
     "output_type": "stream",
     "text": [
      "Forma da matriz TF-IDF (treinamento): (159518, 10000)\n",
      "Forma da matriz TF-IDF (teste): (152961, 10000)\n",
      "\n",
      "Fila 0 (comentario):\n"
     ]
    },
    {
     "data": {
      "text/html": [
       "<div>\n",
       "<style scoped>\n",
       "    .dataframe tbody tr th:only-of-type {\n",
       "        vertical-align: middle;\n",
       "    }\n",
       "\n",
       "    .dataframe tbody tr th {\n",
       "        vertical-align: top;\n",
       "    }\n",
       "\n",
       "    .dataframe thead th {\n",
       "        text-align: right;\n",
       "    }\n",
       "</style>\n",
       "<table border=\"1\" class=\"dataframe\">\n",
       "  <thead>\n",
       "    <tr style=\"text-align: right;\">\n",
       "      <th></th>\n",
       "      <th>closur</th>\n",
       "      <th>doll</th>\n",
       "      <th>dont</th>\n",
       "      <th>edit</th>\n",
       "      <th>explan</th>\n",
       "      <th>fac</th>\n",
       "      <th>fan</th>\n",
       "      <th>gas</th>\n",
       "      <th>hardcor</th>\n",
       "      <th>metallica</th>\n",
       "      <th>...</th>\n",
       "      <th>retir</th>\n",
       "      <th>revert</th>\n",
       "      <th>sinc</th>\n",
       "      <th>talk</th>\n",
       "      <th>templat</th>\n",
       "      <th>usernam</th>\n",
       "      <th>vandal</th>\n",
       "      <th>vote</th>\n",
       "      <th>werent</th>\n",
       "      <th>york</th>\n",
       "    </tr>\n",
       "  </thead>\n",
       "  <tbody>\n",
       "    <tr>\n",
       "      <th>0</th>\n",
       "      <td>0.290118</td>\n",
       "      <td>0.323151</td>\n",
       "      <td>0.105067</td>\n",
       "      <td>0.09839</td>\n",
       "      <td>0.18958</td>\n",
       "      <td>0.253878</td>\n",
       "      <td>0.20564</td>\n",
       "      <td>0.260254</td>\n",
       "      <td>0.288587</td>\n",
       "      <td>0.32875</td>\n",
       "      <td>...</td>\n",
       "      <td>0.243274</td>\n",
       "      <td>0.13981</td>\n",
       "      <td>0.138513</td>\n",
       "      <td>0.097405</td>\n",
       "      <td>0.173651</td>\n",
       "      <td>0.19842</td>\n",
       "      <td>0.137954</td>\n",
       "      <td>0.19314</td>\n",
       "      <td>0.235591</td>\n",
       "      <td>0.219704</td>\n",
       "    </tr>\n",
       "  </tbody>\n",
       "</table>\n",
       "<p>1 rows × 24 columns</p>\n",
       "</div>"
      ],
      "text/plain": [
       "     closur      doll      dont     edit   explan       fac      fan  \\\n",
       "0  0.290118  0.323151  0.105067  0.09839  0.18958  0.253878  0.20564   \n",
       "\n",
       "        gas   hardcor  metallica  ...     retir   revert      sinc      talk  \\\n",
       "0  0.260254  0.288587    0.32875  ...  0.243274  0.13981  0.138513  0.097405   \n",
       "\n",
       "    templat  usernam    vandal     vote    werent      york  \n",
       "0  0.173651  0.19842  0.137954  0.19314  0.235591  0.219704  \n",
       "\n",
       "[1 rows x 24 columns]"
      ]
     },
     "metadata": {},
     "output_type": "display_data"
    },
    {
     "name": "stdout",
     "output_type": "stream",
     "text": [
      "\n",
      "Fila 1 (comentario):\n"
     ]
    },
    {
     "data": {
      "text/html": [
       "<div>\n",
       "<style scoped>\n",
       "    .dataframe tbody tr th:only-of-type {\n",
       "        vertical-align: middle;\n",
       "    }\n",
       "\n",
       "    .dataframe tbody tr th {\n",
       "        vertical-align: top;\n",
       "    }\n",
       "\n",
       "    .dataframe thead th {\n",
       "        text-align: right;\n",
       "    }\n",
       "</style>\n",
       "<table border=\"1\" class=\"dataframe\">\n",
       "  <thead>\n",
       "    <tr style=\"text-align: right;\">\n",
       "      <th></th>\n",
       "      <th>background</th>\n",
       "      <th>colour</th>\n",
       "      <th>januari</th>\n",
       "      <th>match</th>\n",
       "      <th>stuck</th>\n",
       "      <th>talk</th>\n",
       "      <th>thank</th>\n",
       "      <th>utc</th>\n",
       "    </tr>\n",
       "  </thead>\n",
       "  <tbody>\n",
       "    <tr>\n",
       "      <th>0</th>\n",
       "      <td>0.399517</td>\n",
       "      <td>0.463357</td>\n",
       "      <td>0.376282</td>\n",
       "      <td>0.387603</td>\n",
       "      <td>0.444187</td>\n",
       "      <td>0.176519</td>\n",
       "      <td>0.191515</td>\n",
       "      <td>0.262151</td>\n",
       "    </tr>\n",
       "  </tbody>\n",
       "</table>\n",
       "</div>"
      ],
      "text/plain": [
       "   background    colour   januari     match     stuck      talk     thank  \\\n",
       "0    0.399517  0.463357  0.376282  0.387603  0.444187  0.176519  0.191515   \n",
       "\n",
       "        utc  \n",
       "0  0.262151  "
      ]
     },
     "metadata": {},
     "output_type": "display_data"
    },
    {
     "name": "stdout",
     "output_type": "stream",
     "text": [
      "\n",
      "Fila 2 (comentario):\n"
     ]
    },
    {
     "data": {
      "text/html": [
       "<div>\n",
       "<style scoped>\n",
       "    .dataframe tbody tr th:only-of-type {\n",
       "        vertical-align: middle;\n",
       "    }\n",
       "\n",
       "    .dataframe tbody tr th {\n",
       "        vertical-align: top;\n",
       "    }\n",
       "\n",
       "    .dataframe thead th {\n",
       "        text-align: right;\n",
       "    }\n",
       "</style>\n",
       "<table border=\"1\" class=\"dataframe\">\n",
       "  <thead>\n",
       "    <tr style=\"text-align: right;\">\n",
       "      <th></th>\n",
       "      <th>actual</th>\n",
       "      <th>care</th>\n",
       "      <th>constant</th>\n",
       "      <th>edit</th>\n",
       "      <th>format</th>\n",
       "      <th>guy</th>\n",
       "      <th>hey</th>\n",
       "      <th>info</th>\n",
       "      <th>inform</th>\n",
       "      <th>instead</th>\n",
       "      <th>man</th>\n",
       "      <th>page</th>\n",
       "      <th>realli</th>\n",
       "      <th>relev</th>\n",
       "      <th>remov</th>\n",
       "      <th>talk</th>\n",
       "      <th>tri</th>\n",
       "      <th>war</th>\n",
       "    </tr>\n",
       "  </thead>\n",
       "  <tbody>\n",
       "    <tr>\n",
       "      <th>0</th>\n",
       "      <td>0.202412</td>\n",
       "      <td>0.229776</td>\n",
       "      <td>0.311728</td>\n",
       "      <td>0.279139</td>\n",
       "      <td>0.283074</td>\n",
       "      <td>0.243346</td>\n",
       "      <td>0.253397</td>\n",
       "      <td>0.257578</td>\n",
       "      <td>0.182926</td>\n",
       "      <td>0.235508</td>\n",
       "      <td>0.251923</td>\n",
       "      <td>0.127035</td>\n",
       "      <td>0.194084</td>\n",
       "      <td>0.249588</td>\n",
       "      <td>0.173535</td>\n",
       "      <td>0.276343</td>\n",
       "      <td>0.18473</td>\n",
       "      <td>0.228336</td>\n",
       "    </tr>\n",
       "  </tbody>\n",
       "</table>\n",
       "</div>"
      ],
      "text/plain": [
       "     actual      care  constant      edit    format       guy       hey  \\\n",
       "0  0.202412  0.229776  0.311728  0.279139  0.283074  0.243346  0.253397   \n",
       "\n",
       "       info    inform   instead       man      page    realli     relev  \\\n",
       "0  0.257578  0.182926  0.235508  0.251923  0.127035  0.194084  0.249588   \n",
       "\n",
       "      remov      talk      tri       war  \n",
       "0  0.173535  0.276343  0.18473  0.228336  "
      ]
     },
     "metadata": {},
     "output_type": "display_data"
    },
    {
     "name": "stdout",
     "output_type": "stream",
     "text": [
      "\n",
      "Fila 3 (comentario):\n"
     ]
    },
    {
     "data": {
      "text/html": [
       "<div>\n",
       "<style scoped>\n",
       "    .dataframe tbody tr th:only-of-type {\n",
       "        vertical-align: middle;\n",
       "    }\n",
       "\n",
       "    .dataframe tbody tr th {\n",
       "        vertical-align: top;\n",
       "    }\n",
       "\n",
       "    .dataframe thead th {\n",
       "        text-align: right;\n",
       "    }\n",
       "</style>\n",
       "<table border=\"1\" class=\"dataframe\">\n",
       "  <thead>\n",
       "    <tr style=\"text-align: right;\">\n",
       "      <th></th>\n",
       "      <th>accid</th>\n",
       "      <th>appear</th>\n",
       "      <th>articl</th>\n",
       "      <th>backlog</th>\n",
       "      <th>date</th>\n",
       "      <th>delay</th>\n",
       "      <th>els</th>\n",
       "      <th>exact</th>\n",
       "      <th>form</th>\n",
       "      <th>format</th>\n",
       "      <th>...</th>\n",
       "      <th>statist</th>\n",
       "      <th>style</th>\n",
       "      <th>subsect</th>\n",
       "      <th>suggest</th>\n",
       "      <th>think</th>\n",
       "      <th>tidi</th>\n",
       "      <th>turn</th>\n",
       "      <th>type</th>\n",
       "      <th>want</th>\n",
       "      <th>wonder</th>\n",
       "    </tr>\n",
       "  </thead>\n",
       "  <tbody>\n",
       "    <tr>\n",
       "      <th>0</th>\n",
       "      <td>0.192153</td>\n",
       "      <td>0.118563</td>\n",
       "      <td>0.063781</td>\n",
       "      <td>0.216191</td>\n",
       "      <td>0.127967</td>\n",
       "      <td>0.172402</td>\n",
       "      <td>0.122045</td>\n",
       "      <td>0.133567</td>\n",
       "      <td>0.137055</td>\n",
       "      <td>0.456188</td>\n",
       "      <td>...</td>\n",
       "      <td>0.179705</td>\n",
       "      <td>0.136303</td>\n",
       "      <td>0.192948</td>\n",
       "      <td>0.113746</td>\n",
       "      <td>0.083867</td>\n",
       "      <td>0.214284</td>\n",
       "      <td>0.145677</td>\n",
       "      <td>0.135034</td>\n",
       "      <td>0.092153</td>\n",
       "      <td>0.138355</td>\n",
       "    </tr>\n",
       "  </tbody>\n",
       "</table>\n",
       "<p>1 rows × 36 columns</p>\n",
       "</div>"
      ],
      "text/plain": [
       "      accid    appear    articl   backlog      date     delay       els  \\\n",
       "0  0.192153  0.118563  0.063781  0.216191  0.127967  0.172402  0.122045   \n",
       "\n",
       "      exact      form    format  ...   statist     style   subsect   suggest  \\\n",
       "0  0.133567  0.137055  0.456188  ...  0.179705  0.136303  0.192948  0.113746   \n",
       "\n",
       "      think      tidi      turn      type      want    wonder  \n",
       "0  0.083867  0.214284  0.145677  0.135034  0.092153  0.138355  \n",
       "\n",
       "[1 rows x 36 columns]"
      ]
     },
     "metadata": {},
     "output_type": "display_data"
    },
    {
     "name": "stdout",
     "output_type": "stream",
     "text": [
      "\n",
      "Fila 4 (comentario):\n"
     ]
    },
    {
     "data": {
      "text/html": [
       "<div>\n",
       "<style scoped>\n",
       "    .dataframe tbody tr th:only-of-type {\n",
       "        vertical-align: middle;\n",
       "    }\n",
       "\n",
       "    .dataframe tbody tr th {\n",
       "        vertical-align: top;\n",
       "    }\n",
       "\n",
       "    .dataframe thead th {\n",
       "        text-align: right;\n",
       "    }\n",
       "</style>\n",
       "<table border=\"1\" class=\"dataframe\">\n",
       "  <thead>\n",
       "    <tr style=\"text-align: right;\">\n",
       "      <th></th>\n",
       "      <th>chanc</th>\n",
       "      <th>hero</th>\n",
       "      <th>page</th>\n",
       "      <th>rememb</th>\n",
       "      <th>sir</th>\n",
       "    </tr>\n",
       "  </thead>\n",
       "  <tbody>\n",
       "    <tr>\n",
       "      <th>0</th>\n",
       "      <td>0.45572</td>\n",
       "      <td>0.566738</td>\n",
       "      <td>0.200962</td>\n",
       "      <td>0.407694</td>\n",
       "      <td>0.514322</td>\n",
       "    </tr>\n",
       "  </tbody>\n",
       "</table>\n",
       "</div>"
      ],
      "text/plain": [
       "     chanc      hero      page    rememb       sir\n",
       "0  0.45572  0.566738  0.200962  0.407694  0.514322"
      ]
     },
     "metadata": {},
     "output_type": "display_data"
    }
   ],
   "source": [
    "# TF-IDF: transforma texto (atributo nominal complexo) em vetor numérico\n",
    "from sklearn.feature_extraction.text import TfidfVectorizer\n",
    "\n",
    "tfidf = TfidfVectorizer(\n",
    "    max_features=10000,\n",
    "    stop_words='english',\n",
    "    min_df=5,\n",
    "    max_df=0.9,\n",
    "    token_pattern=r'(?u)\\b[A-Za-z]{3,}\\b'\n",
    ")\n",
    "\n",
    "X_train_tfidf = tfidf.fit_transform(train['clean_comment'])\n",
    "X_test_tfidf = tfidf.transform(test['clean_comment'])\n",
    "\n",
    "print(f\"Forma da matriz TF-IDF (treinamento): {X_train_tfidf.shape}\")\n",
    "print(f\"Forma da matriz TF-IDF (teste): {X_test_tfidf.shape}\")\n",
    "\n",
    "\n",
    "import numpy as np\n",
    "\n",
    "# 1) Obtener los índices de filas que contienen valores distintos de cero\n",
    "nonzero_indices = X_train_tfidf.nonzero()[0]\n",
    "\n",
    "# 2) Eliminar duplicados y quedarte con índices únicos\n",
    "unique_indices = np.unique(nonzero_indices)\n",
    "\n",
    "# 3) Mostrar las 5 primeras filas con valores no nulos\n",
    "for idx in unique_indices[:5]:\n",
    "    print(f\"\\nFila {idx} (comentario):\")\n",
    "    row = pd.DataFrame(\n",
    "        X_train_tfidf[idx].toarray(),\n",
    "        columns=tfidf.get_feature_names_out()\n",
    "    )\n",
    "    nonzero = row.loc[:, (row != 0).any()]\n",
    "    display(nonzero)\n",
    "\n",
    "\n",
    "\n",
    "\n"
   ]
  },
  {
   "cell_type": "markdown",
   "id": "41c5aa44",
   "metadata": {},
   "source": [
    "- **TF-IDF** transforma o texto em uma matriz esparsa de tamanho `(n_amostras, n_palavras)`.\n",
    "- Apenas palavras com pelo menos 3 letras e que aparecem em ao menos 5 documentos foram consideradas.\n",
    "- Esta vetorização permite aplicar algoritmos de aprendizado de máquina diretamente aos comentários processados."
   ]
  },
  {
   "cell_type": "markdown",
   "id": "8cbe09b3",
   "metadata": {},
   "source": [
    "### e) Transforme atributos categóricos ordinais em atributos numéricos seguindo a ordem entre eles."
   ]
  },
  {
   "cell_type": "markdown",
   "id": "05dea2ae",
   "metadata": {},
   "source": [
    "Esta etapa consiste em transformar atributos categóricos ordinários (que possuem uma hierarquia ou nível implícito) em valores numéricos respeitando sua ordem lógica."
   ]
  },
  {
   "cell_type": "code",
   "execution_count": 16,
   "id": "41547f10",
   "metadata": {},
   "outputs": [
    {
     "name": "stdout",
     "output_type": "stream",
     "text": [
      "Não existem atributos categóricos ordinais neste conjunto de dados.\n"
     ]
    }
   ],
   "source": [
    "\n",
    "print(\"Não existem atributos categóricos ordinais neste conjunto de dados.\")\n"
   ]
  },
  {
   "cell_type": "markdown",
   "id": "76580417",
   "metadata": {},
   "source": [
    "- O conjunto de dados do desafio contém apenas:\n",
    "\n",
    "    + texto_de_comentário -> texto livre (não ordinal)\n",
    "\n",
    "    + colunas como tóxico, obsceno, etc. -> binário (0 ou 1)\n",
    "    \n",
    "    + lenght e flesh_scaler -> continuos (não ordinal) \n",
    "\n",
    "- Portanto, não há atributos que exijam transformação ordinal.\n"
   ]
  },
  {
   "cell_type": "markdown",
   "id": "daa55b49",
   "metadata": {},
   "source": [
    "### f) Normalize os valores de atributos numéricos."
   ]
  },
  {
   "cell_type": "markdown",
   "id": "b8517f67",
   "metadata": {},
   "source": [
    "Foram aplicadas duas técnicas de normalização aos atributos numéricos derivados:\n",
    "\n",
    "- **Min-Max Scaling**: Normaliza os valores entre 0 e 1, útil para algoritmos sensíveis à escala.\n",
    "- **Z-Score Scaling (padronização)**: Centraliza os dados em média 0 e desvio padrão 1, apropriado para muitos algoritmos estatísticos.\n",
    "\n",
    "#### Atributos normalizados:\n",
    "- `length` → `length_norm`, `length_z`\n",
    "- `flesch_score` → `flesch_score_norm`"
   ]
  },
  {
   "cell_type": "code",
   "execution_count": 17,
   "id": "d30e582c",
   "metadata": {},
   "outputs": [
    {
     "name": "stdout",
     "output_type": "stream",
     "text": [
      "Lenght:\n",
      "Tabela train\n"
     ]
    },
    {
     "data": {
      "text/html": [
       "<div>\n",
       "<style scoped>\n",
       "    .dataframe tbody tr th:only-of-type {\n",
       "        vertical-align: middle;\n",
       "    }\n",
       "\n",
       "    .dataframe tbody tr th {\n",
       "        vertical-align: top;\n",
       "    }\n",
       "\n",
       "    .dataframe thead th {\n",
       "        text-align: right;\n",
       "    }\n",
       "</style>\n",
       "<table border=\"1\" class=\"dataframe\">\n",
       "  <thead>\n",
       "    <tr style=\"text-align: right;\">\n",
       "      <th></th>\n",
       "      <th>length</th>\n",
       "      <th>length_norm</th>\n",
       "      <th>length_z</th>\n",
       "    </tr>\n",
       "  </thead>\n",
       "  <tbody>\n",
       "    <tr>\n",
       "      <th>0</th>\n",
       "      <td>43</td>\n",
       "      <td>0.029787</td>\n",
       "      <td>-0.244806</td>\n",
       "    </tr>\n",
       "    <tr>\n",
       "      <th>1</th>\n",
       "      <td>17</td>\n",
       "      <td>0.011348</td>\n",
       "      <td>-0.506796</td>\n",
       "    </tr>\n",
       "    <tr>\n",
       "      <th>2</th>\n",
       "      <td>42</td>\n",
       "      <td>0.029078</td>\n",
       "      <td>-0.254882</td>\n",
       "    </tr>\n",
       "    <tr>\n",
       "      <th>3</th>\n",
       "      <td>113</td>\n",
       "      <td>0.079433</td>\n",
       "      <td>0.460554</td>\n",
       "    </tr>\n",
       "    <tr>\n",
       "      <th>4</th>\n",
       "      <td>13</td>\n",
       "      <td>0.008511</td>\n",
       "      <td>-0.547103</td>\n",
       "    </tr>\n",
       "  </tbody>\n",
       "</table>\n",
       "</div>"
      ],
      "text/plain": [
       "   length  length_norm  length_z\n",
       "0      43     0.029787 -0.244806\n",
       "1      17     0.011348 -0.506796\n",
       "2      42     0.029078 -0.254882\n",
       "3     113     0.079433  0.460554\n",
       "4      13     0.008511 -0.547103"
      ]
     },
     "metadata": {},
     "output_type": "display_data"
    },
    {
     "name": "stdout",
     "output_type": "stream",
     "text": [
      "Tabela test\n"
     ]
    },
    {
     "data": {
      "text/html": [
       "<div>\n",
       "<style scoped>\n",
       "    .dataframe tbody tr th:only-of-type {\n",
       "        vertical-align: middle;\n",
       "    }\n",
       "\n",
       "    .dataframe tbody tr th {\n",
       "        vertical-align: top;\n",
       "    }\n",
       "\n",
       "    .dataframe thead th {\n",
       "        text-align: right;\n",
       "    }\n",
       "</style>\n",
       "<table border=\"1\" class=\"dataframe\">\n",
       "  <thead>\n",
       "    <tr style=\"text-align: right;\">\n",
       "      <th></th>\n",
       "      <th>length</th>\n",
       "      <th>length_norm</th>\n",
       "      <th>length_z</th>\n",
       "    </tr>\n",
       "  </thead>\n",
       "  <tbody>\n",
       "    <tr>\n",
       "      <th>0</th>\n",
       "      <td>367</td>\n",
       "      <td>0.259574</td>\n",
       "      <td>3.020002</td>\n",
       "    </tr>\n",
       "    <tr>\n",
       "      <th>1</th>\n",
       "      <td>50</td>\n",
       "      <td>0.034752</td>\n",
       "      <td>-0.174270</td>\n",
       "    </tr>\n",
       "    <tr>\n",
       "      <th>2</th>\n",
       "      <td>54</td>\n",
       "      <td>0.037589</td>\n",
       "      <td>-0.133964</td>\n",
       "    </tr>\n",
       "    <tr>\n",
       "      <th>3</th>\n",
       "      <td>205</td>\n",
       "      <td>0.144681</td>\n",
       "      <td>1.387598</td>\n",
       "    </tr>\n",
       "    <tr>\n",
       "      <th>4</th>\n",
       "      <td>41</td>\n",
       "      <td>0.028369</td>\n",
       "      <td>-0.264959</td>\n",
       "    </tr>\n",
       "  </tbody>\n",
       "</table>\n",
       "</div>"
      ],
      "text/plain": [
       "   length  length_norm  length_z\n",
       "0     367     0.259574  3.020002\n",
       "1      50     0.034752 -0.174270\n",
       "2      54     0.037589 -0.133964\n",
       "3     205     0.144681  1.387598\n",
       "4      41     0.028369 -0.264959"
      ]
     },
     "metadata": {},
     "output_type": "display_data"
    }
   ],
   "source": [
    "# Normalização Min-Max\n",
    "minmax_scaler = MinMaxScaler()\n",
    "train['length_norm'] = minmax_scaler.fit_transform(train[['length']])\n",
    "test['length_norm'] = minmax_scaler.transform(test[['length']])\n",
    "\n",
    "# Normalização Z-score\n",
    "zscore_scaler = StandardScaler()\n",
    "train['length_z'] = zscore_scaler.fit_transform(train[['length']])\n",
    "test['length_z'] = zscore_scaler.transform(test[['length']])\n",
    "\n",
    "\n",
    "train['flesch_score_norm'] = zscore_scaler.fit_transform(train[['flesch_scaler']])\n",
    "test['flesch_score_norm'] = zscore_scaler.transform(test[['flesch_scaler']])\n",
    "\n",
    "print('Lenght:')\n",
    "print('Tabela train')\n",
    "display(train[['length', 'length_norm', 'length_z']].head())\n",
    "print('Tabela test')\n",
    "display(test[['length', 'length_norm', 'length_z']].head())\n",
    "\n"
   ]
  },
  {
   "cell_type": "markdown",
   "id": "c8884323",
   "metadata": {},
   "source": [
    "- Os valores de `length_norm` foram transformados para o intervalo entre **0 e 1**.\n",
    "- Um valor pequeno (ex: `0.0122`) indica que o comentário é um dos mais curtos da base.\n",
    "- Um valor maior (ex: `0.1233`) indica que o comentário é relativamente longo comparado aos demais.\n",
    "- Essa escala é especialmente útil para **algoritmos sensíveis à magnitude**, como KNN, SVM com kernel e redes neurais."
   ]
  },
  {
   "cell_type": "markdown",
   "id": "56dfadd0",
   "metadata": {},
   "source": [
    "- Os valores de `length_z` mostram quantos desvios padrão um valor está da média:\n",
    "  - Valor negativo → abaixo da média de comprimento.\n",
    "  - Valor positivo → acima da média.\n",
    "- Exemplo: `-0.55` indica um comentário significativamente mais curto que a média.\n",
    "- Útil para modelos lineares que assumem distribuição normal dos dados, como regressão e SVM linear.\n"
   ]
  },
  {
   "cell_type": "code",
   "execution_count": 18,
   "id": "34d28517",
   "metadata": {},
   "outputs": [
    {
     "name": "stdout",
     "output_type": "stream",
     "text": [
      "Flesch:\n",
      "Tabela train\n"
     ]
    },
    {
     "data": {
      "text/html": [
       "<div>\n",
       "<style scoped>\n",
       "    .dataframe tbody tr th:only-of-type {\n",
       "        vertical-align: middle;\n",
       "    }\n",
       "\n",
       "    .dataframe tbody tr th {\n",
       "        vertical-align: top;\n",
       "    }\n",
       "\n",
       "    .dataframe thead th {\n",
       "        text-align: right;\n",
       "    }\n",
       "</style>\n",
       "<table border=\"1\" class=\"dataframe\">\n",
       "  <thead>\n",
       "    <tr style=\"text-align: right;\">\n",
       "      <th></th>\n",
       "      <th>flesch_scaler</th>\n",
       "      <th>flesch_score_norm</th>\n",
       "    </tr>\n",
       "  </thead>\n",
       "  <tbody>\n",
       "    <tr>\n",
       "      <th>0</th>\n",
       "      <td>66.370388</td>\n",
       "      <td>0.048096</td>\n",
       "    </tr>\n",
       "    <tr>\n",
       "      <th>1</th>\n",
       "      <td>73.795735</td>\n",
       "      <td>0.106231</td>\n",
       "    </tr>\n",
       "    <tr>\n",
       "      <th>2</th>\n",
       "      <td>65.725000</td>\n",
       "      <td>0.043043</td>\n",
       "    </tr>\n",
       "    <tr>\n",
       "      <th>3</th>\n",
       "      <td>51.112030</td>\n",
       "      <td>-0.071367</td>\n",
       "    </tr>\n",
       "    <tr>\n",
       "      <th>4</th>\n",
       "      <td>89.606731</td>\n",
       "      <td>0.230021</td>\n",
       "    </tr>\n",
       "  </tbody>\n",
       "</table>\n",
       "</div>"
      ],
      "text/plain": [
       "   flesch_scaler  flesch_score_norm\n",
       "0      66.370388           0.048096\n",
       "1      73.795735           0.106231\n",
       "2      65.725000           0.043043\n",
       "3      51.112030          -0.071367\n",
       "4      89.606731           0.230021"
      ]
     },
     "metadata": {},
     "output_type": "display_data"
    },
    {
     "name": "stdout",
     "output_type": "stream",
     "text": [
      "Tabela test\n"
     ]
    },
    {
     "data": {
      "text/html": [
       "<div>\n",
       "<style scoped>\n",
       "    .dataframe tbody tr th:only-of-type {\n",
       "        vertical-align: middle;\n",
       "    }\n",
       "\n",
       "    .dataframe tbody tr th {\n",
       "        vertical-align: top;\n",
       "    }\n",
       "\n",
       "    .dataframe thead th {\n",
       "        text-align: right;\n",
       "    }\n",
       "</style>\n",
       "<table border=\"1\" class=\"dataframe\">\n",
       "  <thead>\n",
       "    <tr style=\"text-align: right;\">\n",
       "      <th></th>\n",
       "      <th>flesch_scaler</th>\n",
       "      <th>flesch_score_norm</th>\n",
       "    </tr>\n",
       "  </thead>\n",
       "  <tbody>\n",
       "    <tr>\n",
       "      <th>0</th>\n",
       "      <td>93.605000</td>\n",
       "      <td>0.261325</td>\n",
       "    </tr>\n",
       "    <tr>\n",
       "      <th>1</th>\n",
       "      <td>95.165000</td>\n",
       "      <td>0.273539</td>\n",
       "    </tr>\n",
       "    <tr>\n",
       "      <th>2</th>\n",
       "      <td>49.480000</td>\n",
       "      <td>-0.084145</td>\n",
       "    </tr>\n",
       "    <tr>\n",
       "      <th>3</th>\n",
       "      <td>73.757281</td>\n",
       "      <td>0.105930</td>\n",
       "    </tr>\n",
       "    <tr>\n",
       "      <th>4</th>\n",
       "      <td>30.530000</td>\n",
       "      <td>-0.232511</td>\n",
       "    </tr>\n",
       "  </tbody>\n",
       "</table>\n",
       "</div>"
      ],
      "text/plain": [
       "   flesch_scaler  flesch_score_norm\n",
       "0      93.605000           0.261325\n",
       "1      95.165000           0.273539\n",
       "2      49.480000          -0.084145\n",
       "3      73.757281           0.105930\n",
       "4      30.530000          -0.232511"
      ]
     },
     "metadata": {},
     "output_type": "display_data"
    }
   ],
   "source": [
    "print('Flesch:')\n",
    "print('Tabela train')\n",
    "display(train[['flesch_scaler', 'flesch_score_norm']].head())\n",
    "print('Tabela test')\n",
    "display(test[['flesch_scaler', 'flesch_score_norm']].head())"
   ]
  },
  {
   "cell_type": "markdown",
   "id": "06cc0237",
   "metadata": {},
   "source": [
    "- O `flesch_scaler` mede a facilidade de leitura do comentário:\n",
    "  - Valor alto → fácil de ler.\n",
    "  - Valor baixo → mais difícil de ler.\n",
    "- A normalização por Z-score permite comparar diretamente a dificuldade relativa dos textos:\n",
    "  - Exemplo: `0.26` indica que o texto é **mais fácil** de ler do que a média.\n",
    "  - `-0.23` indica que é **mais difícil**."
   ]
  }
 ],
 "metadata": {
  "kernelspec": {
   "display_name": "env",
   "language": "python",
   "name": "python3"
  },
  "language_info": {
   "codemirror_mode": {
    "name": "ipython",
    "version": 3
   },
   "file_extension": ".py",
   "mimetype": "text/x-python",
   "name": "python",
   "nbconvert_exporter": "python",
   "pygments_lexer": "ipython3",
   "version": "3.13.1"
  }
 },
 "nbformat": 4,
 "nbformat_minor": 5
}
