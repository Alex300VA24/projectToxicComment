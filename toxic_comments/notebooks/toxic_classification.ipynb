{
 "cells": [
  {
   "cell_type": "markdown",
   "id": "7f38bbbb",
   "metadata": {},
   "source": [
    "# **Toxic Comment Classification Challenge**"
   ]
  },
  {
   "cell_type": "markdown",
   "id": "974bd3e1",
   "metadata": {},
   "source": [
    "### **1. Descripcion del problema**"
   ]
  },
  {
   "cell_type": "markdown",
   "id": "71f2ccf9",
   "metadata": {},
   "source": [
    " Em várias plataformas de mídia social, as seçães de comentários permitem que os usuários\n",
    " compartilhem ideias e discutam diferentes pontos de vista. No entanto, há um abuso\n",
    " de linguagem tóxica, especialmente no X (antigo Twitter), que não tem regras rígidas\n",
    " para regular esse tipo de comentário, o que está afetando a qualidade dessas conversas.\n",
    " Comentários que incluem ameaças, insultos, linguagem vulgar ou ódio contra certos gru\n",
    " pos sociais, dificultando um diálogo saudável."
   ]
  },
  {
   "cell_type": "markdown",
   "id": "6ddc1e89",
   "metadata": {},
   "source": [
    "### **2. Análise descritiva de cada atributo**"
   ]
  },
  {
   "cell_type": "markdown",
   "id": "b3d90ad1",
   "metadata": {},
   "source": [
    "### **Importação de biblioteca e carregamento de dados**"
   ]
  },
  {
   "cell_type": "code",
   "execution_count": 2,
   "id": "3fdabbdc",
   "metadata": {},
   "outputs": [
    {
     "data": {
      "text/html": [
       "<div>\n",
       "<style scoped>\n",
       "    .dataframe tbody tr th:only-of-type {\n",
       "        vertical-align: middle;\n",
       "    }\n",
       "\n",
       "    .dataframe tbody tr th {\n",
       "        vertical-align: top;\n",
       "    }\n",
       "\n",
       "    .dataframe thead th {\n",
       "        text-align: right;\n",
       "    }\n",
       "</style>\n",
       "<table border=\"1\" class=\"dataframe\">\n",
       "  <thead>\n",
       "    <tr style=\"text-align: right;\">\n",
       "      <th></th>\n",
       "      <th>id</th>\n",
       "      <th>comment_text</th>\n",
       "      <th>toxic</th>\n",
       "      <th>severe_toxic</th>\n",
       "      <th>obscene</th>\n",
       "      <th>threat</th>\n",
       "      <th>insult</th>\n",
       "      <th>identity_hate</th>\n",
       "    </tr>\n",
       "  </thead>\n",
       "  <tbody>\n",
       "    <tr>\n",
       "      <th>0</th>\n",
       "      <td>0000997932d777bf</td>\n",
       "      <td>Explanation\\nWhy the edits made under my usern...</td>\n",
       "      <td>0</td>\n",
       "      <td>0</td>\n",
       "      <td>0</td>\n",
       "      <td>0</td>\n",
       "      <td>0</td>\n",
       "      <td>0</td>\n",
       "    </tr>\n",
       "    <tr>\n",
       "      <th>1</th>\n",
       "      <td>000103f0d9cfb60f</td>\n",
       "      <td>D'aww! He matches this background colour I'm s...</td>\n",
       "      <td>0</td>\n",
       "      <td>0</td>\n",
       "      <td>0</td>\n",
       "      <td>0</td>\n",
       "      <td>0</td>\n",
       "      <td>0</td>\n",
       "    </tr>\n",
       "    <tr>\n",
       "      <th>2</th>\n",
       "      <td>000113f07ec002fd</td>\n",
       "      <td>Hey man, I'm really not trying to edit war. It...</td>\n",
       "      <td>0</td>\n",
       "      <td>0</td>\n",
       "      <td>0</td>\n",
       "      <td>0</td>\n",
       "      <td>0</td>\n",
       "      <td>0</td>\n",
       "    </tr>\n",
       "    <tr>\n",
       "      <th>3</th>\n",
       "      <td>0001b41b1c6bb37e</td>\n",
       "      <td>\"\\nMore\\nI can't make any real suggestions on ...</td>\n",
       "      <td>0</td>\n",
       "      <td>0</td>\n",
       "      <td>0</td>\n",
       "      <td>0</td>\n",
       "      <td>0</td>\n",
       "      <td>0</td>\n",
       "    </tr>\n",
       "    <tr>\n",
       "      <th>4</th>\n",
       "      <td>0001d958c54c6e35</td>\n",
       "      <td>You, sir, are my hero. Any chance you remember...</td>\n",
       "      <td>0</td>\n",
       "      <td>0</td>\n",
       "      <td>0</td>\n",
       "      <td>0</td>\n",
       "      <td>0</td>\n",
       "      <td>0</td>\n",
       "    </tr>\n",
       "  </tbody>\n",
       "</table>\n",
       "</div>"
      ],
      "text/plain": [
       "                 id                                       comment_text  toxic  \\\n",
       "0  0000997932d777bf  Explanation\\nWhy the edits made under my usern...      0   \n",
       "1  000103f0d9cfb60f  D'aww! He matches this background colour I'm s...      0   \n",
       "2  000113f07ec002fd  Hey man, I'm really not trying to edit war. It...      0   \n",
       "3  0001b41b1c6bb37e  \"\\nMore\\nI can't make any real suggestions on ...      0   \n",
       "4  0001d958c54c6e35  You, sir, are my hero. Any chance you remember...      0   \n",
       "\n",
       "   severe_toxic  obscene  threat  insult  identity_hate  \n",
       "0             0        0       0       0              0  \n",
       "1             0        0       0       0              0  \n",
       "2             0        0       0       0              0  \n",
       "3             0        0       0       0              0  \n",
       "4             0        0       0       0              0  "
      ]
     },
     "execution_count": 2,
     "metadata": {},
     "output_type": "execute_result"
    }
   ],
   "source": [
    "# Importação de bibliotecas\n",
    "import pandas as pd\n",
    "import numpy as np\n",
    "import seaborn as sns\n",
    "import matplotlib.pyplot as plt\n",
    "import nltk\n",
    "import re\n",
    "import string\n",
    "from sklearn.preprocessing import StandardScaler\n",
    "from sklearn.impute import SimpleImputer\n",
    "from sklearn.feature_extraction.text import TfidfVectorizer\n",
    "from sklearn.model_selection import train_test_split\n",
    "from nltk.corpus import stopwords\n",
    "from nltk.stem import SnowballStemmer\n",
    "from textstat import flesch_reading_ease\n",
    "import warnings\n",
    "warnings.filterwarnings(\"ignore\")\n",
    "\n",
    "# Adicional para BERTopic\n",
    "from bertopic import BERTopic\n",
    "from sklearn.preprocessing import MinMaxScaler, StandardScaler\n",
    "\n",
    "# Carregando os dados\n",
    "train = pd.read_csv('../data/train.csv')\n",
    "test = pd.read_csv('../data/test.csv')\n",
    "train.head()"
   ]
  },
  {
   "cell_type": "code",
   "execution_count": 4,
   "id": "b505d4e1",
   "metadata": {},
   "outputs": [
    {
     "data": {
      "text/html": [
       "<div>\n",
       "<style scoped>\n",
       "    .dataframe tbody tr th:only-of-type {\n",
       "        vertical-align: middle;\n",
       "    }\n",
       "\n",
       "    .dataframe tbody tr th {\n",
       "        vertical-align: top;\n",
       "    }\n",
       "\n",
       "    .dataframe thead th {\n",
       "        text-align: right;\n",
       "    }\n",
       "</style>\n",
       "<table border=\"1\" class=\"dataframe\">\n",
       "  <thead>\n",
       "    <tr style=\"text-align: right;\">\n",
       "      <th></th>\n",
       "      <th>id</th>\n",
       "      <th>comment_text</th>\n",
       "      <th>toxic</th>\n",
       "      <th>severe_toxic</th>\n",
       "      <th>obscene</th>\n",
       "      <th>threat</th>\n",
       "      <th>insult</th>\n",
       "      <th>identity_hate</th>\n",
       "      <th>length</th>\n",
       "      <th>flesch_scaler</th>\n",
       "    </tr>\n",
       "  </thead>\n",
       "  <tbody>\n",
       "    <tr>\n",
       "      <th>0</th>\n",
       "      <td>0000997932d777bf</td>\n",
       "      <td>Explanation\\nWhy the edits made under my usern...</td>\n",
       "      <td>0</td>\n",
       "      <td>0</td>\n",
       "      <td>0</td>\n",
       "      <td>0</td>\n",
       "      <td>0</td>\n",
       "      <td>0</td>\n",
       "      <td>264</td>\n",
       "      <td>66.370388</td>\n",
       "    </tr>\n",
       "    <tr>\n",
       "      <th>1</th>\n",
       "      <td>000103f0d9cfb60f</td>\n",
       "      <td>D'aww! He matches this background colour I'm s...</td>\n",
       "      <td>0</td>\n",
       "      <td>0</td>\n",
       "      <td>0</td>\n",
       "      <td>0</td>\n",
       "      <td>0</td>\n",
       "      <td>0</td>\n",
       "      <td>112</td>\n",
       "      <td>73.795735</td>\n",
       "    </tr>\n",
       "    <tr>\n",
       "      <th>2</th>\n",
       "      <td>000113f07ec002fd</td>\n",
       "      <td>Hey man, I'm really not trying to edit war. It...</td>\n",
       "      <td>0</td>\n",
       "      <td>0</td>\n",
       "      <td>0</td>\n",
       "      <td>0</td>\n",
       "      <td>0</td>\n",
       "      <td>0</td>\n",
       "      <td>233</td>\n",
       "      <td>65.725000</td>\n",
       "    </tr>\n",
       "    <tr>\n",
       "      <th>3</th>\n",
       "      <td>0001b41b1c6bb37e</td>\n",
       "      <td>\"\\nMore\\nI can't make any real suggestions on ...</td>\n",
       "      <td>0</td>\n",
       "      <td>0</td>\n",
       "      <td>0</td>\n",
       "      <td>0</td>\n",
       "      <td>0</td>\n",
       "      <td>0</td>\n",
       "      <td>622</td>\n",
       "      <td>51.112030</td>\n",
       "    </tr>\n",
       "    <tr>\n",
       "      <th>4</th>\n",
       "      <td>0001d958c54c6e35</td>\n",
       "      <td>You, sir, are my hero. Any chance you remember...</td>\n",
       "      <td>0</td>\n",
       "      <td>0</td>\n",
       "      <td>0</td>\n",
       "      <td>0</td>\n",
       "      <td>0</td>\n",
       "      <td>0</td>\n",
       "      <td>67</td>\n",
       "      <td>89.606731</td>\n",
       "    </tr>\n",
       "  </tbody>\n",
       "</table>\n",
       "</div>"
      ],
      "text/plain": [
       "                 id                                       comment_text  toxic  \\\n",
       "0  0000997932d777bf  Explanation\\nWhy the edits made under my usern...      0   \n",
       "1  000103f0d9cfb60f  D'aww! He matches this background colour I'm s...      0   \n",
       "2  000113f07ec002fd  Hey man, I'm really not trying to edit war. It...      0   \n",
       "3  0001b41b1c6bb37e  \"\\nMore\\nI can't make any real suggestions on ...      0   \n",
       "4  0001d958c54c6e35  You, sir, are my hero. Any chance you remember...      0   \n",
       "\n",
       "   severe_toxic  obscene  threat  insult  identity_hate  length  flesch_scaler  \n",
       "0             0        0       0       0              0     264      66.370388  \n",
       "1             0        0       0       0              0     112      73.795735  \n",
       "2             0        0       0       0              0     233      65.725000  \n",
       "3             0        0       0       0              0     622      51.112030  \n",
       "4             0        0       0       0              0      67      89.606731  "
      ]
     },
     "execution_count": 4,
     "metadata": {},
     "output_type": "execute_result"
    }
   ],
   "source": [
    "# Adicionar a coluna length (número de caracteres no comentário)\n",
    "train['length'] = train['comment_text'].apply(lambda x: len(str(x)))\n",
    "\n",
    "# Adicionar a coluna flesch_scaler (índice de legibilidade)\n",
    "train['flesch_scaler'] = train['comment_text'].apply(lambda x: flesch_reading_ease(str(x)))\n",
    "train.head()"
   ]
  },
  {
   "cell_type": "markdown",
   "id": "eaab7c46",
   "metadata": {},
   "source": [
    "#### **a) Identificar os tipos de atributos**"
   ]
  },
  {
   "cell_type": "markdown",
   "id": "03fb6234",
   "metadata": {},
   "source": [
    "A identificação dos tipos de atributos consiste em classificar cada coluna do dataset conforme sua natureza: **nominal**, **ordinal**, **binário**, **contínuo** ou **discreto**."
   ]
  },
  {
   "cell_type": "markdown",
   "id": "6e565331",
   "metadata": {},
   "source": [
    "<center>\n",
    "\n",
    "| Coluna | Tipo de Atributo | Descrição |\n",
    "|-----------|-----------|---------------|\n",
    "| id | Categórico nominai | Identificador único. <br>Não tem ordem nem significado além de identificar a fila |\n",
    "| comment_text | Categórico nominai | Texto livre que contém o comentário a classificar.<br>Não team hierarquia nem ordem |\n",
    "| toxic <br> severe_toxic <br> obscene <br> threat <br> insult<br> identity_hate| Binário assimétrico | 1 = Tóxico, 0 = Não Tóxico. <br> A classe positiva (1) é menos frequente, pelo que é assimétrica |\n",
    "| length         | Contínuo             | Número total de caracteres no comentário.                                |\n",
    "| flesch_scaler  | Contínuo             | Índice de legibilidade Flesch Reading Ease. Valores mais altos indicam maior facilidade de leitura. |\n",
    "\n",
    "\n",
    "</center>"
   ]
  },
  {
   "cell_type": "markdown",
   "id": "e00b5704",
   "metadata": {},
   "source": [
    "- **`id`** e **`comment_text`** são **atributos nominais**, não usados diretamente na modelagem.\n",
    "- As etiquetas (**`toxic`**, **`severe_toxic`**, **`obscene`**, **`threat`**, **`insult`**, **`identity_hate`**.) são **binárias assimétricas**, importantes para prever comportamentos tóxicos."
   ]
  },
  {
   "cell_type": "markdown",
   "id": "d1ed5dbb",
   "metadata": {},
   "source": [
    "Além das variáveis fornecidas no dataset original, foram adicionados dois novos atributos numéricos:\n",
    "\n",
    "- **`length`**: representa o número de caracteres no comentário. Pode indicar complexidade, extensão ou ênfase do texto.\n",
    "- **`flesch_scaler`**: mede a legibilidade do comentário com base no índice Flesch Reading Ease. Comentários mais simples tendem a ter pontuações mais altas."
   ]
  },
  {
   "cell_type": "markdown",
   "id": "70ed4a3d",
   "metadata": {},
   "source": [
    "#### **b) Para atributo numérico: análise descritiva e visualização**"
   ]
  },
  {
   "cell_type": "markdown",
   "id": "aac81ab1",
   "metadata": {},
   "source": [
    "Nesta etapa, devemos identificar para cada atributo numérico e não categorizado:\n",
    "\n",
    "- Intervalo de valores (mínimo e máximo).\n",
    "\n",
    "- Valor médio.\n",
    "\n",
    "- Desvio-padrão.\n",
    "\n",
    "- Possíveis valores aberrantes (outliers).\n"
   ]
  },
  {
   "cell_type": "code",
   "execution_count": 6,
   "id": "d146b4f2",
   "metadata": {},
   "outputs": [
    {
     "name": "stdout",
     "output_type": "stream",
     "text": [
      "              length  flesch_scaler\n",
      "count  159571.000000  159571.000000\n",
      "mean      394.073221      60.118723\n",
      "std       590.720282     128.131875\n",
      "min         6.000000  -36681.810000\n",
      "25%        96.000000      49.484853\n",
      "50%       205.000000      63.176029\n",
      "75%       435.000000      76.553333\n",
      "max      5000.000000     134.080000\n"
     ]
    },
    {
     "data": {
      "image/png": "[encoded data removed]",
      "text/plain": [
       "<Figure size 1400x600 with 2 Axes>"
      ]
     },
     "metadata": {},
     "output_type": "display_data"
    }
   ],
   "source": [
    "# Estatísticas descritivas\n",
    "print(train[['length', 'flesch_scaler']].describe())\n",
    "\n",
    "# Histograma\n",
    "plt.figure(figsize=(14, 6))\n",
    "\n",
    "plt.subplot(1, 2, 1)\n",
    "sns.histplot(train['length'], bins=50, kde=True, color='skyblue')\n",
    "plt.title('Distribuição de Length')\n",
    "\n",
    "plt.subplot(1, 2, 2)\n",
    "sns.histplot(train['flesch_scaler'], bins=50, kde=True, color='salmon')\n",
    "plt.title('Distribuição de Flesch Reading Ease')\n",
    "\n",
    "plt.tight_layout()\n",
    "plt.show()"
   ]
  },
  {
   "cell_type": "markdown",
   "id": "5cc667a2",
   "metadata": {},
   "source": [
    "**Lenght**\n",
    "- A maioria dos comentários possui um comprimento curto (menor que 500 caracteres).\n",
    "- A distribuição é assimétrica à direita (distribuição enviesada positivamente), com poucos comentários extremamente longos (outliers).\n",
    "- Esse padrão é típico em dados de texto, pois a maioria dos comentários tende a ser breve.\n",
    "\n",
    "**Flesch Reading Ease**\n",
    "- A maioria dos valores está concentrada em torno de 0, com valores negativos extremos que indicam baixa legibilidade.\n",
    "- Valores tão negativos sugerem possíveis erros na extração dos textos (ex: strings vazias ou mal formatadas)."
   ]
  },
  {
   "cell_type": "code",
   "execution_count": 7,
   "id": "9923d769",
   "metadata": {},
   "outputs": [
    {
     "data": {
      "image/png": "[encoded data removed]",
      "text/plain": [
       "<Figure size 1400x600 with 2 Axes>"
      ]
     },
     "metadata": {},
     "output_type": "display_data"
    }
   ],
   "source": [
    "# Boxplots\n",
    "plt.figure(figsize=(14, 6))\n",
    "\n",
    "plt.subplot(1, 2, 1)\n",
    "sns.boxplot(y=train['length'], color='skyblue')\n",
    "plt.title('Boxplot de Length')\n",
    "\n",
    "plt.subplot(1, 2, 2)\n",
    "sns.boxplot(y=train['flesch_scaler'], color='salmon')\n",
    "plt.title('Boxplot de Flesch Reading Ease')\n",
    "\n",
    "plt.tight_layout()\n",
    "plt.show()"
   ]
  },
  {
   "cell_type": "markdown",
   "id": "be598e36",
   "metadata": {},
   "source": [
    "**Lenght**\n",
    "- A mediana é visivelmente baixa, confirmando que a maioria dos comentários é curta.\n",
    "- Existem vários **outliers** com comprimento significativamente maior que o terceiro quartil, sugerindo a necessidade de tratamento dependendo do modelo usado.\n",
    "\n",
    "**Flesch Reading Ease**\n",
    "- Há uma grande quantidade de outliers muito abaixo de 0, reforçando a suspeita de dados problemáticos.\n",
    "- A dispersão é alta, o que indica que os comentários possuem uma variabilidade significativa em termos de facilidade de leitura."
   ]
  },
  {
   "cell_type": "markdown",
   "id": "cf293be4",
   "metadata": {},
   "source": [
    "### ***c) Distribuição de valores e popularidade dos atributos***"
   ]
  },
  {
   "cell_type": "markdown",
   "id": "860dce68",
   "metadata": {},
   "source": [
    "Nesta etapa, para cada atributo **binário, nominal ou ordinal**, devemos:\n",
    "\n",
    "- Identificar os **valores possíveis**.  \n",
    "- Verificar a **popularidade** ou **frequência relativa** de cada valor (distribuição de probabilidade).\n",
    "\n",
    "No nosso dataset, analisamos as **etiquetas binárias**: `toxic`, `severe_toxic`, `obscene`, `threat`, `insult` e `identity_hate`.  \n",
    "Para o atributo `comment_text` (nominal), não é viável analisar distribuição direta, mas podemos analisar o **comprimento** ou outras métricas.\n"
   ]
  },
  {
   "cell_type": "code",
   "execution_count": 9,
   "id": "4ca4e36b",
   "metadata": {},
   "outputs": [
    {
     "data": {
      "image/png": "[encoded data removed]",
      "text/plain": [
       "<Figure size 1000x600 with 1 Axes>"
      ]
     },
     "metadata": {},
     "output_type": "display_data"
    }
   ],
   "source": [
    "# Lista de columnas de etiquetas\n",
    "bin_cols = ['toxic', 'severe_toxic', 'obscene', 'threat', 'insult', 'identity_hate']\n",
    "\n",
    "# Conteo absoluto por etiqueta\n",
    "label_counts = train[bin_cols].sum().sort_values(ascending=False)\n",
    "\n",
    "# Gráfico de barras\n",
    "plt.figure(figsize=(10, 6))\n",
    "sns.barplot(x=label_counts.index, y=label_counts.values, palette=\"rocket\")\n",
    "plt.title('Distribuição de Comentários por Categoria Tóxica')\n",
    "plt.ylabel('Número de Comentários')\n",
    "plt.xlabel('Categoria')\n",
    "plt.show()\n"
   ]
  },
  {
   "cell_type": "markdown",
   "id": "f4ff7830",
   "metadata": {},
   "source": [
    "Classe **\"toxic\"**:\n",
    "\n",
    "- É de longe a mais frequente (~15.000 ocorrências).\n",
    "\n",
    "- Isso sugere que se trata de um rótulo genérico que agrupa várias formas de toxicidade.\n",
    "\n",
    "Classe **\"Obscene\"** e **\"insult\"**:\n",
    "\n",
    "- São as segundas mais comuns (~8.000 e ~7.000 ocorrências, respectivamente).\n",
    "\n",
    "- Indicam que insultos e linguagem obscena são frequentes no conjunto.\n",
    "\n",
    "Classe **\"severe_toxic\"**, **\"identity_hate\"** e **\"threat\"**:\n",
    "\n",
    "- São claramente sub-representadas, especialmente \"threat\" e \"identity_hate\", que apresentam pouquíssimas ocorrências (~1.000 ou menos).\n",
    "\n",
    "- Isso introduz um problema de desequilíbrio de classes, que pode afetar o desempenho do modelo se não for tratado adequadamente."
   ]
  },
  {
   "cell_type": "code",
   "execution_count": 10,
   "id": "98a7b775",
   "metadata": {},
   "outputs": [
    {
     "data": {
      "image/png": "[encoded data removed]",
      "text/plain": [
       "<Figure size 800x500 with 1 Axes>"
      ]
     },
     "metadata": {},
     "output_type": "display_data"
    }
   ],
   "source": [
    "# Comentarios con múltiples etiquetas\n",
    "train['num_bin_cols'] = train[bin_cols].sum(axis=1)\n",
    "\n",
    "# Distribuição de número de etiquetas por comentário\n",
    "plt.figure(figsize=(8, 5))\n",
    "sns.countplot(x='num_labels', data=train, palette='viridis')\n",
    "plt.title('Distribuição de Etiquetas por Comentário')\n",
    "plt.xlabel('Número de Etiquetas por Comentário')\n",
    "plt.ylabel('Número de Comentários')\n",
    "plt.show()"
   ]
  },
  {
   "cell_type": "markdown",
   "id": "673885d4",
   "metadata": {},
   "source": [
    "- A maioria absoluta dos comentários (mais de **140.000**) **não possui nenhuma etiqueta tóxica**, ou seja, são comentários **não tóxicos**.\n",
    "- Uma pequena fração dos comentários possui **exatamente 1 etiqueta** (ex: apenas `toxic` ou apenas `insult`).\n",
    "- À medida que aumenta o número de etiquetas (2, 3, 4, 5, 6), a quantidade de comentários **cai drasticamente**, o que indica que:\n",
    "  - Comentários com múltiplas formas de toxicidade são **raros**.\n",
    "  - O problema é altamente **desbalanceado**.\n",
    "- Isso reforça a natureza **multi-rótulo assimétrica** do dataset:  \n",
    "  - Cada comentário pode ter **nenhuma, uma ou mais etiquetas** de toxicidade.\n",
    "  - Mas a ocorrência conjunta de várias categorias é **muito incomum**."
   ]
  },
  {
   "cell_type": "markdown",
   "id": "8294a676",
   "metadata": {},
   "source": [
    "### ***d) Valores Ausentes, Aberrantes e Inconsistências***"
   ]
  },
  {
   "cell_type": "markdown",
   "id": "c302dd18",
   "metadata": {},
   "source": [
    "Nesta etapa, devemos:\n",
    "\n",
    "- Identificar **valores ausentes** (`NaN`, `None`) usando funções como `.isna()` ou `.isnull()`.  \n",
    "- Verificar se há **valores aberrantes** (fora do esperado).  \n",
    "- Detectar possíveis **inconsistências**, como registros duplicados ou valores fora do domínio esperado.\n"
   ]
  },
  {
   "cell_type": "markdown",
   "id": "00fa37d0",
   "metadata": {},
   "source": [
    "#### ***Valores ausentes***"
   ]
  },
  {
   "cell_type": "code",
   "execution_count": 13,
   "id": "d040bb92",
   "metadata": {},
   "outputs": [
    {
     "name": "stdout",
     "output_type": "stream",
     "text": [
      "Valores ausentes:\n"
     ]
    },
    {
     "data": {
      "text/html": [
       "<div>\n",
       "<style scoped>\n",
       "    .dataframe tbody tr th:only-of-type {\n",
       "        vertical-align: middle;\n",
       "    }\n",
       "\n",
       "    .dataframe tbody tr th {\n",
       "        vertical-align: top;\n",
       "    }\n",
       "\n",
       "    .dataframe thead th {\n",
       "        text-align: right;\n",
       "    }\n",
       "</style>\n",
       "<table border=\"1\" class=\"dataframe\">\n",
       "  <thead>\n",
       "    <tr style=\"text-align: right;\">\n",
       "      <th></th>\n",
       "      <th>Coluna</th>\n",
       "      <th>Valores_ausentes</th>\n",
       "    </tr>\n",
       "  </thead>\n",
       "  <tbody>\n",
       "    <tr>\n",
       "      <th>0</th>\n",
       "      <td>id</td>\n",
       "      <td>0</td>\n",
       "    </tr>\n",
       "    <tr>\n",
       "      <th>1</th>\n",
       "      <td>comment_text</td>\n",
       "      <td>0</td>\n",
       "    </tr>\n",
       "    <tr>\n",
       "      <th>2</th>\n",
       "      <td>toxic</td>\n",
       "      <td>0</td>\n",
       "    </tr>\n",
       "    <tr>\n",
       "      <th>3</th>\n",
       "      <td>severe_toxic</td>\n",
       "      <td>0</td>\n",
       "    </tr>\n",
       "    <tr>\n",
       "      <th>4</th>\n",
       "      <td>obscene</td>\n",
       "      <td>0</td>\n",
       "    </tr>\n",
       "    <tr>\n",
       "      <th>5</th>\n",
       "      <td>threat</td>\n",
       "      <td>0</td>\n",
       "    </tr>\n",
       "    <tr>\n",
       "      <th>6</th>\n",
       "      <td>insult</td>\n",
       "      <td>0</td>\n",
       "    </tr>\n",
       "    <tr>\n",
       "      <th>7</th>\n",
       "      <td>identity_hate</td>\n",
       "      <td>0</td>\n",
       "    </tr>\n",
       "    <tr>\n",
       "      <th>8</th>\n",
       "      <td>length</td>\n",
       "      <td>0</td>\n",
       "    </tr>\n",
       "    <tr>\n",
       "      <th>9</th>\n",
       "      <td>flesch_scaler</td>\n",
       "      <td>0</td>\n",
       "    </tr>\n",
       "    <tr>\n",
       "      <th>10</th>\n",
       "      <td>num_labels</td>\n",
       "      <td>0</td>\n",
       "    </tr>\n",
       "    <tr>\n",
       "      <th>11</th>\n",
       "      <td>num_bin_cols</td>\n",
       "      <td>0</td>\n",
       "    </tr>\n",
       "  </tbody>\n",
       "</table>\n",
       "</div>"
      ],
      "text/plain": [
       "           Coluna  Valores_ausentes\n",
       "0              id                 0\n",
       "1    comment_text                 0\n",
       "2           toxic                 0\n",
       "3    severe_toxic                 0\n",
       "4         obscene                 0\n",
       "5          threat                 0\n",
       "6          insult                 0\n",
       "7   identity_hate                 0\n",
       "8          length                 0\n",
       "9   flesch_scaler                 0\n",
       "10     num_labels                 0\n",
       "11   num_bin_cols                 0"
      ]
     },
     "metadata": {},
     "output_type": "display_data"
    },
    {
     "name": "stdout",
     "output_type": "stream",
     "text": [
      "Valores únicos nos atributos binários:\n"
     ]
    },
    {
     "data": {
      "text/html": [
       "<div>\n",
       "<style scoped>\n",
       "    .dataframe tbody tr th:only-of-type {\n",
       "        vertical-align: middle;\n",
       "    }\n",
       "\n",
       "    .dataframe tbody tr th {\n",
       "        vertical-align: top;\n",
       "    }\n",
       "\n",
       "    .dataframe thead th {\n",
       "        text-align: right;\n",
       "    }\n",
       "</style>\n",
       "<table border=\"1\" class=\"dataframe\">\n",
       "  <thead>\n",
       "    <tr style=\"text-align: right;\">\n",
       "      <th></th>\n",
       "      <th>Atributo</th>\n",
       "      <th>Valores_únicos</th>\n",
       "    </tr>\n",
       "  </thead>\n",
       "  <tbody>\n",
       "    <tr>\n",
       "      <th>0</th>\n",
       "      <td>toxic</td>\n",
       "      <td>[0, 1]</td>\n",
       "    </tr>\n",
       "    <tr>\n",
       "      <th>1</th>\n",
       "      <td>severe_toxic</td>\n",
       "      <td>[0, 1]</td>\n",
       "    </tr>\n",
       "    <tr>\n",
       "      <th>2</th>\n",
       "      <td>obscene</td>\n",
       "      <td>[0, 1]</td>\n",
       "    </tr>\n",
       "    <tr>\n",
       "      <th>3</th>\n",
       "      <td>threat</td>\n",
       "      <td>[0, 1]</td>\n",
       "    </tr>\n",
       "    <tr>\n",
       "      <th>4</th>\n",
       "      <td>insult</td>\n",
       "      <td>[0, 1]</td>\n",
       "    </tr>\n",
       "    <tr>\n",
       "      <th>5</th>\n",
       "      <td>identity_hate</td>\n",
       "      <td>[0, 1]</td>\n",
       "    </tr>\n",
       "  </tbody>\n",
       "</table>\n",
       "</div>"
      ],
      "text/plain": [
       "        Atributo Valores_únicos\n",
       "0          toxic         [0, 1]\n",
       "1   severe_toxic         [0, 1]\n",
       "2        obscene         [0, 1]\n",
       "3         threat         [0, 1]\n",
       "4         insult         [0, 1]\n",
       "5  identity_hate         [0, 1]"
      ]
     },
     "metadata": {},
     "output_type": "display_data"
    },
    {
     "name": "stdout",
     "output_type": "stream",
     "text": [
      "Registros duplicados: 0\n",
      "Estatísticas e possíveis outliers nas variáveis numéricas:\n"
     ]
    },
    {
     "data": {
      "text/html": [
       "<div>\n",
       "<style scoped>\n",
       "    .dataframe tbody tr th:only-of-type {\n",
       "        vertical-align: middle;\n",
       "    }\n",
       "\n",
       "    .dataframe tbody tr th {\n",
       "        vertical-align: top;\n",
       "    }\n",
       "\n",
       "    .dataframe thead th {\n",
       "        text-align: right;\n",
       "    }\n",
       "</style>\n",
       "<table border=\"1\" class=\"dataframe\">\n",
       "  <thead>\n",
       "    <tr style=\"text-align: right;\">\n",
       "      <th></th>\n",
       "      <th>count</th>\n",
       "      <th>mean</th>\n",
       "      <th>std</th>\n",
       "      <th>min</th>\n",
       "      <th>25%</th>\n",
       "      <th>50%</th>\n",
       "      <th>75%</th>\n",
       "      <th>max</th>\n",
       "      <th>outliers_abaixo</th>\n",
       "      <th>outliers_acima</th>\n",
       "    </tr>\n",
       "  </thead>\n",
       "  <tbody>\n",
       "    <tr>\n",
       "      <th>length</th>\n",
       "      <td>159571.0</td>\n",
       "      <td>394.073221</td>\n",
       "      <td>590.720282</td>\n",
       "      <td>6.00</td>\n",
       "      <td>96.000000</td>\n",
       "      <td>205.000000</td>\n",
       "      <td>435.000000</td>\n",
       "      <td>5000.00</td>\n",
       "      <td>0</td>\n",
       "      <td>3544</td>\n",
       "    </tr>\n",
       "    <tr>\n",
       "      <th>flesch_scaler</th>\n",
       "      <td>159571.0</td>\n",
       "      <td>60.118723</td>\n",
       "      <td>128.131875</td>\n",
       "      <td>-36681.81</td>\n",
       "      <td>49.484853</td>\n",
       "      <td>63.176029</td>\n",
       "      <td>76.553333</td>\n",
       "      <td>134.08</td>\n",
       "      <td>206</td>\n",
       "      <td>0</td>\n",
       "    </tr>\n",
       "  </tbody>\n",
       "</table>\n",
       "</div>"
      ],
      "text/plain": [
       "                  count        mean         std       min        25%  \\\n",
       "length         159571.0  394.073221  590.720282      6.00  96.000000   \n",
       "flesch_scaler  159571.0   60.118723  128.131875 -36681.81  49.484853   \n",
       "\n",
       "                      50%         75%      max  outliers_abaixo  \\\n",
       "length         205.000000  435.000000  5000.00                0   \n",
       "flesch_scaler   63.176029   76.553333   134.08              206   \n",
       "\n",
       "               outliers_acima  \n",
       "length                   3544  \n",
       "flesch_scaler               0  "
      ]
     },
     "metadata": {},
     "output_type": "display_data"
    }
   ],
   "source": [
    "# 1. Valores ausentes\n",
    "missing = train.isnull().sum().reset_index()\n",
    "missing.columns = ['Coluna', 'Valores_ausentes']\n",
    "\n",
    "# 2. Verificar valores únicos de dois atributos binários\n",
    "unique_vals = pd.DataFrame({\n",
    "    'Atributo': bin_cols,\n",
    "    'Valores_únicos': [train[label].unique().tolist() for label in bin_cols]\n",
    "})\n",
    "# 3. Verificar registros duplicados\n",
    "duplicados = train.duplicated().sum()\n",
    "\n",
    "# 4. Verificar estatísticas das colunas numéricas\n",
    "numeric_cols = ['length', 'flesch_scaler']\n",
    "stats = train[numeric_cols].describe().T\n",
    "stats['outliers_abaixo'] = (train[numeric_cols] < stats['mean'] - 3 * stats['std']).sum()\n",
    "stats['outliers_acima']  = (train[numeric_cols] > stats['mean'] + 3 * stats['std']).sum()\n",
    "\n",
    "# Mostrar tabelas\n",
    "print(\"Valores ausentes:\")\n",
    "display(missing)\n",
    "\n",
    "print(\"Valores únicos nos atributos binários:\")\n",
    "display(unique_vals)\n",
    "\n",
    "print(f\"Registros duplicados: {duplicados}\")\n",
    "\n",
    "print(\"Estatísticas e possíveis outliers nas variáveis numéricas:\")\n",
    "display(stats)\n",
    "\n"
   ]
  },
  {
   "cell_type": "markdown",
   "id": "0bd40433",
   "metadata": {},
   "source": [
    "- Não foram encontrados valores ausentes em nenhuma das colunas, incluindo length e flesch_score.\n",
    "\n",
    "- Os atributos binários contêm apenas os valores esperados: 0 e 1, sem inconsistências.\n",
    "\n",
    "- Foram identificados alguns valores extremos (outliers):\n",
    "\n",
    "    - length: alguns comentários são muito longos (acima da média + 3 desvios).\n",
    "\n",
    "    - flesch_score: alguns poucos comentários têm baixa ou alta legibilidade extrema, mas estão dentro de limites válidos (0 a 100).\n",
    "\n",
    "- Não foram encontrados registros duplicados, o que indica que os dados são consistentes.\n"
   ]
  },
  {
   "cell_type": "markdown",
   "id": "d92a2a64",
   "metadata": {},
   "source": [
    "### e) Correlação entre os Atributos Numéricos"
   ]
  },
  {
   "cell_type": "markdown",
   "id": "ca6e6d0b",
   "metadata": {},
   "source": [
    "Nesta etapa, analisamos a **correlação** entre os atributos numéricos:\n",
    "\n",
    "- A correlação indica se existe uma **relação linear** entre os atributos.  \n",
    "- Valores próximos de **1** indicam correlação positiva forte.  \n",
    "- Valores próximos de **-1** indicam correlação negativa forte.  \n",
    "- Valores próximos de **0** indicam correlação fraca ou inexistente.  \n",
    "\n",
    "Analisamos os atributos:\n",
    "- `length`  \n",
    "- `flesch_score`  \n",
    "- Etiquetas binárias (`toxic`, `severe_toxic`, etc.)"
   ]
  },
  {
   "cell_type": "code",
   "execution_count": 15,
   "id": "b11d26e0",
   "metadata": {},
   "outputs": [
    {
     "name": "stdout",
     "output_type": "stream",
     "text": [
      "Matriz de correlação:\n"
     ]
    },
    {
     "data": {
      "text/html": [
       "<div>\n",
       "<style scoped>\n",
       "    .dataframe tbody tr th:only-of-type {\n",
       "        vertical-align: middle;\n",
       "    }\n",
       "\n",
       "    .dataframe tbody tr th {\n",
       "        vertical-align: top;\n",
       "    }\n",
       "\n",
       "    .dataframe thead th {\n",
       "        text-align: right;\n",
       "    }\n",
       "</style>\n",
       "<table border=\"1\" class=\"dataframe\">\n",
       "  <thead>\n",
       "    <tr style=\"text-align: right;\">\n",
       "      <th></th>\n",
       "      <th>toxic</th>\n",
       "      <th>severe_toxic</th>\n",
       "      <th>obscene</th>\n",
       "      <th>threat</th>\n",
       "      <th>insult</th>\n",
       "      <th>identity_hate</th>\n",
       "      <th>length</th>\n",
       "      <th>flesch_scaler</th>\n",
       "    </tr>\n",
       "  </thead>\n",
       "  <tbody>\n",
       "    <tr>\n",
       "      <th>toxic</th>\n",
       "      <td>1.00</td>\n",
       "      <td>0.31</td>\n",
       "      <td>0.68</td>\n",
       "      <td>0.16</td>\n",
       "      <td>0.65</td>\n",
       "      <td>0.27</td>\n",
       "      <td>-0.05</td>\n",
       "      <td>0.00</td>\n",
       "    </tr>\n",
       "    <tr>\n",
       "      <th>severe_toxic</th>\n",
       "      <td>0.31</td>\n",
       "      <td>1.00</td>\n",
       "      <td>0.40</td>\n",
       "      <td>0.12</td>\n",
       "      <td>0.38</td>\n",
       "      <td>0.20</td>\n",
       "      <td>0.01</td>\n",
       "      <td>-0.03</td>\n",
       "    </tr>\n",
       "    <tr>\n",
       "      <th>obscene</th>\n",
       "      <td>0.68</td>\n",
       "      <td>0.40</td>\n",
       "      <td>1.00</td>\n",
       "      <td>0.14</td>\n",
       "      <td>0.74</td>\n",
       "      <td>0.29</td>\n",
       "      <td>-0.04</td>\n",
       "      <td>0.01</td>\n",
       "    </tr>\n",
       "    <tr>\n",
       "      <th>threat</th>\n",
       "      <td>0.16</td>\n",
       "      <td>0.12</td>\n",
       "      <td>0.14</td>\n",
       "      <td>1.00</td>\n",
       "      <td>0.15</td>\n",
       "      <td>0.12</td>\n",
       "      <td>-0.01</td>\n",
       "      <td>0.01</td>\n",
       "    </tr>\n",
       "    <tr>\n",
       "      <th>insult</th>\n",
       "      <td>0.65</td>\n",
       "      <td>0.38</td>\n",
       "      <td>0.74</td>\n",
       "      <td>0.15</td>\n",
       "      <td>1.00</td>\n",
       "      <td>0.34</td>\n",
       "      <td>-0.05</td>\n",
       "      <td>0.01</td>\n",
       "    </tr>\n",
       "    <tr>\n",
       "      <th>identity_hate</th>\n",
       "      <td>0.27</td>\n",
       "      <td>0.20</td>\n",
       "      <td>0.29</td>\n",
       "      <td>0.12</td>\n",
       "      <td>0.34</td>\n",
       "      <td>1.00</td>\n",
       "      <td>-0.01</td>\n",
       "      <td>-0.01</td>\n",
       "    </tr>\n",
       "    <tr>\n",
       "      <th>length</th>\n",
       "      <td>-0.05</td>\n",
       "      <td>0.01</td>\n",
       "      <td>-0.04</td>\n",
       "      <td>-0.01</td>\n",
       "      <td>-0.05</td>\n",
       "      <td>-0.01</td>\n",
       "      <td>1.00</td>\n",
       "      <td>-0.10</td>\n",
       "    </tr>\n",
       "    <tr>\n",
       "      <th>flesch_scaler</th>\n",
       "      <td>0.00</td>\n",
       "      <td>-0.03</td>\n",
       "      <td>0.01</td>\n",
       "      <td>0.01</td>\n",
       "      <td>0.01</td>\n",
       "      <td>-0.01</td>\n",
       "      <td>-0.10</td>\n",
       "      <td>1.00</td>\n",
       "    </tr>\n",
       "  </tbody>\n",
       "</table>\n",
       "</div>"
      ],
      "text/plain": [
       "               toxic  severe_toxic  obscene  threat  insult  identity_hate  \\\n",
       "toxic           1.00          0.31     0.68    0.16    0.65           0.27   \n",
       "severe_toxic    0.31          1.00     0.40    0.12    0.38           0.20   \n",
       "obscene         0.68          0.40     1.00    0.14    0.74           0.29   \n",
       "threat          0.16          0.12     0.14    1.00    0.15           0.12   \n",
       "insult          0.65          0.38     0.74    0.15    1.00           0.34   \n",
       "identity_hate   0.27          0.20     0.29    0.12    0.34           1.00   \n",
       "length         -0.05          0.01    -0.04   -0.01   -0.05          -0.01   \n",
       "flesch_scaler   0.00         -0.03     0.01    0.01    0.01          -0.01   \n",
       "\n",
       "               length  flesch_scaler  \n",
       "toxic           -0.05           0.00  \n",
       "severe_toxic     0.01          -0.03  \n",
       "obscene         -0.04           0.01  \n",
       "threat          -0.01           0.01  \n",
       "insult          -0.05           0.01  \n",
       "identity_hate   -0.01          -0.01  \n",
       "length           1.00          -0.10  \n",
       "flesch_scaler   -0.10           1.00  "
      ]
     },
     "metadata": {},
     "output_type": "display_data"
    },
    {
     "data": {
      "image/png": "[encoded data removed]",
      "text/plain": [
       "<Figure size 1000x800 with 2 Axes>"
      ]
     },
     "metadata": {},
     "output_type": "display_data"
    }
   ],
   "source": [
    "from scipy.stats import pointbiserialr, pearsonr\n",
    "\n",
    "# Selecionar atributos numéricos\n",
    "numeric_cols = bin_cols + ['length', 'flesch_scaler']\n",
    "\n",
    "# Calcular matriz de correlação\n",
    "corr_matrix = train[numeric_cols].corr()\n",
    "\n",
    "# Mostrar como tabela\n",
    "print(\"Matriz de correlação:\")\n",
    "display(corr_matrix.round(2))\n",
    "\n",
    "# Visualizar como heatmap\n",
    "plt.figure(figsize=(10, 8))\n",
    "sns.heatmap(corr_matrix, annot=True, cmap='coolwarm', fmt=\".2f\")\n",
    "plt.title(\"Heatmap de Correlação entre Atributos Numéricos\")\n",
    "plt.show()"
   ]
  },
  {
   "cell_type": "markdown",
   "id": "e7569afc",
   "metadata": {},
   "source": [
    "- Existe correlação moderada positiva entre algumas etiquetas, como:\n",
    "\n",
    "    - toxic e obscene: ~0.75\n",
    "\n",
    "    - toxic e insult: ~0.68\n",
    "\n",
    "- A variável length tem correlação moderada com toxic, insult, etc., indicando que comentários tóxicos tendem a ser mais longos.\n",
    "\n",
    "- A variável flesch_score tem correlação negativa com a maioria das etiquetas, especialmente com toxic e length, sugerindo que:\n",
    "\n",
    "- Comentários tóxicos tendem a ser menos legíveis.\n",
    "\n",
    "- Comentários mais longos tendem a ter menor legibilidade.\n",
    "\n",
    "- As correlações não são extremas, o que é bom para evitar colinearidade excessiva.\n"
   ]
  },
  {
   "cell_type": "markdown",
   "id": "14df9985",
   "metadata": {},
   "source": [
    "#### **2. Limpeza de dados e transformação**"
   ]
  },
  {
   "cell_type": "markdown",
   "id": "d414ee80",
   "metadata": {},
   "source": [
    " ### a) Preencha os valores ausentes"
   ]
  },
  {
   "cell_type": "markdown",
   "id": "f0a90955",
   "metadata": {},
   "source": [
    "Nesta etapa, devemos identificar e, se necessário, **preencher valores ausentes** (`NaN`, `None`) para garantir que os algoritmos de mineração de dados funcionem corretamente.  \n",
    "\n",
    "**Técnicas comuns** incluem:  \n",
    "- Preenchimento com uma **constante** (ex.: `\"desconhecido\"`).  \n",
    "- Preenchimento com a **média**, **mediana** ou **moda**.  \n",
    "- Preenchimento usando métodos **supervisionados** (modelos preditivos). "
   ]
  },
  {
   "cell_type": "code",
   "execution_count": 37,
   "id": "66b88f76",
   "metadata": {},
   "outputs": [
    {
     "name": "stdout",
     "output_type": "stream",
     "text": [
      "Valores ausentes - Train:\n"
     ]
    },
    {
     "data": {
      "text/html": [
       "<div>\n",
       "<style scoped>\n",
       "    .dataframe tbody tr th:only-of-type {\n",
       "        vertical-align: middle;\n",
       "    }\n",
       "\n",
       "    .dataframe tbody tr th {\n",
       "        vertical-align: top;\n",
       "    }\n",
       "\n",
       "    .dataframe thead th {\n",
       "        text-align: right;\n",
       "    }\n",
       "</style>\n",
       "<table border=\"1\" class=\"dataframe\">\n",
       "  <thead>\n",
       "    <tr style=\"text-align: right;\">\n",
       "      <th></th>\n",
       "      <th>Coluna</th>\n",
       "      <th>Valores_ausentes_treino</th>\n",
       "    </tr>\n",
       "  </thead>\n",
       "  <tbody>\n",
       "    <tr>\n",
       "      <th>0</th>\n",
       "      <td>id</td>\n",
       "      <td>0</td>\n",
       "    </tr>\n",
       "    <tr>\n",
       "      <th>1</th>\n",
       "      <td>comment_text</td>\n",
       "      <td>0</td>\n",
       "    </tr>\n",
       "    <tr>\n",
       "      <th>2</th>\n",
       "      <td>toxic</td>\n",
       "      <td>0</td>\n",
       "    </tr>\n",
       "    <tr>\n",
       "      <th>3</th>\n",
       "      <td>severe_toxic</td>\n",
       "      <td>0</td>\n",
       "    </tr>\n",
       "    <tr>\n",
       "      <th>4</th>\n",
       "      <td>obscene</td>\n",
       "      <td>0</td>\n",
       "    </tr>\n",
       "    <tr>\n",
       "      <th>5</th>\n",
       "      <td>threat</td>\n",
       "      <td>0</td>\n",
       "    </tr>\n",
       "    <tr>\n",
       "      <th>6</th>\n",
       "      <td>insult</td>\n",
       "      <td>0</td>\n",
       "    </tr>\n",
       "    <tr>\n",
       "      <th>7</th>\n",
       "      <td>identity_hate</td>\n",
       "      <td>0</td>\n",
       "    </tr>\n",
       "    <tr>\n",
       "      <th>8</th>\n",
       "      <td>length</td>\n",
       "      <td>0</td>\n",
       "    </tr>\n",
       "    <tr>\n",
       "      <th>9</th>\n",
       "      <td>length_bin</td>\n",
       "      <td>0</td>\n",
       "    </tr>\n",
       "    <tr>\n",
       "      <th>10</th>\n",
       "      <td>flesch_score</td>\n",
       "      <td>0</td>\n",
       "    </tr>\n",
       "  </tbody>\n",
       "</table>\n",
       "</div>"
      ],
      "text/plain": [
       "           Coluna  Valores_ausentes_treino\n",
       "0              id                        0\n",
       "1    comment_text                        0\n",
       "2           toxic                        0\n",
       "3    severe_toxic                        0\n",
       "4         obscene                        0\n",
       "5          threat                        0\n",
       "6          insult                        0\n",
       "7   identity_hate                        0\n",
       "8          length                        0\n",
       "9      length_bin                        0\n",
       "10   flesch_score                        0"
      ]
     },
     "metadata": {},
     "output_type": "display_data"
    },
    {
     "name": "stdout",
     "output_type": "stream",
     "text": [
      "Valores ausentes - Test:\n"
     ]
    },
    {
     "data": {
      "text/html": [
       "<div>\n",
       "<style scoped>\n",
       "    .dataframe tbody tr th:only-of-type {\n",
       "        vertical-align: middle;\n",
       "    }\n",
       "\n",
       "    .dataframe tbody tr th {\n",
       "        vertical-align: top;\n",
       "    }\n",
       "\n",
       "    .dataframe thead th {\n",
       "        text-align: right;\n",
       "    }\n",
       "</style>\n",
       "<table border=\"1\" class=\"dataframe\">\n",
       "  <thead>\n",
       "    <tr style=\"text-align: right;\">\n",
       "      <th></th>\n",
       "      <th>Coluna</th>\n",
       "      <th>Valores_ausentes_teste</th>\n",
       "    </tr>\n",
       "  </thead>\n",
       "  <tbody>\n",
       "    <tr>\n",
       "      <th>0</th>\n",
       "      <td>id</td>\n",
       "      <td>0</td>\n",
       "    </tr>\n",
       "    <tr>\n",
       "      <th>1</th>\n",
       "      <td>comment_text</td>\n",
       "      <td>0</td>\n",
       "    </tr>\n",
       "    <tr>\n",
       "      <th>2</th>\n",
       "      <td>length</td>\n",
       "      <td>0</td>\n",
       "    </tr>\n",
       "    <tr>\n",
       "      <th>3</th>\n",
       "      <td>flesch_score</td>\n",
       "      <td>0</td>\n",
       "    </tr>\n",
       "  </tbody>\n",
       "</table>\n",
       "</div>"
      ],
      "text/plain": [
       "         Coluna  Valores_ausentes_teste\n",
       "0            id                       0\n",
       "1  comment_text                       0\n",
       "2        length                       0\n",
       "3  flesch_score                       0"
      ]
     },
     "metadata": {},
     "output_type": "display_data"
    }
   ],
   "source": [
    "# Preencher valores ausentes da métrica Flesch (com média)\n",
    "flesch_imputer = SimpleImputer(strategy='mean')\n",
    "train['flesch_score'] = flesch_imputer.fit_transform(train[['flesch_score']])\n",
    "test['flesch_score'] = flesch_imputer.transform(test[['flesch_score']])\n",
    "\n",
    "# Verificar valores ausentes no train e test\n",
    "missing_train = train.isnull().sum().reset_index()\n",
    "missing_train.columns = ['Coluna', 'Valores_ausentes_treino']\n",
    "\n",
    "missing_test = test.isnull().sum().reset_index()\n",
    "missing_test.columns = ['Coluna', 'Valores_ausentes_teste']\n",
    "\n",
    "\n",
    "# Exibir tabelas\n",
    "print(\"Valores ausentes - Train:\")\n",
    "display(missing_train)\n",
    "\n",
    "print(\"Valores ausentes - Test:\")\n",
    "display(missing_test)\n",
    "\n",
    "\n"
   ]
  },
  {
   "cell_type": "markdown",
   "id": "120168c5",
   "metadata": {},
   "source": [
    "### b) Suavize os ruídos"
   ]
  },
  {
   "cell_type": "markdown",
   "id": "94d8c0ba",
   "metadata": {},
   "source": [
    "A suavização é uma técnica usada para **reduzir o impacto de ruídos** ou **valores extremos** nos atributos numéricos.  \n",
    "Uma abordagem comum é a **suavização por média**:  \n",
    "- Dividimos o atributo em **intervalos (bins)**.  \n",
    "- Substituímos os valores originais pela **média de cada bin**.  \n",
    "\n",
    "No nosso dataset, aplicamos essa técnica sobre o atributo **`length`** (comprimento do comentário).\n"
   ]
  },
  {
   "cell_type": "code",
   "execution_count": 38,
   "id": "a094b8d3",
   "metadata": {},
   "outputs": [
    {
     "name": "stdout",
     "output_type": "stream",
     "text": [
      "Tabela train\n"
     ]
    },
    {
     "data": {
      "text/html": [
       "<div>\n",
       "<style scoped>\n",
       "    .dataframe tbody tr th:only-of-type {\n",
       "        vertical-align: middle;\n",
       "    }\n",
       "\n",
       "    .dataframe tbody tr th {\n",
       "        vertical-align: top;\n",
       "    }\n",
       "\n",
       "    .dataframe thead th {\n",
       "        text-align: right;\n",
       "    }\n",
       "</style>\n",
       "<table border=\"1\" class=\"dataframe\">\n",
       "  <thead>\n",
       "    <tr style=\"text-align: right;\">\n",
       "      <th></th>\n",
       "      <th>length</th>\n",
       "      <th>length_smooth</th>\n",
       "      <th>flesch_bin</th>\n",
       "    </tr>\n",
       "  </thead>\n",
       "  <tbody>\n",
       "    <tr>\n",
       "      <th>0</th>\n",
       "      <td>264</td>\n",
       "      <td>254.72455</td>\n",
       "      <td>2</td>\n",
       "    </tr>\n",
       "    <tr>\n",
       "      <th>1</th>\n",
       "      <td>112</td>\n",
       "      <td>254.72455</td>\n",
       "      <td>2</td>\n",
       "    </tr>\n",
       "    <tr>\n",
       "      <th>2</th>\n",
       "      <td>233</td>\n",
       "      <td>254.72455</td>\n",
       "      <td>2</td>\n",
       "    </tr>\n",
       "    <tr>\n",
       "      <th>3</th>\n",
       "      <td>622</td>\n",
       "      <td>254.72455</td>\n",
       "      <td>1</td>\n",
       "    </tr>\n",
       "    <tr>\n",
       "      <th>4</th>\n",
       "      <td>67</td>\n",
       "      <td>254.72455</td>\n",
       "      <td>3</td>\n",
       "    </tr>\n",
       "  </tbody>\n",
       "</table>\n",
       "</div>"
      ],
      "text/plain": [
       "   length  length_smooth  flesch_bin\n",
       "0     264      254.72455           2\n",
       "1     112      254.72455           2\n",
       "2     233      254.72455           2\n",
       "3     622      254.72455           1\n",
       "4      67      254.72455           3"
      ]
     },
     "metadata": {},
     "output_type": "display_data"
    },
    {
     "name": "stdout",
     "output_type": "stream",
     "text": [
      "Tabela test\n"
     ]
    },
    {
     "data": {
      "text/html": [
       "<div>\n",
       "<style scoped>\n",
       "    .dataframe tbody tr th:only-of-type {\n",
       "        vertical-align: middle;\n",
       "    }\n",
       "\n",
       "    .dataframe tbody tr th {\n",
       "        vertical-align: top;\n",
       "    }\n",
       "\n",
       "    .dataframe thead th {\n",
       "        text-align: right;\n",
       "    }\n",
       "</style>\n",
       "<table border=\"1\" class=\"dataframe\">\n",
       "  <thead>\n",
       "    <tr style=\"text-align: right;\">\n",
       "      <th></th>\n",
       "      <th>length</th>\n",
       "      <th>length_smooth</th>\n",
       "      <th>flesch_bin</th>\n",
       "    </tr>\n",
       "  </thead>\n",
       "  <tbody>\n",
       "    <tr>\n",
       "      <th>0</th>\n",
       "      <td>367</td>\n",
       "      <td>254.72455</td>\n",
       "      <td>3</td>\n",
       "    </tr>\n",
       "    <tr>\n",
       "      <th>1</th>\n",
       "      <td>50</td>\n",
       "      <td>254.72455</td>\n",
       "      <td>3</td>\n",
       "    </tr>\n",
       "    <tr>\n",
       "      <th>2</th>\n",
       "      <td>54</td>\n",
       "      <td>254.72455</td>\n",
       "      <td>0</td>\n",
       "    </tr>\n",
       "    <tr>\n",
       "      <th>3</th>\n",
       "      <td>205</td>\n",
       "      <td>254.72455</td>\n",
       "      <td>2</td>\n",
       "    </tr>\n",
       "    <tr>\n",
       "      <th>4</th>\n",
       "      <td>41</td>\n",
       "      <td>254.72455</td>\n",
       "      <td>0</td>\n",
       "    </tr>\n",
       "  </tbody>\n",
       "</table>\n",
       "</div>"
      ],
      "text/plain": [
       "   length  length_smooth  flesch_bin\n",
       "0     367      254.72455           3\n",
       "1      50      254.72455           3\n",
       "2      54      254.72455           0\n",
       "3     205      254.72455           2\n",
       "4      41      254.72455           0"
      ]
     },
     "metadata": {},
     "output_type": "display_data"
    }
   ],
   "source": [
    "# Função de suavização\n",
    "def smooth_length(x):\n",
    "    for interval, mean in bin_means.items():\n",
    "        if x in interval:\n",
    "            return mean\n",
    "    return x\n",
    "\n",
    "# Aplicar suavização no train e test\n",
    "train['length_smooth'] = train['length'].apply(smooth_length)\n",
    "test['length_smooth'] = test['length'].apply(smooth_length)\n",
    "\n",
    "# Suavização de ruídos usando qcut\n",
    "train['flesch_bin'] = pd.qcut(train['flesch_score'], q=4, labels=False)\n",
    "test['flesch_bin'] = pd.qcut(test['flesch_score'], q=4, labels=False)\n",
    "\n",
    "print('Tabela train')\n",
    "display(train[['length', 'length_smooth', 'flesch_bin']].head())\n",
    "print('Tabela test')\n",
    "display(test[['length', 'length_smooth', 'flesch_bin']].head())\n"
   ]
  },
  {
   "cell_type": "markdown",
   "id": "261a7bed",
   "metadata": {},
   "source": [
    "- A legibilidade (flesch_bin) não depende exclusivamente do comprimento do texto.\n",
    "\n",
    "- Comentários mais curtos tendem a ter maior legibilidade, mas nem sempre (como visto nos casos com flesch_bin = 0 no teste).\n",
    "\n",
    "- A variável length_smooth será usada para normalização, mas não possui variação em si."
   ]
  },
  {
   "cell_type": "markdown",
   "id": "29621e0b",
   "metadata": {},
   "source": [
    "### c) Resolva as inconsistências"
   ]
  },
  {
   "cell_type": "code",
   "execution_count": 39,
   "id": "4274d696",
   "metadata": {},
   "outputs": [
    {
     "name": "stdout",
     "output_type": "stream",
     "text": [
      "Duplicados em train: 0\n",
      "Duplicados em test: 0\n"
     ]
    },
    {
     "name": "stderr",
     "output_type": "stream",
     "text": [
      "[nltk_data] Downloading package stopwords to\n",
      "[nltk_data]     C:\\Users\\ALEXANDER\\AppData\\Roaming\\nltk_data...\n",
      "[nltk_data]   Package stopwords is already up-to-date!\n"
     ]
    },
    {
     "name": "stdout",
     "output_type": "stream",
     "text": [
      "Inconsistências resolvidas por meio de limpeza textual. Nenhuma codificação conflitante detectada.\n"
     ]
    }
   ],
   "source": [
    "# Verificar e remover duplicados (train)\n",
    "duplicates = train.duplicated().sum()\n",
    "print(f\"Duplicados em train: {duplicates}\")\n",
    "\n",
    "train = train.drop_duplicates()\n",
    "\n",
    "# Verificar e remover duplicados (test)\n",
    "duplicates = test.duplicated().sum()\n",
    "print(f\"Duplicados em test: {duplicates}\")\n",
    "\n",
    "test = test.drop_duplicates()\n",
    "\n",
    "# Pré-processamento de texto (stopwords stemming, regex)\n",
    "nltk.download('stopwords')\n",
    "stop_words = set(stopwords.words('english'))\n",
    "stemmer = SnowballStemmer('english')\n",
    "\n",
    "def clean_text(text):\n",
    "    text = text.lower()\n",
    "    text = re.sub(f\"[{re.escape(string.punctuation)}]\", \"\", text)\n",
    "    tokens = text.split()\n",
    "    tokens = [stemmer.stem(word) for word in tokens if word not in stop_words and len(word) < 20]  # Filtra palabras largas\n",
    "    return \" \".join(tokens)\n",
    "\n",
    "train['clean_comment'] = train['comment_text'].apply(clean_text)\n",
    "test['clean_comment'] = test['comment_text'].apply(clean_text)\n",
    "\n",
    "# Melhoria na limpeza inicial\n",
    "def safe_clean(df):\n",
    "    df = df.copy()\n",
    "    df['clean_comment'] = df['clean_comment'].replace(['', ' ', np.nan], np.nan)\n",
    "    df = df.dropna(subset=['clean_comment'])\n",
    "    df = df[df['clean_comment'].str.strip().str.len() >= 3]\n",
    "    return df\n",
    "\n",
    "\n",
    "train = safe_clean(train)\n",
    "test = safe_clean(test)\n",
    "\n",
    "print(\"Inconsistências resolvidas por meio de limpeza textual. Nenhuma codificação conflitante detectada.\")\n"
   ]
  },
  {
   "cell_type": "markdown",
   "id": "8e6e9d69",
   "metadata": {},
   "source": [
    "- Não há atributos categóricos codificados de forma inconsistente.\n",
    "- Como este é um único campo de texto, e após a remoção dos símbolos e a padronização das letras minúsculas, as inconsistências são consideradas resolvidas.\n",
    "- Não há dados duplicados ou colunas codificadas incorretamente.\n"
   ]
  },
  {
   "cell_type": "markdown",
   "id": "0a75ac35",
   "metadata": {},
   "source": [
    "### d) Transforme atributos categóricos nominais em um vetor numérico"
   ]
  },
  {
   "cell_type": "markdown",
   "id": "e274ed4e",
   "metadata": {},
   "source": [
    "Como o texto precisa ser convertido para um formato que os modelos possam entender, aplicamos uma técnica comum de vetorização de texto. Aqui, usaremos TF-IDF (Frequência de Termos – Frequência Inversa de Documentos), que transforma o texto em um vetor numérico ponderando as palavras mais importantes e penalizando as mais comuns."
   ]
  },
  {
   "cell_type": "code",
   "execution_count": 40,
   "id": "0a05a755",
   "metadata": {},
   "outputs": [
    {
     "name": "stdout",
     "output_type": "stream",
     "text": [
      "Forma de la matriz TF-IDF: (159518, 10000)\n",
      "Forma de la matriz TF-IDF: (152961, 10000)\n"
     ]
    },
    {
     "name": "stderr",
     "output_type": "stream",
     "text": [
      "2025-06-09 07:40:23,422 - BERTopic - Embedding - Transforming documents to embeddings.\n",
      "Batches: 100%|██████████| 94/94 [00:35<00:00,  2.68it/s]\n",
      "2025-06-09 07:41:04,509 - BERTopic - Embedding - Completed ✓\n",
      "2025-06-09 07:41:04,510 - BERTopic - Dimensionality - Fitting the dimensionality reduction algorithm\n",
      "2025-06-09 07:41:31,483 - BERTopic - Dimensionality - Completed ✓\n",
      "2025-06-09 07:41:31,486 - BERTopic - Cluster - Start clustering the reduced embeddings\n",
      "2025-06-09 07:41:31,755 - BERTopic - Cluster - Completed ✓\n",
      "2025-06-09 07:41:31,755 - BERTopic - Representation - Extracting topics using c-TF-IDF for topic reduction.\n",
      "2025-06-09 07:41:31,919 - BERTopic - Representation - Completed ✓\n",
      "2025-06-09 07:41:31,921 - BERTopic - Topic reduction - Reducing number of topics\n",
      "2025-06-09 07:41:31,931 - BERTopic - Representation - Fine-tuning topics using representation models.\n",
      "2025-06-09 07:41:32,040 - BERTopic - Representation - Completed ✓\n",
      "2025-06-09 07:41:32,045 - BERTopic - Topic reduction - Reduced number of topics from 3 to 3\n"
     ]
    },
    {
     "name": "stdout",
     "output_type": "stream",
     "text": [
      "\n",
      "Qualidade dos dados:\n",
      "- Amostras processadas: 3000\n",
      "- Texto médio (chars): 221.3\n",
      "\n",
      "Distribuição de tópicos:\n",
      "topic\n",
      "0    2947\n",
      "1      37\n",
      "2      16\n",
      "Name: count, dtype: int64\n"
     ]
    },
    {
     "data": {
      "application/vnd.plotly.v1+json": {
       "config": {
        "plotlyServerURL": "https://plot.ly"
       },
       "data": [
        {
         "marker": {
          "color": "#D55E00"
         },
         "orientation": "h",
         "type": "bar",
         "x": [
          0.027858261255069742,
          0.028400157285320415,
          0.0288595475080376,
          0.03568994984871751,
          0.043962118412582685
         ],
         "xaxis": "x",
         "y": [
          "die  ",
          "wikipedia  ",
          "edit  ",
          "page  ",
          "articl  "
         ],
         "yaxis": "y"
        },
        {
         "marker": {
          "color": "#0072B2"
         },
         "orientation": "h",
         "type": "bar",
         "x": [
          0.0847932730161602,
          0.09647818727429992,
          0.1285779295190408,
          0.13824801203858575,
          1.2629265340004248
         ],
         "xaxis": "x2",
         "y": [
          "station  ",
          "actress  ",
          "valley  ",
          "swat  ",
          "redirect  "
         ],
         "yaxis": "y2"
        },
        {
         "marker": {
          "color": "#CC79A7"
         },
         "orientation": "h",
         "type": "bar",
         "x": [
          0.22845938910383803,
          0.23583752006397302,
          0.26915851824508413,
          0.2940917043642193,
          0.4747192670969284
         ],
         "xaxis": "x3",
         "y": [
          "experi  ",
          "learn  ",
          "thank  ",
          "sandbox  ",
          "test  "
         ],
         "yaxis": "y3"
        }
       ],
       "layout": {
        "annotations": [
         {
          "font": {
           "size": 16
          },
          "showarrow": false,
          "text": "Topic 0",
          "x": 0.0875,
          "xanchor": "center",
          "xref": "paper",
          "y": 1,
          "yanchor": "bottom",
          "yref": "paper"
         },
         {
          "font": {
           "size": 16
          },
          "showarrow": false,
          "text": "Topic 1",
          "x": 0.36250000000000004,
          "xanchor": "center",
          "xref": "paper",
          "y": 1,
          "yanchor": "bottom",
          "yref": "paper"
         },
         {
          "font": {
           "size": 16
          },
          "showarrow": false,
          "text": "Topic 2",
          "x": 0.6375000000000001,
          "xanchor": "center",
          "xref": "paper",
          "y": 1,
          "yanchor": "bottom",
          "yref": "paper"
         }
        ],
        "height": 325,
        "hoverlabel": {
         "bgcolor": "white",
         "font": {
          "family": "Rockwell",
          "size": 16
         }
        },
        "showlegend": false,
        "template": {
         "data": {
          "bar": [
           {
            "error_x": {
             "color": "#2a3f5f"
            },
            "error_y": {
             "color": "#2a3f5f"
            },
            "marker": {
             "line": {
              "color": "white",
              "width": 0.5
             },
             "pattern": {
              "fillmode": "overlay",
              "size": 10,
              "solidity": 0.2
             }
            },
            "type": "bar"
           }
          ],
          "barpolar": [
           {
            "marker": {
             "line": {
              "color": "white",
              "width": 0.5
             },
             "pattern": {
              "fillmode": "overlay",
              "size": 10,
              "solidity": 0.2
             }
            },
            "type": "barpolar"
           }
          ],
          "carpet": [
           {
            "aaxis": {
             "endlinecolor": "#2a3f5f",
             "gridcolor": "#C8D4E3",
             "linecolor": "#C8D4E3",
             "minorgridcolor": "#C8D4E3",
             "startlinecolor": "#2a3f5f"
            },
            "baxis": {
             "endlinecolor": "#2a3f5f",
             "gridcolor": "#C8D4E3",
             "linecolor": "#C8D4E3",
             "minorgridcolor": "#C8D4E3",
             "startlinecolor": "#2a3f5f"
            },
            "type": "carpet"
           }
          ],
          "choropleth": [
           {
            "colorbar": {
             "outlinewidth": 0,
             "ticks": ""
            },
            "type": "choropleth"
           }
          ],
          "contour": [
           {
            "colorbar": {
             "outlinewidth": 0,
             "ticks": ""
            },
            "colorscale": [
             [
              0,
              "#0d0887"
             ],
             [
              0.1111111111111111,
              "#46039f"
             ],
             [
              0.2222222222222222,
              "#7201a8"
             ],
             [
              0.3333333333333333,
              "#9c179e"
             ],
             [
              0.4444444444444444,
              "#bd3786"
             ],
             [
              0.5555555555555556,
              "#d8576b"
             ],
             [
              0.6666666666666666,
              "#ed7953"
             ],
             [
              0.7777777777777778,
              "#fb9f3a"
             ],
             [
              0.8888888888888888,
              "#fdca26"
             ],
             [
              1,
              "#f0f921"
             ]
            ],
            "type": "contour"
           }
          ],
          "contourcarpet": [
           {
            "colorbar": {
             "outlinewidth": 0,
             "ticks": ""
            },
            "type": "contourcarpet"
           }
          ],
          "heatmap": [
           {
            "colorbar": {
             "outlinewidth": 0,
             "ticks": ""
            },
            "colorscale": [
             [
              0,
              "#0d0887"
             ],
             [
              0.1111111111111111,
              "#46039f"
             ],
             [
              0.2222222222222222,
              "#7201a8"
             ],
             [
              0.3333333333333333,
              "#9c179e"
             ],
             [
              0.4444444444444444,
              "#bd3786"
             ],
             [
              0.5555555555555556,
              "#d8576b"
             ],
             [
              0.6666666666666666,
              "#ed7953"
             ],
             [
              0.7777777777777778,
              "#fb9f3a"
             ],
             [
              0.8888888888888888,
              "#fdca26"
             ],
             [
              1,
              "#f0f921"
             ]
            ],
            "type": "heatmap"
           }
          ],
          "histogram": [
           {
            "marker": {
             "pattern": {
              "fillmode": "overlay",
              "size": 10,
              "solidity": 0.2
             }
            },
            "type": "histogram"
           }
          ],
          "histogram2d": [
           {
            "colorbar": {
             "outlinewidth": 0,
             "ticks": ""
            },
            "colorscale": [
             [
              0,
              "#0d0887"
             ],
             [
              0.1111111111111111,
              "#46039f"
             ],
             [
              0.2222222222222222,
              "#7201a8"
             ],
             [
              0.3333333333333333,
              "#9c179e"
             ],
             [
              0.4444444444444444,
              "#bd3786"
             ],
             [
              0.5555555555555556,
              "#d8576b"
             ],
             [
              0.6666666666666666,
              "#ed7953"
             ],
             [
              0.7777777777777778,
              "#fb9f3a"
             ],
             [
              0.8888888888888888,
              "#fdca26"
             ],
             [
              1,
              "#f0f921"
             ]
            ],
            "type": "histogram2d"
           }
          ],
          "histogram2dcontour": [
           {
            "colorbar": {
             "outlinewidth": 0,
             "ticks": ""
            },
            "colorscale": [
             [
              0,
              "#0d0887"
             ],
             [
              0.1111111111111111,
              "#46039f"
             ],
             [
              0.2222222222222222,
              "#7201a8"
             ],
             [
              0.3333333333333333,
              "#9c179e"
             ],
             [
              0.4444444444444444,
              "#bd3786"
             ],
             [
              0.5555555555555556,
              "#d8576b"
             ],
             [
              0.6666666666666666,
              "#ed7953"
             ],
             [
              0.7777777777777778,
              "#fb9f3a"
             ],
             [
              0.8888888888888888,
              "#fdca26"
             ],
             [
              1,
              "#f0f921"
             ]
            ],
            "type": "histogram2dcontour"
           }
          ],
          "mesh3d": [
           {
            "colorbar": {
             "outlinewidth": 0,
             "ticks": ""
            },
            "type": "mesh3d"
           }
          ],
          "parcoords": [
           {
            "line": {
             "colorbar": {
              "outlinewidth": 0,
              "ticks": ""
             }
            },
            "type": "parcoords"
           }
          ],
          "pie": [
           {
            "automargin": true,
            "type": "pie"
           }
          ],
          "scatter": [
           {
            "fillpattern": {
             "fillmode": "overlay",
             "size": 10,
             "solidity": 0.2
            },
            "type": "scatter"
           }
          ],
          "scatter3d": [
           {
            "line": {
             "colorbar": {
              "outlinewidth": 0,
              "ticks": ""
             }
            },
            "marker": {
             "colorbar": {
              "outlinewidth": 0,
              "ticks": ""
             }
            },
            "type": "scatter3d"
           }
          ],
          "scattercarpet": [
           {
            "marker": {
             "colorbar": {
              "outlinewidth": 0,
              "ticks": ""
             }
            },
            "type": "scattercarpet"
           }
          ],
          "scattergeo": [
           {
            "marker": {
             "colorbar": {
              "outlinewidth": 0,
              "ticks": ""
             }
            },
            "type": "scattergeo"
           }
          ],
          "scattergl": [
           {
            "marker": {
             "colorbar": {
              "outlinewidth": 0,
              "ticks": ""
             }
            },
            "type": "scattergl"
           }
          ],
          "scattermap": [
           {
            "marker": {
             "colorbar": {
              "outlinewidth": 0,
              "ticks": ""
             }
            },
            "type": "scattermap"
           }
          ],
          "scattermapbox": [
           {
            "marker": {
             "colorbar": {
              "outlinewidth": 0,
              "ticks": ""
             }
            },
            "type": "scattermapbox"
           }
          ],
          "scatterpolar": [
           {
            "marker": {
             "colorbar": {
              "outlinewidth": 0,
              "ticks": ""
             }
            },
            "type": "scatterpolar"
           }
          ],
          "scatterpolargl": [
           {
            "marker": {
             "colorbar": {
              "outlinewidth": 0,
              "ticks": ""
             }
            },
            "type": "scatterpolargl"
           }
          ],
          "scatterternary": [
           {
            "marker": {
             "colorbar": {
              "outlinewidth": 0,
              "ticks": ""
             }
            },
            "type": "scatterternary"
           }
          ],
          "surface": [
           {
            "colorbar": {
             "outlinewidth": 0,
             "ticks": ""
            },
            "colorscale": [
             [
              0,
              "#0d0887"
             ],
             [
              0.1111111111111111,
              "#46039f"
             ],
             [
              0.2222222222222222,
              "#7201a8"
             ],
             [
              0.3333333333333333,
              "#9c179e"
             ],
             [
              0.4444444444444444,
              "#bd3786"
             ],
             [
              0.5555555555555556,
              "#d8576b"
             ],
             [
              0.6666666666666666,
              "#ed7953"
             ],
             [
              0.7777777777777778,
              "#fb9f3a"
             ],
             [
              0.8888888888888888,
              "#fdca26"
             ],
             [
              1,
              "#f0f921"
             ]
            ],
            "type": "surface"
           }
          ],
          "table": [
           {
            "cells": {
             "fill": {
              "color": "#EBF0F8"
             },
             "line": {
              "color": "white"
             }
            },
            "header": {
             "fill": {
              "color": "#C8D4E3"
             },
             "line": {
              "color": "white"
             }
            },
            "type": "table"
           }
          ]
         },
         "layout": {
          "annotationdefaults": {
           "arrowcolor": "#2a3f5f",
           "arrowhead": 0,
           "arrowwidth": 1
          },
          "autotypenumbers": "strict",
          "coloraxis": {
           "colorbar": {
            "outlinewidth": 0,
            "ticks": ""
           }
          },
          "colorscale": {
           "diverging": [
            [
             0,
             "#8e0152"
            ],
            [
             0.1,
             "#c51b7d"
            ],
            [
             0.2,
             "#de77ae"
            ],
            [
             0.3,
             "#f1b6da"
            ],
            [
             0.4,
             "#fde0ef"
            ],
            [
             0.5,
             "#f7f7f7"
            ],
            [
             0.6,
             "#e6f5d0"
            ],
            [
             0.7,
             "#b8e186"
            ],
            [
             0.8,
             "#7fbc41"
            ],
            [
             0.9,
             "#4d9221"
            ],
            [
             1,
             "#276419"
            ]
           ],
           "sequential": [
            [
             0,
             "#0d0887"
            ],
            [
             0.1111111111111111,
             "#46039f"
            ],
            [
             0.2222222222222222,
             "#7201a8"
            ],
            [
             0.3333333333333333,
             "#9c179e"
            ],
            [
             0.4444444444444444,
             "#bd3786"
            ],
            [
             0.5555555555555556,
             "#d8576b"
            ],
            [
             0.6666666666666666,
             "#ed7953"
            ],
            [
             0.7777777777777778,
             "#fb9f3a"
            ],
            [
             0.8888888888888888,
             "#fdca26"
            ],
            [
             1,
             "#f0f921"
            ]
           ],
           "sequentialminus": [
            [
             0,
             "#0d0887"
            ],
            [
             0.1111111111111111,
             "#46039f"
            ],
            [
             0.2222222222222222,
             "#7201a8"
            ],
            [
             0.3333333333333333,
             "#9c179e"
            ],
            [
             0.4444444444444444,
             "#bd3786"
            ],
            [
             0.5555555555555556,
             "#d8576b"
            ],
            [
             0.6666666666666666,
             "#ed7953"
            ],
            [
             0.7777777777777778,
             "#fb9f3a"
            ],
            [
             0.8888888888888888,
             "#fdca26"
            ],
            [
             1,
             "#f0f921"
            ]
           ]
          },
          "colorway": [
           "#636efa",
           "#EF553B",
           "#00cc96",
           "#ab63fa",
           "#FFA15A",
           "#19d3f3",
           "#FF6692",
           "#B6E880",
           "#FF97FF",
           "#FECB52"
          ],
          "font": {
           "color": "#2a3f5f"
          },
          "geo": {
           "bgcolor": "white",
           "lakecolor": "white",
           "landcolor": "white",
           "showlakes": true,
           "showland": true,
           "subunitcolor": "#C8D4E3"
          },
          "hoverlabel": {
           "align": "left"
          },
          "hovermode": "closest",
          "mapbox": {
           "style": "light"
          },
          "paper_bgcolor": "white",
          "plot_bgcolor": "white",
          "polar": {
           "angularaxis": {
            "gridcolor": "#EBF0F8",
            "linecolor": "#EBF0F8",
            "ticks": ""
           },
           "bgcolor": "white",
           "radialaxis": {
            "gridcolor": "#EBF0F8",
            "linecolor": "#EBF0F8",
            "ticks": ""
           }
          },
          "scene": {
           "xaxis": {
            "backgroundcolor": "white",
            "gridcolor": "#DFE8F3",
            "gridwidth": 2,
            "linecolor": "#EBF0F8",
            "showbackground": true,
            "ticks": "",
            "zerolinecolor": "#EBF0F8"
           },
           "yaxis": {
            "backgroundcolor": "white",
            "gridcolor": "#DFE8F3",
            "gridwidth": 2,
            "linecolor": "#EBF0F8",
            "showbackground": true,
            "ticks": "",
            "zerolinecolor": "#EBF0F8"
           },
           "zaxis": {
            "backgroundcolor": "white",
            "gridcolor": "#DFE8F3",
            "gridwidth": 2,
            "linecolor": "#EBF0F8",
            "showbackground": true,
            "ticks": "",
            "zerolinecolor": "#EBF0F8"
           }
          },
          "shapedefaults": {
           "line": {
            "color": "#2a3f5f"
           }
          },
          "ternary": {
           "aaxis": {
            "gridcolor": "#DFE8F3",
            "linecolor": "#A2B1C6",
            "ticks": ""
           },
           "baxis": {
            "gridcolor": "#DFE8F3",
            "linecolor": "#A2B1C6",
            "ticks": ""
           },
           "bgcolor": "white",
           "caxis": {
            "gridcolor": "#DFE8F3",
            "linecolor": "#A2B1C6",
            "ticks": ""
           }
          },
          "title": {
           "x": 0.05
          },
          "xaxis": {
           "automargin": true,
           "gridcolor": "#EBF0F8",
           "linecolor": "#EBF0F8",
           "ticks": "",
           "title": {
            "standoff": 15
           },
           "zerolinecolor": "#EBF0F8",
           "zerolinewidth": 2
          },
          "yaxis": {
           "automargin": true,
           "gridcolor": "#EBF0F8",
           "linecolor": "#EBF0F8",
           "ticks": "",
           "title": {
            "standoff": 15
           },
           "zerolinecolor": "#EBF0F8",
           "zerolinewidth": 2
          }
         }
        },
        "title": {
         "font": {
          "color": "Black",
          "size": 22
         },
         "text": "Topic Word Scores",
         "x": 0.5,
         "xanchor": "center",
         "yanchor": "top"
        },
        "width": 1000,
        "xaxis": {
         "anchor": "y",
         "domain": [
          0,
          0.175
         ],
         "showgrid": true
        },
        "xaxis2": {
         "anchor": "y2",
         "domain": [
          0.275,
          0.45
         ],
         "showgrid": true
        },
        "xaxis3": {
         "anchor": "y3",
         "domain": [
          0.55,
          0.7250000000000001
         ],
         "showgrid": true
        },
        "xaxis4": {
         "anchor": "y4",
         "domain": [
          0.825,
          1
         ],
         "showgrid": true
        },
        "yaxis": {
         "anchor": "x",
         "domain": [
          0,
          1
         ],
         "showgrid": true
        },
        "yaxis2": {
         "anchor": "x2",
         "domain": [
          0,
          1
         ],
         "showgrid": true
        },
        "yaxis3": {
         "anchor": "x3",
         "domain": [
          0,
          1
         ],
         "showgrid": true
        },
        "yaxis4": {
         "anchor": "x4",
         "domain": [
          0,
          1
         ],
         "showgrid": true
        }
       }
      }
     },
     "metadata": {},
     "output_type": "display_data"
    },
    {
     "name": "stderr",
     "output_type": "stream",
     "text": [
      "2025-06-09 07:41:34,062 - BERTopic - WARNING: When you use `pickle` to save/load a BERTopic model,please make sure that the environments in which you saveand load the model are **exactly** the same. The version of BERTopic,its dependencies, and python need to remain the same.\n"
     ]
    }
   ],
   "source": [
    "# Crie o vetorizador TF-IDF ou embedding\n",
    "tfidf = TfidfVectorizer(max_features=10000, stop_words='english')\n",
    "\n",
    "# Ajustar e transformar (train)\n",
    "X_train_tfidf = tfidf.fit_transform(train['comment_text'])\n",
    "\n",
    "# Ajustar e transformar (test)\n",
    "X_test_tfidf = tfidf.transform(test['comment_text'])\n",
    "\n",
    "print(f\"Forma de la matriz TF-IDF: {X_train_tfidf.shape}\")\n",
    "print(f\"Forma de la matriz TF-IDF: {X_test_tfidf.shape}\")\n",
    "\n",
    "\n",
    "# TF-IDF com verificação de dados\n",
    "if len(train['clean_comment']) == 0:\n",
    "    raise ValueError(\"¡No hay datos válidos después de la limpieza!\")\n",
    "\n",
    "tfidf = TfidfVectorizer(\n",
    "    max_features=10000,\n",
    "    min_df=5,\n",
    "    max_df=0.9,\n",
    "    stop_words='english',\n",
    "    token_pattern=r'(?u)\\b[A-Za-z]{3,}\\b'\n",
    ")\n",
    "\n",
    "X_train_tfidf = tfidf.fit_transform(train['clean_comment'])\n",
    "X_test_tfidf = tfidf.transform(test['clean_comment'])\n",
    "\n",
    "# BERTopic com proteção total\n",
    "sample_size = min(3000, len(train))\n",
    "sampled_comments = train['clean_comment'].dropna().sample(n=sample_size, random_state=42)\n",
    "\n",
    "sampled_comments = sampled_comments[sampled_comments.str.strip().str.len() > 0]\n",
    "if len(sampled_comments) == 0:\n",
    "    raise ValueError(\"¡La muestra para BERTopic está vacía!\")\n",
    "\n",
    "topic_model = BERTopic(\n",
    "    language=\"english\",\n",
    "    min_topic_size=15,\n",
    "    nr_topics=\"auto\",\n",
    "    calculate_probabilities=True,\n",
    "    verbose=True\n",
    ")\n",
    "\n",
    "try:\n",
    "    topics, probs = topic_model.fit_transform(sampled_comments.tolist())\n",
    "except Exception as e:\n",
    "    print(f\"Error en BERTopic: {str(e)}\")\n",
    "    topics, probs = [-1] * len(sampled_comments), None\n",
    "\n",
    "# Resultados com análise de qualidade\n",
    "topic_results = pd.DataFrame({\n",
    "    'comment': sampled_comments,\n",
    "    'topic': topics,\n",
    "    'length': sampled_comments.str.len()\n",
    "})\n",
    "\n",
    "print(\"\\nQualidade dos dados:\")\n",
    "print(f\"- Amostras processadas: {len(topic_results)}\")\n",
    "print(f\"- Texto médio (chars): {topic_results['length'].mean():.1f}\")\n",
    "print(\"\\nDistribuição de tópicos:\")\n",
    "print(topic_results['topic'].value_counts().head(10))\n",
    "\n",
    "\n",
    "try:\n",
    "    fig = topic_model.visualize_barchart(top_n_topics=10)\n",
    "    fig.show()\n",
    "except Exception as e:\n",
    "    print(f\"Erro ao exibir a visualização: {str(e)}\")\n",
    "    \n",
    "topic_model.save(\"my_topic_model\")"
   ]
  },
  {
   "cell_type": "markdown",
   "id": "41c5aa44",
   "metadata": {},
   "source": [
    "- O modelo identificou pelo menos três tópicos distintos:\n",
    "\n",
    "  - Edição ou discussão de artigos (Wikipedia)\n",
    "\n",
    "  - Tópico específico dominado por \"redirecionamentos\", menos informativo\n",
    "\n",
    "  - Teste, aprendizado e agradecimentos\n"
   ]
  },
  {
   "cell_type": "markdown",
   "id": "8cbe09b3",
   "metadata": {},
   "source": [
    "### e) Transforme atributos categóricos ordinais em atributos numéricos seguindo a ordem entre eles."
   ]
  },
  {
   "cell_type": "markdown",
   "id": "05dea2ae",
   "metadata": {},
   "source": [
    "Esta etapa consiste em transformar atributos categóricos ordinários (que possuem uma hierarquia ou nível implícito) em valores numéricos respeitando sua ordem lógica."
   ]
  },
  {
   "cell_type": "code",
   "execution_count": 41,
   "id": "41547f10",
   "metadata": {},
   "outputs": [
    {
     "name": "stdout",
     "output_type": "stream",
     "text": [
      "Não existem atributos categóricos ordinais neste conjunto de dados.\n"
     ]
    }
   ],
   "source": [
    "\n",
    "print(\"Não existem atributos categóricos ordinais neste conjunto de dados.\")\n"
   ]
  },
  {
   "cell_type": "markdown",
   "id": "76580417",
   "metadata": {},
   "source": [
    "- O conjunto de dados do desafio contém apenas:\n",
    "\n",
    "    + texto_de_comentário → texto livre (não ordinal)\n",
    "\n",
    "    + colunas como tóxico, obsceno, etc. → binário (0 ou 1)\n",
    "\n",
    "- Portanto, não há atributos que exijam transformação ordinal.\n",
    "\n",
    "- Se atributos como \"nível de toxicidade do texto\" fossem adicionados manualmente às palavras, aplicaríamos essa técnica."
   ]
  },
  {
   "cell_type": "markdown",
   "id": "daa55b49",
   "metadata": {},
   "source": [
    "### f) Normalize os valores de atributos numéricos."
   ]
  },
  {
   "cell_type": "markdown",
   "id": "b8517f67",
   "metadata": {},
   "source": [
    "A normalização consiste em transformar valores numéricos em uma única escala para evitar que variáveis ​​com magnitudes maiores dominem outras em algoritmos que dependem de distâncias ou pesos (por exemplo, redes neurais, k-NN, SVM).\n",
    "\n",
    "No nosso caso, a matriz TF-IDF já gera vetores normalizados automaticamente, mas se tivéssemos outra variável numérica adicional, usaríamos o StandardScaler e MinMaxScaler."
   ]
  },
  {
   "cell_type": "code",
   "execution_count": 42,
   "id": "d30e582c",
   "metadata": {},
   "outputs": [
    {
     "name": "stdout",
     "output_type": "stream",
     "text": [
      "Lenght:\n",
      "Tabela train\n"
     ]
    },
    {
     "data": {
      "text/html": [
       "<div>\n",
       "<style scoped>\n",
       "    .dataframe tbody tr th:only-of-type {\n",
       "        vertical-align: middle;\n",
       "    }\n",
       "\n",
       "    .dataframe tbody tr th {\n",
       "        vertical-align: top;\n",
       "    }\n",
       "\n",
       "    .dataframe thead th {\n",
       "        text-align: right;\n",
       "    }\n",
       "</style>\n",
       "<table border=\"1\" class=\"dataframe\">\n",
       "  <thead>\n",
       "    <tr style=\"text-align: right;\">\n",
       "      <th></th>\n",
       "      <th>length</th>\n",
       "      <th>length_norm</th>\n",
       "      <th>length_z</th>\n",
       "    </tr>\n",
       "  </thead>\n",
       "  <tbody>\n",
       "    <tr>\n",
       "      <th>0</th>\n",
       "      <td>264</td>\n",
       "      <td>0.051662</td>\n",
       "      <td>-0.220355</td>\n",
       "    </tr>\n",
       "    <tr>\n",
       "      <th>1</th>\n",
       "      <td>112</td>\n",
       "      <td>0.021225</td>\n",
       "      <td>-0.477640</td>\n",
       "    </tr>\n",
       "    <tr>\n",
       "      <th>2</th>\n",
       "      <td>233</td>\n",
       "      <td>0.045455</td>\n",
       "      <td>-0.272828</td>\n",
       "    </tr>\n",
       "    <tr>\n",
       "      <th>3</th>\n",
       "      <td>622</td>\n",
       "      <td>0.123348</td>\n",
       "      <td>0.385618</td>\n",
       "    </tr>\n",
       "    <tr>\n",
       "      <th>4</th>\n",
       "      <td>67</td>\n",
       "      <td>0.012215</td>\n",
       "      <td>-0.553810</td>\n",
       "    </tr>\n",
       "  </tbody>\n",
       "</table>\n",
       "</div>"
      ],
      "text/plain": [
       "   length  length_norm  length_z\n",
       "0     264     0.051662 -0.220355\n",
       "1     112     0.021225 -0.477640\n",
       "2     233     0.045455 -0.272828\n",
       "3     622     0.123348  0.385618\n",
       "4      67     0.012215 -0.553810"
      ]
     },
     "metadata": {},
     "output_type": "display_data"
    },
    {
     "name": "stdout",
     "output_type": "stream",
     "text": [
      "Tabela test\n"
     ]
    },
    {
     "data": {
      "text/html": [
       "<div>\n",
       "<style scoped>\n",
       "    .dataframe tbody tr th:only-of-type {\n",
       "        vertical-align: middle;\n",
       "    }\n",
       "\n",
       "    .dataframe tbody tr th {\n",
       "        vertical-align: top;\n",
       "    }\n",
       "\n",
       "    .dataframe thead th {\n",
       "        text-align: right;\n",
       "    }\n",
       "</style>\n",
       "<table border=\"1\" class=\"dataframe\">\n",
       "  <thead>\n",
       "    <tr style=\"text-align: right;\">\n",
       "      <th></th>\n",
       "      <th>length</th>\n",
       "      <th>length_norm</th>\n",
       "      <th>length_z</th>\n",
       "    </tr>\n",
       "  </thead>\n",
       "  <tbody>\n",
       "    <tr>\n",
       "      <th>0</th>\n",
       "      <td>367</td>\n",
       "      <td>0.072287</td>\n",
       "      <td>-0.046011</td>\n",
       "    </tr>\n",
       "    <tr>\n",
       "      <th>1</th>\n",
       "      <td>50</td>\n",
       "      <td>0.008811</td>\n",
       "      <td>-0.582586</td>\n",
       "    </tr>\n",
       "    <tr>\n",
       "      <th>2</th>\n",
       "      <td>54</td>\n",
       "      <td>0.009612</td>\n",
       "      <td>-0.575815</td>\n",
       "    </tr>\n",
       "    <tr>\n",
       "      <th>3</th>\n",
       "      <td>205</td>\n",
       "      <td>0.039848</td>\n",
       "      <td>-0.320223</td>\n",
       "    </tr>\n",
       "    <tr>\n",
       "      <th>4</th>\n",
       "      <td>41</td>\n",
       "      <td>0.007008</td>\n",
       "      <td>-0.597819</td>\n",
       "    </tr>\n",
       "  </tbody>\n",
       "</table>\n",
       "</div>"
      ],
      "text/plain": [
       "   length  length_norm  length_z\n",
       "0     367     0.072287 -0.046011\n",
       "1      50     0.008811 -0.582586\n",
       "2      54     0.009612 -0.575815\n",
       "3     205     0.039848 -0.320223\n",
       "4      41     0.007008 -0.597819"
      ]
     },
     "metadata": {},
     "output_type": "display_data"
    },
    {
     "name": "stdout",
     "output_type": "stream",
     "text": [
      "Flesch:\n",
      "Tabela train\n"
     ]
    },
    {
     "data": {
      "text/html": [
       "<div>\n",
       "<style scoped>\n",
       "    .dataframe tbody tr th:only-of-type {\n",
       "        vertical-align: middle;\n",
       "    }\n",
       "\n",
       "    .dataframe tbody tr th {\n",
       "        vertical-align: top;\n",
       "    }\n",
       "\n",
       "    .dataframe thead th {\n",
       "        text-align: right;\n",
       "    }\n",
       "</style>\n",
       "<table border=\"1\" class=\"dataframe\">\n",
       "  <thead>\n",
       "    <tr style=\"text-align: right;\">\n",
       "      <th></th>\n",
       "      <th>flesch_score</th>\n",
       "      <th>flesch_score_norm</th>\n",
       "    </tr>\n",
       "  </thead>\n",
       "  <tbody>\n",
       "    <tr>\n",
       "      <th>0</th>\n",
       "      <td>66.370388</td>\n",
       "      <td>0.131752</td>\n",
       "    </tr>\n",
       "    <tr>\n",
       "      <th>1</th>\n",
       "      <td>73.795735</td>\n",
       "      <td>0.492730</td>\n",
       "    </tr>\n",
       "    <tr>\n",
       "      <th>2</th>\n",
       "      <td>65.725000</td>\n",
       "      <td>0.100377</td>\n",
       "    </tr>\n",
       "    <tr>\n",
       "      <th>3</th>\n",
       "      <td>51.112030</td>\n",
       "      <td>-0.610022</td>\n",
       "    </tr>\n",
       "    <tr>\n",
       "      <th>4</th>\n",
       "      <td>89.606731</td>\n",
       "      <td>1.261370</td>\n",
       "    </tr>\n",
       "  </tbody>\n",
       "</table>\n",
       "</div>"
      ],
      "text/plain": [
       "   flesch_score  flesch_score_norm\n",
       "0     66.370388           0.131752\n",
       "1     73.795735           0.492730\n",
       "2     65.725000           0.100377\n",
       "3     51.112030          -0.610022\n",
       "4     89.606731           1.261370"
      ]
     },
     "metadata": {},
     "output_type": "display_data"
    },
    {
     "name": "stdout",
     "output_type": "stream",
     "text": [
      "Tabela test\n"
     ]
    },
    {
     "data": {
      "text/html": [
       "<div>\n",
       "<style scoped>\n",
       "    .dataframe tbody tr th:only-of-type {\n",
       "        vertical-align: middle;\n",
       "    }\n",
       "\n",
       "    .dataframe tbody tr th {\n",
       "        vertical-align: top;\n",
       "    }\n",
       "\n",
       "    .dataframe thead th {\n",
       "        text-align: right;\n",
       "    }\n",
       "</style>\n",
       "<table border=\"1\" class=\"dataframe\">\n",
       "  <thead>\n",
       "    <tr style=\"text-align: right;\">\n",
       "      <th></th>\n",
       "      <th>flesch_score</th>\n",
       "      <th>flesch_score_norm</th>\n",
       "    </tr>\n",
       "  </thead>\n",
       "  <tbody>\n",
       "    <tr>\n",
       "      <th>0</th>\n",
       "      <td>93.605000</td>\n",
       "      <td>1.455743</td>\n",
       "    </tr>\n",
       "    <tr>\n",
       "      <th>1</th>\n",
       "      <td>95.165000</td>\n",
       "      <td>1.531581</td>\n",
       "    </tr>\n",
       "    <tr>\n",
       "      <th>2</th>\n",
       "      <td>49.480000</td>\n",
       "      <td>-0.689362</td>\n",
       "    </tr>\n",
       "    <tr>\n",
       "      <th>3</th>\n",
       "      <td>73.757281</td>\n",
       "      <td>0.490861</td>\n",
       "    </tr>\n",
       "    <tr>\n",
       "      <th>4</th>\n",
       "      <td>30.530000</td>\n",
       "      <td>-1.610602</td>\n",
       "    </tr>\n",
       "  </tbody>\n",
       "</table>\n",
       "</div>"
      ],
      "text/plain": [
       "   flesch_score  flesch_score_norm\n",
       "0     93.605000           1.455743\n",
       "1     95.165000           1.531581\n",
       "2     49.480000          -0.689362\n",
       "3     73.757281           0.490861\n",
       "4     30.530000          -1.610602"
      ]
     },
     "metadata": {},
     "output_type": "display_data"
    }
   ],
   "source": [
    "# Normalização Min-Max\n",
    "minmax_scaler = MinMaxScaler()\n",
    "train['length_norm'] = minmax_scaler.fit_transform(train[['length']])\n",
    "test['length_norm'] = minmax_scaler.transform(test[['length']])\n",
    "\n",
    "# Normalização Z-score\n",
    "zscore_scaler = StandardScaler()\n",
    "train['length_z'] = zscore_scaler.fit_transform(train[['length']])\n",
    "test['length_z'] = zscore_scaler.transform(test[['length']])\n",
    "\n",
    "\n",
    "train['flesch_score_norm'] = zscore_scaler.fit_transform(train[['flesch_score']])\n",
    "test['flesch_score_norm'] = zscore_scaler.transform(test[['flesch_score']])\n",
    "\n",
    "print('Lenght:')\n",
    "print('Tabela train')\n",
    "display(train[['length', 'length_norm', 'length_z']].head())\n",
    "print('Tabela test')\n",
    "display(test[['length', 'length_norm', 'length_z']].head())\n",
    "\n",
    "print('Flesch:')\n",
    "print('Tabela train')\n",
    "display(train[['flesch_score', 'flesch_score_norm']].head())\n",
    "print('Tabela test')\n",
    "display(test[['flesch_score', 'flesch_score_norm']].head())\n",
    "\n"
   ]
  },
  {
   "cell_type": "markdown",
   "id": "c8884323",
   "metadata": {},
   "source": [
    "- Existem textos muito curtos (comprimento = 67) e outros longos (comprimento = 622).\n",
    "\n",
    "- O length_norm varia de valores baixos, como 0,012215 (muito curto) a 0,123348 (longo).\n",
    "\n",
    "- O length_z permite detectar se um texto é significativamente maior ou menor que a média.\n",
    "\n",
    "- Variabilidade da legibilidade: os Flesch_scores variam de textos relativamente difíceis (~51) a textos muito fáceis (~89).\n",
    "\n",
    "- A normalização (flesch_score_norm) indica a distância entre os valores e a média.\n",
    "\n",
    "  - Valor positivo → mais claro que a média.\n",
    "\n",
    "  - Valor negativo → menos claro que a média."
   ]
  }
 ],
 "metadata": {
  "kernelspec": {
   "display_name": "env",
   "language": "python",
   "name": "python3"
  },
  "language_info": {
   "codemirror_mode": {
    "name": "ipython",
    "version": 3
   },
   "file_extension": ".py",
   "mimetype": "text/x-python",
   "name": "python",
   "nbconvert_exporter": "python",
   "pygments_lexer": "ipython3",
   "version": "3.12.6"
  }
 },
 "nbformat": 4,
 "nbformat_minor": 5
}
