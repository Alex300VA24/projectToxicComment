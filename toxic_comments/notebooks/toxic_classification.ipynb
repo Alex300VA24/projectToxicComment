{
 "cells": [
  {
   "cell_type": "markdown",
   "id": "7f38bbbb",
   "metadata": {},
   "source": [
    "# **Toxic Comment Classification Challenge**"
   ]
  },
  {
   "cell_type": "markdown",
   "id": "974bd3e1",
   "metadata": {},
   "source": [
    "### ***1. Descripcion del problema***"
   ]
  },
  {
   "cell_type": "markdown",
   "id": "71f2ccf9",
   "metadata": {},
   "source": [
    " *Em várias plataformas de mídia social, as seçães de comentários permitem que os usuários\n",
    " compartilhem ideias e discutam diferentes pontos de vista. No entanto, há um abuso\n",
    " de linguagem tóxica, especialmente no X (antigo Twitter), que não tem regras rígidas\n",
    " para regular esse tipo de comentário, o que está afetando a qualidade dessas conversas.\n",
    " Comentários que incluem ameaças, insultos, linguagem vulgar ou ódio contra certos gru\n",
    " pos sociais, dificultando um diálogo saudável.* "
   ]
  },
  {
   "cell_type": "markdown",
   "id": "6ddc1e89",
   "metadata": {},
   "source": [
    "### ***2. Análise descritiva de cada atributo***"
   ]
  },
  {
   "cell_type": "markdown",
   "id": "b3d90ad1",
   "metadata": {},
   "source": [
    "### Carregar dados"
   ]
  },
  {
   "cell_type": "code",
   "execution_count": 1,
   "id": "3fdabbdc",
   "metadata": {},
   "outputs": [
    {
     "data": {
      "text/html": [
       "<div>\n",
       "<style scoped>\n",
       "    .dataframe tbody tr th:only-of-type {\n",
       "        vertical-align: middle;\n",
       "    }\n",
       "\n",
       "    .dataframe tbody tr th {\n",
       "        vertical-align: top;\n",
       "    }\n",
       "\n",
       "    .dataframe thead th {\n",
       "        text-align: right;\n",
       "    }\n",
       "</style>\n",
       "<table border=\"1\" class=\"dataframe\">\n",
       "  <thead>\n",
       "    <tr style=\"text-align: right;\">\n",
       "      <th></th>\n",
       "      <th>id</th>\n",
       "      <th>comment_text</th>\n",
       "      <th>toxic</th>\n",
       "      <th>severe_toxic</th>\n",
       "      <th>obscene</th>\n",
       "      <th>threat</th>\n",
       "      <th>insult</th>\n",
       "      <th>identity_hate</th>\n",
       "    </tr>\n",
       "  </thead>\n",
       "  <tbody>\n",
       "    <tr>\n",
       "      <th>0</th>\n",
       "      <td>0000997932d777bf</td>\n",
       "      <td>Explanation\\nWhy the edits made under my usern...</td>\n",
       "      <td>0</td>\n",
       "      <td>0</td>\n",
       "      <td>0</td>\n",
       "      <td>0</td>\n",
       "      <td>0</td>\n",
       "      <td>0</td>\n",
       "    </tr>\n",
       "    <tr>\n",
       "      <th>1</th>\n",
       "      <td>000103f0d9cfb60f</td>\n",
       "      <td>D'aww! He matches this background colour I'm s...</td>\n",
       "      <td>0</td>\n",
       "      <td>0</td>\n",
       "      <td>0</td>\n",
       "      <td>0</td>\n",
       "      <td>0</td>\n",
       "      <td>0</td>\n",
       "    </tr>\n",
       "    <tr>\n",
       "      <th>2</th>\n",
       "      <td>000113f07ec002fd</td>\n",
       "      <td>Hey man, I'm really not trying to edit war. It...</td>\n",
       "      <td>0</td>\n",
       "      <td>0</td>\n",
       "      <td>0</td>\n",
       "      <td>0</td>\n",
       "      <td>0</td>\n",
       "      <td>0</td>\n",
       "    </tr>\n",
       "    <tr>\n",
       "      <th>3</th>\n",
       "      <td>0001b41b1c6bb37e</td>\n",
       "      <td>\"\\nMore\\nI can't make any real suggestions on ...</td>\n",
       "      <td>0</td>\n",
       "      <td>0</td>\n",
       "      <td>0</td>\n",
       "      <td>0</td>\n",
       "      <td>0</td>\n",
       "      <td>0</td>\n",
       "    </tr>\n",
       "    <tr>\n",
       "      <th>4</th>\n",
       "      <td>0001d958c54c6e35</td>\n",
       "      <td>You, sir, are my hero. Any chance you remember...</td>\n",
       "      <td>0</td>\n",
       "      <td>0</td>\n",
       "      <td>0</td>\n",
       "      <td>0</td>\n",
       "      <td>0</td>\n",
       "      <td>0</td>\n",
       "    </tr>\n",
       "  </tbody>\n",
       "</table>\n",
       "</div>"
      ],
      "text/plain": [
       "                 id                                       comment_text  toxic  \\\n",
       "0  0000997932d777bf  Explanation\\nWhy the edits made under my usern...      0   \n",
       "1  000103f0d9cfb60f  D'aww! He matches this background colour I'm s...      0   \n",
       "2  000113f07ec002fd  Hey man, I'm really not trying to edit war. It...      0   \n",
       "3  0001b41b1c6bb37e  \"\\nMore\\nI can't make any real suggestions on ...      0   \n",
       "4  0001d958c54c6e35  You, sir, are my hero. Any chance you remember...      0   \n",
       "\n",
       "   severe_toxic  obscene  threat  insult  identity_hate  \n",
       "0             0        0       0       0              0  \n",
       "1             0        0       0       0              0  \n",
       "2             0        0       0       0              0  \n",
       "3             0        0       0       0              0  \n",
       "4             0        0       0       0              0  "
      ]
     },
     "execution_count": 1,
     "metadata": {},
     "output_type": "execute_result"
    }
   ],
   "source": [
    "# Importação de bibliotecas\n",
    "import pandas as pd\n",
    "import numpy as np\n",
    "import seaborn as sns\n",
    "import matplotlib.pyplot as plt\n",
    "import nltk\n",
    "import re\n",
    "import string\n",
    "from sklearn.preprocessing import StandardScaler\n",
    "from sklearn.impute import SimpleImputer\n",
    "from sklearn.feature_extraction.text import TfidfVectorizer\n",
    "from sklearn.model_selection import train_test_split\n",
    "from nltk.corpus import stopwords\n",
    "from nltk.stem import SnowballStemmer\n",
    "from textstat import flesch_reading_ease\n",
    "import warnings\n",
    "warnings.filterwarnings(\"ignore\")\n",
    "\n",
    "# Adicional para BERTopic\n",
    "from bertopic import BERTopic\n",
    "from sklearn.preprocessing import MinMaxScaler, StandardScaler\n",
    "\n",
    "# Carregando os dados\n",
    "train = pd.read_csv('../data/train.csv')\n",
    "test = pd.read_csv('../data/test.csv')\n",
    "train.head()"
   ]
  },
  {
   "cell_type": "markdown",
   "id": "eaab7c46",
   "metadata": {},
   "source": [
    "#### **a) Identificar os tipos de atributos**"
   ]
  },
  {
   "cell_type": "markdown",
   "id": "03fb6234",
   "metadata": {},
   "source": [
    "A identificação dos tipos de atributos consiste em classificar cada coluna do dataset conforme sua natureza: **nominal**, **ordinal**, **binário**, **contínuo** ou **discreto**."
   ]
  },
  {
   "cell_type": "markdown",
   "id": "6e565331",
   "metadata": {},
   "source": [
    "<center>\n",
    "\n",
    "| Coluna | Tipo de Atributo | Descrição |\n",
    "|-----------|-----------|---------------|\n",
    "| id | Categórico nominai | Identificador único. <br>Não tem ordem nem significado além de identificar a fila |\n",
    "| comment_text | Categórico nominai | Texto livre que contém o comentário a classificar.<br>Não team hierarquia nem ordem |\n",
    "| toxic <br> severe_toxic <br> obscene <br> threat <br> insult<br> identity_hate| Binário assimétrico | 1 = Tóxico, 0 = Não Tóxico. <br> A classe positiva (1) é menos frequente, pelo que é assimétrica |\n",
    "\n",
    "</center>"
   ]
  },
  {
   "cell_type": "markdown",
   "id": "e00b5704",
   "metadata": {},
   "source": [
    "- `id` e `comment_text` são **atributos nominais**, não usados diretamente na modelagem.\n",
    "- As etiquetas (`toxic`, `severe_toxic`, `obscene`, `threat`, `insult`, `identity_hate`.) são **binárias assimétricas**, importantes para prever comportamentos tóxicos."
   ]
  },
  {
   "cell_type": "markdown",
   "id": "70ed4a3d",
   "metadata": {},
   "source": [
    "#### **b) Para atributo numérico: análise descritiva e visualização**"
   ]
  },
  {
   "cell_type": "markdown",
   "id": "aac81ab1",
   "metadata": {},
   "source": [
    "Nesta etapa, devemos identificar para cada atributo numérico:\n",
    "\n",
    "- Intervalo de valores (mínimo e máximo).\n",
    "\n",
    "- Valor médio.\n",
    "\n",
    "- Desvio-padrão.\n",
    "\n",
    "- Possíveis valores aberrantes (outliers).\n"
   ]
  },
  {
   "cell_type": "code",
   "execution_count": 2,
   "id": "d146b4f2",
   "metadata": {},
   "outputs": [
    {
     "name": "stdout",
     "output_type": "stream",
     "text": [
      "Tabela de descriçao dos atributos binários:\n"
     ]
    },
    {
     "data": {
      "text/html": [
       "<div>\n",
       "<style scoped>\n",
       "    .dataframe tbody tr th:only-of-type {\n",
       "        vertical-align: middle;\n",
       "    }\n",
       "\n",
       "    .dataframe tbody tr th {\n",
       "        vertical-align: top;\n",
       "    }\n",
       "\n",
       "    .dataframe thead th {\n",
       "        text-align: right;\n",
       "    }\n",
       "</style>\n",
       "<table border=\"1\" class=\"dataframe\">\n",
       "  <thead>\n",
       "    <tr style=\"text-align: right;\">\n",
       "      <th></th>\n",
       "      <th>count</th>\n",
       "      <th>mean</th>\n",
       "      <th>std</th>\n",
       "      <th>min</th>\n",
       "      <th>25%</th>\n",
       "      <th>50%</th>\n",
       "      <th>75%</th>\n",
       "      <th>max</th>\n",
       "    </tr>\n",
       "  </thead>\n",
       "  <tbody>\n",
       "    <tr>\n",
       "      <th>toxic</th>\n",
       "      <td>159571.0</td>\n",
       "      <td>0.095844</td>\n",
       "      <td>0.294379</td>\n",
       "      <td>0.0</td>\n",
       "      <td>0.0</td>\n",
       "      <td>0.0</td>\n",
       "      <td>0.0</td>\n",
       "      <td>1.0</td>\n",
       "    </tr>\n",
       "    <tr>\n",
       "      <th>severe_toxic</th>\n",
       "      <td>159571.0</td>\n",
       "      <td>0.009996</td>\n",
       "      <td>0.099477</td>\n",
       "      <td>0.0</td>\n",
       "      <td>0.0</td>\n",
       "      <td>0.0</td>\n",
       "      <td>0.0</td>\n",
       "      <td>1.0</td>\n",
       "    </tr>\n",
       "    <tr>\n",
       "      <th>obscene</th>\n",
       "      <td>159571.0</td>\n",
       "      <td>0.052948</td>\n",
       "      <td>0.223931</td>\n",
       "      <td>0.0</td>\n",
       "      <td>0.0</td>\n",
       "      <td>0.0</td>\n",
       "      <td>0.0</td>\n",
       "      <td>1.0</td>\n",
       "    </tr>\n",
       "    <tr>\n",
       "      <th>threat</th>\n",
       "      <td>159571.0</td>\n",
       "      <td>0.002996</td>\n",
       "      <td>0.054650</td>\n",
       "      <td>0.0</td>\n",
       "      <td>0.0</td>\n",
       "      <td>0.0</td>\n",
       "      <td>0.0</td>\n",
       "      <td>1.0</td>\n",
       "    </tr>\n",
       "    <tr>\n",
       "      <th>insult</th>\n",
       "      <td>159571.0</td>\n",
       "      <td>0.049364</td>\n",
       "      <td>0.216627</td>\n",
       "      <td>0.0</td>\n",
       "      <td>0.0</td>\n",
       "      <td>0.0</td>\n",
       "      <td>0.0</td>\n",
       "      <td>1.0</td>\n",
       "    </tr>\n",
       "    <tr>\n",
       "      <th>identity_hate</th>\n",
       "      <td>159571.0</td>\n",
       "      <td>0.008805</td>\n",
       "      <td>0.093420</td>\n",
       "      <td>0.0</td>\n",
       "      <td>0.0</td>\n",
       "      <td>0.0</td>\n",
       "      <td>0.0</td>\n",
       "      <td>1.0</td>\n",
       "    </tr>\n",
       "  </tbody>\n",
       "</table>\n",
       "</div>"
      ],
      "text/plain": [
       "                  count      mean       std  min  25%  50%  75%  max\n",
       "toxic          159571.0  0.095844  0.294379  0.0  0.0  0.0  0.0  1.0\n",
       "severe_toxic   159571.0  0.009996  0.099477  0.0  0.0  0.0  0.0  1.0\n",
       "obscene        159571.0  0.052948  0.223931  0.0  0.0  0.0  0.0  1.0\n",
       "threat         159571.0  0.002996  0.054650  0.0  0.0  0.0  0.0  1.0\n",
       "insult         159571.0  0.049364  0.216627  0.0  0.0  0.0  0.0  1.0\n",
       "identity_hate  159571.0  0.008805  0.093420  0.0  0.0  0.0  0.0  1.0"
      ]
     },
     "execution_count": 2,
     "metadata": {},
     "output_type": "execute_result"
    }
   ],
   "source": [
    "bin_cols = ['toxic', 'severe_toxic', 'obscene', 'threat', 'insult', 'identity_hate']\n",
    "\n",
    "print(\"Tabela de descriçao dos atributos binários:\")\n",
    "train[bin_cols].describe().T"
   ]
  },
  {
   "cell_type": "markdown",
   "id": "b156ad6e",
   "metadata": {},
   "source": [
    "- Todos os atributos são binários (valores 0 ou 1) — os intervalos (mín. e máx.) confirmam isso.\n",
    "- Distribuição altamente desbalanceada — a classe \"positiva\" (1) ocorre em menos de 10% dos casos para todos os atributos.\n",
    "- O atributo mais comum é tóxico (~9,6%), seguido por obsceno (~5,3%) e insulto (~4,9%).\n",
    "\n"
   ]
  },
  {
   "cell_type": "code",
   "execution_count": 3,
   "id": "c5e916fc",
   "metadata": {},
   "outputs": [
    {
     "data": {
      "image/png": "[encoded data removed]",
      "text/plain": [
       "<Figure size 1000x600 with 1 Axes>"
      ]
     },
     "metadata": {},
     "output_type": "display_data"
    }
   ],
   "source": [
    "plt.figure(figsize=(10, 6))\n",
    "sns.boxplot(data=train[bin_cols])\n",
    "plt.title('Boxplots dos atributos binários')\n",
    "plt.xlabel('Atributos')\n",
    "plt.ylabel('Valores')\n",
    "plt.show()"
   ]
  },
  {
   "cell_type": "markdown",
   "id": "3594890f",
   "metadata": {},
   "source": [
    "- O **boxplot** confirma visualmente a concentração massiva dos dados no valor `0`.\n",
    "- A **presença de poucos valores `1`** é indicada por pontos ou pequenas linhas no topo do gráfico.\n",
    "- Como esperado, **não há outliers** tradicionais, dado que os atributos são **binários**.\n",
    "- O gráfico é útil para reforçar a percepção do **desbalanceamento** entre as classes.\n",
    "\n"
   ]
  },
  {
   "cell_type": "code",
   "execution_count": 4,
   "id": "85205534",
   "metadata": {},
   "outputs": [
    {
     "data": {
      "text/plain": [
       "count    156346.000000\n",
       "mean         63.666650\n",
       "std          20.787548\n",
       "min           0.099524\n",
       "25%          50.470769\n",
       "50%          63.637794\n",
       "75%          76.890000\n",
       "max         134.080000\n",
       "Name: flesch_score, dtype: float64"
      ]
     },
     "execution_count": 4,
     "metadata": {},
     "output_type": "execute_result"
    }
   ],
   "source": [
    "train['flesch_score'] = train['comment_text'].apply(flesch_reading_ease)\n",
    "test['flesch_score'] = test['comment_text'].apply(flesch_reading_ease)\n",
    "train['flesch_score'] = train['flesch_score'].apply(lambda x: x if x >= 0 and x <= 150 else np.nan)\n",
    "train['flesch_score'].describe()"
   ]
  },
  {
   "cell_type": "markdown",
   "id": "026b8944",
   "metadata": {},
   "source": [
    "- Tamanho da amostra (contagem): 156.321 textos válidos, após a filtragem de valores discrepantes.\n",
    "\n",
    "- Média ≈ 63,66 e Mediana ≈ 63,64:\n",
    "\n",
    "    - Eles mostram uma distribuição centrada em um nível de legibilidade moderadamente alto.\n",
    "\n",
    "    - Isso sugere que, em geral, os textos são acessíveis a leitores com ensino médio (ensino fundamental).\n",
    "\n",
    "- Intervalo interquartil (IIQ):\n",
    "\n",
    "    - 25% dos textos têm legibilidade inferior a ~50,47 (mais difícil).\n",
    "\n",
    "    - 75% têm legibilidade inferior a ~76,88 (mais fácil).\n",
    "\n",
    "- Mínimo ≈ 0,1: Representa textos extremamente difíceis ou vazios, mas não errôneos após a limpeza.\n",
    "\n",
    "- Máximo ≈ 134,08: Textos muito simples e completamente válidos."
   ]
  },
  {
   "cell_type": "code",
   "execution_count": 5,
   "id": "a1206be4",
   "metadata": {},
   "outputs": [
    {
     "data": {
      "image/png": "[encoded data removed]",
      "text/plain": [
       "<Figure size 640x480 with 1 Axes>"
      ]
     },
     "metadata": {},
     "output_type": "display_data"
    }
   ],
   "source": [
    "sns.boxplot(x=train['flesch_score'])\n",
    "plt.title(\"Boxplot - Flesch Reading Ease\")\n",
    "plt.show()"
   ]
  },
  {
   "cell_type": "markdown",
   "id": "eea2048e",
   "metadata": {},
   "source": [
    "O boxplot confirma que a maioria dos textos apresenta legibilidade dentro da faixa esperada. Apenas alguns textos são excepcionalmente fáceis, e não há valores extremos de dificuldade, o que valida o uso do índice para análises posteriores."
   ]
  },
  {
   "cell_type": "markdown",
   "id": "cf293be4",
   "metadata": {},
   "source": [
    "### ***c) Distribuição de valores e popularidade dos atributos***"
   ]
  },
  {
   "cell_type": "markdown",
   "id": "860dce68",
   "metadata": {},
   "source": [
    "Nesta etapa, para cada atributo **binário, nominal ou ordinal**, devemos:\n",
    "\n",
    "- Identificar os **valores possíveis**.  \n",
    "- Verificar a **popularidade** ou **frequência relativa** de cada valor (distribuição de probabilidade).\n",
    "\n",
    "No nosso dataset, analisamos as **etiquetas binárias**: `toxic`, `severe_toxic`, `obscene`, `threat`, `insult` e `identity_hate`.  \n",
    "Para o atributo `comment_text` (nominal), não é viável analisar distribuição direta, mas podemos analisar o **comprimento** ou outras métricas.\n"
   ]
  },
  {
   "cell_type": "code",
   "execution_count": 6,
   "id": "4ca4e36b",
   "metadata": {},
   "outputs": [
    {
     "name": "stdout",
     "output_type": "stream",
     "text": [
      "Tabela de distribuição de valores e popularidade:\n"
     ]
    },
    {
     "data": {
      "text/html": [
       "<div>\n",
       "<style scoped>\n",
       "    .dataframe tbody tr th:only-of-type {\n",
       "        vertical-align: middle;\n",
       "    }\n",
       "\n",
       "    .dataframe tbody tr th {\n",
       "        vertical-align: top;\n",
       "    }\n",
       "\n",
       "    .dataframe thead th {\n",
       "        text-align: right;\n",
       "    }\n",
       "</style>\n",
       "<table border=\"1\" class=\"dataframe\">\n",
       "  <thead>\n",
       "    <tr style=\"text-align: right;\">\n",
       "      <th></th>\n",
       "      <th>Atributo</th>\n",
       "      <th>Valor</th>\n",
       "      <th>Percentual</th>\n",
       "    </tr>\n",
       "  </thead>\n",
       "  <tbody>\n",
       "    <tr>\n",
       "      <th>0</th>\n",
       "      <td>toxic</td>\n",
       "      <td>0</td>\n",
       "      <td>90.42</td>\n",
       "    </tr>\n",
       "    <tr>\n",
       "      <th>1</th>\n",
       "      <td>toxic</td>\n",
       "      <td>1</td>\n",
       "      <td>9.58</td>\n",
       "    </tr>\n",
       "    <tr>\n",
       "      <th>2</th>\n",
       "      <td>severe_toxic</td>\n",
       "      <td>0</td>\n",
       "      <td>99.00</td>\n",
       "    </tr>\n",
       "    <tr>\n",
       "      <th>3</th>\n",
       "      <td>severe_toxic</td>\n",
       "      <td>1</td>\n",
       "      <td>1.00</td>\n",
       "    </tr>\n",
       "    <tr>\n",
       "      <th>4</th>\n",
       "      <td>obscene</td>\n",
       "      <td>0</td>\n",
       "      <td>94.71</td>\n",
       "    </tr>\n",
       "    <tr>\n",
       "      <th>5</th>\n",
       "      <td>obscene</td>\n",
       "      <td>1</td>\n",
       "      <td>5.29</td>\n",
       "    </tr>\n",
       "    <tr>\n",
       "      <th>6</th>\n",
       "      <td>threat</td>\n",
       "      <td>0</td>\n",
       "      <td>99.70</td>\n",
       "    </tr>\n",
       "    <tr>\n",
       "      <th>7</th>\n",
       "      <td>threat</td>\n",
       "      <td>1</td>\n",
       "      <td>0.30</td>\n",
       "    </tr>\n",
       "    <tr>\n",
       "      <th>8</th>\n",
       "      <td>insult</td>\n",
       "      <td>0</td>\n",
       "      <td>95.06</td>\n",
       "    </tr>\n",
       "    <tr>\n",
       "      <th>9</th>\n",
       "      <td>insult</td>\n",
       "      <td>1</td>\n",
       "      <td>4.94</td>\n",
       "    </tr>\n",
       "    <tr>\n",
       "      <th>10</th>\n",
       "      <td>identity_hate</td>\n",
       "      <td>0</td>\n",
       "      <td>99.12</td>\n",
       "    </tr>\n",
       "    <tr>\n",
       "      <th>11</th>\n",
       "      <td>identity_hate</td>\n",
       "      <td>1</td>\n",
       "      <td>0.88</td>\n",
       "    </tr>\n",
       "  </tbody>\n",
       "</table>\n",
       "</div>"
      ],
      "text/plain": [
       "         Atributo  Valor  Percentual\n",
       "0           toxic      0       90.42\n",
       "1           toxic      1        9.58\n",
       "2    severe_toxic      0       99.00\n",
       "3    severe_toxic      1        1.00\n",
       "4         obscene      0       94.71\n",
       "5         obscene      1        5.29\n",
       "6          threat      0       99.70\n",
       "7          threat      1        0.30\n",
       "8          insult      0       95.06\n",
       "9          insult      1        4.94\n",
       "10  identity_hate      0       99.12\n",
       "11  identity_hate      1        0.88"
      ]
     },
     "metadata": {},
     "output_type": "display_data"
    }
   ],
   "source": [
    "# Criar lista para armazenar os resultados\n",
    "results = []\n",
    "\n",
    "# Para cada atributo binário, calcular distribuição percentual\n",
    "for label in bin_cols:\n",
    "    counts = train[label].value_counts(normalize=True) * 100\n",
    "    for value, pct in counts.items():\n",
    "        results.append({\n",
    "            'Atributo': label,\n",
    "            'Valor': value,\n",
    "            'Percentual': round(pct, 2)\n",
    "        })\n",
    "\n",
    "# Criar DataFrame da tabela\n",
    "dist_table = pd.DataFrame(results)\n",
    "\n",
    "# Exibir a tabela\n",
    "print(\"Tabela de distribuição de valores e popularidade:\")\n",
    "display(dist_table)\n"
   ]
  },
  {
   "cell_type": "markdown",
   "id": "673885d4",
   "metadata": {},
   "source": [
    "- A tabela acima mostra a **distribuição percentual** de cada valor possível (`0` e `1`) para os atributos binários.\n",
    "- A classe **`0`** (ausência) é **predominante** em todas as variáveis.\n",
    "- A classe **`1`** (presença) é **muito menos frequente**, reforçando o caráter **assimétrico** das variáveis.\n",
    "- Esta tabela ajuda a identificar o **grau de desbalanceamento** para cada rótulo.\n"
   ]
  },
  {
   "cell_type": "code",
   "execution_count": 7,
   "id": "caa8e8c0",
   "metadata": {},
   "outputs": [
    {
     "data": {
      "text/plain": [
       "<Axes: title={'center': 'Distribuição de Classes'}>"
      ]
     },
     "execution_count": 7,
     "metadata": {},
     "output_type": "execute_result"
    },
    {
     "data": {
      "image/png": "[encoded data removed]",
      "text/plain": [
       "<Figure size 1000x400 with 1 Axes>"
      ]
     },
     "metadata": {},
     "output_type": "display_data"
    }
   ],
   "source": [
    "train[bin_cols].sum().sort_values(ascending=False).plot(kind='bar', figsize=(10,4), title='Distribuição de Classes')"
   ]
  },
  {
   "cell_type": "markdown",
   "id": "e10547a6",
   "metadata": {},
   "source": [
    "Classe **\"toxic\"**:\n",
    "\n",
    "- É de longe a mais frequente (~15.000 ocorrências).\n",
    "\n",
    "- Isso sugere que se trata de um rótulo genérico que agrupa várias formas de toxicidade.\n",
    "\n",
    "Classe **\"Obscene\"** e **\"insult\"**:\n",
    "\n",
    "- São as segundas mais comuns (~8.000 e ~7.000 ocorrências, respectivamente).\n",
    "\n",
    "- Indicam que insultos e linguagem obscena são frequentes no conjunto.\n",
    "\n",
    "Classe **\"severe_toxic\"**, **\"identity_hate\"** e **\"threat\"**:\n",
    "\n",
    "- São claramente sub-representadas, especialmente \"Ameaça\" e \"Ódio_à_Identidade\", que apresentam pouquíssimas ocorrências (~1.000 ou menos).\n",
    "\n",
    "- Isso introduz um problema de desequilíbrio de classes, que pode afetar o desempenho do modelo se não for tratado adequadamente."
   ]
  },
  {
   "cell_type": "markdown",
   "id": "8294a676",
   "metadata": {},
   "source": [
    "### ***d) Valores Ausentes, Aberrantes e Inconsistências***"
   ]
  },
  {
   "cell_type": "markdown",
   "id": "c302dd18",
   "metadata": {},
   "source": [
    "Nesta etapa, devemos:\n",
    "\n",
    "- Identificar **valores ausentes** (`NaN`, `None`) usando funções como `.isna()` ou `.isnull()`.  \n",
    "- Verificar se há **valores aberrantes** (fora do esperado).  \n",
    "- Detectar possíveis **inconsistências**, como registros duplicados ou valores fora do domínio esperado.\n",
    "\n",
    "No nosso dataset, os atributos **binários** devem conter apenas os valores **`0`** e **`1`**."
   ]
  },
  {
   "cell_type": "markdown",
   "id": "00fa37d0",
   "metadata": {},
   "source": [
    "#### ***Valores ausentes***"
   ]
  },
  {
   "cell_type": "code",
   "execution_count": 8,
   "id": "d040bb92",
   "metadata": {},
   "outputs": [
    {
     "name": "stdout",
     "output_type": "stream",
     "text": [
      "Tabela de valores ausentes:\n"
     ]
    },
    {
     "data": {
      "text/html": [
       "<div>\n",
       "<style scoped>\n",
       "    .dataframe tbody tr th:only-of-type {\n",
       "        vertical-align: middle;\n",
       "    }\n",
       "\n",
       "    .dataframe tbody tr th {\n",
       "        vertical-align: top;\n",
       "    }\n",
       "\n",
       "    .dataframe thead th {\n",
       "        text-align: right;\n",
       "    }\n",
       "</style>\n",
       "<table border=\"1\" class=\"dataframe\">\n",
       "  <thead>\n",
       "    <tr style=\"text-align: right;\">\n",
       "      <th></th>\n",
       "      <th>Coluna</th>\n",
       "      <th>Valores_ausentes</th>\n",
       "    </tr>\n",
       "  </thead>\n",
       "  <tbody>\n",
       "    <tr>\n",
       "      <th>0</th>\n",
       "      <td>id</td>\n",
       "      <td>0</td>\n",
       "    </tr>\n",
       "    <tr>\n",
       "      <th>1</th>\n",
       "      <td>comment_text</td>\n",
       "      <td>0</td>\n",
       "    </tr>\n",
       "    <tr>\n",
       "      <th>2</th>\n",
       "      <td>toxic</td>\n",
       "      <td>0</td>\n",
       "    </tr>\n",
       "    <tr>\n",
       "      <th>3</th>\n",
       "      <td>severe_toxic</td>\n",
       "      <td>0</td>\n",
       "    </tr>\n",
       "    <tr>\n",
       "      <th>4</th>\n",
       "      <td>obscene</td>\n",
       "      <td>0</td>\n",
       "    </tr>\n",
       "    <tr>\n",
       "      <th>5</th>\n",
       "      <td>threat</td>\n",
       "      <td>0</td>\n",
       "    </tr>\n",
       "    <tr>\n",
       "      <th>6</th>\n",
       "      <td>insult</td>\n",
       "      <td>0</td>\n",
       "    </tr>\n",
       "    <tr>\n",
       "      <th>7</th>\n",
       "      <td>identity_hate</td>\n",
       "      <td>0</td>\n",
       "    </tr>\n",
       "    <tr>\n",
       "      <th>8</th>\n",
       "      <td>flesch_score</td>\n",
       "      <td>3225</td>\n",
       "    </tr>\n",
       "  </tbody>\n",
       "</table>\n",
       "</div>"
      ],
      "text/plain": [
       "          Coluna  Valores_ausentes\n",
       "0             id                 0\n",
       "1   comment_text                 0\n",
       "2          toxic                 0\n",
       "3   severe_toxic                 0\n",
       "4        obscene                 0\n",
       "5         threat                 0\n",
       "6         insult                 0\n",
       "7  identity_hate                 0\n",
       "8   flesch_score              3225"
      ]
     },
     "metadata": {},
     "output_type": "display_data"
    },
    {
     "name": "stdout",
     "output_type": "stream",
     "text": [
      "Tabela de valores únicos nos atributos binários:\n"
     ]
    },
    {
     "data": {
      "text/html": [
       "<div>\n",
       "<style scoped>\n",
       "    .dataframe tbody tr th:only-of-type {\n",
       "        vertical-align: middle;\n",
       "    }\n",
       "\n",
       "    .dataframe tbody tr th {\n",
       "        vertical-align: top;\n",
       "    }\n",
       "\n",
       "    .dataframe thead th {\n",
       "        text-align: right;\n",
       "    }\n",
       "</style>\n",
       "<table border=\"1\" class=\"dataframe\">\n",
       "  <thead>\n",
       "    <tr style=\"text-align: right;\">\n",
       "      <th></th>\n",
       "      <th>Atributo</th>\n",
       "      <th>Valores_únicos</th>\n",
       "    </tr>\n",
       "  </thead>\n",
       "  <tbody>\n",
       "    <tr>\n",
       "      <th>0</th>\n",
       "      <td>toxic</td>\n",
       "      <td>[0, 1]</td>\n",
       "    </tr>\n",
       "    <tr>\n",
       "      <th>1</th>\n",
       "      <td>severe_toxic</td>\n",
       "      <td>[0, 1]</td>\n",
       "    </tr>\n",
       "    <tr>\n",
       "      <th>2</th>\n",
       "      <td>obscene</td>\n",
       "      <td>[0, 1]</td>\n",
       "    </tr>\n",
       "    <tr>\n",
       "      <th>3</th>\n",
       "      <td>threat</td>\n",
       "      <td>[0, 1]</td>\n",
       "    </tr>\n",
       "    <tr>\n",
       "      <th>4</th>\n",
       "      <td>insult</td>\n",
       "      <td>[0, 1]</td>\n",
       "    </tr>\n",
       "    <tr>\n",
       "      <th>5</th>\n",
       "      <td>identity_hate</td>\n",
       "      <td>[0, 1]</td>\n",
       "    </tr>\n",
       "  </tbody>\n",
       "</table>\n",
       "</div>"
      ],
      "text/plain": [
       "        Atributo Valores_únicos\n",
       "0          toxic         [0, 1]\n",
       "1   severe_toxic         [0, 1]\n",
       "2        obscene         [0, 1]\n",
       "3         threat         [0, 1]\n",
       "4         insult         [0, 1]\n",
       "5  identity_hate         [0, 1]"
      ]
     },
     "metadata": {},
     "output_type": "display_data"
    },
    {
     "name": "stdout",
     "output_type": "stream",
     "text": [
      "Comentários vazios: 0\n",
      "Registros duplicados: 0\n"
     ]
    }
   ],
   "source": [
    "# 1. Valores ausentes\n",
    "missing = train.isnull().sum().reset_index()\n",
    "missing.columns = ['Coluna', 'Valores_ausentes']\n",
    "\n",
    "# 2. Valores únicos nos atributos binários\n",
    "unique_values = []\n",
    "\n",
    "for label in bin_cols:\n",
    "    uniques = train[label].unique()\n",
    "    unique_values.append({\n",
    "        'Atributo': label,\n",
    "        'Valores_únicos': list(uniques)\n",
    "    })\n",
    "\n",
    "unique_df = pd.DataFrame(unique_values)\n",
    "\n",
    "# 3. Comentários vazios\n",
    "empty_comments = train['comment_text'].apply(lambda x: isinstance(x, str) and x.strip() == '').sum()\n",
    "\n",
    "# 4. Duplicados\n",
    "duplicates = train.duplicated().sum()\n",
    "\n",
    "# Exibir tabelas\n",
    "print(\"Tabela de valores ausentes:\")\n",
    "display(missing)\n",
    "\n",
    "print(\"Tabela de valores únicos nos atributos binários:\")\n",
    "display(unique_df)\n",
    "\n",
    "# Mostrar outras verificações\n",
    "print(f\"Comentários vazios: {empty_comments}\")\n",
    "print(f\"Registros duplicados: {duplicates}\")\n",
    "\n"
   ]
  },
  {
   "cell_type": "markdown",
   "id": "0bd40433",
   "metadata": {},
   "source": [
    "- Não foram encontrados **valores ausentes** em nenhuma coluna.\n",
    "- Todos os atributos binários possuem apenas os valores esperados: **`0` e `1`**.\n",
    "- Não há **comentários vazios** em `comment_text`.\n",
    "- Não foram detectados **registros duplicados**.\n"
   ]
  },
  {
   "cell_type": "markdown",
   "id": "d92a2a64",
   "metadata": {},
   "source": [
    "### e) Correlação entre os Atributos Numéricos"
   ]
  },
  {
   "cell_type": "markdown",
   "id": "89b285ed",
   "metadata": {},
   "source": [
    "Nesta etapa, devemos verificar a **correlação** entre os atributos **numéricos** usando a função `.corr()`.  \n",
    "A correlação mede a **intensidade** e a **direção** da relação entre dois atributos numéricos.  \n",
    "\n",
    "- Valores próximos de **1** indicam forte **correlação positiva**.  \n",
    "- Valores próximos de **-1** indicam forte **correlação negativa**.  \n",
    "- Valores próximos de **0** indicam **pouca ou nenhuma correlação**.\n",
    "\n",
    "No nosso caso, as variáveis são **binárias** (`0` e `1`), mas ainda assim podemos calcular a **correlação de Pearson** para observar relações entre as diferentes categorias de toxicidade.\n"
   ]
  },
  {
   "cell_type": "code",
   "execution_count": 9,
   "id": "b11d26e0",
   "metadata": {},
   "outputs": [
    {
     "name": "stdout",
     "output_type": "stream",
     "text": [
      "Matriz de correlação:\n"
     ]
    },
    {
     "data": {
      "text/html": [
       "<div>\n",
       "<style scoped>\n",
       "    .dataframe tbody tr th:only-of-type {\n",
       "        vertical-align: middle;\n",
       "    }\n",
       "\n",
       "    .dataframe tbody tr th {\n",
       "        vertical-align: top;\n",
       "    }\n",
       "\n",
       "    .dataframe thead th {\n",
       "        text-align: right;\n",
       "    }\n",
       "</style>\n",
       "<table border=\"1\" class=\"dataframe\">\n",
       "  <thead>\n",
       "    <tr style=\"text-align: right;\">\n",
       "      <th></th>\n",
       "      <th>toxic</th>\n",
       "      <th>severe_toxic</th>\n",
       "      <th>obscene</th>\n",
       "      <th>threat</th>\n",
       "      <th>insult</th>\n",
       "      <th>identity_hate</th>\n",
       "      <th>flesch_score</th>\n",
       "    </tr>\n",
       "  </thead>\n",
       "  <tbody>\n",
       "    <tr>\n",
       "      <th>toxic</th>\n",
       "      <td>1.000000</td>\n",
       "      <td>0.308619</td>\n",
       "      <td>0.676515</td>\n",
       "      <td>0.157058</td>\n",
       "      <td>0.647518</td>\n",
       "      <td>0.266009</td>\n",
       "      <td>0.187162</td>\n",
       "    </tr>\n",
       "    <tr>\n",
       "      <th>severe_toxic</th>\n",
       "      <td>0.308619</td>\n",
       "      <td>1.000000</td>\n",
       "      <td>0.403014</td>\n",
       "      <td>0.123601</td>\n",
       "      <td>0.375807</td>\n",
       "      <td>0.201600</td>\n",
       "      <td>0.082951</td>\n",
       "    </tr>\n",
       "    <tr>\n",
       "      <th>obscene</th>\n",
       "      <td>0.676515</td>\n",
       "      <td>0.403014</td>\n",
       "      <td>1.000000</td>\n",
       "      <td>0.141179</td>\n",
       "      <td>0.741272</td>\n",
       "      <td>0.286867</td>\n",
       "      <td>0.163407</td>\n",
       "    </tr>\n",
       "    <tr>\n",
       "      <th>threat</th>\n",
       "      <td>0.157058</td>\n",
       "      <td>0.123601</td>\n",
       "      <td>0.141179</td>\n",
       "      <td>1.000000</td>\n",
       "      <td>0.150022</td>\n",
       "      <td>0.115128</td>\n",
       "      <td>0.051315</td>\n",
       "    </tr>\n",
       "    <tr>\n",
       "      <th>insult</th>\n",
       "      <td>0.647518</td>\n",
       "      <td>0.375807</td>\n",
       "      <td>0.741272</td>\n",
       "      <td>0.150022</td>\n",
       "      <td>1.000000</td>\n",
       "      <td>0.337736</td>\n",
       "      <td>0.146155</td>\n",
       "    </tr>\n",
       "    <tr>\n",
       "      <th>identity_hate</th>\n",
       "      <td>0.266009</td>\n",
       "      <td>0.201600</td>\n",
       "      <td>0.286867</td>\n",
       "      <td>0.115128</td>\n",
       "      <td>0.337736</td>\n",
       "      <td>1.000000</td>\n",
       "      <td>0.048717</td>\n",
       "    </tr>\n",
       "    <tr>\n",
       "      <th>flesch_score</th>\n",
       "      <td>0.187162</td>\n",
       "      <td>0.082951</td>\n",
       "      <td>0.163407</td>\n",
       "      <td>0.051315</td>\n",
       "      <td>0.146155</td>\n",
       "      <td>0.048717</td>\n",
       "      <td>1.000000</td>\n",
       "    </tr>\n",
       "  </tbody>\n",
       "</table>\n",
       "</div>"
      ],
      "text/plain": [
       "                  toxic  severe_toxic   obscene    threat    insult  \\\n",
       "toxic          1.000000      0.308619  0.676515  0.157058  0.647518   \n",
       "severe_toxic   0.308619      1.000000  0.403014  0.123601  0.375807   \n",
       "obscene        0.676515      0.403014  1.000000  0.141179  0.741272   \n",
       "threat         0.157058      0.123601  0.141179  1.000000  0.150022   \n",
       "insult         0.647518      0.375807  0.741272  0.150022  1.000000   \n",
       "identity_hate  0.266009      0.201600  0.286867  0.115128  0.337736   \n",
       "flesch_score   0.187162      0.082951  0.163407  0.051315  0.146155   \n",
       "\n",
       "               identity_hate  flesch_score  \n",
       "toxic               0.266009      0.187162  \n",
       "severe_toxic        0.201600      0.082951  \n",
       "obscene             0.286867      0.163407  \n",
       "threat              0.115128      0.051315  \n",
       "insult              0.337736      0.146155  \n",
       "identity_hate       1.000000      0.048717  \n",
       "flesch_score        0.048717      1.000000  "
      ]
     },
     "metadata": {},
     "output_type": "display_data"
    },
    {
     "data": {
      "image/png": "[encoded data removed]",
      "text/plain": [
       "<Figure size 640x480 with 2 Axes>"
      ]
     },
     "metadata": {},
     "output_type": "display_data"
    }
   ],
   "source": [
    "# Matriz de correlação\n",
    "correlation_matrix = train[bin_cols + ['flesch_score']].corr()\n",
    "\n",
    "# Exibir a matriz como tabela\n",
    "print(\"Matriz de correlação:\")\n",
    "display(correlation_matrix)\n",
    "\n",
    "# Visualizar com heatmap\n",
    "sns.heatmap(correlation_matrix, annot=True, cmap=\"coolwarm\")\n",
    "plt.title(\"Correlação entre atributos\")\n",
    "plt.show()"
   ]
  },
  {
   "cell_type": "markdown",
   "id": "e7569afc",
   "metadata": {},
   "source": [
    "- As tags toxic, obscene e insult apresentam altas correlações, refletindo sobreposição semântica entre elas.\n",
    "- As tags menos frequentes (threat, identity_hate, severe_toxic) apresentam pouca correlação com as demais.\n"
   ]
  },
  {
   "cell_type": "markdown",
   "id": "14df9985",
   "metadata": {},
   "source": [
    "#### **2. Limpeza de dados e transformação**"
   ]
  },
  {
   "cell_type": "markdown",
   "id": "d414ee80",
   "metadata": {},
   "source": [
    " ### a) Preencha os valores ausentes"
   ]
  },
  {
   "cell_type": "markdown",
   "id": "f0a90955",
   "metadata": {},
   "source": [
    "Nesta etapa, devemos identificar e, se necessário, **preencher valores ausentes** (`NaN`, `None`) para garantir que os algoritmos de mineração de dados funcionem corretamente.  \n",
    "\n",
    "**Técnicas comuns** incluem:  \n",
    "- Preenchimento com uma **constante** (ex.: `\"desconhecido\"`).  \n",
    "- Preenchimento com a **média**, **mediana** ou **moda**.  \n",
    "- Preenchimento usando métodos **supervisionados** (modelos preditivos). "
   ]
  },
  {
   "cell_type": "code",
   "execution_count": 10,
   "id": "66b88f76",
   "metadata": {},
   "outputs": [
    {
     "name": "stdout",
     "output_type": "stream",
     "text": [
      "Valores ausentes - Train:\n"
     ]
    },
    {
     "data": {
      "text/html": [
       "<div>\n",
       "<style scoped>\n",
       "    .dataframe tbody tr th:only-of-type {\n",
       "        vertical-align: middle;\n",
       "    }\n",
       "\n",
       "    .dataframe tbody tr th {\n",
       "        vertical-align: top;\n",
       "    }\n",
       "\n",
       "    .dataframe thead th {\n",
       "        text-align: right;\n",
       "    }\n",
       "</style>\n",
       "<table border=\"1\" class=\"dataframe\">\n",
       "  <thead>\n",
       "    <tr style=\"text-align: right;\">\n",
       "      <th></th>\n",
       "      <th>Coluna</th>\n",
       "      <th>Valores_ausentes_treino</th>\n",
       "    </tr>\n",
       "  </thead>\n",
       "  <tbody>\n",
       "    <tr>\n",
       "      <th>0</th>\n",
       "      <td>id</td>\n",
       "      <td>0</td>\n",
       "    </tr>\n",
       "    <tr>\n",
       "      <th>1</th>\n",
       "      <td>comment_text</td>\n",
       "      <td>0</td>\n",
       "    </tr>\n",
       "    <tr>\n",
       "      <th>2</th>\n",
       "      <td>toxic</td>\n",
       "      <td>0</td>\n",
       "    </tr>\n",
       "    <tr>\n",
       "      <th>3</th>\n",
       "      <td>severe_toxic</td>\n",
       "      <td>0</td>\n",
       "    </tr>\n",
       "    <tr>\n",
       "      <th>4</th>\n",
       "      <td>obscene</td>\n",
       "      <td>0</td>\n",
       "    </tr>\n",
       "    <tr>\n",
       "      <th>5</th>\n",
       "      <td>threat</td>\n",
       "      <td>0</td>\n",
       "    </tr>\n",
       "    <tr>\n",
       "      <th>6</th>\n",
       "      <td>insult</td>\n",
       "      <td>0</td>\n",
       "    </tr>\n",
       "    <tr>\n",
       "      <th>7</th>\n",
       "      <td>identity_hate</td>\n",
       "      <td>0</td>\n",
       "    </tr>\n",
       "    <tr>\n",
       "      <th>8</th>\n",
       "      <td>flesch_score</td>\n",
       "      <td>3225</td>\n",
       "    </tr>\n",
       "  </tbody>\n",
       "</table>\n",
       "</div>"
      ],
      "text/plain": [
       "          Coluna  Valores_ausentes_treino\n",
       "0             id                        0\n",
       "1   comment_text                        0\n",
       "2          toxic                        0\n",
       "3   severe_toxic                        0\n",
       "4        obscene                        0\n",
       "5         threat                        0\n",
       "6         insult                        0\n",
       "7  identity_hate                        0\n",
       "8   flesch_score                     3225"
      ]
     },
     "metadata": {},
     "output_type": "display_data"
    },
    {
     "name": "stdout",
     "output_type": "stream",
     "text": [
      "Valores ausentes - Test:\n"
     ]
    },
    {
     "data": {
      "text/html": [
       "<div>\n",
       "<style scoped>\n",
       "    .dataframe tbody tr th:only-of-type {\n",
       "        vertical-align: middle;\n",
       "    }\n",
       "\n",
       "    .dataframe tbody tr th {\n",
       "        vertical-align: top;\n",
       "    }\n",
       "\n",
       "    .dataframe thead th {\n",
       "        text-align: right;\n",
       "    }\n",
       "</style>\n",
       "<table border=\"1\" class=\"dataframe\">\n",
       "  <thead>\n",
       "    <tr style=\"text-align: right;\">\n",
       "      <th></th>\n",
       "      <th>Coluna</th>\n",
       "      <th>Valores_ausentes_teste</th>\n",
       "    </tr>\n",
       "  </thead>\n",
       "  <tbody>\n",
       "    <tr>\n",
       "      <th>0</th>\n",
       "      <td>id</td>\n",
       "      <td>0</td>\n",
       "    </tr>\n",
       "    <tr>\n",
       "      <th>1</th>\n",
       "      <td>comment_text</td>\n",
       "      <td>0</td>\n",
       "    </tr>\n",
       "    <tr>\n",
       "      <th>2</th>\n",
       "      <td>flesch_score</td>\n",
       "      <td>0</td>\n",
       "    </tr>\n",
       "  </tbody>\n",
       "</table>\n",
       "</div>"
      ],
      "text/plain": [
       "         Coluna  Valores_ausentes_teste\n",
       "0            id                       0\n",
       "1  comment_text                       0\n",
       "2  flesch_score                       0"
      ]
     },
     "metadata": {},
     "output_type": "display_data"
    }
   ],
   "source": [
    "# Verificar valores ausentes no train e test\n",
    "missing_train = train.isnull().sum().reset_index()\n",
    "missing_train.columns = ['Coluna', 'Valores_ausentes_treino']\n",
    "\n",
    "missing_test = test.isnull().sum().reset_index()\n",
    "missing_test.columns = ['Coluna', 'Valores_ausentes_teste']\n",
    "\n",
    "# Preencher valores ausentes da métrica Flesch (com média)\n",
    "flesch_imputer = SimpleImputer(strategy='mean')\n",
    "train['flesch_score'] = flesch_imputer.fit_transform(train[['flesch_score']])\n",
    "test['flesch_score'] = flesch_imputer.transform(test[['flesch_score']])\n",
    "\n",
    "# Exibir tabelas\n",
    "print(\"Valores ausentes - Train:\")\n",
    "display(missing_train)\n",
    "\n",
    "print(\"Valores ausentes - Test:\")\n",
    "display(missing_test)\n",
    "\n",
    "\n"
   ]
  },
  {
   "cell_type": "markdown",
   "id": "76bd0727",
   "metadata": {},
   "source": [
    "- Nenhuma coluna possui valores ausentes.\n",
    "\n",
    "- Não é necessário realizar técnicas de preenchimento neste caso.\n"
   ]
  },
  {
   "cell_type": "markdown",
   "id": "120168c5",
   "metadata": {},
   "source": [
    "### b) Suavize os ruídos"
   ]
  },
  {
   "cell_type": "markdown",
   "id": "94d8c0ba",
   "metadata": {},
   "source": [
    "A suavização é uma técnica usada para **reduzir o impacto de ruídos** ou **valores extremos** nos atributos numéricos.  \n",
    "Uma abordagem comum é a **suavização por média**:  \n",
    "- Dividimos o atributo em **intervalos (bins)**.  \n",
    "- Substituímos os valores originais pela **média de cada bin**.  \n",
    "\n",
    "No nosso dataset, aplicamos essa técnica sobre o atributo **`length`** (comprimento do comentário).\n"
   ]
  },
  {
   "cell_type": "code",
   "execution_count": 11,
   "id": "a094b8d3",
   "metadata": {},
   "outputs": [
    {
     "name": "stdout",
     "output_type": "stream",
     "text": [
      "Tabela train\n"
     ]
    },
    {
     "data": {
      "text/html": [
       "<div>\n",
       "<style scoped>\n",
       "    .dataframe tbody tr th:only-of-type {\n",
       "        vertical-align: middle;\n",
       "    }\n",
       "\n",
       "    .dataframe tbody tr th {\n",
       "        vertical-align: top;\n",
       "    }\n",
       "\n",
       "    .dataframe thead th {\n",
       "        text-align: right;\n",
       "    }\n",
       "</style>\n",
       "<table border=\"1\" class=\"dataframe\">\n",
       "  <thead>\n",
       "    <tr style=\"text-align: right;\">\n",
       "      <th></th>\n",
       "      <th>length</th>\n",
       "      <th>length_smooth</th>\n",
       "      <th>flesch_bin</th>\n",
       "    </tr>\n",
       "  </thead>\n",
       "  <tbody>\n",
       "    <tr>\n",
       "      <th>0</th>\n",
       "      <td>264</td>\n",
       "      <td>254.72455</td>\n",
       "      <td>2</td>\n",
       "    </tr>\n",
       "    <tr>\n",
       "      <th>1</th>\n",
       "      <td>112</td>\n",
       "      <td>254.72455</td>\n",
       "      <td>2</td>\n",
       "    </tr>\n",
       "    <tr>\n",
       "      <th>2</th>\n",
       "      <td>233</td>\n",
       "      <td>254.72455</td>\n",
       "      <td>2</td>\n",
       "    </tr>\n",
       "    <tr>\n",
       "      <th>3</th>\n",
       "      <td>622</td>\n",
       "      <td>254.72455</td>\n",
       "      <td>1</td>\n",
       "    </tr>\n",
       "    <tr>\n",
       "      <th>4</th>\n",
       "      <td>67</td>\n",
       "      <td>254.72455</td>\n",
       "      <td>3</td>\n",
       "    </tr>\n",
       "  </tbody>\n",
       "</table>\n",
       "</div>"
      ],
      "text/plain": [
       "   length  length_smooth  flesch_bin\n",
       "0     264      254.72455           2\n",
       "1     112      254.72455           2\n",
       "2     233      254.72455           2\n",
       "3     622      254.72455           1\n",
       "4      67      254.72455           3"
      ]
     },
     "metadata": {},
     "output_type": "display_data"
    },
    {
     "name": "stdout",
     "output_type": "stream",
     "text": [
      "Tabela test\n"
     ]
    },
    {
     "data": {
      "text/html": [
       "<div>\n",
       "<style scoped>\n",
       "    .dataframe tbody tr th:only-of-type {\n",
       "        vertical-align: middle;\n",
       "    }\n",
       "\n",
       "    .dataframe tbody tr th {\n",
       "        vertical-align: top;\n",
       "    }\n",
       "\n",
       "    .dataframe thead th {\n",
       "        text-align: right;\n",
       "    }\n",
       "</style>\n",
       "<table border=\"1\" class=\"dataframe\">\n",
       "  <thead>\n",
       "    <tr style=\"text-align: right;\">\n",
       "      <th></th>\n",
       "      <th>length</th>\n",
       "      <th>length_smooth</th>\n",
       "      <th>flesch_bin</th>\n",
       "    </tr>\n",
       "  </thead>\n",
       "  <tbody>\n",
       "    <tr>\n",
       "      <th>0</th>\n",
       "      <td>367</td>\n",
       "      <td>254.72455</td>\n",
       "      <td>3</td>\n",
       "    </tr>\n",
       "    <tr>\n",
       "      <th>1</th>\n",
       "      <td>50</td>\n",
       "      <td>254.72455</td>\n",
       "      <td>3</td>\n",
       "    </tr>\n",
       "    <tr>\n",
       "      <th>2</th>\n",
       "      <td>54</td>\n",
       "      <td>254.72455</td>\n",
       "      <td>0</td>\n",
       "    </tr>\n",
       "    <tr>\n",
       "      <th>3</th>\n",
       "      <td>205</td>\n",
       "      <td>254.72455</td>\n",
       "      <td>2</td>\n",
       "    </tr>\n",
       "    <tr>\n",
       "      <th>4</th>\n",
       "      <td>41</td>\n",
       "      <td>254.72455</td>\n",
       "      <td>0</td>\n",
       "    </tr>\n",
       "  </tbody>\n",
       "</table>\n",
       "</div>"
      ],
      "text/plain": [
       "   length  length_smooth  flesch_bin\n",
       "0     367      254.72455           3\n",
       "1      50      254.72455           3\n",
       "2      54      254.72455           0\n",
       "3     205      254.72455           2\n",
       "4      41      254.72455           0"
      ]
     },
     "metadata": {},
     "output_type": "display_data"
    }
   ],
   "source": [
    "# Criar atributo de comprimento\n",
    "train['length'] = train['comment_text'].apply(len)\n",
    "test['length'] = test['comment_text'].apply(len)\n",
    "\n",
    "# Discretizar no treino (train)\n",
    "train['length_bin'] = pd.cut(train['length'], bins=5)\n",
    "\n",
    "# Calcular médias dos bins (traine)\n",
    "bin_means = train.groupby('length_bin')['length'].mean()\n",
    "\n",
    "# Função de suavização\n",
    "def smooth_length(x):\n",
    "    for interval, mean in bin_means.items():\n",
    "        if x in interval:\n",
    "            return mean\n",
    "    return x\n",
    "\n",
    "# Aplicar suavização no train e test\n",
    "train['length_smooth'] = train['length'].apply(smooth_length)\n",
    "test['length_smooth'] = test['length'].apply(smooth_length)\n",
    "\n",
    "# Suavização de ruídos usando qcut\n",
    "train['flesch_bin'] = pd.qcut(train['flesch_score'], q=4, labels=False)\n",
    "test['flesch_bin'] = pd.qcut(test['flesch_score'], q=4, labels=False)\n",
    "\n",
    "print('Tabela train')\n",
    "display(train[['length', 'length_smooth', 'flesch_bin']].head())\n",
    "print('Tabela test')\n",
    "display(test[['length', 'length_smooth', 'flesch_bin']].head())\n"
   ]
  },
  {
   "cell_type": "markdown",
   "id": "261a7bed",
   "metadata": {},
   "source": [
    "- A legibilidade (flesch_bin) não depende exclusivamente do comprimento do texto.\n",
    "\n",
    "- Comentários mais curtos tendem a ter maior legibilidade, mas nem sempre (como visto nos casos com flesch_bin = 0 no teste).\n",
    "\n",
    "- A variável length_smooth será usada para normalização, mas não possui variação em si."
   ]
  },
  {
   "cell_type": "markdown",
   "id": "29621e0b",
   "metadata": {},
   "source": [
    "### c) Resolva as inconsistências, se houver. Se não houver, explique porque não há."
   ]
  },
  {
   "cell_type": "code",
   "execution_count": 12,
   "id": "4274d696",
   "metadata": {},
   "outputs": [
    {
     "name": "stdout",
     "output_type": "stream",
     "text": [
      "Duplicados em train: 0\n",
      "Duplicados em test: 0\n",
      "Inconsistências resolvidas por meio de limpeza textual. Nenhuma codificação conflitante detectada.\n"
     ]
    }
   ],
   "source": [
    "# Verificar e remover duplicados (train)\n",
    "duplicates = train.duplicated().sum()\n",
    "print(f\"Duplicados em train: {duplicates}\")\n",
    "\n",
    "train = train.drop_duplicates()\n",
    "\n",
    "# Verificar e remover duplicados (test)\n",
    "duplicates = test.duplicated().sum()\n",
    "print(f\"Duplicados em test: {duplicates}\")\n",
    "\n",
    "test = test.drop_duplicates()\n",
    "\n",
    "print(\"Inconsistências resolvidas por meio de limpeza textual. Nenhuma codificação conflitante detectada.\")\n"
   ]
  },
  {
   "cell_type": "markdown",
   "id": "8e6e9d69",
   "metadata": {},
   "source": [
    "- Não há atributos categóricos codificados de forma inconsistente.\n",
    "- Como este é um único campo de texto, e após a remoção dos símbolos e a padronização das letras minúsculas, as inconsistências são consideradas resolvidas.\n",
    "- Não há dados duplicados ou colunas codificadas incorretamente.\n"
   ]
  },
  {
   "cell_type": "markdown",
   "id": "0a75ac35",
   "metadata": {},
   "source": [
    "### d) Transforme atributos categóricos nominais em um vetor numérico"
   ]
  },
  {
   "cell_type": "markdown",
   "id": "e274ed4e",
   "metadata": {},
   "source": [
    "Como o texto precisa ser convertido para um formato que os modelos possam entender, aplicamos uma técnica comum de vetorização de texto. Aqui, usaremos TF-IDF (Frequência de Termos – Frequência Inversa de Documentos), que transforma o texto em um vetor numérico ponderando as palavras mais importantes e penalizando as mais comuns."
   ]
  },
  {
   "cell_type": "code",
   "execution_count": 17,
   "id": "0a05a755",
   "metadata": {},
   "outputs": [
    {
     "name": "stdout",
     "output_type": "stream",
     "text": [
      "Forma de la matriz TF-IDF: (159518, 10000)\n",
      "Forma de la matriz TF-IDF: (152961, 10000)\n"
     ]
    },
    {
     "name": "stderr",
     "output_type": "stream",
     "text": [
      "[nltk_data] Downloading package stopwords to\n",
      "[nltk_data]     C:\\Users\\ALEXANDER\\AppData\\Roaming\\nltk_data...\n",
      "[nltk_data]   Package stopwords is already up-to-date!\n",
      "2025-06-07 08:58:49,099 - BERTopic - Embedding - Transforming documents to embeddings.\n",
      "Batches: 100%|██████████| 94/94 [00:42<00:00,  2.21it/s]\n",
      "2025-06-07 08:59:45,902 - BERTopic - Embedding - Completed ✓\n",
      "2025-06-07 08:59:45,906 - BERTopic - Dimensionality - Fitting the dimensionality reduction algorithm\n",
      "2025-06-07 08:59:57,082 - BERTopic - Dimensionality - Completed ✓\n",
      "2025-06-07 08:59:57,086 - BERTopic - Cluster - Start clustering the reduced embeddings\n",
      "2025-06-07 08:59:57,492 - BERTopic - Cluster - Completed ✓\n",
      "2025-06-07 08:59:57,493 - BERTopic - Representation - Extracting topics using c-TF-IDF for topic reduction.\n",
      "2025-06-07 08:59:57,712 - BERTopic - Representation - Completed ✓\n",
      "2025-06-07 08:59:57,713 - BERTopic - Topic reduction - Reducing number of topics\n",
      "2025-06-07 08:59:57,733 - BERTopic - Representation - Fine-tuning topics using representation models.\n",
      "2025-06-07 08:59:57,873 - BERTopic - Representation - Completed ✓\n",
      "2025-06-07 08:59:57,876 - BERTopic - Topic reduction - Reduced number of topics from 4 to 4\n"
     ]
    },
    {
     "name": "stdout",
     "output_type": "stream",
     "text": [
      "\n",
      "Qualidade dos dados:\n",
      "- Amostras processadas: 3000\n",
      "- Texto médio (chars): 221.3\n",
      "\n",
      "Distribuição de tópicos:\n",
      "topic\n",
      "0    2874\n",
      "1      73\n",
      "2      37\n",
      "3      16\n",
      "Name: count, dtype: int64\n"
     ]
    },
    {
     "data": {
      "application/vnd.plotly.v1+json": {
       "config": {
        "plotlyServerURL": "https://plot.ly"
       },
       "data": [
        {
         "marker": {
          "color": "#D55E00"
         },
         "orientation": "h",
         "type": "bar",
         "x": [
          0.025518946721101016,
          0.026604785550234485,
          0.026834030364329183,
          0.03195201147511887,
          0.04061950955232146
         ],
         "xaxis": "x",
         "y": [
          "wikipedia  ",
          "die  ",
          "edit  ",
          "page  ",
          "articl  "
         ],
         "yaxis": "y"
        },
        {
         "marker": {
          "color": "#0072B2"
         },
         "orientation": "h",
         "type": "bar",
         "x": [
          0.08829307082161769,
          0.10617450640582463,
          0.15007592754201934,
          0.15982547160750324,
          0.17861371128410072
         ],
         "xaxis": "x2",
         "y": [
          "upload  ",
          "fair  ",
          "use  ",
          "imag  ",
          "copyright  "
         ],
         "yaxis": "y2"
        },
        {
         "marker": {
          "color": "#CC79A7"
         },
         "orientation": "h",
         "type": "bar",
         "x": [
          0.08173384631819723,
          0.09341794392616384,
          0.12398863638619023,
          0.13365795332192362,
          1.2034007473723962
         ],
         "xaxis": "x3",
         "y": [
          "station  ",
          "actress  ",
          "valley  ",
          "swat  ",
          "redirect  "
         ],
         "yaxis": "y3"
        },
        {
         "marker": {
          "color": "#E69F00"
         },
         "orientation": "h",
         "type": "bar",
         "x": [
          0.2181762835875092,
          0.22555064597561117,
          0.25195966554623744,
          0.28142924877303505,
          0.4541441479327224
         ],
         "xaxis": "x4",
         "y": [
          "experi  ",
          "learn  ",
          "thank  ",
          "sandbox  ",
          "test  "
         ],
         "yaxis": "y4"
        }
       ],
       "layout": {
        "annotations": [
         {
          "font": {
           "size": 16
          },
          "showarrow": false,
          "text": "Topic 0",
          "x": 0.0875,
          "xanchor": "center",
          "xref": "paper",
          "y": 1,
          "yanchor": "bottom",
          "yref": "paper"
         },
         {
          "font": {
           "size": 16
          },
          "showarrow": false,
          "text": "Topic 1",
          "x": 0.36250000000000004,
          "xanchor": "center",
          "xref": "paper",
          "y": 1,
          "yanchor": "bottom",
          "yref": "paper"
         },
         {
          "font": {
           "size": 16
          },
          "showarrow": false,
          "text": "Topic 2",
          "x": 0.6375000000000001,
          "xanchor": "center",
          "xref": "paper",
          "y": 1,
          "yanchor": "bottom",
          "yref": "paper"
         },
         {
          "font": {
           "size": 16
          },
          "showarrow": false,
          "text": "Topic 3",
          "x": 0.9125,
          "xanchor": "center",
          "xref": "paper",
          "y": 1,
          "yanchor": "bottom",
          "yref": "paper"
         }
        ],
        "height": 325,
        "hoverlabel": {
         "bgcolor": "white",
         "font": {
          "family": "Rockwell",
          "size": 16
         }
        },
        "showlegend": false,
        "template": {
         "data": {
          "bar": [
           {
            "error_x": {
             "color": "#2a3f5f"
            },
            "error_y": {
             "color": "#2a3f5f"
            },
            "marker": {
             "line": {
              "color": "white",
              "width": 0.5
             },
             "pattern": {
              "fillmode": "overlay",
              "size": 10,
              "solidity": 0.2
             }
            },
            "type": "bar"
           }
          ],
          "barpolar": [
           {
            "marker": {
             "line": {
              "color": "white",
              "width": 0.5
             },
             "pattern": {
              "fillmode": "overlay",
              "size": 10,
              "solidity": 0.2
             }
            },
            "type": "barpolar"
           }
          ],
          "carpet": [
           {
            "aaxis": {
             "endlinecolor": "#2a3f5f",
             "gridcolor": "#C8D4E3",
             "linecolor": "#C8D4E3",
             "minorgridcolor": "#C8D4E3",
             "startlinecolor": "#2a3f5f"
            },
            "baxis": {
             "endlinecolor": "#2a3f5f",
             "gridcolor": "#C8D4E3",
             "linecolor": "#C8D4E3",
             "minorgridcolor": "#C8D4E3",
             "startlinecolor": "#2a3f5f"
            },
            "type": "carpet"
           }
          ],
          "choropleth": [
           {
            "colorbar": {
             "outlinewidth": 0,
             "ticks": ""
            },
            "type": "choropleth"
           }
          ],
          "contour": [
           {
            "colorbar": {
             "outlinewidth": 0,
             "ticks": ""
            },
            "colorscale": [
             [
              0,
              "#0d0887"
             ],
             [
              0.1111111111111111,
              "#46039f"
             ],
             [
              0.2222222222222222,
              "#7201a8"
             ],
             [
              0.3333333333333333,
              "#9c179e"
             ],
             [
              0.4444444444444444,
              "#bd3786"
             ],
             [
              0.5555555555555556,
              "#d8576b"
             ],
             [
              0.6666666666666666,
              "#ed7953"
             ],
             [
              0.7777777777777778,
              "#fb9f3a"
             ],
             [
              0.8888888888888888,
              "#fdca26"
             ],
             [
              1,
              "#f0f921"
             ]
            ],
            "type": "contour"
           }
          ],
          "contourcarpet": [
           {
            "colorbar": {
             "outlinewidth": 0,
             "ticks": ""
            },
            "type": "contourcarpet"
           }
          ],
          "heatmap": [
           {
            "colorbar": {
             "outlinewidth": 0,
             "ticks": ""
            },
            "colorscale": [
             [
              0,
              "#0d0887"
             ],
             [
              0.1111111111111111,
              "#46039f"
             ],
             [
              0.2222222222222222,
              "#7201a8"
             ],
             [
              0.3333333333333333,
              "#9c179e"
             ],
             [
              0.4444444444444444,
              "#bd3786"
             ],
             [
              0.5555555555555556,
              "#d8576b"
             ],
             [
              0.6666666666666666,
              "#ed7953"
             ],
             [
              0.7777777777777778,
              "#fb9f3a"
             ],
             [
              0.8888888888888888,
              "#fdca26"
             ],
             [
              1,
              "#f0f921"
             ]
            ],
            "type": "heatmap"
           }
          ],
          "histogram": [
           {
            "marker": {
             "pattern": {
              "fillmode": "overlay",
              "size": 10,
              "solidity": 0.2
             }
            },
            "type": "histogram"
           }
          ],
          "histogram2d": [
           {
            "colorbar": {
             "outlinewidth": 0,
             "ticks": ""
            },
            "colorscale": [
             [
              0,
              "#0d0887"
             ],
             [
              0.1111111111111111,
              "#46039f"
             ],
             [
              0.2222222222222222,
              "#7201a8"
             ],
             [
              0.3333333333333333,
              "#9c179e"
             ],
             [
              0.4444444444444444,
              "#bd3786"
             ],
             [
              0.5555555555555556,
              "#d8576b"
             ],
             [
              0.6666666666666666,
              "#ed7953"
             ],
             [
              0.7777777777777778,
              "#fb9f3a"
             ],
             [
              0.8888888888888888,
              "#fdca26"
             ],
             [
              1,
              "#f0f921"
             ]
            ],
            "type": "histogram2d"
           }
          ],
          "histogram2dcontour": [
           {
            "colorbar": {
             "outlinewidth": 0,
             "ticks": ""
            },
            "colorscale": [
             [
              0,
              "#0d0887"
             ],
             [
              0.1111111111111111,
              "#46039f"
             ],
             [
              0.2222222222222222,
              "#7201a8"
             ],
             [
              0.3333333333333333,
              "#9c179e"
             ],
             [
              0.4444444444444444,
              "#bd3786"
             ],
             [
              0.5555555555555556,
              "#d8576b"
             ],
             [
              0.6666666666666666,
              "#ed7953"
             ],
             [
              0.7777777777777778,
              "#fb9f3a"
             ],
             [
              0.8888888888888888,
              "#fdca26"
             ],
             [
              1,
              "#f0f921"
             ]
            ],
            "type": "histogram2dcontour"
           }
          ],
          "mesh3d": [
           {
            "colorbar": {
             "outlinewidth": 0,
             "ticks": ""
            },
            "type": "mesh3d"
           }
          ],
          "parcoords": [
           {
            "line": {
             "colorbar": {
              "outlinewidth": 0,
              "ticks": ""
             }
            },
            "type": "parcoords"
           }
          ],
          "pie": [
           {
            "automargin": true,
            "type": "pie"
           }
          ],
          "scatter": [
           {
            "fillpattern": {
             "fillmode": "overlay",
             "size": 10,
             "solidity": 0.2
            },
            "type": "scatter"
           }
          ],
          "scatter3d": [
           {
            "line": {
             "colorbar": {
              "outlinewidth": 0,
              "ticks": ""
             }
            },
            "marker": {
             "colorbar": {
              "outlinewidth": 0,
              "ticks": ""
             }
            },
            "type": "scatter3d"
           }
          ],
          "scattercarpet": [
           {
            "marker": {
             "colorbar": {
              "outlinewidth": 0,
              "ticks": ""
             }
            },
            "type": "scattercarpet"
           }
          ],
          "scattergeo": [
           {
            "marker": {
             "colorbar": {
              "outlinewidth": 0,
              "ticks": ""
             }
            },
            "type": "scattergeo"
           }
          ],
          "scattergl": [
           {
            "marker": {
             "colorbar": {
              "outlinewidth": 0,
              "ticks": ""
             }
            },
            "type": "scattergl"
           }
          ],
          "scattermap": [
           {
            "marker": {
             "colorbar": {
              "outlinewidth": 0,
              "ticks": ""
             }
            },
            "type": "scattermap"
           }
          ],
          "scattermapbox": [
           {
            "marker": {
             "colorbar": {
              "outlinewidth": 0,
              "ticks": ""
             }
            },
            "type": "scattermapbox"
           }
          ],
          "scatterpolar": [
           {
            "marker": {
             "colorbar": {
              "outlinewidth": 0,
              "ticks": ""
             }
            },
            "type": "scatterpolar"
           }
          ],
          "scatterpolargl": [
           {
            "marker": {
             "colorbar": {
              "outlinewidth": 0,
              "ticks": ""
             }
            },
            "type": "scatterpolargl"
           }
          ],
          "scatterternary": [
           {
            "marker": {
             "colorbar": {
              "outlinewidth": 0,
              "ticks": ""
             }
            },
            "type": "scatterternary"
           }
          ],
          "surface": [
           {
            "colorbar": {
             "outlinewidth": 0,
             "ticks": ""
            },
            "colorscale": [
             [
              0,
              "#0d0887"
             ],
             [
              0.1111111111111111,
              "#46039f"
             ],
             [
              0.2222222222222222,
              "#7201a8"
             ],
             [
              0.3333333333333333,
              "#9c179e"
             ],
             [
              0.4444444444444444,
              "#bd3786"
             ],
             [
              0.5555555555555556,
              "#d8576b"
             ],
             [
              0.6666666666666666,
              "#ed7953"
             ],
             [
              0.7777777777777778,
              "#fb9f3a"
             ],
             [
              0.8888888888888888,
              "#fdca26"
             ],
             [
              1,
              "#f0f921"
             ]
            ],
            "type": "surface"
           }
          ],
          "table": [
           {
            "cells": {
             "fill": {
              "color": "#EBF0F8"
             },
             "line": {
              "color": "white"
             }
            },
            "header": {
             "fill": {
              "color": "#C8D4E3"
             },
             "line": {
              "color": "white"
             }
            },
            "type": "table"
           }
          ]
         },
         "layout": {
          "annotationdefaults": {
           "arrowcolor": "#2a3f5f",
           "arrowhead": 0,
           "arrowwidth": 1
          },
          "autotypenumbers": "strict",
          "coloraxis": {
           "colorbar": {
            "outlinewidth": 0,
            "ticks": ""
           }
          },
          "colorscale": {
           "diverging": [
            [
             0,
             "#8e0152"
            ],
            [
             0.1,
             "#c51b7d"
            ],
            [
             0.2,
             "#de77ae"
            ],
            [
             0.3,
             "#f1b6da"
            ],
            [
             0.4,
             "#fde0ef"
            ],
            [
             0.5,
             "#f7f7f7"
            ],
            [
             0.6,
             "#e6f5d0"
            ],
            [
             0.7,
             "#b8e186"
            ],
            [
             0.8,
             "#7fbc41"
            ],
            [
             0.9,
             "#4d9221"
            ],
            [
             1,
             "#276419"
            ]
           ],
           "sequential": [
            [
             0,
             "#0d0887"
            ],
            [
             0.1111111111111111,
             "#46039f"
            ],
            [
             0.2222222222222222,
             "#7201a8"
            ],
            [
             0.3333333333333333,
             "#9c179e"
            ],
            [
             0.4444444444444444,
             "#bd3786"
            ],
            [
             0.5555555555555556,
             "#d8576b"
            ],
            [
             0.6666666666666666,
             "#ed7953"
            ],
            [
             0.7777777777777778,
             "#fb9f3a"
            ],
            [
             0.8888888888888888,
             "#fdca26"
            ],
            [
             1,
             "#f0f921"
            ]
           ],
           "sequentialminus": [
            [
             0,
             "#0d0887"
            ],
            [
             0.1111111111111111,
             "#46039f"
            ],
            [
             0.2222222222222222,
             "#7201a8"
            ],
            [
             0.3333333333333333,
             "#9c179e"
            ],
            [
             0.4444444444444444,
             "#bd3786"
            ],
            [
             0.5555555555555556,
             "#d8576b"
            ],
            [
             0.6666666666666666,
             "#ed7953"
            ],
            [
             0.7777777777777778,
             "#fb9f3a"
            ],
            [
             0.8888888888888888,
             "#fdca26"
            ],
            [
             1,
             "#f0f921"
            ]
           ]
          },
          "colorway": [
           "#636efa",
           "#EF553B",
           "#00cc96",
           "#ab63fa",
           "#FFA15A",
           "#19d3f3",
           "#FF6692",
           "#B6E880",
           "#FF97FF",
           "#FECB52"
          ],
          "font": {
           "color": "#2a3f5f"
          },
          "geo": {
           "bgcolor": "white",
           "lakecolor": "white",
           "landcolor": "white",
           "showlakes": true,
           "showland": true,
           "subunitcolor": "#C8D4E3"
          },
          "hoverlabel": {
           "align": "left"
          },
          "hovermode": "closest",
          "mapbox": {
           "style": "light"
          },
          "paper_bgcolor": "white",
          "plot_bgcolor": "white",
          "polar": {
           "angularaxis": {
            "gridcolor": "#EBF0F8",
            "linecolor": "#EBF0F8",
            "ticks": ""
           },
           "bgcolor": "white",
           "radialaxis": {
            "gridcolor": "#EBF0F8",
            "linecolor": "#EBF0F8",
            "ticks": ""
           }
          },
          "scene": {
           "xaxis": {
            "backgroundcolor": "white",
            "gridcolor": "#DFE8F3",
            "gridwidth": 2,
            "linecolor": "#EBF0F8",
            "showbackground": true,
            "ticks": "",
            "zerolinecolor": "#EBF0F8"
           },
           "yaxis": {
            "backgroundcolor": "white",
            "gridcolor": "#DFE8F3",
            "gridwidth": 2,
            "linecolor": "#EBF0F8",
            "showbackground": true,
            "ticks": "",
            "zerolinecolor": "#EBF0F8"
           },
           "zaxis": {
            "backgroundcolor": "white",
            "gridcolor": "#DFE8F3",
            "gridwidth": 2,
            "linecolor": "#EBF0F8",
            "showbackground": true,
            "ticks": "",
            "zerolinecolor": "#EBF0F8"
           }
          },
          "shapedefaults": {
           "line": {
            "color": "#2a3f5f"
           }
          },
          "ternary": {
           "aaxis": {
            "gridcolor": "#DFE8F3",
            "linecolor": "#A2B1C6",
            "ticks": ""
           },
           "baxis": {
            "gridcolor": "#DFE8F3",
            "linecolor": "#A2B1C6",
            "ticks": ""
           },
           "bgcolor": "white",
           "caxis": {
            "gridcolor": "#DFE8F3",
            "linecolor": "#A2B1C6",
            "ticks": ""
           }
          },
          "title": {
           "x": 0.05
          },
          "xaxis": {
           "automargin": true,
           "gridcolor": "#EBF0F8",
           "linecolor": "#EBF0F8",
           "ticks": "",
           "title": {
            "standoff": 15
           },
           "zerolinecolor": "#EBF0F8",
           "zerolinewidth": 2
          },
          "yaxis": {
           "automargin": true,
           "gridcolor": "#EBF0F8",
           "linecolor": "#EBF0F8",
           "ticks": "",
           "title": {
            "standoff": 15
           },
           "zerolinecolor": "#EBF0F8",
           "zerolinewidth": 2
          }
         }
        },
        "title": {
         "font": {
          "color": "Black",
          "size": 22
         },
         "text": "Topic Word Scores",
         "x": 0.5,
         "xanchor": "center",
         "yanchor": "top"
        },
        "width": 1000,
        "xaxis": {
         "anchor": "y",
         "domain": [
          0,
          0.175
         ],
         "showgrid": true
        },
        "xaxis2": {
         "anchor": "y2",
         "domain": [
          0.275,
          0.45
         ],
         "showgrid": true
        },
        "xaxis3": {
         "anchor": "y3",
         "domain": [
          0.55,
          0.7250000000000001
         ],
         "showgrid": true
        },
        "xaxis4": {
         "anchor": "y4",
         "domain": [
          0.825,
          1
         ],
         "showgrid": true
        },
        "yaxis": {
         "anchor": "x",
         "domain": [
          0,
          1
         ],
         "showgrid": true
        },
        "yaxis2": {
         "anchor": "x2",
         "domain": [
          0,
          1
         ],
         "showgrid": true
        },
        "yaxis3": {
         "anchor": "x3",
         "domain": [
          0,
          1
         ],
         "showgrid": true
        },
        "yaxis4": {
         "anchor": "x4",
         "domain": [
          0,
          1
         ],
         "showgrid": true
        }
       }
      }
     },
     "metadata": {},
     "output_type": "display_data"
    },
    {
     "name": "stderr",
     "output_type": "stream",
     "text": [
      "2025-06-07 08:59:58,113 - BERTopic - WARNING: When you use `pickle` to save/load a BERTopic model,please make sure that the environments in which you saveand load the model are **exactly** the same. The version of BERTopic,its dependencies, and python need to remain the same.\n"
     ]
    }
   ],
   "source": [
    "# Crie o vetorizador TF-IDF ou embedding\n",
    "tfidf = TfidfVectorizer(max_features=10000, stop_words='english')\n",
    "\n",
    "# Ajustar e transformar (train)\n",
    "X_train_tfidf = tfidf.fit_transform(train['comment_text'])\n",
    "\n",
    "# Ajustar e transformar (test)\n",
    "X_test_tfidf = tfidf.transform(test['comment_text'])\n",
    "\n",
    "print(f\"Forma de la matriz TF-IDF: {X_train_tfidf.shape}\")\n",
    "print(f\"Forma de la matriz TF-IDF: {X_test_tfidf.shape}\")\n",
    "\n",
    "# Pré-processamento de texto\n",
    "nltk.download('stopwords')\n",
    "stop_words = set(stopwords.words('english'))\n",
    "stemmer = SnowballStemmer('english')\n",
    "\n",
    "def clean_text(text):\n",
    "    text = text.lower()\n",
    "    text = re.sub(f\"[{re.escape(string.punctuation)}]\", \"\", text)\n",
    "    tokens = text.split()\n",
    "    tokens = [stemmer.stem(word) for word in tokens if word not in stop_words and len(word) < 20]  # Filtra palabras largas\n",
    "    return \" \".join(tokens)\n",
    "\n",
    "train['clean_comment'] = train['comment_text'].apply(clean_text)\n",
    "test['clean_comment'] = test['comment_text'].apply(clean_text)\n",
    "\n",
    "# 1. Melhoria na limpeza inicial\n",
    "def safe_clean(df):\n",
    "    df = df.copy()\n",
    "    df['clean_comment'] = df['clean_comment'].replace(['', ' ', np.nan], np.nan)\n",
    "    df = df.dropna(subset=['clean_comment'])\n",
    "    df = df[df['clean_comment'].str.strip().str.len() >= 3]\n",
    "    return df\n",
    "\n",
    "\n",
    "train = safe_clean(train)\n",
    "test = safe_clean(test)\n",
    "\n",
    "# 2. TF-IDF com verificação de dados\n",
    "if len(train['clean_comment']) == 0:\n",
    "    raise ValueError(\"¡No hay datos válidos después de la limpieza!\")\n",
    "\n",
    "tfidf = TfidfVectorizer(\n",
    "    max_features=10000,\n",
    "    min_df=5,\n",
    "    max_df=0.9,\n",
    "    stop_words='english',\n",
    "    token_pattern=r'(?u)\\b[A-Za-z]{3,}\\b'\n",
    ")\n",
    "\n",
    "X_train_tfidf = tfidf.fit_transform(train['clean_comment'])\n",
    "X_test_tfidf = tfidf.transform(test['clean_comment'])\n",
    "\n",
    "# 3. BERTopic com proteção total\n",
    "sample_size = min(3000, len(train))\n",
    "sampled_comments = train['clean_comment'].dropna().sample(n=sample_size, random_state=42)\n",
    "\n",
    "sampled_comments = sampled_comments[sampled_comments.str.strip().str.len() > 0]\n",
    "if len(sampled_comments) == 0:\n",
    "    raise ValueError(\"¡La muestra para BERTopic está vacía!\")\n",
    "\n",
    "topic_model = BERTopic(\n",
    "    language=\"english\",\n",
    "    min_topic_size=15,\n",
    "    nr_topics=\"auto\",\n",
    "    calculate_probabilities=True,\n",
    "    verbose=True\n",
    ")\n",
    "\n",
    "try:\n",
    "    topics, probs = topic_model.fit_transform(sampled_comments.tolist())\n",
    "except Exception as e:\n",
    "    print(f\"Error en BERTopic: {str(e)}\")\n",
    "    topics, probs = [-1] * len(sampled_comments), None\n",
    "\n",
    "# 4. Resultados com análise de qualidade\n",
    "topic_results = pd.DataFrame({\n",
    "    'comment': sampled_comments,\n",
    "    'topic': topics,\n",
    "    'length': sampled_comments.str.len()\n",
    "})\n",
    "\n",
    "print(\"\\nQualidade dos dados:\")\n",
    "print(f\"- Amostras processadas: {len(topic_results)}\")\n",
    "print(f\"- Texto médio (chars): {topic_results['length'].mean():.1f}\")\n",
    "print(\"\\nDistribuição de tópicos:\")\n",
    "print(topic_results['topic'].value_counts().head(10))\n",
    "\n",
    "\n",
    "try:\n",
    "    fig = topic_model.visualize_barchart(top_n_topics=10)\n",
    "    fig.show()\n",
    "except Exception as e:\n",
    "    print(f\"Erro ao exibir a visualização: {str(e)}\")\n",
    "    \n",
    "topic_model.save(\"my_topic_model\")"
   ]
  },
  {
   "cell_type": "markdown",
   "id": "41c5aa44",
   "metadata": {},
   "source": [
    "- O modelo identificou pelo menos três tópicos distintos:\n",
    "\n",
    "  - Edição ou discussão de artigos (Wikipedia)\n",
    "\n",
    "  - Tópico específico dominado por \"redirecionamentos\", menos informativo\n",
    "\n",
    "  - Teste, aprendizado e agradecimentos\n"
   ]
  },
  {
   "cell_type": "markdown",
   "id": "8cbe09b3",
   "metadata": {},
   "source": [
    "### e) Transforme atributos categóricos ordinais em atributos numéricos seguindo a ordem entre eles."
   ]
  },
  {
   "cell_type": "markdown",
   "id": "05dea2ae",
   "metadata": {},
   "source": [
    "Esta etapa consiste em transformar atributos categóricos ordinários (que possuem uma hierarquia ou nível implícito) em valores numéricos respeitando sua ordem lógica."
   ]
  },
  {
   "cell_type": "code",
   "execution_count": 14,
   "id": "41547f10",
   "metadata": {},
   "outputs": [
    {
     "name": "stdout",
     "output_type": "stream",
     "text": [
      "Não existem atributos categóricos ordinais neste conjunto de dados.\n"
     ]
    }
   ],
   "source": [
    "\n",
    "print(\"Não existem atributos categóricos ordinais neste conjunto de dados.\")\n"
   ]
  },
  {
   "cell_type": "markdown",
   "id": "76580417",
   "metadata": {},
   "source": [
    "- O conjunto de dados do desafio contém apenas:\n",
    "\n",
    "    + texto_de_comentário → texto livre (não ordinal)\n",
    "\n",
    "    + colunas como tóxico, obsceno, etc. → binário (0 ou 1)\n",
    "\n",
    "- Portanto, não há atributos que exijam transformação ordinal.\n",
    "\n",
    "- Se atributos como \"nível de toxicidade do texto\" fossem adicionados manualmente às palavras, aplicaríamos essa técnica."
   ]
  },
  {
   "cell_type": "markdown",
   "id": "daa55b49",
   "metadata": {},
   "source": [
    "### f) Normalize os valores de atributos numéricos."
   ]
  },
  {
   "cell_type": "markdown",
   "id": "b8517f67",
   "metadata": {},
   "source": [
    "A normalização consiste em transformar valores numéricos em uma única escala para evitar que variáveis ​​com magnitudes maiores dominem outras em algoritmos que dependem de distâncias ou pesos (por exemplo, redes neurais, k-NN, SVM).\n",
    "\n",
    "No nosso caso, a matriz TF-IDF já gera vetores normalizados automaticamente, mas se tivéssemos outra variável numérica adicional, usaríamos o StandardScaler e MinMaxScaler."
   ]
  },
  {
   "cell_type": "code",
   "execution_count": 15,
   "id": "d30e582c",
   "metadata": {},
   "outputs": [
    {
     "name": "stdout",
     "output_type": "stream",
     "text": [
      "Lenght:\n",
      "Tabela train\n"
     ]
    },
    {
     "data": {
      "text/html": [
       "<div>\n",
       "<style scoped>\n",
       "    .dataframe tbody tr th:only-of-type {\n",
       "        vertical-align: middle;\n",
       "    }\n",
       "\n",
       "    .dataframe tbody tr th {\n",
       "        vertical-align: top;\n",
       "    }\n",
       "\n",
       "    .dataframe thead th {\n",
       "        text-align: right;\n",
       "    }\n",
       "</style>\n",
       "<table border=\"1\" class=\"dataframe\">\n",
       "  <thead>\n",
       "    <tr style=\"text-align: right;\">\n",
       "      <th></th>\n",
       "      <th>length</th>\n",
       "      <th>length_norm</th>\n",
       "      <th>length_z</th>\n",
       "    </tr>\n",
       "  </thead>\n",
       "  <tbody>\n",
       "    <tr>\n",
       "      <th>0</th>\n",
       "      <td>264</td>\n",
       "      <td>0.051662</td>\n",
       "      <td>-0.220355</td>\n",
       "    </tr>\n",
       "    <tr>\n",
       "      <th>1</th>\n",
       "      <td>112</td>\n",
       "      <td>0.021225</td>\n",
       "      <td>-0.477640</td>\n",
       "    </tr>\n",
       "    <tr>\n",
       "      <th>2</th>\n",
       "      <td>233</td>\n",
       "      <td>0.045455</td>\n",
       "      <td>-0.272828</td>\n",
       "    </tr>\n",
       "    <tr>\n",
       "      <th>3</th>\n",
       "      <td>622</td>\n",
       "      <td>0.123348</td>\n",
       "      <td>0.385618</td>\n",
       "    </tr>\n",
       "    <tr>\n",
       "      <th>4</th>\n",
       "      <td>67</td>\n",
       "      <td>0.012215</td>\n",
       "      <td>-0.553810</td>\n",
       "    </tr>\n",
       "  </tbody>\n",
       "</table>\n",
       "</div>"
      ],
      "text/plain": [
       "   length  length_norm  length_z\n",
       "0     264     0.051662 -0.220355\n",
       "1     112     0.021225 -0.477640\n",
       "2     233     0.045455 -0.272828\n",
       "3     622     0.123348  0.385618\n",
       "4      67     0.012215 -0.553810"
      ]
     },
     "metadata": {},
     "output_type": "display_data"
    },
    {
     "name": "stdout",
     "output_type": "stream",
     "text": [
      "Tabela test\n"
     ]
    },
    {
     "data": {
      "text/html": [
       "<div>\n",
       "<style scoped>\n",
       "    .dataframe tbody tr th:only-of-type {\n",
       "        vertical-align: middle;\n",
       "    }\n",
       "\n",
       "    .dataframe tbody tr th {\n",
       "        vertical-align: top;\n",
       "    }\n",
       "\n",
       "    .dataframe thead th {\n",
       "        text-align: right;\n",
       "    }\n",
       "</style>\n",
       "<table border=\"1\" class=\"dataframe\">\n",
       "  <thead>\n",
       "    <tr style=\"text-align: right;\">\n",
       "      <th></th>\n",
       "      <th>length</th>\n",
       "      <th>length_norm</th>\n",
       "      <th>length_z</th>\n",
       "    </tr>\n",
       "  </thead>\n",
       "  <tbody>\n",
       "    <tr>\n",
       "      <th>0</th>\n",
       "      <td>367</td>\n",
       "      <td>0.072287</td>\n",
       "      <td>-0.046011</td>\n",
       "    </tr>\n",
       "    <tr>\n",
       "      <th>1</th>\n",
       "      <td>50</td>\n",
       "      <td>0.008811</td>\n",
       "      <td>-0.582586</td>\n",
       "    </tr>\n",
       "    <tr>\n",
       "      <th>2</th>\n",
       "      <td>54</td>\n",
       "      <td>0.009612</td>\n",
       "      <td>-0.575815</td>\n",
       "    </tr>\n",
       "    <tr>\n",
       "      <th>3</th>\n",
       "      <td>205</td>\n",
       "      <td>0.039848</td>\n",
       "      <td>-0.320223</td>\n",
       "    </tr>\n",
       "    <tr>\n",
       "      <th>4</th>\n",
       "      <td>41</td>\n",
       "      <td>0.007008</td>\n",
       "      <td>-0.597819</td>\n",
       "    </tr>\n",
       "  </tbody>\n",
       "</table>\n",
       "</div>"
      ],
      "text/plain": [
       "   length  length_norm  length_z\n",
       "0     367     0.072287 -0.046011\n",
       "1      50     0.008811 -0.582586\n",
       "2      54     0.009612 -0.575815\n",
       "3     205     0.039848 -0.320223\n",
       "4      41     0.007008 -0.597819"
      ]
     },
     "metadata": {},
     "output_type": "display_data"
    },
    {
     "name": "stdout",
     "output_type": "stream",
     "text": [
      "Flesch:\n",
      "Tabela train\n"
     ]
    },
    {
     "data": {
      "text/html": [
       "<div>\n",
       "<style scoped>\n",
       "    .dataframe tbody tr th:only-of-type {\n",
       "        vertical-align: middle;\n",
       "    }\n",
       "\n",
       "    .dataframe tbody tr th {\n",
       "        vertical-align: top;\n",
       "    }\n",
       "\n",
       "    .dataframe thead th {\n",
       "        text-align: right;\n",
       "    }\n",
       "</style>\n",
       "<table border=\"1\" class=\"dataframe\">\n",
       "  <thead>\n",
       "    <tr style=\"text-align: right;\">\n",
       "      <th></th>\n",
       "      <th>flesch_score</th>\n",
       "      <th>flesch_score_norm</th>\n",
       "    </tr>\n",
       "  </thead>\n",
       "  <tbody>\n",
       "    <tr>\n",
       "      <th>0</th>\n",
       "      <td>66.370388</td>\n",
       "      <td>0.131752</td>\n",
       "    </tr>\n",
       "    <tr>\n",
       "      <th>1</th>\n",
       "      <td>73.795735</td>\n",
       "      <td>0.492730</td>\n",
       "    </tr>\n",
       "    <tr>\n",
       "      <th>2</th>\n",
       "      <td>65.725000</td>\n",
       "      <td>0.100377</td>\n",
       "    </tr>\n",
       "    <tr>\n",
       "      <th>3</th>\n",
       "      <td>51.112030</td>\n",
       "      <td>-0.610022</td>\n",
       "    </tr>\n",
       "    <tr>\n",
       "      <th>4</th>\n",
       "      <td>89.606731</td>\n",
       "      <td>1.261370</td>\n",
       "    </tr>\n",
       "  </tbody>\n",
       "</table>\n",
       "</div>"
      ],
      "text/plain": [
       "   flesch_score  flesch_score_norm\n",
       "0     66.370388           0.131752\n",
       "1     73.795735           0.492730\n",
       "2     65.725000           0.100377\n",
       "3     51.112030          -0.610022\n",
       "4     89.606731           1.261370"
      ]
     },
     "metadata": {},
     "output_type": "display_data"
    },
    {
     "name": "stdout",
     "output_type": "stream",
     "text": [
      "Tabela test\n"
     ]
    },
    {
     "data": {
      "text/html": [
       "<div>\n",
       "<style scoped>\n",
       "    .dataframe tbody tr th:only-of-type {\n",
       "        vertical-align: middle;\n",
       "    }\n",
       "\n",
       "    .dataframe tbody tr th {\n",
       "        vertical-align: top;\n",
       "    }\n",
       "\n",
       "    .dataframe thead th {\n",
       "        text-align: right;\n",
       "    }\n",
       "</style>\n",
       "<table border=\"1\" class=\"dataframe\">\n",
       "  <thead>\n",
       "    <tr style=\"text-align: right;\">\n",
       "      <th></th>\n",
       "      <th>flesch_score</th>\n",
       "      <th>flesch_score_norm</th>\n",
       "    </tr>\n",
       "  </thead>\n",
       "  <tbody>\n",
       "    <tr>\n",
       "      <th>0</th>\n",
       "      <td>93.605000</td>\n",
       "      <td>1.455743</td>\n",
       "    </tr>\n",
       "    <tr>\n",
       "      <th>1</th>\n",
       "      <td>95.165000</td>\n",
       "      <td>1.531581</td>\n",
       "    </tr>\n",
       "    <tr>\n",
       "      <th>2</th>\n",
       "      <td>49.480000</td>\n",
       "      <td>-0.689362</td>\n",
       "    </tr>\n",
       "    <tr>\n",
       "      <th>3</th>\n",
       "      <td>73.757281</td>\n",
       "      <td>0.490861</td>\n",
       "    </tr>\n",
       "    <tr>\n",
       "      <th>4</th>\n",
       "      <td>30.530000</td>\n",
       "      <td>-1.610602</td>\n",
       "    </tr>\n",
       "  </tbody>\n",
       "</table>\n",
       "</div>"
      ],
      "text/plain": [
       "   flesch_score  flesch_score_norm\n",
       "0     93.605000           1.455743\n",
       "1     95.165000           1.531581\n",
       "2     49.480000          -0.689362\n",
       "3     73.757281           0.490861\n",
       "4     30.530000          -1.610602"
      ]
     },
     "metadata": {},
     "output_type": "display_data"
    }
   ],
   "source": [
    "# Normalização Min-Max\n",
    "minmax_scaler = MinMaxScaler()\n",
    "train['length_norm'] = minmax_scaler.fit_transform(train[['length']])\n",
    "test['length_norm'] = minmax_scaler.transform(test[['length']])\n",
    "\n",
    "# Normalização Z-score\n",
    "zscore_scaler = StandardScaler()\n",
    "train['length_z'] = zscore_scaler.fit_transform(train[['length']])\n",
    "test['length_z'] = zscore_scaler.transform(test[['length']])\n",
    "\n",
    "scaler = StandardScaler()\n",
    "train['flesch_score_norm'] = scaler.fit_transform(train[['flesch_score']])\n",
    "test['flesch_score_norm'] = scaler.transform(test[['flesch_score']])\n",
    "\n",
    "print('Lenght:')\n",
    "print('Tabela train')\n",
    "display(train[['length', 'length_norm', 'length_z']].head())\n",
    "print('Tabela test')\n",
    "display(test[['length', 'length_norm', 'length_z']].head())\n",
    "\n",
    "print('Flesch:')\n",
    "print('Tabela train')\n",
    "display(train[['flesch_score', 'flesch_score_norm']].head())\n",
    "print('Tabela test')\n",
    "display(test[['flesch_score', 'flesch_score_norm']].head())\n",
    "\n"
   ]
  },
  {
   "cell_type": "markdown",
   "id": "c8884323",
   "metadata": {},
   "source": [
    "- Existem textos muito curtos (comprimento = 67) e outros longos (comprimento = 622).\n",
    "\n",
    "- O length_norm varia de valores baixos, como 0,012215 (muito curto) a 0,123348 (longo).\n",
    "\n",
    "- O length_z permite detectar se um texto é significativamente maior ou menor que a média.\n",
    "\n",
    "- Variabilidade da legibilidade: os Flesch_scores variam de textos relativamente difíceis (~51) a textos muito fáceis (~89).\n",
    "\n",
    "- A normalização (flesch_score_norm) indica a distância entre os valores e a média.\n",
    "\n",
    "  - Valor positivo → mais claro que a média.\n",
    "\n",
    "  - Valor negativo → menos claro que a média."
   ]
  }
 ],
 "metadata": {
  "kernelspec": {
   "display_name": "env",
   "language": "python",
   "name": "python3"
  },
  "language_info": {
   "codemirror_mode": {
    "name": "ipython",
    "version": 3
   },
   "file_extension": ".py",
   "mimetype": "text/x-python",
   "name": "python",
   "nbconvert_exporter": "python",
   "pygments_lexer": "ipython3",
   "version": "3.12.6"
  }
 },
 "nbformat": 4,
 "nbformat_minor": 5
}
