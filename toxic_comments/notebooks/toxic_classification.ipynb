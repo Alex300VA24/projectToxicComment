{
 "cells": [
  {
   "cell_type": "markdown",
   "id": "7f38bbbb",
   "metadata": {},
   "source": [
    "# **Toxic Comment Classification Challenge**"
   ]
  },
  {
   "cell_type": "markdown",
   "id": "974bd3e1",
   "metadata": {},
   "source": [
    "### **1. Descripção do problema**"
   ]
  },
  {
   "cell_type": "markdown",
   "id": "71f2ccf9",
   "metadata": {},
   "source": [
    " Em várias plataformas de mídia social, as seçães de comentários permitem que os usuários\n",
    " compartilhem ideias e discutam diferentes pontos de vista. No entanto, há um abuso\n",
    " de linguagem tóxica, especialmente no X (antigo Twitter), que não tem regras rígidas\n",
    " para regular esse tipo de comentário, o que está afetando a qualidade dessas conversas.\n",
    " Comentários que incluem ameaças, insultos, linguagem vulgar ou ódio contra certos gru\n",
    " pos sociais, dificultando um diálogo saudável."
   ]
  },
  {
   "cell_type": "markdown",
   "id": "41c4d127",
   "metadata": {},
   "source": [
    "### **Fase 1: Análise e Pré-processamento**"
   ]
  },
  {
   "cell_type": "markdown",
   "id": "6ddc1e89",
   "metadata": {},
   "source": [
    "### **2. Análise descritiva de cada atributo**"
   ]
  },
  {
   "cell_type": "markdown",
   "id": "b3d90ad1",
   "metadata": {},
   "source": [
    "### **Importação de biblioteca e carregamento de dados**"
   ]
  },
  {
   "cell_type": "code",
   "execution_count": 59,
   "id": "3fdabbdc",
   "metadata": {},
   "outputs": [
    {
     "data": {
      "text/html": [
       "<div>\n",
       "<style scoped>\n",
       "    .dataframe tbody tr th:only-of-type {\n",
       "        vertical-align: middle;\n",
       "    }\n",
       "\n",
       "    .dataframe tbody tr th {\n",
       "        vertical-align: top;\n",
       "    }\n",
       "\n",
       "    .dataframe thead th {\n",
       "        text-align: right;\n",
       "    }\n",
       "</style>\n",
       "<table border=\"1\" class=\"dataframe\">\n",
       "  <thead>\n",
       "    <tr style=\"text-align: right;\">\n",
       "      <th></th>\n",
       "      <th>id</th>\n",
       "      <th>comment_text</th>\n",
       "      <th>toxic</th>\n",
       "      <th>severe_toxic</th>\n",
       "      <th>obscene</th>\n",
       "      <th>threat</th>\n",
       "      <th>insult</th>\n",
       "      <th>identity_hate</th>\n",
       "    </tr>\n",
       "  </thead>\n",
       "  <tbody>\n",
       "    <tr>\n",
       "      <th>0</th>\n",
       "      <td>0000997932d777bf</td>\n",
       "      <td>Explanation\\nWhy the edits made under my usern...</td>\n",
       "      <td>0</td>\n",
       "      <td>0</td>\n",
       "      <td>0</td>\n",
       "      <td>0</td>\n",
       "      <td>0</td>\n",
       "      <td>0</td>\n",
       "    </tr>\n",
       "    <tr>\n",
       "      <th>1</th>\n",
       "      <td>000103f0d9cfb60f</td>\n",
       "      <td>D'aww! He matches this background colour I'm s...</td>\n",
       "      <td>0</td>\n",
       "      <td>0</td>\n",
       "      <td>0</td>\n",
       "      <td>0</td>\n",
       "      <td>0</td>\n",
       "      <td>0</td>\n",
       "    </tr>\n",
       "    <tr>\n",
       "      <th>2</th>\n",
       "      <td>000113f07ec002fd</td>\n",
       "      <td>Hey man, I'm really not trying to edit war. It...</td>\n",
       "      <td>0</td>\n",
       "      <td>0</td>\n",
       "      <td>0</td>\n",
       "      <td>0</td>\n",
       "      <td>0</td>\n",
       "      <td>0</td>\n",
       "    </tr>\n",
       "    <tr>\n",
       "      <th>3</th>\n",
       "      <td>0001b41b1c6bb37e</td>\n",
       "      <td>\"\\nMore\\nI can't make any real suggestions on ...</td>\n",
       "      <td>0</td>\n",
       "      <td>0</td>\n",
       "      <td>0</td>\n",
       "      <td>0</td>\n",
       "      <td>0</td>\n",
       "      <td>0</td>\n",
       "    </tr>\n",
       "    <tr>\n",
       "      <th>4</th>\n",
       "      <td>0001d958c54c6e35</td>\n",
       "      <td>You, sir, are my hero. Any chance you remember...</td>\n",
       "      <td>0</td>\n",
       "      <td>0</td>\n",
       "      <td>0</td>\n",
       "      <td>0</td>\n",
       "      <td>0</td>\n",
       "      <td>0</td>\n",
       "    </tr>\n",
       "  </tbody>\n",
       "</table>\n",
       "</div>"
      ],
      "text/plain": [
       "                 id                                       comment_text  toxic  \\\n",
       "0  0000997932d777bf  Explanation\\nWhy the edits made under my usern...      0   \n",
       "1  000103f0d9cfb60f  D'aww! He matches this background colour I'm s...      0   \n",
       "2  000113f07ec002fd  Hey man, I'm really not trying to edit war. It...      0   \n",
       "3  0001b41b1c6bb37e  \"\\nMore\\nI can't make any real suggestions on ...      0   \n",
       "4  0001d958c54c6e35  You, sir, are my hero. Any chance you remember...      0   \n",
       "\n",
       "   severe_toxic  obscene  threat  insult  identity_hate  \n",
       "0             0        0       0       0              0  \n",
       "1             0        0       0       0              0  \n",
       "2             0        0       0       0              0  \n",
       "3             0        0       0       0              0  \n",
       "4             0        0       0       0              0  "
      ]
     },
     "execution_count": 59,
     "metadata": {},
     "output_type": "execute_result"
    }
   ],
   "source": [
    "# Importação de bibliotecas\n",
    "import pandas as pd\n",
    "import numpy as np\n",
    "import seaborn as sns\n",
    "import matplotlib.pyplot as plt\n",
    "import nltk\n",
    "import re\n",
    "import string\n",
    "from sklearn.preprocessing import MinMaxScaler, StandardScaler\n",
    "from sklearn.impute import SimpleImputer\n",
    "from sklearn.feature_extraction.text import TfidfVectorizer\n",
    "from sklearn.model_selection import train_test_split\n",
    "from nltk.corpus import stopwords\n",
    "from nltk.stem import SnowballStemmer\n",
    "from textstat import flesch_reading_ease\n",
    "import warnings\n",
    "warnings.filterwarnings(\"ignore\")\n",
    "\n",
    "# Carregando os dados\n",
    "train = pd.read_csv('../data/train.csv')\n",
    "test = pd.read_csv('../data/test.csv')\n",
    "train.head()"
   ]
  },
  {
   "cell_type": "code",
   "execution_count": 60,
   "id": "fb5d8a7a",
   "metadata": {},
   "outputs": [],
   "source": [
    "import re\n",
    "\n",
    "def contar_palabras_validas(text):\n",
    "    if not isinstance(text, str):\n",
    "        return 0\n",
    "    # Solo letras, minúsculas, al menos 2 letras\n",
    "    palabras = re.findall(r'\\b[a-z]{2,}\\b', text.lower())\n",
    "    return len(palabras)\n",
    "\n"
   ]
  },
  {
   "cell_type": "code",
   "execution_count": 61,
   "id": "b505d4e1",
   "metadata": {},
   "outputs": [
    {
     "data": {
      "text/html": [
       "<div>\n",
       "<style scoped>\n",
       "    .dataframe tbody tr th:only-of-type {\n",
       "        vertical-align: middle;\n",
       "    }\n",
       "\n",
       "    .dataframe tbody tr th {\n",
       "        vertical-align: top;\n",
       "    }\n",
       "\n",
       "    .dataframe thead th {\n",
       "        text-align: right;\n",
       "    }\n",
       "</style>\n",
       "<table border=\"1\" class=\"dataframe\">\n",
       "  <thead>\n",
       "    <tr style=\"text-align: right;\">\n",
       "      <th></th>\n",
       "      <th>id</th>\n",
       "      <th>comment_text</th>\n",
       "      <th>toxic</th>\n",
       "      <th>severe_toxic</th>\n",
       "      <th>obscene</th>\n",
       "      <th>threat</th>\n",
       "      <th>insult</th>\n",
       "      <th>identity_hate</th>\n",
       "      <th>length</th>\n",
       "      <th>flesch_score</th>\n",
       "    </tr>\n",
       "  </thead>\n",
       "  <tbody>\n",
       "    <tr>\n",
       "      <th>0</th>\n",
       "      <td>0000997932d777bf</td>\n",
       "      <td>Explanation\\nWhy the edits made under my usern...</td>\n",
       "      <td>0</td>\n",
       "      <td>0</td>\n",
       "      <td>0</td>\n",
       "      <td>0</td>\n",
       "      <td>0</td>\n",
       "      <td>0</td>\n",
       "      <td>41</td>\n",
       "      <td>66.370388</td>\n",
       "    </tr>\n",
       "    <tr>\n",
       "      <th>1</th>\n",
       "      <td>000103f0d9cfb60f</td>\n",
       "      <td>D'aww! He matches this background colour I'm s...</td>\n",
       "      <td>0</td>\n",
       "      <td>0</td>\n",
       "      <td>0</td>\n",
       "      <td>0</td>\n",
       "      <td>0</td>\n",
       "      <td>0</td>\n",
       "      <td>13</td>\n",
       "      <td>73.795735</td>\n",
       "    </tr>\n",
       "    <tr>\n",
       "      <th>2</th>\n",
       "      <td>000113f07ec002fd</td>\n",
       "      <td>Hey man, I'm really not trying to edit war. It...</td>\n",
       "      <td>0</td>\n",
       "      <td>0</td>\n",
       "      <td>0</td>\n",
       "      <td>0</td>\n",
       "      <td>0</td>\n",
       "      <td>0</td>\n",
       "      <td>41</td>\n",
       "      <td>65.725000</td>\n",
       "    </tr>\n",
       "    <tr>\n",
       "      <th>3</th>\n",
       "      <td>0001b41b1c6bb37e</td>\n",
       "      <td>\"\\nMore\\nI can't make any real suggestions on ...</td>\n",
       "      <td>0</td>\n",
       "      <td>0</td>\n",
       "      <td>0</td>\n",
       "      <td>0</td>\n",
       "      <td>0</td>\n",
       "      <td>0</td>\n",
       "      <td>102</td>\n",
       "      <td>51.112030</td>\n",
       "    </tr>\n",
       "    <tr>\n",
       "      <th>4</th>\n",
       "      <td>0001d958c54c6e35</td>\n",
       "      <td>You, sir, are my hero. Any chance you remember...</td>\n",
       "      <td>0</td>\n",
       "      <td>0</td>\n",
       "      <td>0</td>\n",
       "      <td>0</td>\n",
       "      <td>0</td>\n",
       "      <td>0</td>\n",
       "      <td>13</td>\n",
       "      <td>89.606731</td>\n",
       "    </tr>\n",
       "  </tbody>\n",
       "</table>\n",
       "</div>"
      ],
      "text/plain": [
       "                 id                                       comment_text  toxic  \\\n",
       "0  0000997932d777bf  Explanation\\nWhy the edits made under my usern...      0   \n",
       "1  000103f0d9cfb60f  D'aww! He matches this background colour I'm s...      0   \n",
       "2  000113f07ec002fd  Hey man, I'm really not trying to edit war. It...      0   \n",
       "3  0001b41b1c6bb37e  \"\\nMore\\nI can't make any real suggestions on ...      0   \n",
       "4  0001d958c54c6e35  You, sir, are my hero. Any chance you remember...      0   \n",
       "\n",
       "   severe_toxic  obscene  threat  insult  identity_hate  length  flesch_score  \n",
       "0             0        0       0       0              0      41     66.370388  \n",
       "1             0        0       0       0              0      13     73.795735  \n",
       "2             0        0       0       0              0      41     65.725000  \n",
       "3             0        0       0       0              0     102     51.112030  \n",
       "4             0        0       0       0              0      13     89.606731  "
      ]
     },
     "execution_count": 61,
     "metadata": {},
     "output_type": "execute_result"
    }
   ],
   "source": [
    "\n",
    "# Adicionar a coluna length (número de palavras no comentário)\n",
    "train['length'] = train['comment_text'].apply(contar_palabras_validas)\n",
    "\n",
    "# Adicionar a coluna flesch_scaler (índice de legibilidade)\n",
    "train['flesch_score'] = train['comment_text'].apply(lambda x: flesch_reading_ease(str(x)))\n",
    "\n",
    "# Adicionar a coluna length (número de palavras no comentário)\n",
    "test['length'] = test['comment_text'].apply(contar_palabras_validas)\n",
    "\n",
    "# Adicionar a coluna flesch_scaler (índice de legibilidade)\n",
    "test['flesch_score'] = test['comment_text'].apply(lambda x: flesch_reading_ease(str(x)))\n",
    "train.head()"
   ]
  },
  {
   "cell_type": "markdown",
   "id": "eaab7c46",
   "metadata": {},
   "source": [
    "#### **a) Identificar os tipos de atributos**"
   ]
  },
  {
   "cell_type": "markdown",
   "id": "03fb6234",
   "metadata": {},
   "source": [
    "A identificação dos tipos de atributos consiste em classificar cada coluna do dataset conforme sua natureza: **nominal**, **ordinal**, **binário**, **contínuo** ou **discreto**."
   ]
  },
  {
   "cell_type": "markdown",
   "id": "6e565331",
   "metadata": {},
   "source": [
    "<center>\n",
    "\n",
    "| Coluna | Tipo de Atributo | Descrição |\n",
    "|-----------|-----------|---------------|\n",
    "| id | Categórico nominai | Identificador único. <br>Não tem ordem nem significado além de identificar a fila |\n",
    "| comment_text | Categórico nominai | Texto livre que contém o comentário a classificar.<br>Não team hierarquia nem ordem |\n",
    "| toxic <br> severe_toxic <br> obscene <br> threat <br> insult<br> identity_hate| Binário assimétrico | 1 = Tóxico, 0 = Não Tóxico. <br> A classe positiva (1) é menos frequente, pelo que é assimétrica |\n",
    "| length         | Contínuo             | Número total de palavras no comentário.                                |\n",
    "| flesch_scaler  | Contínuo             | Índice de legibilidade Flesch Reading Ease. Valores mais altos indicam maior facilidade de leitura. |\n",
    "\n",
    "\n",
    "</center>"
   ]
  },
  {
   "cell_type": "markdown",
   "id": "e00b5704",
   "metadata": {},
   "source": [
    "- **`id`** e **`comment_text`** são **atributos nominais**, não usados diretamente na modelagem.\n",
    "- As etiquetas (**`toxic`**, **`severe_toxic`**, **`obscene`**, **`threat`**, **`insult`**, **`identity_hate`**.) são **binárias assimétricas**, importantes para prever comportamentos tóxicos."
   ]
  },
  {
   "cell_type": "markdown",
   "id": "d1ed5dbb",
   "metadata": {},
   "source": [
    "Além das variáveis fornecidas no dataset original, foram adicionados dois novos atributos numéricos:\n",
    "\n",
    "- **`length`**: representa o número de palavras no comentário.\n",
    "- **`flesch_scaler`**: mede a legibilidade do comentário com base no índice Flesch Reading Ease. Comentários mais simples tendem a ter pontuações mais altas."
   ]
  },
  {
   "cell_type": "markdown",
   "id": "70ed4a3d",
   "metadata": {},
   "source": [
    "#### **b) Para atributo numérico: análise descritiva e visualização**"
   ]
  },
  {
   "cell_type": "markdown",
   "id": "aac81ab1",
   "metadata": {},
   "source": [
    "Nesta etapa, devemos identificar para cada atributo numérico e não categorizado:\n",
    "\n",
    "- Intervalo de valores (mínimo e máximo).\n",
    "\n",
    "- Valor médio.\n",
    "\n",
    "- Desvio-padrão.\n",
    "\n",
    "- Possíveis valores aberrantes (outliers).\n"
   ]
  },
  {
   "cell_type": "code",
   "execution_count": 62,
   "id": "d146b4f2",
   "metadata": {},
   "outputs": [
    {
     "name": "stdout",
     "output_type": "stream",
     "text": [
      "              length   flesch_score\n",
      "count  159571.000000  159571.000000\n",
      "mean       63.638907      60.118723\n",
      "std        94.741037     128.131875\n",
      "min         0.000000  -36681.810000\n",
      "25%        15.000000      49.484853\n",
      "50%        33.000000      63.176029\n",
      "75%        71.000000      76.553333\n",
      "max      1354.000000     134.080000\n"
     ]
    },
    {
     "data": {
      "image/png": "[encoded data removed]",
      "text/plain": [
       "<Figure size 1400x600 with 2 Axes>"
      ]
     },
     "metadata": {},
     "output_type": "display_data"
    }
   ],
   "source": [
    "# Estatísticas descritivas\n",
    "print(train[['length', 'flesch_score']].describe())\n",
    "\n",
    "# Histograma\n",
    "plt.figure(figsize=(14, 6))\n",
    "\n",
    "plt.subplot(1, 2, 1)\n",
    "sns.histplot(train['length'], bins=50, kde=True, color='skyblue')\n",
    "plt.title('Distribuição de Palavras por Comentário')\n",
    "\n",
    "plt.subplot(1, 2, 2)\n",
    "sns.histplot(train['flesch_score'], bins=50, kde=True, color='salmon')\n",
    "plt.title('Distribuição de Flesch Reading Ease')\n",
    "\n",
    "plt.tight_layout()\n",
    "plt.show()"
   ]
  },
  {
   "cell_type": "markdown",
   "id": "5cc667a2",
   "metadata": {},
   "source": [
    "**Lenght**\n",
    "- A maioria dos comentários possui uma quantidad menor que 200 palavras.\n",
    "- A distribuição é assimétrica à direita (distribuição enviesada positivamente), com poucos comentários extremamente longos (outliers).\n",
    "- Esse padrão é típico em dados de texto, pois a maioria dos comentários tende a ser breve.\n",
    "\n",
    "**Flesch Reading Ease**\n",
    "- A maioria dos valores está concentrada em torno de 0, com valores negativos extremos que indicam baixa legibilidade.\n",
    "- Valores tão negativos sugerem possíveis erros na extração dos textos (ex: strings vazias ou mal formatadas)."
   ]
  },
  {
   "cell_type": "code",
   "execution_count": 63,
   "id": "9923d769",
   "metadata": {},
   "outputs": [
    {
     "data": {
      "image/png": "[encoded data removed]",
      "text/plain": [
       "<Figure size 1400x600 with 2 Axes>"
      ]
     },
     "metadata": {},
     "output_type": "display_data"
    }
   ],
   "source": [
    "# Boxplots\n",
    "plt.figure(figsize=(14, 6))\n",
    "\n",
    "plt.subplot(1, 2, 1)\n",
    "sns.boxplot(y=train['length'], color='skyblue')\n",
    "plt.title('Boxplot de Length')\n",
    "\n",
    "plt.subplot(1, 2, 2)\n",
    "sns.boxplot(y=train['flesch_score'], color='salmon')\n",
    "plt.title('Boxplot de Flesch Reading Ease')\n",
    "\n",
    "plt.tight_layout()\n",
    "plt.show()"
   ]
  },
  {
   "cell_type": "markdown",
   "id": "be598e36",
   "metadata": {},
   "source": [
    "**Lenght**\n",
    "- A mediana é visivelmente baixa, confirmando que a maioria dos comentários sao curtos.\n",
    "- Existem vários **outliers** com comprimento significativamente maior que o terceiro quartil, sugerindo a necessidade de tratamento dependendo do modelo usado.\n",
    "\n",
    "**Flesch Reading Ease**\n",
    "- Há uma grande quantidade de outliers muito abaixo de 0, reforçando a suspeita de dados problemáticos.\n",
    "- A dispersão é alta, o que indica que os comentários possuem uma variabilidade significativa em termos de facilidade de leitura."
   ]
  },
  {
   "cell_type": "markdown",
   "id": "cf293be4",
   "metadata": {},
   "source": [
    "### **c) Distribuição de valores e popularidade dos atributos**"
   ]
  },
  {
   "cell_type": "markdown",
   "id": "860dce68",
   "metadata": {},
   "source": [
    "Nesta etapa, para cada atributo **binário, nominal ou ordinal**, devemos:\n",
    "\n",
    "- Identificar os **valores possíveis**.  \n",
    "- Verificar a **popularidade** ou **frequência relativa** de cada valor (distribuição de probabilidade).\n",
    "\n",
    "No nosso dataset, analisamos as **etiquetas binárias**: `toxic`, `severe_toxic`, `obscene`, `threat`, `insult` e `identity_hate`.  \n",
    "Para o atributo `comment_text` (nominal), não é viável analisar distribuição direta, mas podemos analisar o **comprimento** ou outras métricas.\n"
   ]
  },
  {
   "cell_type": "code",
   "execution_count": 64,
   "id": "4ca4e36b",
   "metadata": {},
   "outputs": [
    {
     "data": {
      "image/png": "[encoded data removed]",
      "text/plain": [
       "<Figure size 1000x600 with 1 Axes>"
      ]
     },
     "metadata": {},
     "output_type": "display_data"
    }
   ],
   "source": [
    "# Lista de columnas de etiquetas\n",
    "toxic_labels = ['toxic', 'severe_toxic', 'obscene', 'threat', 'insult', 'identity_hate']\n",
    "\n",
    "# Conteo absoluto por etiqueta\n",
    "label_counts = train[toxic_labels].sum().sort_values(ascending=False)\n",
    "\n",
    "# Gráfico de barras\n",
    "plt.figure(figsize=(10, 6))\n",
    "sns.barplot(x=label_counts.index, y=label_counts.values, palette=\"rocket\")\n",
    "plt.title('Distribuição de Comentários por Categoria Tóxica')\n",
    "plt.ylabel('Número de Comentários')\n",
    "plt.xlabel('Categoria')\n",
    "plt.show()\n"
   ]
  },
  {
   "cell_type": "markdown",
   "id": "f4ff7830",
   "metadata": {},
   "source": [
    "Classe **\"toxic\"**:\n",
    "\n",
    "- É de longe a mais frequente (~15.000 ocorrências).\n",
    "\n",
    "- Isso sugere que se trata de um rótulo genérico que agrupa várias formas de toxicidade.\n",
    "\n",
    "Classe **\"Obscene\"** e **\"insult\"**:\n",
    "\n",
    "- São as segundas mais comuns (~8.000 e ~7.000 ocorrências, respectivamente).\n",
    "\n",
    "- Indicam que insultos e linguagem obscena são frequentes no conjunto.\n",
    "\n",
    "Classe **\"severe_toxic\"**, **\"identity_hate\"** e **\"threat\"**:\n",
    "\n",
    "- São claramente sub-representadas, especialmente \"threat\" e \"identity_hate\", que apresentam pouquíssimas ocorrências (~1.000 ou menos).\n",
    "\n",
    "- Isso introduz um problema de desequilíbrio de classes, que pode afetar o desempenho do modelo se não for tratado adequadamente."
   ]
  },
  {
   "cell_type": "code",
   "execution_count": 65,
   "id": "98a7b775",
   "metadata": {},
   "outputs": [
    {
     "data": {
      "image/png": "[encoded data removed]",
      "text/plain": [
       "<Figure size 800x500 with 1 Axes>"
      ]
     },
     "metadata": {},
     "output_type": "display_data"
    }
   ],
   "source": [
    "# Adicionar a coluna num_bin_cols\n",
    "train['num_toxic_labels'] = train[toxic_labels].sum(axis=1)\n",
    "\n",
    "# Distribuição de número de etiquetas por comentário\n",
    "plt.figure(figsize=(8, 5))\n",
    "sns.countplot(x='num_toxic_labels', data=train, palette='viridis')\n",
    "plt.title('Distribuição de Etiquetas por Comentário')\n",
    "plt.xlabel('Número de Etiquetas por Comentário')\n",
    "plt.ylabel('Número de Comentários')\n",
    "plt.show()"
   ]
  },
  {
   "cell_type": "markdown",
   "id": "673885d4",
   "metadata": {},
   "source": [
    "- A maioria absoluta dos comentários (mais de **140.000**) **não possui nenhuma etiqueta tóxica**, ou seja, são comentários **não tóxicos**.\n",
    "- Uma pequena fração dos comentários possui **exatamente 1 etiqueta** (ex: apenas `toxic` ou apenas `insult`).\n",
    "- À medida que aumenta o número de etiquetas (2, 3, 4, 5, 6), a quantidade de comentários **cai drasticamente**, o que indica que:\n",
    "  - Comentários com múltiplas formas de toxicidade são **raros**.\n",
    "  - O problema é altamente **desbalanceado**.\n",
    "- Isso reforça a natureza **multi-rótulo assimétrica** do dataset:  \n",
    "  - Cada comentário pode ter **nenhuma, uma ou mais etiquetas** de toxicidade.\n",
    "  - Mas a ocorrência conjunta de várias categorias é **muito incomum**."
   ]
  },
  {
   "cell_type": "markdown",
   "id": "8294a676",
   "metadata": {},
   "source": [
    "### **d) Valores Ausentes, Aberrantes e Inconsistências**"
   ]
  },
  {
   "cell_type": "markdown",
   "id": "c302dd18",
   "metadata": {},
   "source": [
    "Nesta etapa, devemos:\n",
    "\n",
    "- Identificar **valores ausentes** (`NaN`, `None`) usando funções como `.isna()` ou `.isnull()`.  \n",
    "- Verificar se há **valores aberrantes** (fora do esperado).  \n",
    "- Detectar possíveis **inconsistências**, como registros duplicados ou valores fora do domínio esperado.\n"
   ]
  },
  {
   "cell_type": "code",
   "execution_count": 66,
   "id": "d040bb92",
   "metadata": {},
   "outputs": [
    {
     "name": "stdout",
     "output_type": "stream",
     "text": [
      "Valores ausentes:\n"
     ]
    },
    {
     "data": {
      "text/html": [
       "<div>\n",
       "<style scoped>\n",
       "    .dataframe tbody tr th:only-of-type {\n",
       "        vertical-align: middle;\n",
       "    }\n",
       "\n",
       "    .dataframe tbody tr th {\n",
       "        vertical-align: top;\n",
       "    }\n",
       "\n",
       "    .dataframe thead th {\n",
       "        text-align: right;\n",
       "    }\n",
       "</style>\n",
       "<table border=\"1\" class=\"dataframe\">\n",
       "  <thead>\n",
       "    <tr style=\"text-align: right;\">\n",
       "      <th></th>\n",
       "      <th>Coluna</th>\n",
       "      <th>Valores_ausentes</th>\n",
       "    </tr>\n",
       "  </thead>\n",
       "  <tbody>\n",
       "    <tr>\n",
       "      <th>0</th>\n",
       "      <td>id</td>\n",
       "      <td>0</td>\n",
       "    </tr>\n",
       "    <tr>\n",
       "      <th>1</th>\n",
       "      <td>comment_text</td>\n",
       "      <td>0</td>\n",
       "    </tr>\n",
       "    <tr>\n",
       "      <th>2</th>\n",
       "      <td>toxic</td>\n",
       "      <td>0</td>\n",
       "    </tr>\n",
       "    <tr>\n",
       "      <th>3</th>\n",
       "      <td>severe_toxic</td>\n",
       "      <td>0</td>\n",
       "    </tr>\n",
       "    <tr>\n",
       "      <th>4</th>\n",
       "      <td>obscene</td>\n",
       "      <td>0</td>\n",
       "    </tr>\n",
       "    <tr>\n",
       "      <th>5</th>\n",
       "      <td>threat</td>\n",
       "      <td>0</td>\n",
       "    </tr>\n",
       "    <tr>\n",
       "      <th>6</th>\n",
       "      <td>insult</td>\n",
       "      <td>0</td>\n",
       "    </tr>\n",
       "    <tr>\n",
       "      <th>7</th>\n",
       "      <td>identity_hate</td>\n",
       "      <td>0</td>\n",
       "    </tr>\n",
       "    <tr>\n",
       "      <th>8</th>\n",
       "      <td>length</td>\n",
       "      <td>0</td>\n",
       "    </tr>\n",
       "    <tr>\n",
       "      <th>9</th>\n",
       "      <td>flesch_score</td>\n",
       "      <td>0</td>\n",
       "    </tr>\n",
       "    <tr>\n",
       "      <th>10</th>\n",
       "      <td>num_toxic_labels</td>\n",
       "      <td>0</td>\n",
       "    </tr>\n",
       "  </tbody>\n",
       "</table>\n",
       "</div>"
      ],
      "text/plain": [
       "              Coluna  Valores_ausentes\n",
       "0                 id                 0\n",
       "1       comment_text                 0\n",
       "2              toxic                 0\n",
       "3       severe_toxic                 0\n",
       "4            obscene                 0\n",
       "5             threat                 0\n",
       "6             insult                 0\n",
       "7      identity_hate                 0\n",
       "8             length                 0\n",
       "9       flesch_score                 0\n",
       "10  num_toxic_labels                 0"
      ]
     },
     "metadata": {},
     "output_type": "display_data"
    },
    {
     "name": "stdout",
     "output_type": "stream",
     "text": [
      "Valores únicos nos atributos binários:\n"
     ]
    },
    {
     "data": {
      "text/html": [
       "<div>\n",
       "<style scoped>\n",
       "    .dataframe tbody tr th:only-of-type {\n",
       "        vertical-align: middle;\n",
       "    }\n",
       "\n",
       "    .dataframe tbody tr th {\n",
       "        vertical-align: top;\n",
       "    }\n",
       "\n",
       "    .dataframe thead th {\n",
       "        text-align: right;\n",
       "    }\n",
       "</style>\n",
       "<table border=\"1\" class=\"dataframe\">\n",
       "  <thead>\n",
       "    <tr style=\"text-align: right;\">\n",
       "      <th></th>\n",
       "      <th>Atributo</th>\n",
       "      <th>Valores_únicos</th>\n",
       "    </tr>\n",
       "  </thead>\n",
       "  <tbody>\n",
       "    <tr>\n",
       "      <th>0</th>\n",
       "      <td>toxic</td>\n",
       "      <td>[0, 1]</td>\n",
       "    </tr>\n",
       "    <tr>\n",
       "      <th>1</th>\n",
       "      <td>severe_toxic</td>\n",
       "      <td>[0, 1]</td>\n",
       "    </tr>\n",
       "    <tr>\n",
       "      <th>2</th>\n",
       "      <td>obscene</td>\n",
       "      <td>[0, 1]</td>\n",
       "    </tr>\n",
       "    <tr>\n",
       "      <th>3</th>\n",
       "      <td>threat</td>\n",
       "      <td>[0, 1]</td>\n",
       "    </tr>\n",
       "    <tr>\n",
       "      <th>4</th>\n",
       "      <td>insult</td>\n",
       "      <td>[0, 1]</td>\n",
       "    </tr>\n",
       "    <tr>\n",
       "      <th>5</th>\n",
       "      <td>identity_hate</td>\n",
       "      <td>[0, 1]</td>\n",
       "    </tr>\n",
       "  </tbody>\n",
       "</table>\n",
       "</div>"
      ],
      "text/plain": [
       "        Atributo Valores_únicos\n",
       "0          toxic         [0, 1]\n",
       "1   severe_toxic         [0, 1]\n",
       "2        obscene         [0, 1]\n",
       "3         threat         [0, 1]\n",
       "4         insult         [0, 1]\n",
       "5  identity_hate         [0, 1]"
      ]
     },
     "metadata": {},
     "output_type": "display_data"
    },
    {
     "name": "stdout",
     "output_type": "stream",
     "text": [
      "Registros duplicados: 0\n",
      "Estatísticas e possíveis outliers nas variáveis numéricas:\n"
     ]
    },
    {
     "data": {
      "text/html": [
       "<div>\n",
       "<style scoped>\n",
       "    .dataframe tbody tr th:only-of-type {\n",
       "        vertical-align: middle;\n",
       "    }\n",
       "\n",
       "    .dataframe tbody tr th {\n",
       "        vertical-align: top;\n",
       "    }\n",
       "\n",
       "    .dataframe thead th {\n",
       "        text-align: right;\n",
       "    }\n",
       "</style>\n",
       "<table border=\"1\" class=\"dataframe\">\n",
       "  <thead>\n",
       "    <tr style=\"text-align: right;\">\n",
       "      <th></th>\n",
       "      <th>count</th>\n",
       "      <th>mean</th>\n",
       "      <th>std</th>\n",
       "      <th>min</th>\n",
       "      <th>25%</th>\n",
       "      <th>50%</th>\n",
       "      <th>75%</th>\n",
       "      <th>max</th>\n",
       "      <th>outliers_abaixo</th>\n",
       "      <th>outliers_acima</th>\n",
       "    </tr>\n",
       "  </thead>\n",
       "  <tbody>\n",
       "    <tr>\n",
       "      <th>length</th>\n",
       "      <td>159571.0</td>\n",
       "      <td>63.638907</td>\n",
       "      <td>94.741037</td>\n",
       "      <td>0.00</td>\n",
       "      <td>15.000000</td>\n",
       "      <td>33.000000</td>\n",
       "      <td>71.000000</td>\n",
       "      <td>1354.00</td>\n",
       "      <td>0</td>\n",
       "      <td>3534</td>\n",
       "    </tr>\n",
       "    <tr>\n",
       "      <th>flesch_score</th>\n",
       "      <td>159571.0</td>\n",
       "      <td>60.118723</td>\n",
       "      <td>128.131875</td>\n",
       "      <td>-36681.81</td>\n",
       "      <td>49.484853</td>\n",
       "      <td>63.176029</td>\n",
       "      <td>76.553333</td>\n",
       "      <td>134.08</td>\n",
       "      <td>206</td>\n",
       "      <td>0</td>\n",
       "    </tr>\n",
       "  </tbody>\n",
       "</table>\n",
       "</div>"
      ],
      "text/plain": [
       "                 count       mean         std       min        25%        50%  \\\n",
       "length        159571.0  63.638907   94.741037      0.00  15.000000  33.000000   \n",
       "flesch_score  159571.0  60.118723  128.131875 -36681.81  49.484853  63.176029   \n",
       "\n",
       "                    75%      max  outliers_abaixo  outliers_acima  \n",
       "length        71.000000  1354.00                0            3534  \n",
       "flesch_score  76.553333   134.08              206               0  "
      ]
     },
     "metadata": {},
     "output_type": "display_data"
    }
   ],
   "source": [
    "# 1. Valores ausentes\n",
    "missing = train.isnull().sum().reset_index()\n",
    "missing.columns = ['Coluna', 'Valores_ausentes']\n",
    "\n",
    "# 2. Verificar valores únicos de dois atributos binários\n",
    "unique_vals = pd.DataFrame({\n",
    "    'Atributo': toxic_labels,\n",
    "    'Valores_únicos': [train[label].unique().tolist() for label in toxic_labels]\n",
    "})\n",
    "# 3. Verificar registros duplicados\n",
    "duplicados = train.duplicated().sum()\n",
    "\n",
    "# 4. Verificar estatísticas das colunas numéricas\n",
    "numeric_cols = ['length', 'flesch_score']\n",
    "stats = train[numeric_cols].describe().T\n",
    "stats['outliers_abaixo'] = (train[numeric_cols] < stats['mean'] - 3 * stats['std']).sum()\n",
    "stats['outliers_acima']  = (train[numeric_cols] > stats['mean'] + 3 * stats['std']).sum()\n",
    "\n",
    "# Mostrar tabelas\n",
    "print(\"Valores ausentes:\")\n",
    "display(missing)\n",
    "\n",
    "print(\"Valores únicos nos atributos binários:\")\n",
    "display(unique_vals)\n",
    "\n",
    "print(f\"Registros duplicados: {duplicados}\")\n",
    "\n",
    "print(\"Estatísticas e possíveis outliers nas variáveis numéricas:\")\n",
    "display(stats)\n",
    "\n"
   ]
  },
  {
   "cell_type": "markdown",
   "id": "0bd40433",
   "metadata": {},
   "source": [
    "- Não foram encontrados valores ausentes em nenhuma das colunas, incluindo length e flesch_score.\n",
    "\n",
    "- Os atributos binários contêm apenas os valores esperados: 0 e 1, sem inconsistências.\n",
    "\n",
    "- Foram identificados alguns valores extremos (outliers):\n",
    "\n",
    "    - length: alguns comentários são muito longos (acima da média + 3 desvios).\n",
    "\n",
    "    - flesch_score: alguns poucos comentários têm baixa ou alta legibilidade extrema, mas estão dentro de limites válidos (0 a 100).\n",
    "\n",
    "- Não foram encontrados registros duplicados, o que indica que os dados são consistentes.\n"
   ]
  },
  {
   "cell_type": "markdown",
   "id": "d92a2a64",
   "metadata": {},
   "source": [
    "### **e) Correlação entre os Atributos Numéricos**"
   ]
  },
  {
   "cell_type": "markdown",
   "id": "ca6e6d0b",
   "metadata": {},
   "source": [
    "Nesta etapa, analisamos a **correlação** entre os atributos numéricos:\n",
    "\n",
    "- A correlação indica se existe uma **relação linear** entre os atributos.  \n",
    "- Valores próximos de **1** indicam correlação positiva forte.  \n",
    "- Valores próximos de **-1** indicam correlação negativa forte.  \n",
    "- Valores próximos de **0** indicam correlação fraca ou inexistente.  \n",
    "\n",
    "Analisamos os atributos:\n",
    "- `length`  \n",
    "- `flesch_score`  \n",
    "- Etiquetas binárias (`toxic`, `severe_toxic`, etc.)"
   ]
  },
  {
   "cell_type": "code",
   "execution_count": 67,
   "id": "b11d26e0",
   "metadata": {},
   "outputs": [
    {
     "name": "stdout",
     "output_type": "stream",
     "text": [
      "Matriz de correlação:\n"
     ]
    },
    {
     "data": {
      "text/html": [
       "<div>\n",
       "<style scoped>\n",
       "    .dataframe tbody tr th:only-of-type {\n",
       "        vertical-align: middle;\n",
       "    }\n",
       "\n",
       "    .dataframe tbody tr th {\n",
       "        vertical-align: top;\n",
       "    }\n",
       "\n",
       "    .dataframe thead th {\n",
       "        text-align: right;\n",
       "    }\n",
       "</style>\n",
       "<table border=\"1\" class=\"dataframe\">\n",
       "  <thead>\n",
       "    <tr style=\"text-align: right;\">\n",
       "      <th></th>\n",
       "      <th>toxic</th>\n",
       "      <th>severe_toxic</th>\n",
       "      <th>obscene</th>\n",
       "      <th>threat</th>\n",
       "      <th>insult</th>\n",
       "      <th>identity_hate</th>\n",
       "      <th>length</th>\n",
       "      <th>flesch_score</th>\n",
       "    </tr>\n",
       "  </thead>\n",
       "  <tbody>\n",
       "    <tr>\n",
       "      <th>toxic</th>\n",
       "      <td>1.00</td>\n",
       "      <td>0.31</td>\n",
       "      <td>0.68</td>\n",
       "      <td>0.16</td>\n",
       "      <td>0.65</td>\n",
       "      <td>0.27</td>\n",
       "      <td>-0.05</td>\n",
       "      <td>0.00</td>\n",
       "    </tr>\n",
       "    <tr>\n",
       "      <th>severe_toxic</th>\n",
       "      <td>0.31</td>\n",
       "      <td>1.00</td>\n",
       "      <td>0.40</td>\n",
       "      <td>0.12</td>\n",
       "      <td>0.38</td>\n",
       "      <td>0.20</td>\n",
       "      <td>0.01</td>\n",
       "      <td>-0.03</td>\n",
       "    </tr>\n",
       "    <tr>\n",
       "      <th>obscene</th>\n",
       "      <td>0.68</td>\n",
       "      <td>0.40</td>\n",
       "      <td>1.00</td>\n",
       "      <td>0.14</td>\n",
       "      <td>0.74</td>\n",
       "      <td>0.29</td>\n",
       "      <td>-0.04</td>\n",
       "      <td>0.01</td>\n",
       "    </tr>\n",
       "    <tr>\n",
       "      <th>threat</th>\n",
       "      <td>0.16</td>\n",
       "      <td>0.12</td>\n",
       "      <td>0.14</td>\n",
       "      <td>1.00</td>\n",
       "      <td>0.15</td>\n",
       "      <td>0.12</td>\n",
       "      <td>-0.01</td>\n",
       "      <td>0.01</td>\n",
       "    </tr>\n",
       "    <tr>\n",
       "      <th>insult</th>\n",
       "      <td>0.65</td>\n",
       "      <td>0.38</td>\n",
       "      <td>0.74</td>\n",
       "      <td>0.15</td>\n",
       "      <td>1.00</td>\n",
       "      <td>0.34</td>\n",
       "      <td>-0.04</td>\n",
       "      <td>0.01</td>\n",
       "    </tr>\n",
       "    <tr>\n",
       "      <th>identity_hate</th>\n",
       "      <td>0.27</td>\n",
       "      <td>0.20</td>\n",
       "      <td>0.29</td>\n",
       "      <td>0.12</td>\n",
       "      <td>0.34</td>\n",
       "      <td>1.00</td>\n",
       "      <td>-0.01</td>\n",
       "      <td>-0.01</td>\n",
       "    </tr>\n",
       "    <tr>\n",
       "      <th>length</th>\n",
       "      <td>-0.05</td>\n",
       "      <td>0.01</td>\n",
       "      <td>-0.04</td>\n",
       "      <td>-0.01</td>\n",
       "      <td>-0.04</td>\n",
       "      <td>-0.01</td>\n",
       "      <td>1.00</td>\n",
       "      <td>-0.07</td>\n",
       "    </tr>\n",
       "    <tr>\n",
       "      <th>flesch_score</th>\n",
       "      <td>0.00</td>\n",
       "      <td>-0.03</td>\n",
       "      <td>0.01</td>\n",
       "      <td>0.01</td>\n",
       "      <td>0.01</td>\n",
       "      <td>-0.01</td>\n",
       "      <td>-0.07</td>\n",
       "      <td>1.00</td>\n",
       "    </tr>\n",
       "  </tbody>\n",
       "</table>\n",
       "</div>"
      ],
      "text/plain": [
       "               toxic  severe_toxic  obscene  threat  insult  identity_hate  \\\n",
       "toxic           1.00          0.31     0.68    0.16    0.65           0.27   \n",
       "severe_toxic    0.31          1.00     0.40    0.12    0.38           0.20   \n",
       "obscene         0.68          0.40     1.00    0.14    0.74           0.29   \n",
       "threat          0.16          0.12     0.14    1.00    0.15           0.12   \n",
       "insult          0.65          0.38     0.74    0.15    1.00           0.34   \n",
       "identity_hate   0.27          0.20     0.29    0.12    0.34           1.00   \n",
       "length         -0.05          0.01    -0.04   -0.01   -0.04          -0.01   \n",
       "flesch_score    0.00         -0.03     0.01    0.01    0.01          -0.01   \n",
       "\n",
       "               length  flesch_score  \n",
       "toxic           -0.05          0.00  \n",
       "severe_toxic     0.01         -0.03  \n",
       "obscene         -0.04          0.01  \n",
       "threat          -0.01          0.01  \n",
       "insult          -0.04          0.01  \n",
       "identity_hate   -0.01         -0.01  \n",
       "length           1.00         -0.07  \n",
       "flesch_score    -0.07          1.00  "
      ]
     },
     "metadata": {},
     "output_type": "display_data"
    },
    {
     "data": {
      "image/png": "[encoded data removed]",
      "text/plain": [
       "<Figure size 1000x800 with 2 Axes>"
      ]
     },
     "metadata": {},
     "output_type": "display_data"
    }
   ],
   "source": [
    "from scipy.stats import pointbiserialr, pearsonr\n",
    "\n",
    "# Selecionar atributos numéricos\n",
    "numeric_cols = toxic_labels + ['length', 'flesch_score']\n",
    "\n",
    "# Calcular matriz de correlação\n",
    "corr_matrix = train[numeric_cols].corr()\n",
    "\n",
    "# Mostrar como tabela\n",
    "print(\"Matriz de correlação:\")\n",
    "display(corr_matrix.round(2))\n",
    "\n",
    "# Visualizar como heatmap\n",
    "plt.figure(figsize=(10, 8))\n",
    "sns.heatmap(corr_matrix, annot=True, cmap='coolwarm', fmt=\".2f\")\n",
    "plt.title(\"Heatmap de Correlação entre Atributos Numéricos\")\n",
    "plt.show()"
   ]
  },
  {
   "cell_type": "markdown",
   "id": "e7569afc",
   "metadata": {},
   "source": [
    "- Existe correlação moderada positiva entre algumas etiquetas, como:\n",
    "\n",
    "    - toxic e obscene: ~0.75\n",
    "\n",
    "    - toxic e insult: ~0.68\n",
    "\n",
    "- A variável length tem correlação moderada com toxic, insult, etc., indicando que comentários tóxicos tendem a ser mais longos.\n",
    "\n",
    "- A variável flesch_score tem correlação negativa com a maioria das etiquetas, especialmente com toxic e length, sugerindo que:\n",
    "\n",
    "- Comentários tóxicos tendem a ser menos legíveis.\n",
    "\n",
    "- Comentários mais longos tendem a ter menor legibilidade.\n",
    "\n",
    "- As correlações não são extremas, o que é bom para evitar colinearidade excessiva.\n"
   ]
  },
  {
   "cell_type": "markdown",
   "id": "14df9985",
   "metadata": {},
   "source": [
    "### **3. Limpeza de dados e transformação**"
   ]
  },
  {
   "cell_type": "markdown",
   "id": "d414ee80",
   "metadata": {},
   "source": [
    " #### **a) Preencha os valores ausentes**"
   ]
  },
  {
   "cell_type": "markdown",
   "id": "f0a90955",
   "metadata": {},
   "source": [
    "O preenchimento de valores ausentes (**missing values**) garante que os dados estejam prontos para modelos que **não aceitam valores nulos**.\n",
    "\n",
    "Regras boas práticas:\n",
    "- O **ajuste** da estratégia de preenchimento é feito **somente no conjunto de treino**.  \n",
    "- A **aplicação** do preenchimento é feita **nos dois conjuntos**: `train` e `test`.  \n",
    "- Escolha da estratégia depende do tipo de dado:\n",
    "  - **Texto**: usar uma string padrão como `\"desconhecido\"`  \n",
    "  - **Numérico contínuo**: média ou mediana  \n",
    "  - **Numérico categórico**: moda (valor mais comum)"
   ]
  },
  {
   "cell_type": "code",
   "execution_count": 68,
   "id": "66b88f76",
   "metadata": {},
   "outputs": [
    {
     "name": "stdout",
     "output_type": "stream",
     "text": [
      "Valores ausentes no train:\n"
     ]
    },
    {
     "data": {
      "text/plain": [
       "id                  0\n",
       "comment_text        0\n",
       "toxic               0\n",
       "severe_toxic        0\n",
       "obscene             0\n",
       "threat              0\n",
       "insult              0\n",
       "identity_hate       0\n",
       "length              0\n",
       "flesch_score        0\n",
       "num_toxic_labels    0\n",
       "dtype: int64"
      ]
     },
     "metadata": {},
     "output_type": "display_data"
    },
    {
     "name": "stdout",
     "output_type": "stream",
     "text": [
      "Valores ausentes no test:\n"
     ]
    },
    {
     "data": {
      "text/plain": [
       "id              0\n",
       "comment_text    0\n",
       "length          0\n",
       "flesch_score    0\n",
       "dtype: int64"
      ]
     },
     "metadata": {},
     "output_type": "display_data"
    }
   ],
   "source": [
    "# Verificar valores ausentes novamente\n",
    "print(\"Valores ausentes no train:\")\n",
    "display(train.isnull().sum())\n",
    "\n",
    "print(\"Valores ausentes no test:\")\n",
    "display(test.isnull().sum())\n",
    "\n",
    "# Preenchimento: aplicar apenas se necessário\n",
    "# Exemplo para texto\n",
    "train['comment_text'].fillna('desconhecido', inplace=True)\n",
    "test['comment_text'].fillna('desconhecido', inplace=True)\n",
    "\n",
    "# Exemplo para numéricos\n",
    "for col in ['length', 'flesch_score']:\n",
    "    mean_value = train[col].mean()  # ajuste no train\n",
    "    train[col].fillna(mean_value, inplace=True)\n",
    "    test[col].fillna(mean_value, inplace=True)\n"
   ]
  },
  {
   "cell_type": "markdown",
   "id": "88fc6aea",
   "metadata": {},
   "source": [
    "- Mesmo assim, o código acima mostra como seria feito o preenchimento correto:\n",
    "\n",
    "    - Ajustado no train (por exemplo, usando a média).\n",
    "\n",
    "    - Aplicado exatamente da mesma forma no test.\n",
    "\n",
    "- Isso evita vazamento de dados (data leakage) e garante consistência na entrada dos modelos."
   ]
  },
  {
   "cell_type": "markdown",
   "id": "120168c5",
   "metadata": {},
   "source": [
    "#### **b) Suavize os ruídos**"
   ]
  },
  {
   "cell_type": "markdown",
   "id": "94d8c0ba",
   "metadata": {},
   "source": [
    "A **suavização** reduz a variabilidade local (ruído) em atributos numéricos contínuos, substituindo valores por representações mais estáveis, como:\n",
    "\n",
    "- **Média por intervalo (bin)** → técnica mais comum.  \n",
    "- Dividimos os valores em **bins (faixas)** no `train`.  \n",
    "- Substituímos cada valor pela **média do bin correspondente**.  \n",
    "- A aplicação é feita **nos dois conjuntos**, mas o cálculo dos bins é feito **apenas com o `train`**.\n",
    "\n",
    "Vamos aplicar a suavização sobre o atributo **`length`** (comprimento dos comentários)."
   ]
  },
  {
   "cell_type": "code",
   "execution_count": 69,
   "id": "a094b8d3",
   "metadata": {},
   "outputs": [
    {
     "name": "stdout",
     "output_type": "stream",
     "text": [
      "Tabela train\n"
     ]
    },
    {
     "data": {
      "text/html": [
       "<div>\n",
       "<style scoped>\n",
       "    .dataframe tbody tr th:only-of-type {\n",
       "        vertical-align: middle;\n",
       "    }\n",
       "\n",
       "    .dataframe tbody tr th {\n",
       "        vertical-align: top;\n",
       "    }\n",
       "\n",
       "    .dataframe thead th {\n",
       "        text-align: right;\n",
       "    }\n",
       "</style>\n",
       "<table border=\"1\" class=\"dataframe\">\n",
       "  <thead>\n",
       "    <tr style=\"text-align: right;\">\n",
       "      <th></th>\n",
       "      <th>length</th>\n",
       "      <th>length_smooth</th>\n",
       "    </tr>\n",
       "  </thead>\n",
       "  <tbody>\n",
       "    <tr>\n",
       "      <th>0</th>\n",
       "      <td>41</td>\n",
       "      <td>34.970074</td>\n",
       "    </tr>\n",
       "    <tr>\n",
       "      <th>1</th>\n",
       "      <td>13</td>\n",
       "      <td>34.970074</td>\n",
       "    </tr>\n",
       "    <tr>\n",
       "      <th>2</th>\n",
       "      <td>41</td>\n",
       "      <td>34.970074</td>\n",
       "    </tr>\n",
       "    <tr>\n",
       "      <th>3</th>\n",
       "      <td>102</td>\n",
       "      <td>34.970074</td>\n",
       "    </tr>\n",
       "    <tr>\n",
       "      <th>4</th>\n",
       "      <td>13</td>\n",
       "      <td>34.970074</td>\n",
       "    </tr>\n",
       "  </tbody>\n",
       "</table>\n",
       "</div>"
      ],
      "text/plain": [
       "   length  length_smooth\n",
       "0      41      34.970074\n",
       "1      13      34.970074\n",
       "2      41      34.970074\n",
       "3     102      34.970074\n",
       "4      13      34.970074"
      ]
     },
     "metadata": {},
     "output_type": "display_data"
    },
    {
     "name": "stdout",
     "output_type": "stream",
     "text": [
      "Tabela test\n"
     ]
    },
    {
     "data": {
      "text/html": [
       "<div>\n",
       "<style scoped>\n",
       "    .dataframe tbody tr th:only-of-type {\n",
       "        vertical-align: middle;\n",
       "    }\n",
       "\n",
       "    .dataframe tbody tr th {\n",
       "        vertical-align: top;\n",
       "    }\n",
       "\n",
       "    .dataframe thead th {\n",
       "        text-align: right;\n",
       "    }\n",
       "</style>\n",
       "<table border=\"1\" class=\"dataframe\">\n",
       "  <thead>\n",
       "    <tr style=\"text-align: right;\">\n",
       "      <th></th>\n",
       "      <th>length</th>\n",
       "      <th>length_smooth</th>\n",
       "    </tr>\n",
       "  </thead>\n",
       "  <tbody>\n",
       "    <tr>\n",
       "      <th>0</th>\n",
       "      <td>73</td>\n",
       "      <td>34.970074</td>\n",
       "    </tr>\n",
       "    <tr>\n",
       "      <th>1</th>\n",
       "      <td>10</td>\n",
       "      <td>34.970074</td>\n",
       "    </tr>\n",
       "    <tr>\n",
       "      <th>2</th>\n",
       "      <td>5</td>\n",
       "      <td>34.970074</td>\n",
       "    </tr>\n",
       "    <tr>\n",
       "      <th>3</th>\n",
       "      <td>34</td>\n",
       "      <td>34.970074</td>\n",
       "    </tr>\n",
       "    <tr>\n",
       "      <th>4</th>\n",
       "      <td>6</td>\n",
       "      <td>34.970074</td>\n",
       "    </tr>\n",
       "  </tbody>\n",
       "</table>\n",
       "</div>"
      ],
      "text/plain": [
       "   length  length_smooth\n",
       "0      73      34.970074\n",
       "1      10      34.970074\n",
       "2       5      34.970074\n",
       "3      34      34.970074\n",
       "4       6      34.970074"
      ]
     },
     "metadata": {},
     "output_type": "display_data"
    }
   ],
   "source": [
    "# Discretizar o atributo 'length' em 12 bins no train\n",
    "train['length_bin'] = pd.cut(train['length'], bins=12)\n",
    "\n",
    "# Calcular a média de cada bin no train\n",
    "bin_means = train.groupby('length_bin')['length'].mean()\n",
    "\n",
    "# Função para suavizar um valor com base nos bins do train\n",
    "def smooth_length(x):\n",
    "    for interval, mean in bin_means.items():\n",
    "        if x in interval:\n",
    "            return mean\n",
    "    return x\n",
    "\n",
    "# Aplicar a suavização no train e no test\n",
    "train['length_smooth'] = train['length'].apply(smooth_length)\n",
    "test['length_smooth'] = test['length'].apply(smooth_length)\n",
    "\n",
    "\n",
    "print('Tabela train')\n",
    "display(train[['length', 'length_smooth']].head())\n",
    "print('Tabela test')\n",
    "display(test[['length', 'length_smooth']].head())\n"
   ]
  },
  {
   "cell_type": "code",
   "execution_count": 70,
   "id": "ce91230f",
   "metadata": {},
   "outputs": [
    {
     "data": {
      "image/png": "[encoded data removed]",
      "text/plain": [
       "<Figure size 800x400 with 1 Axes>"
      ]
     },
     "metadata": {},
     "output_type": "display_data"
    }
   ],
   "source": [
    "# Visualizar a distribuição do comprimento dos comentários\n",
    "plt.figure(figsize=(8, 4))\n",
    "plt.hist(train['length'], bins=29, edgecolor='black')\n",
    "plt.title(\"Distribuição de length com 12 bins\")\n",
    "plt.xlabel(\"length\")\n",
    "plt.ylabel(\"Frequência\")\n",
    "plt.show()"
   ]
  },
  {
   "cell_type": "markdown",
   "id": "509fabb6",
   "metadata": {},
   "source": [
    "- A maioria dos comentários tem **poucas palavras**:  \n",
    "- Mais de **70.000 comentários** estão nos primeiros bins, abaixo de **200 palavras**.\n",
    "- A distribuição é **assimétrica à direita**.\n",
    "\n",
    "- A frequência **cai rapidamente** à medida que o comprimento aumenta:\n",
    "- Há **poucos comentários** com mais de **2000 palavras**.\n",
    "- A cauda direita se estende até **1000 palvras**, mas com baixíssima frequência.\n",
    "- Os últimos bins (acima de 800) têm **frequência quase nula**:\n"
   ]
  },
  {
   "cell_type": "markdown",
   "id": "29621e0b",
   "metadata": {},
   "source": [
    "#### **c) Resolva as inconsistências**"
   ]
  },
  {
   "cell_type": "markdown",
   "id": "3ead3819",
   "metadata": {},
   "source": [
    "Nesta etapa, buscamos identificar e corrigir **inconsistências nos dados**, tais como:\n",
    "\n",
    "- Registros **duplicados**  \n",
    "- **Valores fora do domínio esperado**  \n",
    "- Campos vazios com dados mal formatados (ex: string em branco, espaços, etc.)\n",
    "\n",
    "Aplicamos essas verificações em **`train` e `test`**, especialmente nas colunas de texto (`comment_text`) e atributos binários.\n"
   ]
  },
  {
   "cell_type": "code",
   "execution_count": 71,
   "id": "93c609c1",
   "metadata": {},
   "outputs": [
    {
     "name": "stderr",
     "output_type": "stream",
     "text": [
      "[nltk_data] Downloading package stopwords to\n",
      "[nltk_data]     C:\\Users\\ALEXANDER\\AppData\\Roaming\\nltk_data...\n",
      "[nltk_data]   Package stopwords is already up-to-date!\n"
     ]
    },
    {
     "name": "stdout",
     "output_type": "stream",
     "text": [
      "Inconsistências resolvidas por meio de limpeza textual. Nenhuma codificação conflitante detectada.\n"
     ]
    }
   ],
   "source": [
    "train = train.drop_duplicates()\n",
    "test = test.drop_duplicates()\n",
    "\n",
    "# Pré-processamento de texto (stopwords)\n",
    "nltk.download('stopwords')\n",
    "stop_words = set(stopwords.words('english'))\n",
    "stemmer = SnowballStemmer('english')\n",
    "\n",
    "def clean_text(text):\n",
    "    text = text.lower()\n",
    "    text = re.sub(f\"[{re.escape(string.punctuation)}]\", \"\", text)\n",
    "    text = re.sub(r'\\s+', ' ', text)\n",
    "    text = re.sub(r'[^\\x00-\\x7F]+', ' ', text)  # elimina caracteres no ASCII\n",
    "    text = re.sub(r'\\d+', '', text)\n",
    "    text = re.sub(r'\\s+', ' ', text).strip()\n",
    "    tokens = text.split()\n",
    "    tokens = [stemmer.stem(word) for word in tokens if word not in stop_words and len(word) < 20]  # Filtra palabras largas\n",
    "    return \" \".join(tokens)\n",
    "\n",
    "train['clean_comment'] = train['comment_text'].apply(clean_text)\n",
    "test['clean_comment'] = test['comment_text'].apply(clean_text)\n",
    "\n",
    "# Melhoria na limpeza inicial\n",
    "def safe_clean(df):\n",
    "    df = df.copy()\n",
    "    df['clean_comment'] = df['clean_comment'].replace(['', ' ', np.nan], np.nan)\n",
    "    df = df.dropna(subset=['clean_comment'])\n",
    "    df = df[df['clean_comment'].str.strip().str.len() >= 3]\n",
    "    return df\n",
    "\n",
    "\n",
    "train = safe_clean(train)\n",
    "test = safe_clean(test)\n",
    "\n",
    "print(\"Inconsistências resolvidas por meio de limpeza textual. Nenhuma codificação conflitante detectada.\")"
   ]
  },
  {
   "cell_type": "markdown",
   "id": "f3c9832c",
   "metadata": {},
   "source": [
    "- Foram aplicadas as seguintes etapas para tratar inconsistências nos dados:\n",
    "\n",
    "- Remoção de duplicatas exatas.\n",
    "\n",
    "- Limpeza textual com:\n",
    "\n",
    "    - Conversão para minúsculas.\n",
    "\n",
    "    - Remoção de pontuação.\n",
    "\n",
    "    - Filtragem de stopwords.\n",
    "\n",
    "    - Aplicação de stemming.\n",
    "\n",
    "    - Remoção de tokens longos e ruído.\n",
    "\n",
    "- Exclusão de textos vazios ou muito curtos (menos de 3 caracteres)."
   ]
  },
  {
   "cell_type": "code",
   "execution_count": 72,
   "id": "5cff92a7",
   "metadata": {},
   "outputs": [
    {
     "name": "stdout",
     "output_type": "stream",
     "text": [
      "Duplicados - Train: 0\n",
      "Duplicados - Test: 0\n",
      "Comentários vazios - Train: 0\n",
      "Comentários vazios - Test: 0\n",
      "Valores inesperados nos atributos binários:\n"
     ]
    },
    {
     "data": {
      "text/html": [
       "<div>\n",
       "<style scoped>\n",
       "    .dataframe tbody tr th:only-of-type {\n",
       "        vertical-align: middle;\n",
       "    }\n",
       "\n",
       "    .dataframe tbody tr th {\n",
       "        vertical-align: top;\n",
       "    }\n",
       "\n",
       "    .dataframe thead th {\n",
       "        text-align: right;\n",
       "    }\n",
       "</style>\n",
       "<table border=\"1\" class=\"dataframe\">\n",
       "  <thead>\n",
       "    <tr style=\"text-align: right;\">\n",
       "      <th></th>\n",
       "      <th>Atributo</th>\n",
       "      <th>Valores encontrados</th>\n",
       "    </tr>\n",
       "  </thead>\n",
       "  <tbody>\n",
       "  </tbody>\n",
       "</table>\n",
       "</div>"
      ],
      "text/plain": [
       "Empty DataFrame\n",
       "Columns: [Atributo, Valores encontrados]\n",
       "Index: []"
      ]
     },
     "metadata": {},
     "output_type": "display_data"
    }
   ],
   "source": [
    "# Verificar duplicados (train)\n",
    "duplicates_train = train.duplicated().sum()\n",
    "duplicates_test = test.duplicated().sum()\n",
    "\n",
    "# Verificar se há textos vazios (string em branco ou só espaços)\n",
    "empty_train = train['clean_comment'].apply(lambda x: isinstance(x, str) and x.strip() == '').sum()\n",
    "empty_test = test['clean_comment'].apply(lambda x: isinstance(x, str) and x.strip() == '').sum()\n",
    "\n",
    "\n",
    "# Verificar se os atributos binários contêm apenas 0 e 1\n",
    "bin_inconsist = {\n",
    "    label: train[label].unique().tolist()\n",
    "    for label in toxic_labels\n",
    "    if not set(train[label].unique()).issubset({0, 1})\n",
    "}\n",
    "\n",
    "# Mostrar resultados\n",
    "print(f\"Duplicados - Train: {duplicates_train}\")\n",
    "print(f\"Duplicados - Test: {duplicates_test}\")\n",
    "print(f\"Comentários vazios - Train: {empty_train}\")\n",
    "print(f\"Comentários vazios - Test: {empty_test}\")\n",
    "print(\"Valores inesperados nos atributos binários:\")\n",
    "display(pd.DataFrame(bin_inconsist.items(), columns=[\"Atributo\", \"Valores encontrados\"]))"
   ]
  },
  {
   "cell_type": "markdown",
   "id": "0a75ac35",
   "metadata": {},
   "source": [
    "#### **d) Transforme atributos categóricos nominais em um vetor numérico**"
   ]
  },
  {
   "cell_type": "markdown",
   "id": "e274ed4e",
   "metadata": {},
   "source": [
    "Para isso, usamos a técnica **TF-IDF (Term Frequency-Inverse Document Frequency)**, que transforma cada comentário em um vetor numérico baseado na importância das palavras."
   ]
  },
  {
   "cell_type": "code",
   "execution_count": 73,
   "id": "0a05a755",
   "metadata": {},
   "outputs": [
    {
     "name": "stdout",
     "output_type": "stream",
     "text": [
      "Forma da matriz TF-IDF (treinamento): (159479, 10000)\n",
      "Forma da matriz TF-IDF (teste): (152070, 10000)\n",
      "\n",
      "Fila 0 (comentario):\n"
     ]
    },
    {
     "data": {
      "text/html": [
       "<div>\n",
       "<style scoped>\n",
       "    .dataframe tbody tr th:only-of-type {\n",
       "        vertical-align: middle;\n",
       "    }\n",
       "\n",
       "    .dataframe tbody tr th {\n",
       "        vertical-align: top;\n",
       "    }\n",
       "\n",
       "    .dataframe thead th {\n",
       "        text-align: right;\n",
       "    }\n",
       "</style>\n",
       "<table border=\"1\" class=\"dataframe\">\n",
       "  <thead>\n",
       "    <tr style=\"text-align: right;\">\n",
       "      <th></th>\n",
       "      <th>closur</th>\n",
       "      <th>doll</th>\n",
       "      <th>dont</th>\n",
       "      <th>edit</th>\n",
       "      <th>explan</th>\n",
       "      <th>fac</th>\n",
       "      <th>fan</th>\n",
       "      <th>gas</th>\n",
       "      <th>hardcor</th>\n",
       "      <th>metallica</th>\n",
       "      <th>...</th>\n",
       "      <th>retir</th>\n",
       "      <th>revert</th>\n",
       "      <th>sinc</th>\n",
       "      <th>talk</th>\n",
       "      <th>templat</th>\n",
       "      <th>usernam</th>\n",
       "      <th>vandal</th>\n",
       "      <th>vote</th>\n",
       "      <th>werent</th>\n",
       "      <th>york</th>\n",
       "    </tr>\n",
       "  </thead>\n",
       "  <tbody>\n",
       "    <tr>\n",
       "      <th>0</th>\n",
       "      <td>0.290194</td>\n",
       "      <td>0.323237</td>\n",
       "      <td>0.105089</td>\n",
       "      <td>0.098388</td>\n",
       "      <td>0.189586</td>\n",
       "      <td>0.253809</td>\n",
       "      <td>0.205398</td>\n",
       "      <td>0.260158</td>\n",
       "      <td>0.288662</td>\n",
       "      <td>0.328837</td>\n",
       "      <td>...</td>\n",
       "      <td>0.243139</td>\n",
       "      <td>0.139814</td>\n",
       "      <td>0.13854</td>\n",
       "      <td>0.097207</td>\n",
       "      <td>0.17363</td>\n",
       "      <td>0.198416</td>\n",
       "      <td>0.137972</td>\n",
       "      <td>0.193188</td>\n",
       "      <td>0.235651</td>\n",
       "      <td>0.21976</td>\n",
       "    </tr>\n",
       "  </tbody>\n",
       "</table>\n",
       "<p>1 rows × 24 columns</p>\n",
       "</div>"
      ],
      "text/plain": [
       "     closur      doll      dont      edit    explan       fac       fan  \\\n",
       "0  0.290194  0.323237  0.105089  0.098388  0.189586  0.253809  0.205398   \n",
       "\n",
       "        gas   hardcor  metallica  ...     retir    revert     sinc      talk  \\\n",
       "0  0.260158  0.288662   0.328837  ...  0.243139  0.139814  0.13854  0.097207   \n",
       "\n",
       "   templat   usernam    vandal      vote    werent     york  \n",
       "0  0.17363  0.198416  0.137972  0.193188  0.235651  0.21976  \n",
       "\n",
       "[1 rows x 24 columns]"
      ]
     },
     "metadata": {},
     "output_type": "display_data"
    },
    {
     "name": "stdout",
     "output_type": "stream",
     "text": [
      "\n",
      "Fila 1 (comentario):\n"
     ]
    },
    {
     "data": {
      "text/html": [
       "<div>\n",
       "<style scoped>\n",
       "    .dataframe tbody tr th:only-of-type {\n",
       "        vertical-align: middle;\n",
       "    }\n",
       "\n",
       "    .dataframe tbody tr th {\n",
       "        vertical-align: top;\n",
       "    }\n",
       "\n",
       "    .dataframe thead th {\n",
       "        text-align: right;\n",
       "    }\n",
       "</style>\n",
       "<table border=\"1\" class=\"dataframe\">\n",
       "  <thead>\n",
       "    <tr style=\"text-align: right;\">\n",
       "      <th></th>\n",
       "      <th>background</th>\n",
       "      <th>colour</th>\n",
       "      <th>januari</th>\n",
       "      <th>match</th>\n",
       "      <th>stuck</th>\n",
       "      <th>talk</th>\n",
       "      <th>thank</th>\n",
       "      <th>utc</th>\n",
       "    </tr>\n",
       "  </thead>\n",
       "  <tbody>\n",
       "    <tr>\n",
       "      <th>0</th>\n",
       "      <td>0.399472</td>\n",
       "      <td>0.463368</td>\n",
       "      <td>0.376183</td>\n",
       "      <td>0.387675</td>\n",
       "      <td>0.444444</td>\n",
       "      <td>0.176219</td>\n",
       "      <td>0.191516</td>\n",
       "      <td>0.262</td>\n",
       "    </tr>\n",
       "  </tbody>\n",
       "</table>\n",
       "</div>"
      ],
      "text/plain": [
       "   background    colour   januari     match     stuck      talk     thank  \\\n",
       "0    0.399472  0.463368  0.376183  0.387675  0.444444  0.176219  0.191516   \n",
       "\n",
       "     utc  \n",
       "0  0.262  "
      ]
     },
     "metadata": {},
     "output_type": "display_data"
    },
    {
     "name": "stdout",
     "output_type": "stream",
     "text": [
      "\n",
      "Fila 2 (comentario):\n"
     ]
    },
    {
     "data": {
      "text/html": [
       "<div>\n",
       "<style scoped>\n",
       "    .dataframe tbody tr th:only-of-type {\n",
       "        vertical-align: middle;\n",
       "    }\n",
       "\n",
       "    .dataframe tbody tr th {\n",
       "        vertical-align: top;\n",
       "    }\n",
       "\n",
       "    .dataframe thead th {\n",
       "        text-align: right;\n",
       "    }\n",
       "</style>\n",
       "<table border=\"1\" class=\"dataframe\">\n",
       "  <thead>\n",
       "    <tr style=\"text-align: right;\">\n",
       "      <th></th>\n",
       "      <th>actual</th>\n",
       "      <th>care</th>\n",
       "      <th>constant</th>\n",
       "      <th>edit</th>\n",
       "      <th>format</th>\n",
       "      <th>guy</th>\n",
       "      <th>hey</th>\n",
       "      <th>info</th>\n",
       "      <th>inform</th>\n",
       "      <th>instead</th>\n",
       "      <th>man</th>\n",
       "      <th>page</th>\n",
       "      <th>realli</th>\n",
       "      <th>relev</th>\n",
       "      <th>remov</th>\n",
       "      <th>talk</th>\n",
       "      <th>tri</th>\n",
       "      <th>war</th>\n",
       "    </tr>\n",
       "  </thead>\n",
       "  <tbody>\n",
       "    <tr>\n",
       "      <th>0</th>\n",
       "      <td>0.202501</td>\n",
       "      <td>0.229826</td>\n",
       "      <td>0.3118</td>\n",
       "      <td>0.27919</td>\n",
       "      <td>0.283085</td>\n",
       "      <td>0.243421</td>\n",
       "      <td>0.25349</td>\n",
       "      <td>0.257625</td>\n",
       "      <td>0.182985</td>\n",
       "      <td>0.235598</td>\n",
       "      <td>0.25169</td>\n",
       "      <td>0.127018</td>\n",
       "      <td>0.194168</td>\n",
       "      <td>0.249642</td>\n",
       "      <td>0.17358</td>\n",
       "      <td>0.27584</td>\n",
       "      <td>0.184785</td>\n",
       "      <td>0.228324</td>\n",
       "    </tr>\n",
       "  </tbody>\n",
       "</table>\n",
       "</div>"
      ],
      "text/plain": [
       "     actual      care  constant     edit    format       guy      hey  \\\n",
       "0  0.202501  0.229826    0.3118  0.27919  0.283085  0.243421  0.25349   \n",
       "\n",
       "       info    inform   instead      man      page    realli     relev  \\\n",
       "0  0.257625  0.182985  0.235598  0.25169  0.127018  0.194168  0.249642   \n",
       "\n",
       "     remov     talk       tri       war  \n",
       "0  0.17358  0.27584  0.184785  0.228324  "
      ]
     },
     "metadata": {},
     "output_type": "display_data"
    },
    {
     "name": "stdout",
     "output_type": "stream",
     "text": [
      "\n",
      "Fila 3 (comentario):\n"
     ]
    },
    {
     "data": {
      "text/html": [
       "<div>\n",
       "<style scoped>\n",
       "    .dataframe tbody tr th:only-of-type {\n",
       "        vertical-align: middle;\n",
       "    }\n",
       "\n",
       "    .dataframe tbody tr th {\n",
       "        vertical-align: top;\n",
       "    }\n",
       "\n",
       "    .dataframe thead th {\n",
       "        text-align: right;\n",
       "    }\n",
       "</style>\n",
       "<table border=\"1\" class=\"dataframe\">\n",
       "  <thead>\n",
       "    <tr style=\"text-align: right;\">\n",
       "      <th></th>\n",
       "      <th>accid</th>\n",
       "      <th>appear</th>\n",
       "      <th>articl</th>\n",
       "      <th>backlog</th>\n",
       "      <th>date</th>\n",
       "      <th>delay</th>\n",
       "      <th>els</th>\n",
       "      <th>exact</th>\n",
       "      <th>form</th>\n",
       "      <th>format</th>\n",
       "      <th>...</th>\n",
       "      <th>statist</th>\n",
       "      <th>style</th>\n",
       "      <th>subsect</th>\n",
       "      <th>suggest</th>\n",
       "      <th>think</th>\n",
       "      <th>tidi</th>\n",
       "      <th>turn</th>\n",
       "      <th>type</th>\n",
       "      <th>want</th>\n",
       "      <th>wonder</th>\n",
       "    </tr>\n",
       "  </thead>\n",
       "  <tbody>\n",
       "    <tr>\n",
       "      <th>0</th>\n",
       "      <td>0.192102</td>\n",
       "      <td>0.118583</td>\n",
       "      <td>0.063769</td>\n",
       "      <td>0.216245</td>\n",
       "      <td>0.127913</td>\n",
       "      <td>0.172444</td>\n",
       "      <td>0.122001</td>\n",
       "      <td>0.133567</td>\n",
       "      <td>0.137052</td>\n",
       "      <td>0.456108</td>\n",
       "      <td>...</td>\n",
       "      <td>0.179748</td>\n",
       "      <td>0.136312</td>\n",
       "      <td>0.192996</td>\n",
       "      <td>0.113762</td>\n",
       "      <td>0.083876</td>\n",
       "      <td>0.214338</td>\n",
       "      <td>0.145711</td>\n",
       "      <td>0.135001</td>\n",
       "      <td>0.092164</td>\n",
       "      <td>0.138374</td>\n",
       "    </tr>\n",
       "  </tbody>\n",
       "</table>\n",
       "<p>1 rows × 36 columns</p>\n",
       "</div>"
      ],
      "text/plain": [
       "      accid    appear    articl   backlog      date     delay       els  \\\n",
       "0  0.192102  0.118583  0.063769  0.216245  0.127913  0.172444  0.122001   \n",
       "\n",
       "      exact      form    format  ...   statist     style   subsect   suggest  \\\n",
       "0  0.133567  0.137052  0.456108  ...  0.179748  0.136312  0.192996  0.113762   \n",
       "\n",
       "      think      tidi      turn      type      want    wonder  \n",
       "0  0.083876  0.214338  0.145711  0.135001  0.092164  0.138374  \n",
       "\n",
       "[1 rows x 36 columns]"
      ]
     },
     "metadata": {},
     "output_type": "display_data"
    },
    {
     "name": "stdout",
     "output_type": "stream",
     "text": [
      "\n",
      "Fila 4 (comentario):\n"
     ]
    },
    {
     "data": {
      "text/html": [
       "<div>\n",
       "<style scoped>\n",
       "    .dataframe tbody tr th:only-of-type {\n",
       "        vertical-align: middle;\n",
       "    }\n",
       "\n",
       "    .dataframe tbody tr th {\n",
       "        vertical-align: top;\n",
       "    }\n",
       "\n",
       "    .dataframe thead th {\n",
       "        text-align: right;\n",
       "    }\n",
       "</style>\n",
       "<table border=\"1\" class=\"dataframe\">\n",
       "  <thead>\n",
       "    <tr style=\"text-align: right;\">\n",
       "      <th></th>\n",
       "      <th>chanc</th>\n",
       "      <th>hero</th>\n",
       "      <th>page</th>\n",
       "      <th>rememb</th>\n",
       "      <th>sir</th>\n",
       "    </tr>\n",
       "  </thead>\n",
       "  <tbody>\n",
       "    <tr>\n",
       "      <th>0</th>\n",
       "      <td>0.455799</td>\n",
       "      <td>0.566634</td>\n",
       "      <td>0.200909</td>\n",
       "      <td>0.40775</td>\n",
       "      <td>0.514343</td>\n",
       "    </tr>\n",
       "  </tbody>\n",
       "</table>\n",
       "</div>"
      ],
      "text/plain": [
       "      chanc      hero      page   rememb       sir\n",
       "0  0.455799  0.566634  0.200909  0.40775  0.514343"
      ]
     },
     "metadata": {},
     "output_type": "display_data"
    }
   ],
   "source": [
    "# TF-IDF: transforma texto (atributo nominal complexo) em vetor numérico\n",
    "from sklearn.feature_extraction.text import TfidfVectorizer\n",
    "\n",
    "tfidf = TfidfVectorizer(\n",
    "    max_features=10000,\n",
    "    stop_words='english',\n",
    "    min_df=5,\n",
    "    max_df=0.9,\n",
    "    token_pattern=r'(?u)\\b[A-Za-z]{3,}\\b'\n",
    ")\n",
    "\n",
    "X_train_tfidf = tfidf.fit_transform(train['clean_comment'])\n",
    "X_test_tfidf = tfidf.transform(test['clean_comment'])\n",
    "\n",
    "print(f\"Forma da matriz TF-IDF (treinamento): {X_train_tfidf.shape}\")\n",
    "print(f\"Forma da matriz TF-IDF (teste): {X_test_tfidf.shape}\")\n",
    "\n",
    "\n",
    "import numpy as np\n",
    "\n",
    "# 1) Obtener los índices de filas que contienen valores distintos de cero\n",
    "nonzero_indices = X_train_tfidf.nonzero()[0]\n",
    "\n",
    "# 2) Eliminar duplicados y quedarte con índices únicos\n",
    "unique_indices = np.unique(nonzero_indices)\n",
    "\n",
    "# 3) Mostrar las 5 primeras filas con valores no nulos\n",
    "for idx in unique_indices[:5]:\n",
    "    print(f\"\\nFila {idx} (comentario):\")\n",
    "    row = pd.DataFrame(\n",
    "        X_train_tfidf[idx].toarray(),\n",
    "        columns=tfidf.get_feature_names_out()\n",
    "    )\n",
    "    nonzero = row.loc[:, (row != 0).any()]\n",
    "    display(nonzero)\n"
   ]
  },
  {
   "cell_type": "markdown",
   "id": "41c5aa44",
   "metadata": {},
   "source": [
    "- **TF-IDF** transforma o texto em uma matriz esparsa de tamanho `(n_amostras, n_palavras)`.\n",
    "- Apenas palavras com pelo menos 3 letras e que aparecem em ao menos 5 documentos foram consideradas.\n",
    "- Esta vetorização permite aplicar algoritmos de aprendizado de máquina diretamente aos comentários processados."
   ]
  },
  {
   "cell_type": "markdown",
   "id": "8cbe09b3",
   "metadata": {},
   "source": [
    "#### **e) Transforme atributos categóricos ordinais em atributos numéricos seguindo a ordem entre eles.**"
   ]
  },
  {
   "cell_type": "markdown",
   "id": "05dea2ae",
   "metadata": {},
   "source": [
    "Esta etapa consiste em transformar atributos categóricos ordinários (que possuem uma hierarquia ou nível implícito) em valores numéricos respeitando sua ordem lógica."
   ]
  },
  {
   "cell_type": "code",
   "execution_count": 74,
   "id": "41547f10",
   "metadata": {},
   "outputs": [
    {
     "name": "stdout",
     "output_type": "stream",
     "text": [
      "Não existem atributos categóricos ordinais neste conjunto de dados.\n"
     ]
    }
   ],
   "source": [
    "\n",
    "print(\"Não existem atributos categóricos ordinais neste conjunto de dados.\")\n"
   ]
  },
  {
   "cell_type": "markdown",
   "id": "76580417",
   "metadata": {},
   "source": [
    "- O conjunto de dados do desafio contém apenas:\n",
    "\n",
    "    + texto_de_comentário -> texto livre (não ordinal)\n",
    "\n",
    "    + colunas como tóxico, obsceno, etc. -> binário (0 ou 1)\n",
    "    \n",
    "    + lenght e flesh_scaler -> continuos (não ordinal) \n",
    "\n",
    "- Portanto, não há atributos que exijam transformação ordinal.\n"
   ]
  },
  {
   "cell_type": "markdown",
   "id": "daa55b49",
   "metadata": {},
   "source": [
    "### **f) Normalize os valores de atributos numéricos.**"
   ]
  },
  {
   "cell_type": "markdown",
   "id": "b8517f67",
   "metadata": {},
   "source": [
    "Foram aplicadas duas técnicas de normalização aos atributos numéricos derivados:\n",
    "\n",
    "- **Min-Max Scaling**: Normaliza os valores entre 0 e 1, útil para algoritmos sensíveis à escala.\n",
    "- **Z-Score Scaling (padronização)**: Centraliza os dados em média 0 e desvio padrão 1, apropriado para muitos algoritmos estatísticos.\n",
    "\n",
    "#### Atributos normalizados:\n",
    "- `length` → `length_norm`, `length_z`\n",
    "- `flesch_score` → `flesch_score_norm`"
   ]
  },
  {
   "cell_type": "code",
   "execution_count": 75,
   "id": "d30e582c",
   "metadata": {},
   "outputs": [
    {
     "name": "stdout",
     "output_type": "stream",
     "text": [
      "Lenght:\n",
      "Tabela train\n"
     ]
    },
    {
     "data": {
      "text/html": [
       "<div>\n",
       "<style scoped>\n",
       "    .dataframe tbody tr th:only-of-type {\n",
       "        vertical-align: middle;\n",
       "    }\n",
       "\n",
       "    .dataframe tbody tr th {\n",
       "        vertical-align: top;\n",
       "    }\n",
       "\n",
       "    .dataframe thead th {\n",
       "        text-align: right;\n",
       "    }\n",
       "</style>\n",
       "<table border=\"1\" class=\"dataframe\">\n",
       "  <thead>\n",
       "    <tr style=\"text-align: right;\">\n",
       "      <th></th>\n",
       "      <th>length</th>\n",
       "      <th>length_norm</th>\n",
       "      <th>length_z</th>\n",
       "    </tr>\n",
       "  </thead>\n",
       "  <tbody>\n",
       "    <tr>\n",
       "      <th>0</th>\n",
       "      <td>41</td>\n",
       "      <td>0.030281</td>\n",
       "      <td>-0.239259</td>\n",
       "    </tr>\n",
       "    <tr>\n",
       "      <th>1</th>\n",
       "      <td>13</td>\n",
       "      <td>0.009601</td>\n",
       "      <td>-0.534749</td>\n",
       "    </tr>\n",
       "    <tr>\n",
       "      <th>2</th>\n",
       "      <td>41</td>\n",
       "      <td>0.030281</td>\n",
       "      <td>-0.239259</td>\n",
       "    </tr>\n",
       "    <tr>\n",
       "      <th>3</th>\n",
       "      <td>102</td>\n",
       "      <td>0.075332</td>\n",
       "      <td>0.404490</td>\n",
       "    </tr>\n",
       "    <tr>\n",
       "      <th>4</th>\n",
       "      <td>13</td>\n",
       "      <td>0.009601</td>\n",
       "      <td>-0.534749</td>\n",
       "    </tr>\n",
       "  </tbody>\n",
       "</table>\n",
       "</div>"
      ],
      "text/plain": [
       "   length  length_norm  length_z\n",
       "0      41     0.030281 -0.239259\n",
       "1      13     0.009601 -0.534749\n",
       "2      41     0.030281 -0.239259\n",
       "3     102     0.075332  0.404490\n",
       "4      13     0.009601 -0.534749"
      ]
     },
     "metadata": {},
     "output_type": "display_data"
    },
    {
     "name": "stdout",
     "output_type": "stream",
     "text": [
      "Tabela test\n"
     ]
    },
    {
     "data": {
      "text/html": [
       "<div>\n",
       "<style scoped>\n",
       "    .dataframe tbody tr th:only-of-type {\n",
       "        vertical-align: middle;\n",
       "    }\n",
       "\n",
       "    .dataframe tbody tr th {\n",
       "        vertical-align: top;\n",
       "    }\n",
       "\n",
       "    .dataframe thead th {\n",
       "        text-align: right;\n",
       "    }\n",
       "</style>\n",
       "<table border=\"1\" class=\"dataframe\">\n",
       "  <thead>\n",
       "    <tr style=\"text-align: right;\">\n",
       "      <th></th>\n",
       "      <th>length</th>\n",
       "      <th>length_norm</th>\n",
       "      <th>length_z</th>\n",
       "    </tr>\n",
       "  </thead>\n",
       "  <tbody>\n",
       "    <tr>\n",
       "      <th>0</th>\n",
       "      <td>73</td>\n",
       "      <td>0.053914</td>\n",
       "      <td>0.098445</td>\n",
       "    </tr>\n",
       "    <tr>\n",
       "      <th>1</th>\n",
       "      <td>10</td>\n",
       "      <td>0.007386</td>\n",
       "      <td>-0.566409</td>\n",
       "    </tr>\n",
       "    <tr>\n",
       "      <th>2</th>\n",
       "      <td>5</td>\n",
       "      <td>0.003693</td>\n",
       "      <td>-0.619175</td>\n",
       "    </tr>\n",
       "    <tr>\n",
       "      <th>3</th>\n",
       "      <td>34</td>\n",
       "      <td>0.025111</td>\n",
       "      <td>-0.313131</td>\n",
       "    </tr>\n",
       "    <tr>\n",
       "      <th>4</th>\n",
       "      <td>6</td>\n",
       "      <td>0.004431</td>\n",
       "      <td>-0.608622</td>\n",
       "    </tr>\n",
       "  </tbody>\n",
       "</table>\n",
       "</div>"
      ],
      "text/plain": [
       "   length  length_norm  length_z\n",
       "0      73     0.053914  0.098445\n",
       "1      10     0.007386 -0.566409\n",
       "2       5     0.003693 -0.619175\n",
       "3      34     0.025111 -0.313131\n",
       "4       6     0.004431 -0.608622"
      ]
     },
     "metadata": {},
     "output_type": "display_data"
    }
   ],
   "source": [
    "# Normalização Min-Max\n",
    "minmax_scaler = MinMaxScaler()\n",
    "train['length_norm'] = minmax_scaler.fit_transform(train[['length']])\n",
    "test['length_norm'] = minmax_scaler.transform(test[['length']])\n",
    "\n",
    "# Normalização Z-score\n",
    "zscore_scaler = StandardScaler()\n",
    "train['length_z'] = zscore_scaler.fit_transform(train[['length']])\n",
    "test['length_z'] = zscore_scaler.transform(test[['length']])\n",
    "\n",
    "\n",
    "train['flesch_score_norm'] = zscore_scaler.fit_transform(train[['flesch_score']])\n",
    "test['flesch_score_norm'] = zscore_scaler.transform(test[['flesch_score']])\n",
    "\n",
    "print('Lenght:')\n",
    "print('Tabela train')\n",
    "display(train[['length', 'length_norm', 'length_z']].head())\n",
    "print('Tabela test')\n",
    "display(test[['length', 'length_norm', 'length_z']].head())\n",
    "\n"
   ]
  },
  {
   "cell_type": "markdown",
   "id": "c8884323",
   "metadata": {},
   "source": [
    "- Os valores de `length_norm` foram transformados para o intervalo entre **0 e 1**.\n",
    "- Um valor pequeno (ex: `0.0122`) indica que o comentário é um dos mais curtos da base.\n",
    "- Um valor maior (ex: `0.1233`) indica que o comentário é relativamente longo comparado aos demais.\n",
    "- Essa escala é especialmente útil para **algoritmos sensíveis à magnitude**, como KNN, SVM com kernel e redes neurais."
   ]
  },
  {
   "cell_type": "markdown",
   "id": "56dfadd0",
   "metadata": {},
   "source": [
    "- Os valores de `length_z` mostram quantos desvios padrão um valor está da média:\n",
    "  - Valor negativo → abaixo da média de comprimento.\n",
    "  - Valor positivo → acima da média.\n",
    "- Exemplo: `-0.55` indica um comentário significativamente mais curto que a média.\n",
    "- Útil para modelos lineares que assumem distribuição normal dos dados, como regressão e SVM linear.\n"
   ]
  },
  {
   "cell_type": "code",
   "execution_count": 76,
   "id": "34d28517",
   "metadata": {},
   "outputs": [
    {
     "name": "stdout",
     "output_type": "stream",
     "text": [
      "Flesch:\n",
      "Tabela train\n"
     ]
    },
    {
     "data": {
      "text/html": [
       "<div>\n",
       "<style scoped>\n",
       "    .dataframe tbody tr th:only-of-type {\n",
       "        vertical-align: middle;\n",
       "    }\n",
       "\n",
       "    .dataframe tbody tr th {\n",
       "        vertical-align: top;\n",
       "    }\n",
       "\n",
       "    .dataframe thead th {\n",
       "        text-align: right;\n",
       "    }\n",
       "</style>\n",
       "<table border=\"1\" class=\"dataframe\">\n",
       "  <thead>\n",
       "    <tr style=\"text-align: right;\">\n",
       "      <th></th>\n",
       "      <th>flesch_score</th>\n",
       "      <th>flesch_score_norm</th>\n",
       "    </tr>\n",
       "  </thead>\n",
       "  <tbody>\n",
       "    <tr>\n",
       "      <th>0</th>\n",
       "      <td>66.370388</td>\n",
       "      <td>0.048078</td>\n",
       "    </tr>\n",
       "    <tr>\n",
       "      <th>1</th>\n",
       "      <td>73.795735</td>\n",
       "      <td>0.106214</td>\n",
       "    </tr>\n",
       "    <tr>\n",
       "      <th>2</th>\n",
       "      <td>65.725000</td>\n",
       "      <td>0.043025</td>\n",
       "    </tr>\n",
       "    <tr>\n",
       "      <th>3</th>\n",
       "      <td>51.112030</td>\n",
       "      <td>-0.071386</td>\n",
       "    </tr>\n",
       "    <tr>\n",
       "      <th>4</th>\n",
       "      <td>89.606731</td>\n",
       "      <td>0.230004</td>\n",
       "    </tr>\n",
       "  </tbody>\n",
       "</table>\n",
       "</div>"
      ],
      "text/plain": [
       "   flesch_score  flesch_score_norm\n",
       "0     66.370388           0.048078\n",
       "1     73.795735           0.106214\n",
       "2     65.725000           0.043025\n",
       "3     51.112030          -0.071386\n",
       "4     89.606731           0.230004"
      ]
     },
     "metadata": {},
     "output_type": "display_data"
    },
    {
     "name": "stdout",
     "output_type": "stream",
     "text": [
      "Tabela test\n"
     ]
    },
    {
     "data": {
      "text/html": [
       "<div>\n",
       "<style scoped>\n",
       "    .dataframe tbody tr th:only-of-type {\n",
       "        vertical-align: middle;\n",
       "    }\n",
       "\n",
       "    .dataframe tbody tr th {\n",
       "        vertical-align: top;\n",
       "    }\n",
       "\n",
       "    .dataframe thead th {\n",
       "        text-align: right;\n",
       "    }\n",
       "</style>\n",
       "<table border=\"1\" class=\"dataframe\">\n",
       "  <thead>\n",
       "    <tr style=\"text-align: right;\">\n",
       "      <th></th>\n",
       "      <th>flesch_score</th>\n",
       "      <th>flesch_score_norm</th>\n",
       "    </tr>\n",
       "  </thead>\n",
       "  <tbody>\n",
       "    <tr>\n",
       "      <th>0</th>\n",
       "      <td>93.605000</td>\n",
       "      <td>0.261308</td>\n",
       "    </tr>\n",
       "    <tr>\n",
       "      <th>1</th>\n",
       "      <td>95.165000</td>\n",
       "      <td>0.273522</td>\n",
       "    </tr>\n",
       "    <tr>\n",
       "      <th>2</th>\n",
       "      <td>49.480000</td>\n",
       "      <td>-0.084163</td>\n",
       "    </tr>\n",
       "    <tr>\n",
       "      <th>3</th>\n",
       "      <td>73.757281</td>\n",
       "      <td>0.105913</td>\n",
       "    </tr>\n",
       "    <tr>\n",
       "      <th>4</th>\n",
       "      <td>30.530000</td>\n",
       "      <td>-0.232530</td>\n",
       "    </tr>\n",
       "  </tbody>\n",
       "</table>\n",
       "</div>"
      ],
      "text/plain": [
       "   flesch_score  flesch_score_norm\n",
       "0     93.605000           0.261308\n",
       "1     95.165000           0.273522\n",
       "2     49.480000          -0.084163\n",
       "3     73.757281           0.105913\n",
       "4     30.530000          -0.232530"
      ]
     },
     "metadata": {},
     "output_type": "display_data"
    }
   ],
   "source": [
    "print('Flesch:')\n",
    "print('Tabela train')\n",
    "display(train[['flesch_score', 'flesch_score_norm']].head())\n",
    "print('Tabela test')\n",
    "display(test[['flesch_score', 'flesch_score_norm']].head())"
   ]
  },
  {
   "cell_type": "markdown",
   "id": "06cc0237",
   "metadata": {},
   "source": [
    "- O `flesch_scaler` mede a facilidade de leitura do comentário:\n",
    "  - Valor alto → fácil de ler.\n",
    "  - Valor baixo → mais difícil de ler.\n",
    "- A normalização por Z-score permite comparar diretamente a dificuldade relativa dos textos:\n",
    "  - Exemplo: `0.26` indica que o texto é **mais fácil** de ler do que a média.\n",
    "  - `-0.23` indica que é **mais difícil**."
   ]
  },
  {
   "cell_type": "markdown",
   "id": "1811b29c",
   "metadata": {},
   "source": [
    "### **Fase 2 - Mineração de padrões frequentes**"
   ]
  },
  {
   "cell_type": "markdown",
   "id": "d9c0aae2",
   "metadata": {},
   "source": [
    "### **4. Regras de Associação:**"
   ]
  },
  {
   "cell_type": "markdown",
   "id": "fd8f17ff",
   "metadata": {},
   "source": [
    "#### **a) Discretizar atributos numéricos**"
   ]
  },
  {
   "cell_type": "markdown",
   "id": "08394902",
   "metadata": {},
   "source": [
    "O objetivo é discretizar atributos numéricos contínuos **(length e flesch_score)** em categorias qualitativas (categóricas) para facilitar análises."
   ]
  },
  {
   "cell_type": "code",
   "execution_count": 77,
   "id": "60d3a8f7",
   "metadata": {},
   "outputs": [
    {
     "data": {
      "text/html": [
       "<div>\n",
       "<style scoped>\n",
       "    .dataframe tbody tr th:only-of-type {\n",
       "        vertical-align: middle;\n",
       "    }\n",
       "\n",
       "    .dataframe tbody tr th {\n",
       "        vertical-align: top;\n",
       "    }\n",
       "\n",
       "    .dataframe thead th {\n",
       "        text-align: right;\n",
       "    }\n",
       "</style>\n",
       "<table border=\"1\" class=\"dataframe\">\n",
       "  <thead>\n",
       "    <tr style=\"text-align: right;\">\n",
       "      <th></th>\n",
       "      <th>length</th>\n",
       "      <th>length_cat</th>\n",
       "      <th>flesch_score</th>\n",
       "      <th>flesch_cat</th>\n",
       "    </tr>\n",
       "  </thead>\n",
       "  <tbody>\n",
       "    <tr>\n",
       "      <th>0</th>\n",
       "      <td>41</td>\n",
       "      <td>medio</td>\n",
       "      <td>66.370388</td>\n",
       "      <td>padrão</td>\n",
       "    </tr>\n",
       "    <tr>\n",
       "      <th>1</th>\n",
       "      <td>13</td>\n",
       "      <td>curto</td>\n",
       "      <td>73.795735</td>\n",
       "      <td>razoavelmente fácil</td>\n",
       "    </tr>\n",
       "    <tr>\n",
       "      <th>2</th>\n",
       "      <td>41</td>\n",
       "      <td>medio</td>\n",
       "      <td>65.725000</td>\n",
       "      <td>padrão</td>\n",
       "    </tr>\n",
       "    <tr>\n",
       "      <th>3</th>\n",
       "      <td>102</td>\n",
       "      <td>muito_longo</td>\n",
       "      <td>51.112030</td>\n",
       "      <td>um pouco difícil</td>\n",
       "    </tr>\n",
       "    <tr>\n",
       "      <th>4</th>\n",
       "      <td>13</td>\n",
       "      <td>curto</td>\n",
       "      <td>89.606731</td>\n",
       "      <td>muito facil</td>\n",
       "    </tr>\n",
       "    <tr>\n",
       "      <th>5</th>\n",
       "      <td>10</td>\n",
       "      <td>muito_curto</td>\n",
       "      <td>78.245000</td>\n",
       "      <td>razoavelmente fácil</td>\n",
       "    </tr>\n",
       "    <tr>\n",
       "      <th>6</th>\n",
       "      <td>8</td>\n",
       "      <td>muito_curto</td>\n",
       "      <td>71.815000</td>\n",
       "      <td>razoavelmente fácil</td>\n",
       "    </tr>\n",
       "    <tr>\n",
       "      <th>7</th>\n",
       "      <td>20</td>\n",
       "      <td>curto</td>\n",
       "      <td>69.785000</td>\n",
       "      <td>razoavelmente fácil</td>\n",
       "    </tr>\n",
       "    <tr>\n",
       "      <th>8</th>\n",
       "      <td>77</td>\n",
       "      <td>longo</td>\n",
       "      <td>62.576361</td>\n",
       "      <td>padrão</td>\n",
       "    </tr>\n",
       "    <tr>\n",
       "      <th>9</th>\n",
       "      <td>12</td>\n",
       "      <td>curto</td>\n",
       "      <td>67.755000</td>\n",
       "      <td>padrão</td>\n",
       "    </tr>\n",
       "  </tbody>\n",
       "</table>\n",
       "</div>"
      ],
      "text/plain": [
       "   length   length_cat  flesch_score           flesch_cat\n",
       "0      41        medio     66.370388               padrão\n",
       "1      13        curto     73.795735  razoavelmente fácil\n",
       "2      41        medio     65.725000               padrão\n",
       "3     102  muito_longo     51.112030     um pouco difícil\n",
       "4      13        curto     89.606731          muito facil\n",
       "5      10  muito_curto     78.245000  razoavelmente fácil\n",
       "6       8  muito_curto     71.815000  razoavelmente fácil\n",
       "7      20        curto     69.785000  razoavelmente fácil\n",
       "8      77        longo     62.576361               padrão\n",
       "9      12        curto     67.755000               padrão"
      ]
     },
     "metadata": {},
     "output_type": "display_data"
    }
   ],
   "source": [
    "# Discretizar length em 5 faixas baseadas em tamanho de comentários\n",
    "length_bins = [0, 10, 25, 50, 100, train['length'].max()]\n",
    "length_labels = ['muito_curto', 'curto', 'medio', 'longo', 'muito_longo']\n",
    "train['length_cat'] = pd.cut(train['length'], bins=length_bins, labels=length_labels, include_lowest=True)\n",
    "\n",
    "\n",
    "# Discretizar flesch_score em 7 níveis standars\n",
    "flesch_bins = [0, 29, 49, 59, 69, 79, 89, 100]\n",
    "flesch_labels = ['muito_dificil', 'dificil', 'um pouco difícil', 'padrão', 'razoavelmente fácil', 'facil', 'muito facil']\n",
    "train['flesch_cat'] = pd.cut(train['flesch_score'], bins=flesch_bins, labels=flesch_labels, include_lowest=True)\n",
    "\n",
    "# Visualizar exemplos\n",
    "display(train[['length', 'length_cat', 'flesch_score', 'flesch_cat']].head(10))\n"
   ]
  },
  {
   "cell_type": "code",
   "execution_count": 78,
   "id": "2c3578c8",
   "metadata": {},
   "outputs": [
    {
     "name": "stdout",
     "output_type": "stream",
     "text": [
      "                          Quantidade\n",
      "Categoria de comprimento            \n",
      "muito_curto                    26034\n",
      "curto                          38258\n",
      "medio                          38319\n",
      "longo                          30580\n",
      "muito_longo                    26288\n"
     ]
    },
    {
     "data": {
      "image/png": "[encoded data removed]",
      "text/plain": [
       "<Figure size 800x500 with 1 Axes>"
      ]
     },
     "metadata": {},
     "output_type": "display_data"
    }
   ],
   "source": [
    "# Length\n",
    "length_counts = train['length_cat'].value_counts().sort_index()\n",
    "length_df = length_counts.to_frame(name='Quantidade')\n",
    "length_df.index.name = 'Categoria de comprimento'\n",
    "print(length_df)\n",
    "\n",
    "# Visualizacao Length\n",
    "length_counts = train['length_cat'].value_counts().sort_index()\n",
    "\n",
    "plt.figure(figsize=(8, 5))\n",
    "plt.bar(length_counts.index, length_counts.values, color='skyblue')\n",
    "plt.title('Distribuição por Categoria de Comprimento')\n",
    "plt.xlabel('Categoria de comprimento')\n",
    "plt.ylabel('Quantidade')\n",
    "plt.xticks(rotation=45)\n",
    "plt.tight_layout()\n",
    "plt.show()\n",
    "\n"
   ]
  },
  {
   "cell_type": "markdown",
   "id": "591b7c1d",
   "metadata": {},
   "source": [
    "- A maioria dos comentários é **`muito curta ou curta`** (mais de **`65%`** dos dados), o que indica uma tendência a mensagens **`breves`**, típicas de redes sociais ou seções de comentários online.\n",
    "- Comentários **`muito longos`** são os menos frequentes, sugerindo que textos mais extensos são menos comuns no conjunto de dados.\n",
    "\n",
    "---"
   ]
  },
  {
   "cell_type": "code",
   "execution_count": 79,
   "id": "32c2d47e",
   "metadata": {},
   "outputs": [
    {
     "name": "stdout",
     "output_type": "stream",
     "text": [
      "                           Quantidade\n",
      "Categoria de legibilidade            \n",
      "muito_dificil                    7741\n",
      "dificil                         27516\n",
      "um pouco difícil                27725\n",
      "padrão                          32234\n",
      "razoavelmente fácil             26995\n",
      "facil                           17065\n",
      "muito facil                      9782\n"
     ]
    },
    {
     "data": {
      "image/png": "[encoded data removed]",
      "text/plain": [
       "<Figure size 800x500 with 1 Axes>"
      ]
     },
     "metadata": {},
     "output_type": "display_data"
    }
   ],
   "source": [
    "# Flesch\n",
    "flesch_counts = train['flesch_cat'].value_counts().sort_index()\n",
    "flesch_df = flesch_counts.to_frame(name='Quantidade')\n",
    "flesch_df.index.name = 'Categoria de legibilidade'\n",
    "print(flesch_df)\n",
    "\n",
    "# Visualizacao Flesch\n",
    "flesch_counts = train['flesch_cat'].value_counts().sort_index()\n",
    "\n",
    "plt.figure(figsize=(8, 5))\n",
    "plt.bar(flesch_counts.index, flesch_counts.values, color='salmon')\n",
    "plt.title('Distribuição por Categoria de Legibilidade (Flesch)')\n",
    "plt.xlabel('Categoria de legibilidade')\n",
    "plt.ylabel('Quantidade')\n",
    "plt.xticks(rotation=45)\n",
    "plt.tight_layout()\n",
    "plt.show()"
   ]
  },
  {
   "cell_type": "markdown",
   "id": "af382f66",
   "metadata": {},
   "source": [
    "##### **Comentarios**"
   ]
  },
  {
   "cell_type": "markdown",
   "id": "1b408516",
   "metadata": {},
   "source": [
    "- A distribuição da legibilidade é **`relativamente equilibrada`**, com destaque para as faixas **`“padrão”`** e **`“razoavelmente fácil”`**, que juntas representam mais de **`40%`** dos comentários.\n",
    "- Há uma presença significativa de textos **`difíceis ou um pouco difíceis`** (~35%), o que pode indicar **`vocabulário técnico ou linguagem formal`**.\n",
    "- Textos **`muito fáceis`** são **`minoria`**, possivelmente associados a mensagens **`simples ou infantis`**.\n",
    "\n",
    "---\n"
   ]
  },
  {
   "cell_type": "markdown",
   "id": "84cea646",
   "metadata": {},
   "source": [
    "#### **b) Transformação para formato transacional**"
   ]
  },
  {
   "cell_type": "markdown",
   "id": "8201cbeb",
   "metadata": {},
   "source": [
    "Usaremos `TransactionEncoder` para convertir la lista de listas en matriz booleana.\n",
    "\n",
    "- As **`250 palavras mais frequentes`** (para reduzir o vocabulário e evitar sobrecarga computacional).\n",
    "\n",
    "- As classes de toxicidade ativas, formatadas como `\"classe=...\"`.\n",
    "\n",
    "- As categorias discretizadas de:\n",
    "\n",
    "    - Comprimento do comentário **`(length_cat)`**\n",
    "\n",
    "    - Índice de legibilidade **`(flesch_cat)`**\n",
    "\n",
    "Após essa composição, o dataset é convertido com TransactionEncoder para um formato booleano, pronto para a Regras de Associação e Padrões frequentes.\n"
   ]
  },
  {
   "cell_type": "code",
   "execution_count": 80,
   "id": "529aa92a",
   "metadata": {},
   "outputs": [
    {
     "data": {
      "text/plain": [
       "length=medio                  38319\n",
       "length=curto                  38258\n",
       "articl                        37214\n",
       "flesch=padrão                 32234\n",
       "page                          31357\n",
       "length=longo                  30580\n",
       "flesch=um pouco difícil       27725\n",
       "flesch=dificil                27516\n",
       "flesch=razoavelmente fácil    26995\n",
       "length=muito_longo            26288\n",
       "length=muito_curto            26034\n",
       "talk                          25028\n",
       "edit                          24176\n",
       "wikipedia                     23011\n",
       "like                          22582\n",
       "pleas                         22235\n",
       "one                           21490\n",
       "would                         21231\n",
       "use                           20838\n",
       "dont                          19861\n",
       "dtype: int64"
      ]
     },
     "execution_count": 80,
     "metadata": {},
     "output_type": "execute_result"
    }
   ],
   "source": [
    "from collections import Counter\n",
    "from mlxtend.preprocessing import TransactionEncoder\n",
    "\n",
    "# Passo 1: Contar todas as palavras dos comentários e obter as 250 mais frequentes\n",
    "all_words = [\n",
    "    word\n",
    "    for comment in train['clean_comment'].dropna().str.lower().str.split()\n",
    "    for word in comment\n",
    "]\n",
    "word_freq = Counter(all_words)\n",
    "top_words = set([word for word, freq in word_freq.most_common(250)])\n",
    "\n",
    "# Passo 2: Função para filtrar apenas palavras frequentes\n",
    "def filter_top_words(comment):\n",
    "    return list(set([word for word in str(comment).lower().split() if word in top_words]))\n",
    "\n",
    "# Passo 3: Aplicar a função de filtragem a todos os comentários\n",
    "train['tokens'] = train['clean_comment'].apply(filter_top_words)\n",
    "\n",
    "# Passo 4: Função para extrair as classes de toxicidade ativas\n",
    "def get_active_classes(row):\n",
    "    return [f\"classe={col}\" for col in toxic_labels if row[col] == 1]\n",
    "\n",
    "# Passo 5: Criar a transação contendo palavras + classes + variáveis discretizadas\n",
    "train['transaction'] = train.apply(\n",
    "    lambda row: (\n",
    "        row['tokens'] +\n",
    "        get_active_classes(row) +\n",
    "        [f\"length={row['length_cat']}\"] +\n",
    "        [f\"flesch={row['flesch_cat']}\"]\n",
    "    ),\n",
    "    axis=1\n",
    ")\n",
    "\n",
    "# Passo 6: Transformar as transações em formato binário (booleano)\n",
    "te = TransactionEncoder()\n",
    "te_ary = te.fit(train['transaction']).transform(train['transaction'])\n",
    "\n",
    "# Passo 7: Criar o DataFrame transacional final\n",
    "df_trans = pd.DataFrame(te_ary, columns=te.columns_)\n",
    "\n",
    "# Ver os 20 itens mais frequentes nas transações\n",
    "df_trans.sum().sort_values(ascending=False).head(20)\n",
    "\n"
   ]
  },
  {
   "cell_type": "markdown",
   "id": "4583b64e",
   "metadata": {},
   "source": [
    "##### **Comentarios:**"
   ]
  },
  {
   "cell_type": "markdown",
   "id": "08955381",
   "metadata": {},
   "source": [
    "As variáveis discretizadas **`(length=..., flesch=...)`** aparecem com alta frequência, o que confirma que a categorização foi bem sucedida.\n",
    "\n",
    "Os comprimentos **`medio, curto e longo`** dominam, indicando que os textos geralmente estão entre 10 e 100 palavras.\n",
    "\n",
    "O índice de legibilidade mais comum é **`flesch=padrão`**, seguido por um **`pouco difícil e difícil`**, o que mostra que os textos não são nem muito simples nem extremamente técnicos.\n",
    "\n",
    "---"
   ]
  },
  {
   "cell_type": "markdown",
   "id": "a1697196",
   "metadata": {},
   "source": [
    "##### **Observações:**"
   ]
  },
  {
   "cell_type": "markdown",
   "id": "0a9d8800",
   "metadata": {},
   "source": [
    "O uso de apenas 250 palavras frequentes é uma decisão estratégica:\n",
    "\n",
    ">Reduzir o vocabulário evita sobrecarregar o algoritmo, mantendo apenas as palavras que mais contribuem para padrões relevantes.\n",
    "\n",
    "Este número foi escolhido empiricamente porque:\n",
    "\n",
    "- Aumentar para 500 ou mais não altera significativamente os itens ou regras mais frequentes.\n",
    "\n",
    "- Isso foi validado ao observar que os itens principais permanecem os mesmos ao variar o tamanho do vocabulário o que indica estabilidade nas associações geradas.\n",
    "\n",
    "---"
   ]
  },
  {
   "cell_type": "markdown",
   "id": "c051b4eb",
   "metadata": {},
   "source": [
    "#### **c) Mineração de Regras de Associação com `mlxtend`**"
   ]
  },
  {
   "cell_type": "markdown",
   "id": "282947ff",
   "metadata": {},
   "source": [
    "Neste passo aplicamos a mineração de regras de associação, usando o algoritmo Apriori da biblioteca **`mlxtend`**. \n",
    "O objetivo é descobrir relações frequentes e significativas entre palavras, classes de toxicidade e categorias discretizadas dentro dos comentários.\n",
    "\n",
    "As etapas são:\n",
    "\n",
    "- Identificar conjuntos **`frequentes de itens`** (itemsets).\n",
    "\n",
    "- Gerar **`regras de associação`** com base nesses itemsets, geram-se regras que indicam que a presença de certos itens implica, com alta confiança, a presença de outros.\n",
    "\n",
    "- Ordenar por **`lift`**, métrica que indica a força da associação além da aleatoriedade.\n",
    "\n",
    "- Exibir os resultados "
   ]
  },
  {
   "cell_type": "markdown",
   "id": "978af575",
   "metadata": {},
   "source": [
    "#### **1er Caso:**"
   ]
  },
  {
   "cell_type": "code",
   "execution_count": 81,
   "id": "841e9b8f",
   "metadata": {},
   "outputs": [
    {
     "name": "stdout",
     "output_type": "stream",
     "text": [
      "Top 10 itemsets frequentes:\n"
     ]
    },
    {
     "data": {
      "text/html": [
       "<div>\n",
       "<style scoped>\n",
       "    .dataframe tbody tr th:only-of-type {\n",
       "        vertical-align: middle;\n",
       "    }\n",
       "\n",
       "    .dataframe tbody tr th {\n",
       "        vertical-align: top;\n",
       "    }\n",
       "\n",
       "    .dataframe thead th {\n",
       "        text-align: right;\n",
       "    }\n",
       "</style>\n",
       "<table border=\"1\" class=\"dataframe\">\n",
       "  <thead>\n",
       "    <tr style=\"text-align: right;\">\n",
       "      <th></th>\n",
       "      <th>support</th>\n",
       "      <th>itemsets</th>\n",
       "    </tr>\n",
       "  </thead>\n",
       "  <tbody>\n",
       "    <tr>\n",
       "      <th>39</th>\n",
       "      <td>0.240276</td>\n",
       "      <td>(length=medio)</td>\n",
       "    </tr>\n",
       "    <tr>\n",
       "      <th>37</th>\n",
       "      <td>0.239894</td>\n",
       "      <td>(length=curto)</td>\n",
       "    </tr>\n",
       "    <tr>\n",
       "      <th>3</th>\n",
       "      <td>0.233347</td>\n",
       "      <td>(articl)</td>\n",
       "    </tr>\n",
       "    <tr>\n",
       "      <th>26</th>\n",
       "      <td>0.202121</td>\n",
       "      <td>(flesch=padrão)</td>\n",
       "    </tr>\n",
       "    <tr>\n",
       "      <th>56</th>\n",
       "      <td>0.196621</td>\n",
       "      <td>(page)</td>\n",
       "    </tr>\n",
       "    <tr>\n",
       "      <th>38</th>\n",
       "      <td>0.191749</td>\n",
       "      <td>(length=longo)</td>\n",
       "    </tr>\n",
       "    <tr>\n",
       "      <th>28</th>\n",
       "      <td>0.173847</td>\n",
       "      <td>(flesch=um pouco difícil)</td>\n",
       "    </tr>\n",
       "    <tr>\n",
       "      <th>21</th>\n",
       "      <td>0.172537</td>\n",
       "      <td>(flesch=dificil)</td>\n",
       "    </tr>\n",
       "    <tr>\n",
       "      <th>27</th>\n",
       "      <td>0.169270</td>\n",
       "      <td>(flesch=razoavelmente fácil)</td>\n",
       "    </tr>\n",
       "    <tr>\n",
       "      <th>41</th>\n",
       "      <td>0.164837</td>\n",
       "      <td>(length=muito_longo)</td>\n",
       "    </tr>\n",
       "  </tbody>\n",
       "</table>\n",
       "</div>"
      ],
      "text/plain": [
       "     support                      itemsets\n",
       "39  0.240276                (length=medio)\n",
       "37  0.239894                (length=curto)\n",
       "3   0.233347                      (articl)\n",
       "26  0.202121               (flesch=padrão)\n",
       "56  0.196621                        (page)\n",
       "38  0.191749                (length=longo)\n",
       "28  0.173847     (flesch=um pouco difícil)\n",
       "21  0.172537              (flesch=dificil)\n",
       "27  0.169270  (flesch=razoavelmente fácil)\n",
       "41  0.164837          (length=muito_longo)"
      ]
     },
     "metadata": {},
     "output_type": "display_data"
    }
   ],
   "source": [
    "from mlxtend.frequent_patterns import apriori, association_rules\n",
    "\n",
    "# Passo 1: Gerar os conjuntos frequentes de itens (itemsets) suporte mínimo de 4.5% \n",
    "frequent_itemsets = apriori(df_trans, min_support=0.045, use_colnames=True)\n",
    "\n",
    "# Exibir os 10 itemsets mais frequentes\n",
    "print(\"Top 10 itemsets frequentes:\")\n",
    "display(frequent_itemsets.sort_values(by=\"support\", ascending=False).head(10))\n",
    "\n"
   ]
  },
  {
   "cell_type": "markdown",
   "id": "05b63604",
   "metadata": {},
   "source": [
    "- Quase 1 em cada 4 comentários tem uma **`longitude média`**. É a categoria mais comum, o que sugere que a maioria dos comentários não é nem muito curta nem muito longa.\n",
    "\n",
    "- A legibilidade “padrão” é a **`mais comum`**, o que é de se esperar se os textos não forem nem muito complexos nem muito simples.\n",
    "\n",
    "- Uma minoria significativa (0.16) dos textos é **`muito extensa`**.\n",
    "\n",
    "---"
   ]
  },
  {
   "cell_type": "code",
   "execution_count": 82,
   "id": "a66b2723",
   "metadata": {},
   "outputs": [
    {
     "name": "stdout",
     "output_type": "stream",
     "text": [
      "Top 10 regras de associação ordenadas por lift:\n"
     ]
    },
    {
     "data": {
      "text/html": [
       "<div>\n",
       "<style scoped>\n",
       "    .dataframe tbody tr th:only-of-type {\n",
       "        vertical-align: middle;\n",
       "    }\n",
       "\n",
       "    .dataframe tbody tr th {\n",
       "        vertical-align: top;\n",
       "    }\n",
       "\n",
       "    .dataframe thead th {\n",
       "        text-align: right;\n",
       "    }\n",
       "</style>\n",
       "<table border=\"1\" class=\"dataframe\">\n",
       "  <thead>\n",
       "    <tr style=\"text-align: right;\">\n",
       "      <th></th>\n",
       "      <th>antecedents</th>\n",
       "      <th>consequents</th>\n",
       "      <th>support</th>\n",
       "      <th>confidence</th>\n",
       "      <th>lift</th>\n",
       "    </tr>\n",
       "  </thead>\n",
       "  <tbody>\n",
       "    <tr>\n",
       "      <th>3</th>\n",
       "      <td>(classe=toxic)</td>\n",
       "      <td>(classe=obscene)</td>\n",
       "      <td>0.049699</td>\n",
       "      <td>0.518310</td>\n",
       "      <td>9.783359</td>\n",
       "    </tr>\n",
       "    <tr>\n",
       "      <th>4</th>\n",
       "      <td>(classe=obscene)</td>\n",
       "      <td>(classe=toxic)</td>\n",
       "      <td>0.049699</td>\n",
       "      <td>0.938099</td>\n",
       "      <td>9.783359</td>\n",
       "    </tr>\n",
       "    <tr>\n",
       "      <th>2</th>\n",
       "      <td>(classe=insult)</td>\n",
       "      <td>(classe=toxic)</td>\n",
       "      <td>0.046044</td>\n",
       "      <td>0.932326</td>\n",
       "      <td>9.723151</td>\n",
       "    </tr>\n",
       "    <tr>\n",
       "      <th>0</th>\n",
       "      <td>(also)</td>\n",
       "      <td>(length=muito_longo)</td>\n",
       "      <td>0.052910</td>\n",
       "      <td>0.517351</td>\n",
       "      <td>3.138568</td>\n",
       "    </tr>\n",
       "    <tr>\n",
       "      <th>5</th>\n",
       "      <td>(time)</td>\n",
       "      <td>(length=muito_longo)</td>\n",
       "      <td>0.045931</td>\n",
       "      <td>0.501060</td>\n",
       "      <td>3.039736</td>\n",
       "    </tr>\n",
       "    <tr>\n",
       "      <th>6</th>\n",
       "      <td>(talk)</td>\n",
       "      <td>(page)</td>\n",
       "      <td>0.085391</td>\n",
       "      <td>0.544111</td>\n",
       "      <td>2.767300</td>\n",
       "    </tr>\n",
       "    <tr>\n",
       "      <th>1</th>\n",
       "      <td>(length=muito_longo)</td>\n",
       "      <td>(articl)</td>\n",
       "      <td>0.088219</td>\n",
       "      <td>0.535187</td>\n",
       "      <td>2.293522</td>\n",
       "    </tr>\n",
       "  </tbody>\n",
       "</table>\n",
       "</div>"
      ],
      "text/plain": [
       "            antecedents           consequents   support  confidence      lift\n",
       "3        (classe=toxic)      (classe=obscene)  0.049699    0.518310  9.783359\n",
       "4      (classe=obscene)        (classe=toxic)  0.049699    0.938099  9.783359\n",
       "2       (classe=insult)        (classe=toxic)  0.046044    0.932326  9.723151\n",
       "0                (also)  (length=muito_longo)  0.052910    0.517351  3.138568\n",
       "5                (time)  (length=muito_longo)  0.045931    0.501060  3.039736\n",
       "6                (talk)                (page)  0.085391    0.544111  2.767300\n",
       "1  (length=muito_longo)              (articl)  0.088219    0.535187  2.293522"
      ]
     },
     "metadata": {},
     "output_type": "display_data"
    }
   ],
   "source": [
    "# Passo 2: Gerar regras de associação a partir dos itemsets frequentes\n",
    "# A confiança mínima é de 50%\n",
    "rules = association_rules(frequent_itemsets, metric=\"confidence\", min_threshold=0.5)\n",
    "\n",
    "# Passo 3: Ordenar as regras por lift (quanto maior, mais forte é a associação)\n",
    "rules = rules.sort_values(by=\"lift\", ascending=False)\n",
    "\n",
    "# Passo 4: Exibir as 10 melhores regras de associação\n",
    "print(\"Top 10 regras de associação ordenadas por lift:\")\n",
    "display(rules[['antecedents', 'consequents', 'support', 'confidence', 'lift']].head(10))\n"
   ]
  },
  {
   "cell_type": "markdown",
   "id": "226ac98c",
   "metadata": {},
   "source": [
    "##### **Comentarios:**"
   ]
  },
  {
   "cell_type": "markdown",
   "id": "2fdb3ff1",
   "metadata": {},
   "source": [
    "- Mais de **`51% dos comentários tóxicos também são obscenos`**. O lift de 9,78 indica uma forte associação: essa combinação ocorre quase 10 vezes mais do que o esperado aleatoriamente.\n",
    "\n",
    "- A confiança de 93,2% e um aumento de 9,72 reforçam que os **`insultos são excelentes indicadores de toxicidade`**. Essa regra é fundamental para filtros automáticos.\n",
    "\n",
    "- Comentários que mencionam “tempo” tendem a ser mais extensos, provavelmente porque **`desenvolvem ideias ou discussões mais complexas`**. Uma confiança de 50% e um aumento de 3,03 sugerem uma relação moderadamente forte.\n",
    "\n",
    "---"
   ]
  },
  {
   "cell_type": "code",
   "execution_count": 83,
   "id": "546d772e",
   "metadata": {},
   "outputs": [
    {
     "name": "stdout",
     "output_type": "stream",
     "text": [
      "Sets frequentes: 148\n"
     ]
    }
   ],
   "source": [
    "# Resumo da mineração\n",
    "print(\"Sets frequentes:\", len(frequent_itemsets))\n"
   ]
  },
  {
   "cell_type": "markdown",
   "id": "639fa14f",
   "metadata": {},
   "source": [
    "São **`combinações de palavras`**, categorias de texto e/ou etiquetas de toxicidade que ocorrem em pelo menos 4% das transações."
   ]
  },
  {
   "cell_type": "code",
   "execution_count": 84,
   "id": "c815a8d7",
   "metadata": {},
   "outputs": [
    {
     "name": "stdout",
     "output_type": "stream",
     "text": [
      "Regras geradas: 7\n"
     ]
    }
   ],
   "source": [
    "print(\"Regras geradas:\", len(rules))"
   ]
  },
  {
   "cell_type": "markdown",
   "id": "312e0c36",
   "metadata": {},
   "source": [
    "São **`regras que passaram o filtro de confiança ≥ 0.5`**, ou seja, há al menos 50% de probabilidade de que, dado um conjunto de itens, outro também apareça."
   ]
  },
  {
   "cell_type": "code",
   "execution_count": 85,
   "id": "bee19d1f",
   "metadata": {},
   "outputs": [
    {
     "data": {
      "image/png": "[encoded data removed]",
      "text/plain": [
       "<Figure size 1000x600 with 1 Axes>"
      ]
     },
     "metadata": {},
     "output_type": "display_data"
    }
   ],
   "source": [
    "# Asegúrate de tener top_lift como las top reglas por lift\n",
    "top_lift = rules.sort_values('lift', ascending=False).head(10)\n",
    "\n",
    "# Crear una columna más legible para etiquetas con salto de línea\n",
    "top_lift['regra_formatada'] = top_lift.apply(\n",
    "    lambda row: f\"{', '.join(row['antecedents'])} →\\n{', '.join(row['consequents'])}\", axis=1\n",
    ")\n",
    "\n",
    "# Crear gráfico ordenado\n",
    "plt.figure(figsize=(10, 6))\n",
    "sns.barplot(data=top_lift, x='lift', y='regra_formatada', palette='viridis')\n",
    "plt.xlabel('Lift')\n",
    "plt.ylabel('Regras de Associação')\n",
    "plt.title('Top Regras por Lift')\n",
    "plt.tight_layout()\n",
    "plt.show()"
   ]
  },
  {
   "cell_type": "markdown",
   "id": "1207c09f",
   "metadata": {},
   "source": [
    "#### **2do Caso:**"
   ]
  },
  {
   "cell_type": "code",
   "execution_count": 86,
   "id": "297f2d23",
   "metadata": {},
   "outputs": [
    {
     "name": "stdout",
     "output_type": "stream",
     "text": [
      "Top 10 itemsets frequentes:\n"
     ]
    },
    {
     "data": {
      "text/html": [
       "<div>\n",
       "<style scoped>\n",
       "    .dataframe tbody tr th:only-of-type {\n",
       "        vertical-align: middle;\n",
       "    }\n",
       "\n",
       "    .dataframe tbody tr th {\n",
       "        vertical-align: top;\n",
       "    }\n",
       "\n",
       "    .dataframe thead th {\n",
       "        text-align: right;\n",
       "    }\n",
       "</style>\n",
       "<table border=\"1\" class=\"dataframe\">\n",
       "  <thead>\n",
       "    <tr style=\"text-align: right;\">\n",
       "      <th></th>\n",
       "      <th>support</th>\n",
       "      <th>itemsets</th>\n",
       "    </tr>\n",
       "  </thead>\n",
       "  <tbody>\n",
       "    <tr>\n",
       "      <th>62</th>\n",
       "      <td>0.240276</td>\n",
       "      <td>(length=medio)</td>\n",
       "    </tr>\n",
       "    <tr>\n",
       "      <th>60</th>\n",
       "      <td>0.239894</td>\n",
       "      <td>(length=curto)</td>\n",
       "    </tr>\n",
       "    <tr>\n",
       "      <th>5</th>\n",
       "      <td>0.233347</td>\n",
       "      <td>(articl)</td>\n",
       "    </tr>\n",
       "    <tr>\n",
       "      <th>42</th>\n",
       "      <td>0.202121</td>\n",
       "      <td>(flesch=padrão)</td>\n",
       "    </tr>\n",
       "    <tr>\n",
       "      <th>83</th>\n",
       "      <td>0.196621</td>\n",
       "      <td>(page)</td>\n",
       "    </tr>\n",
       "    <tr>\n",
       "      <th>61</th>\n",
       "      <td>0.191749</td>\n",
       "      <td>(length=longo)</td>\n",
       "    </tr>\n",
       "    <tr>\n",
       "      <th>44</th>\n",
       "      <td>0.173847</td>\n",
       "      <td>(flesch=um pouco difícil)</td>\n",
       "    </tr>\n",
       "    <tr>\n",
       "      <th>37</th>\n",
       "      <td>0.172537</td>\n",
       "      <td>(flesch=dificil)</td>\n",
       "    </tr>\n",
       "    <tr>\n",
       "      <th>43</th>\n",
       "      <td>0.169270</td>\n",
       "      <td>(flesch=razoavelmente fácil)</td>\n",
       "    </tr>\n",
       "    <tr>\n",
       "      <th>64</th>\n",
       "      <td>0.164837</td>\n",
       "      <td>(length=muito_longo)</td>\n",
       "    </tr>\n",
       "  </tbody>\n",
       "</table>\n",
       "</div>"
      ],
      "text/plain": [
       "     support                      itemsets\n",
       "62  0.240276                (length=medio)\n",
       "60  0.239894                (length=curto)\n",
       "5   0.233347                      (articl)\n",
       "42  0.202121               (flesch=padrão)\n",
       "83  0.196621                        (page)\n",
       "61  0.191749                (length=longo)\n",
       "44  0.173847     (flesch=um pouco difícil)\n",
       "37  0.172537              (flesch=dificil)\n",
       "43  0.169270  (flesch=razoavelmente fácil)\n",
       "64  0.164837          (length=muito_longo)"
      ]
     },
     "metadata": {},
     "output_type": "display_data"
    }
   ],
   "source": [
    "# Passo 1: Gerar os conjuntos frequentes de itens (itemsets) suporte mínimo de 3.5% \n",
    "frequent_itemsets = apriori(df_trans, min_support=0.035, use_colnames=True)\n",
    "\n",
    "# Exibir os 10 itemsets mais frequentes\n",
    "print(\"Top 10 itemsets frequentes:\")\n",
    "display(frequent_itemsets.sort_values(by=\"support\", ascending=False).head(10))"
   ]
  },
  {
   "cell_type": "markdown",
   "id": "031101b0",
   "metadata": {},
   "source": [
    "- A maioria dos comentários tem uma **`longitude média a curta`**, com legibilidade **`padrão ou ligeiramente difícil`**. Palavras-chave como \"articl\" e \"page\"eles nos mostram o contexto de onde o conjunto de dados veio, neste caso a Wikipédia.."
   ]
  },
  {
   "cell_type": "code",
   "execution_count": 87,
   "id": "bca96005",
   "metadata": {},
   "outputs": [
    {
     "name": "stdout",
     "output_type": "stream",
     "text": [
      "Top 10 regras de associação ordenadas por lift:\n"
     ]
    },
    {
     "data": {
      "text/html": [
       "<div>\n",
       "<style scoped>\n",
       "    .dataframe tbody tr th:only-of-type {\n",
       "        vertical-align: middle;\n",
       "    }\n",
       "\n",
       "    .dataframe tbody tr th {\n",
       "        vertical-align: top;\n",
       "    }\n",
       "\n",
       "    .dataframe thead th {\n",
       "        text-align: right;\n",
       "    }\n",
       "</style>\n",
       "<table border=\"1\" class=\"dataframe\">\n",
       "  <thead>\n",
       "    <tr style=\"text-align: right;\">\n",
       "      <th></th>\n",
       "      <th>antecedents</th>\n",
       "      <th>consequents</th>\n",
       "      <th>support</th>\n",
       "      <th>confidence</th>\n",
       "      <th>lift</th>\n",
       "    </tr>\n",
       "  </thead>\n",
       "  <tbody>\n",
       "    <tr>\n",
       "      <th>92</th>\n",
       "      <td>(classe=insult, classe=toxic)</td>\n",
       "      <td>(classe=obscene)</td>\n",
       "      <td>0.037334</td>\n",
       "      <td>0.810840</td>\n",
       "      <td>15.305006</td>\n",
       "    </tr>\n",
       "    <tr>\n",
       "      <th>97</th>\n",
       "      <td>(classe=obscene)</td>\n",
       "      <td>(classe=insult, classe=toxic)</td>\n",
       "      <td>0.037334</td>\n",
       "      <td>0.704699</td>\n",
       "      <td>15.305006</td>\n",
       "    </tr>\n",
       "    <tr>\n",
       "      <th>94</th>\n",
       "      <td>(classe=toxic, classe=obscene)</td>\n",
       "      <td>(classe=insult)</td>\n",
       "      <td>0.037334</td>\n",
       "      <td>0.751199</td>\n",
       "      <td>15.210818</td>\n",
       "    </tr>\n",
       "    <tr>\n",
       "      <th>95</th>\n",
       "      <td>(classe=insult)</td>\n",
       "      <td>(classe=toxic, classe=obscene)</td>\n",
       "      <td>0.037334</td>\n",
       "      <td>0.755967</td>\n",
       "      <td>15.210818</td>\n",
       "    </tr>\n",
       "    <tr>\n",
       "      <th>22</th>\n",
       "      <td>(classe=insult)</td>\n",
       "      <td>(classe=obscene)</td>\n",
       "      <td>0.038594</td>\n",
       "      <td>0.781488</td>\n",
       "      <td>14.750969</td>\n",
       "    </tr>\n",
       "    <tr>\n",
       "      <th>23</th>\n",
       "      <td>(classe=obscene)</td>\n",
       "      <td>(classe=insult)</td>\n",
       "      <td>0.038594</td>\n",
       "      <td>0.728489</td>\n",
       "      <td>14.750969</td>\n",
       "    </tr>\n",
       "    <tr>\n",
       "      <th>96</th>\n",
       "      <td>(classe=toxic)</td>\n",
       "      <td>(classe=insult, classe=obscene)</td>\n",
       "      <td>0.037334</td>\n",
       "      <td>0.389354</td>\n",
       "      <td>10.088346</td>\n",
       "    </tr>\n",
       "    <tr>\n",
       "      <th>93</th>\n",
       "      <td>(classe=insult, classe=obscene)</td>\n",
       "      <td>(classe=toxic)</td>\n",
       "      <td>0.037334</td>\n",
       "      <td>0.967344</td>\n",
       "      <td>10.088346</td>\n",
       "    </tr>\n",
       "    <tr>\n",
       "      <th>26</th>\n",
       "      <td>(classe=toxic)</td>\n",
       "      <td>(classe=obscene)</td>\n",
       "      <td>0.049699</td>\n",
       "      <td>0.518310</td>\n",
       "      <td>9.783359</td>\n",
       "    </tr>\n",
       "    <tr>\n",
       "      <th>27</th>\n",
       "      <td>(classe=obscene)</td>\n",
       "      <td>(classe=toxic)</td>\n",
       "      <td>0.049699</td>\n",
       "      <td>0.938099</td>\n",
       "      <td>9.783359</td>\n",
       "    </tr>\n",
       "  </tbody>\n",
       "</table>\n",
       "</div>"
      ],
      "text/plain": [
       "                        antecedents                      consequents  \\\n",
       "92    (classe=insult, classe=toxic)                 (classe=obscene)   \n",
       "97                 (classe=obscene)    (classe=insult, classe=toxic)   \n",
       "94   (classe=toxic, classe=obscene)                  (classe=insult)   \n",
       "95                  (classe=insult)   (classe=toxic, classe=obscene)   \n",
       "22                  (classe=insult)                 (classe=obscene)   \n",
       "23                 (classe=obscene)                  (classe=insult)   \n",
       "96                   (classe=toxic)  (classe=insult, classe=obscene)   \n",
       "93  (classe=insult, classe=obscene)                   (classe=toxic)   \n",
       "26                   (classe=toxic)                 (classe=obscene)   \n",
       "27                 (classe=obscene)                   (classe=toxic)   \n",
       "\n",
       "     support  confidence       lift  \n",
       "92  0.037334    0.810840  15.305006  \n",
       "97  0.037334    0.704699  15.305006  \n",
       "94  0.037334    0.751199  15.210818  \n",
       "95  0.037334    0.755967  15.210818  \n",
       "22  0.038594    0.781488  14.750969  \n",
       "23  0.038594    0.728489  14.750969  \n",
       "96  0.037334    0.389354  10.088346  \n",
       "93  0.037334    0.967344  10.088346  \n",
       "26  0.049699    0.518310   9.783359  \n",
       "27  0.049699    0.938099   9.783359  "
      ]
     },
     "metadata": {},
     "output_type": "display_data"
    }
   ],
   "source": [
    "# Passo 2: Gerar regras de associação a partir dos itemsets frequentes\n",
    "# A confiança mínima é de 50%\n",
    "rules = association_rules(frequent_itemsets, metric=\"confidence\", min_threshold=0.35)\n",
    "\n",
    "# Passo 3: Ordenar as regras por lift (quanto maior, mais forte é a associação)\n",
    "rules = rules.sort_values(by=\"lift\", ascending=False)\n",
    "\n",
    "# Passo 4: Exibir as 10 melhores regras de associação\n",
    "print(\"Top 10 regras de associação ordenadas por lift:\")\n",
    "display(rules[['antecedents', 'consequents', 'support', 'confidence', 'lift']].head(10))"
   ]
  },
  {
   "cell_type": "markdown",
   "id": "89ec0e5a",
   "metadata": {},
   "source": [
    "comentario"
   ]
  },
  {
   "cell_type": "code",
   "execution_count": 88,
   "id": "daf3db65",
   "metadata": {},
   "outputs": [
    {
     "name": "stdout",
     "output_type": "stream",
     "text": [
      "Sets frecuentes: 271\n"
     ]
    }
   ],
   "source": [
    "print(\"Sets frecuentes:\", len(frequent_itemsets))"
   ]
  },
  {
   "cell_type": "markdown",
   "id": "7ce139a6",
   "metadata": {},
   "source": [
    "- São **`combinações de palavras`**, categorias de texto e/ou etiquetas de toxicidade que ocorrem em pelo menos 3.5% das transações.\n",
    "- Resultando em um **`maior número de conjuntos frequentes`**"
   ]
  },
  {
   "cell_type": "code",
   "execution_count": 89,
   "id": "fba7c435",
   "metadata": {},
   "outputs": [
    {
     "name": "stdout",
     "output_type": "stream",
     "text": [
      "Reglas generadas: 110\n"
     ]
    }
   ],
   "source": [
    "print(\"Reglas generadas:\", len(rules))"
   ]
  },
  {
   "cell_type": "markdown",
   "id": "e4dcf6e1",
   "metadata": {},
   "source": [
    "- São **`regras que passaram o filtro de confiança ≥ 0.35`**, ou seja, há al menos 35% de probabilidade de que, dado um conjunto de itens, outro também apareça.\n",
    "- Resultando em um **`maior número de regras associadas`**"
   ]
  },
  {
   "cell_type": "code",
   "execution_count": 90,
   "id": "dc9eb748",
   "metadata": {},
   "outputs": [
    {
     "data": {
      "image/png": "[encoded data removed]",
      "text/plain": [
       "<Figure size 1000x600 with 1 Axes>"
      ]
     },
     "metadata": {},
     "output_type": "display_data"
    }
   ],
   "source": [
    "# Asegúrate de tener top_lift como las top 10 reglas por lift\n",
    "top_lift = rules.sort_values('lift', ascending=False).head(10)\n",
    "\n",
    "# Crear una columna más legible para etiquetas con salto de línea\n",
    "top_lift['regra_formatada'] = top_lift.apply(\n",
    "    lambda row: f\"{', '.join(row['antecedents'])} →\\n{', '.join(row['consequents'])}\", axis=1\n",
    ")\n",
    "\n",
    "# Crear gráfico ordenado\n",
    "plt.figure(figsize=(10, 6))\n",
    "sns.barplot(data=top_lift, x='lift', y='regra_formatada', palette='viridis')\n",
    "plt.xlabel('Lift')\n",
    "plt.ylabel('Regras de Associação')\n",
    "plt.title('Top 10 Regras por Lift')\n",
    "plt.tight_layout()\n",
    "plt.show()\n"
   ]
  },
  {
   "cell_type": "markdown",
   "id": "f5b8e5eb",
   "metadata": {},
   "source": [
    "#### **d) Filtrar reglas com consequente relacionado ao atributo alvo**"
   ]
  },
  {
   "cell_type": "markdown",
   "id": "d5540d56",
   "metadata": {},
   "source": [
    "O objetivo deste passo é identificar padrões fortes e relevantes onde o consequente da regra de associação contém uma das classes de toxicidade: (**`toxic`**, **`severe_toxic`**, **`obscene`**, **`threat`**, **`insult`**, **`identity_hate`**.) nosso atributo alvo."
   ]
  },
  {
   "cell_type": "code",
   "execution_count": 91,
   "id": "4c4b2cec",
   "metadata": {},
   "outputs": [
    {
     "name": "stdout",
     "output_type": "stream",
     "text": [
      "\n",
      "Regras cujo consequente é 'Toxic':\n",
      "\n"
     ]
    },
    {
     "data": {
      "text/html": [
       "<div>\n",
       "<style scoped>\n",
       "    .dataframe tbody tr th:only-of-type {\n",
       "        vertical-align: middle;\n",
       "    }\n",
       "\n",
       "    .dataframe tbody tr th {\n",
       "        vertical-align: top;\n",
       "    }\n",
       "\n",
       "    .dataframe thead th {\n",
       "        text-align: right;\n",
       "    }\n",
       "</style>\n",
       "<table border=\"1\" class=\"dataframe\">\n",
       "  <thead>\n",
       "    <tr style=\"text-align: right;\">\n",
       "      <th></th>\n",
       "      <th>antecedents</th>\n",
       "      <th>consequents</th>\n",
       "      <th>support</th>\n",
       "      <th>confidence</th>\n",
       "      <th>lift</th>\n",
       "    </tr>\n",
       "  </thead>\n",
       "  <tbody>\n",
       "    <tr>\n",
       "      <th>97</th>\n",
       "      <td>(classe=obscene)</td>\n",
       "      <td>(classe=insult, classe=toxic)</td>\n",
       "      <td>0.037334</td>\n",
       "      <td>0.704699</td>\n",
       "      <td>15.305006</td>\n",
       "    </tr>\n",
       "    <tr>\n",
       "      <th>95</th>\n",
       "      <td>(classe=insult)</td>\n",
       "      <td>(classe=toxic, classe=obscene)</td>\n",
       "      <td>0.037334</td>\n",
       "      <td>0.755967</td>\n",
       "      <td>15.210818</td>\n",
       "    </tr>\n",
       "    <tr>\n",
       "      <th>93</th>\n",
       "      <td>(classe=insult, classe=obscene)</td>\n",
       "      <td>(classe=toxic)</td>\n",
       "      <td>0.037334</td>\n",
       "      <td>0.967344</td>\n",
       "      <td>10.088346</td>\n",
       "    </tr>\n",
       "    <tr>\n",
       "      <th>27</th>\n",
       "      <td>(classe=obscene)</td>\n",
       "      <td>(classe=toxic)</td>\n",
       "      <td>0.049699</td>\n",
       "      <td>0.938099</td>\n",
       "      <td>9.783359</td>\n",
       "    </tr>\n",
       "    <tr>\n",
       "      <th>24</th>\n",
       "      <td>(classe=insult)</td>\n",
       "      <td>(classe=toxic)</td>\n",
       "      <td>0.046044</td>\n",
       "      <td>0.932326</td>\n",
       "      <td>9.723151</td>\n",
       "    </tr>\n",
       "  </tbody>\n",
       "</table>\n",
       "</div>"
      ],
      "text/plain": [
       "                        antecedents                     consequents   support  \\\n",
       "97                 (classe=obscene)   (classe=insult, classe=toxic)  0.037334   \n",
       "95                  (classe=insult)  (classe=toxic, classe=obscene)  0.037334   \n",
       "93  (classe=insult, classe=obscene)                  (classe=toxic)  0.037334   \n",
       "27                 (classe=obscene)                  (classe=toxic)  0.049699   \n",
       "24                  (classe=insult)                  (classe=toxic)  0.046044   \n",
       "\n",
       "    confidence       lift  \n",
       "97    0.704699  15.305006  \n",
       "95    0.755967  15.210818  \n",
       "93    0.967344  10.088346  \n",
       "27    0.938099   9.783359  \n",
       "24    0.932326   9.723151  "
      ]
     },
     "metadata": {},
     "output_type": "display_data"
    },
    {
     "name": "stdout",
     "output_type": "stream",
     "text": [
      " - Regra:\n",
      "    Se [classe=obscene] então [classe=insult, classe=toxic]\n",
      "    Suporte: 0.037\n",
      "    Confiança: 0.705\n",
      "    Lift: 15.305\n",
      "\n",
      " - Regra:\n",
      "    Se [classe=insult] então [classe=obscene, classe=toxic]\n",
      "    Suporte: 0.037\n",
      "    Confiança: 0.756\n",
      "    Lift: 15.211\n",
      "\n",
      " - Regra:\n",
      "    Se [classe=insult, classe=obscene] então [classe=toxic]\n",
      "    Suporte: 0.037\n",
      "    Confiança: 0.967\n",
      "    Lift: 10.088\n",
      "\n",
      " - Regra:\n",
      "    Se [classe=obscene] então [classe=toxic]\n",
      "    Suporte: 0.050\n",
      "    Confiança: 0.938\n",
      "    Lift: 9.783\n",
      "\n",
      " - Regra:\n",
      "    Se [classe=insult] então [classe=toxic]\n",
      "    Suporte: 0.046\n",
      "    Confiança: 0.932\n",
      "    Lift: 9.723\n",
      "\n",
      "\n",
      "X Não foram encontradas regras cujo consequente seja 'Severe_toxic'.\n",
      "\n",
      "Regras cujo consequente é 'Obscene':\n",
      "\n"
     ]
    },
    {
     "data": {
      "text/html": [
       "<div>\n",
       "<style scoped>\n",
       "    .dataframe tbody tr th:only-of-type {\n",
       "        vertical-align: middle;\n",
       "    }\n",
       "\n",
       "    .dataframe tbody tr th {\n",
       "        vertical-align: top;\n",
       "    }\n",
       "\n",
       "    .dataframe thead th {\n",
       "        text-align: right;\n",
       "    }\n",
       "</style>\n",
       "<table border=\"1\" class=\"dataframe\">\n",
       "  <thead>\n",
       "    <tr style=\"text-align: right;\">\n",
       "      <th></th>\n",
       "      <th>antecedents</th>\n",
       "      <th>consequents</th>\n",
       "      <th>support</th>\n",
       "      <th>confidence</th>\n",
       "      <th>lift</th>\n",
       "    </tr>\n",
       "  </thead>\n",
       "  <tbody>\n",
       "    <tr>\n",
       "      <th>92</th>\n",
       "      <td>(classe=insult, classe=toxic)</td>\n",
       "      <td>(classe=obscene)</td>\n",
       "      <td>0.037334</td>\n",
       "      <td>0.810840</td>\n",
       "      <td>15.305006</td>\n",
       "    </tr>\n",
       "    <tr>\n",
       "      <th>95</th>\n",
       "      <td>(classe=insult)</td>\n",
       "      <td>(classe=toxic, classe=obscene)</td>\n",
       "      <td>0.037334</td>\n",
       "      <td>0.755967</td>\n",
       "      <td>15.210818</td>\n",
       "    </tr>\n",
       "    <tr>\n",
       "      <th>22</th>\n",
       "      <td>(classe=insult)</td>\n",
       "      <td>(classe=obscene)</td>\n",
       "      <td>0.038594</td>\n",
       "      <td>0.781488</td>\n",
       "      <td>14.750969</td>\n",
       "    </tr>\n",
       "    <tr>\n",
       "      <th>96</th>\n",
       "      <td>(classe=toxic)</td>\n",
       "      <td>(classe=insult, classe=obscene)</td>\n",
       "      <td>0.037334</td>\n",
       "      <td>0.389354</td>\n",
       "      <td>10.088346</td>\n",
       "    </tr>\n",
       "    <tr>\n",
       "      <th>26</th>\n",
       "      <td>(classe=toxic)</td>\n",
       "      <td>(classe=obscene)</td>\n",
       "      <td>0.049699</td>\n",
       "      <td>0.518310</td>\n",
       "      <td>9.783359</td>\n",
       "    </tr>\n",
       "  </tbody>\n",
       "</table>\n",
       "</div>"
      ],
      "text/plain": [
       "                      antecedents                      consequents   support  \\\n",
       "92  (classe=insult, classe=toxic)                 (classe=obscene)  0.037334   \n",
       "95                (classe=insult)   (classe=toxic, classe=obscene)  0.037334   \n",
       "22                (classe=insult)                 (classe=obscene)  0.038594   \n",
       "96                 (classe=toxic)  (classe=insult, classe=obscene)  0.037334   \n",
       "26                 (classe=toxic)                 (classe=obscene)  0.049699   \n",
       "\n",
       "    confidence       lift  \n",
       "92    0.810840  15.305006  \n",
       "95    0.755967  15.210818  \n",
       "22    0.781488  14.750969  \n",
       "96    0.389354  10.088346  \n",
       "26    0.518310   9.783359  "
      ]
     },
     "metadata": {},
     "output_type": "display_data"
    },
    {
     "name": "stdout",
     "output_type": "stream",
     "text": [
      " - Regra:\n",
      "    Se [classe=insult, classe=toxic] então [classe=obscene]\n",
      "    Suporte: 0.037\n",
      "    Confiança: 0.811\n",
      "    Lift: 15.305\n",
      "\n",
      " - Regra:\n",
      "    Se [classe=insult] então [classe=obscene, classe=toxic]\n",
      "    Suporte: 0.037\n",
      "    Confiança: 0.756\n",
      "    Lift: 15.211\n",
      "\n",
      " - Regra:\n",
      "    Se [classe=insult] então [classe=obscene]\n",
      "    Suporte: 0.039\n",
      "    Confiança: 0.781\n",
      "    Lift: 14.751\n",
      "\n",
      " - Regra:\n",
      "    Se [classe=toxic] então [classe=insult, classe=obscene]\n",
      "    Suporte: 0.037\n",
      "    Confiança: 0.389\n",
      "    Lift: 10.088\n",
      "\n",
      " - Regra:\n",
      "    Se [classe=toxic] então [classe=obscene]\n",
      "    Suporte: 0.050\n",
      "    Confiança: 0.518\n",
      "    Lift: 9.783\n",
      "\n",
      "\n",
      "X Não foram encontradas regras cujo consequente seja 'Threat'.\n",
      "\n",
      "Regras cujo consequente é 'Insult':\n",
      "\n"
     ]
    },
    {
     "data": {
      "text/html": [
       "<div>\n",
       "<style scoped>\n",
       "    .dataframe tbody tr th:only-of-type {\n",
       "        vertical-align: middle;\n",
       "    }\n",
       "\n",
       "    .dataframe tbody tr th {\n",
       "        vertical-align: top;\n",
       "    }\n",
       "\n",
       "    .dataframe thead th {\n",
       "        text-align: right;\n",
       "    }\n",
       "</style>\n",
       "<table border=\"1\" class=\"dataframe\">\n",
       "  <thead>\n",
       "    <tr style=\"text-align: right;\">\n",
       "      <th></th>\n",
       "      <th>antecedents</th>\n",
       "      <th>consequents</th>\n",
       "      <th>support</th>\n",
       "      <th>confidence</th>\n",
       "      <th>lift</th>\n",
       "    </tr>\n",
       "  </thead>\n",
       "  <tbody>\n",
       "    <tr>\n",
       "      <th>97</th>\n",
       "      <td>(classe=obscene)</td>\n",
       "      <td>(classe=insult, classe=toxic)</td>\n",
       "      <td>0.037334</td>\n",
       "      <td>0.704699</td>\n",
       "      <td>15.305006</td>\n",
       "    </tr>\n",
       "    <tr>\n",
       "      <th>94</th>\n",
       "      <td>(classe=toxic, classe=obscene)</td>\n",
       "      <td>(classe=insult)</td>\n",
       "      <td>0.037334</td>\n",
       "      <td>0.751199</td>\n",
       "      <td>15.210818</td>\n",
       "    </tr>\n",
       "    <tr>\n",
       "      <th>23</th>\n",
       "      <td>(classe=obscene)</td>\n",
       "      <td>(classe=insult)</td>\n",
       "      <td>0.038594</td>\n",
       "      <td>0.728489</td>\n",
       "      <td>14.750969</td>\n",
       "    </tr>\n",
       "    <tr>\n",
       "      <th>96</th>\n",
       "      <td>(classe=toxic)</td>\n",
       "      <td>(classe=insult, classe=obscene)</td>\n",
       "      <td>0.037334</td>\n",
       "      <td>0.389354</td>\n",
       "      <td>10.088346</td>\n",
       "    </tr>\n",
       "    <tr>\n",
       "      <th>25</th>\n",
       "      <td>(classe=toxic)</td>\n",
       "      <td>(classe=insult)</td>\n",
       "      <td>0.046044</td>\n",
       "      <td>0.480186</td>\n",
       "      <td>9.723151</td>\n",
       "    </tr>\n",
       "  </tbody>\n",
       "</table>\n",
       "</div>"
      ],
      "text/plain": [
       "                       antecedents                      consequents   support  \\\n",
       "97                (classe=obscene)    (classe=insult, classe=toxic)  0.037334   \n",
       "94  (classe=toxic, classe=obscene)                  (classe=insult)  0.037334   \n",
       "23                (classe=obscene)                  (classe=insult)  0.038594   \n",
       "96                  (classe=toxic)  (classe=insult, classe=obscene)  0.037334   \n",
       "25                  (classe=toxic)                  (classe=insult)  0.046044   \n",
       "\n",
       "    confidence       lift  \n",
       "97    0.704699  15.305006  \n",
       "94    0.751199  15.210818  \n",
       "23    0.728489  14.750969  \n",
       "96    0.389354  10.088346  \n",
       "25    0.480186   9.723151  "
      ]
     },
     "metadata": {},
     "output_type": "display_data"
    },
    {
     "name": "stdout",
     "output_type": "stream",
     "text": [
      " - Regra:\n",
      "    Se [classe=obscene] então [classe=insult, classe=toxic]\n",
      "    Suporte: 0.037\n",
      "    Confiança: 0.705\n",
      "    Lift: 15.305\n",
      "\n",
      " - Regra:\n",
      "    Se [classe=obscene, classe=toxic] então [classe=insult]\n",
      "    Suporte: 0.037\n",
      "    Confiança: 0.751\n",
      "    Lift: 15.211\n",
      "\n",
      " - Regra:\n",
      "    Se [classe=obscene] então [classe=insult]\n",
      "    Suporte: 0.039\n",
      "    Confiança: 0.728\n",
      "    Lift: 14.751\n",
      "\n",
      " - Regra:\n",
      "    Se [classe=toxic] então [classe=insult, classe=obscene]\n",
      "    Suporte: 0.037\n",
      "    Confiança: 0.389\n",
      "    Lift: 10.088\n",
      "\n",
      " - Regra:\n",
      "    Se [classe=toxic] então [classe=insult]\n",
      "    Suporte: 0.046\n",
      "    Confiança: 0.480\n",
      "    Lift: 9.723\n",
      "\n",
      "\n",
      "X Não foram encontradas regras cujo consequente seja 'Identity_hate'.\n"
     ]
    }
   ],
   "source": [
    "\n",
    "# Cria uma lista de labels formatados para busca nos consequentes das regras\n",
    "target_labels = [f\"classe={label}\" for label in toxic_labels]\n",
    "\n",
    "# Colunas que queremos mostrar das regras\n",
    "columns_to_show = ['antecedents', 'consequents', 'support', 'confidence', 'lift']\n",
    "\n",
    "# Percorre cada label para filtrar e mostrar as regras cujo consequente contém esta label\n",
    "for label in target_labels:\n",
    "    # Filtra regras que possuem a label no consequente\n",
    "    rules_for_label = rules[rules['consequents'].apply(lambda x: label in x)]\n",
    "    \n",
    "    # Formata o nome para exibição (ex: 'classe=toxic' vira 'Toxic')\n",
    "    display_label = label.replace(\"classe=\", \"\").capitalize()\n",
    "\n",
    "    if not rules_for_label.empty:\n",
    "        print(f\"\\nRegras cujo consequente é '{display_label}':\\n\")\n",
    "\n",
    "        # Ordena as regras pelo lift em ordem decrescente e seleciona as top 10\n",
    "        sorted_rules = rules_for_label.sort_values(by='lift', ascending=False).head(10)\n",
    "\n",
    "        # Exibe a tabela com as colunas principais\n",
    "        display(sorted_rules[columns_to_show])\n",
    "\n",
    "        # Para cada regra, mostra a descrição em texto com métricas\n",
    "        for idx, row in sorted_rules.iterrows():\n",
    "            antecedents = ', '.join(sorted(row['antecedents']))\n",
    "            consequents = ', '.join(sorted(row['consequents']))\n",
    "            print(\" - Regra:\")\n",
    "            print(f\"    Se [{antecedents}] então [{consequents}]\")\n",
    "            print(f\"    Suporte: {row['support']:.3f}\")\n",
    "            print(f\"    Confiança: {row['confidence']:.3f}\")\n",
    "            print(f\"    Lift: {row['lift']:.3f}\\n\")\n",
    "\n",
    "    else:\n",
    "        print(f\"\\nX Não foram encontradas regras cujo consequente seja '{display_label}'.\")\n",
    "\n"
   ]
  },
  {
   "cell_type": "markdown",
   "id": "4720d056",
   "metadata": {},
   "source": [
    "Nas regras associadas filtradas, descobrimos que as classes **`\"severe_toxic\", \"threat\", \"identity_hate\"`** não são encontradas nos consequentes"
   ]
  },
  {
   "cell_type": "code",
   "execution_count": 92,
   "id": "9b966082",
   "metadata": {},
   "outputs": [
    {
     "data": {
      "text/html": [
       "<div>\n",
       "<style scoped>\n",
       "    .dataframe tbody tr th:only-of-type {\n",
       "        vertical-align: middle;\n",
       "    }\n",
       "\n",
       "    .dataframe tbody tr th {\n",
       "        vertical-align: top;\n",
       "    }\n",
       "\n",
       "    .dataframe thead th {\n",
       "        text-align: right;\n",
       "    }\n",
       "</style>\n",
       "<table border=\"1\" class=\"dataframe\">\n",
       "  <thead>\n",
       "    <tr style=\"text-align: right;\">\n",
       "      <th></th>\n",
       "      <th>antecedents</th>\n",
       "      <th>consequents</th>\n",
       "      <th>support</th>\n",
       "      <th>confidence</th>\n",
       "      <th>lift</th>\n",
       "    </tr>\n",
       "  </thead>\n",
       "  <tbody>\n",
       "    <tr>\n",
       "      <th>92</th>\n",
       "      <td>(classe=insult, classe=toxic)</td>\n",
       "      <td>(classe=obscene)</td>\n",
       "      <td>0.037334</td>\n",
       "      <td>0.810840</td>\n",
       "      <td>15.305006</td>\n",
       "    </tr>\n",
       "    <tr>\n",
       "      <th>97</th>\n",
       "      <td>(classe=obscene)</td>\n",
       "      <td>(classe=insult, classe=toxic)</td>\n",
       "      <td>0.037334</td>\n",
       "      <td>0.704699</td>\n",
       "      <td>15.305006</td>\n",
       "    </tr>\n",
       "    <tr>\n",
       "      <th>94</th>\n",
       "      <td>(classe=toxic, classe=obscene)</td>\n",
       "      <td>(classe=insult)</td>\n",
       "      <td>0.037334</td>\n",
       "      <td>0.751199</td>\n",
       "      <td>15.210818</td>\n",
       "    </tr>\n",
       "    <tr>\n",
       "      <th>95</th>\n",
       "      <td>(classe=insult)</td>\n",
       "      <td>(classe=toxic, classe=obscene)</td>\n",
       "      <td>0.037334</td>\n",
       "      <td>0.755967</td>\n",
       "      <td>15.210818</td>\n",
       "    </tr>\n",
       "    <tr>\n",
       "      <th>22</th>\n",
       "      <td>(classe=insult)</td>\n",
       "      <td>(classe=obscene)</td>\n",
       "      <td>0.038594</td>\n",
       "      <td>0.781488</td>\n",
       "      <td>14.750969</td>\n",
       "    </tr>\n",
       "    <tr>\n",
       "      <th>23</th>\n",
       "      <td>(classe=obscene)</td>\n",
       "      <td>(classe=insult)</td>\n",
       "      <td>0.038594</td>\n",
       "      <td>0.728489</td>\n",
       "      <td>14.750969</td>\n",
       "    </tr>\n",
       "    <tr>\n",
       "      <th>96</th>\n",
       "      <td>(classe=toxic)</td>\n",
       "      <td>(classe=insult, classe=obscene)</td>\n",
       "      <td>0.037334</td>\n",
       "      <td>0.389354</td>\n",
       "      <td>10.088346</td>\n",
       "    </tr>\n",
       "    <tr>\n",
       "      <th>93</th>\n",
       "      <td>(classe=insult, classe=obscene)</td>\n",
       "      <td>(classe=toxic)</td>\n",
       "      <td>0.037334</td>\n",
       "      <td>0.967344</td>\n",
       "      <td>10.088346</td>\n",
       "    </tr>\n",
       "    <tr>\n",
       "      <th>26</th>\n",
       "      <td>(classe=toxic)</td>\n",
       "      <td>(classe=obscene)</td>\n",
       "      <td>0.049699</td>\n",
       "      <td>0.518310</td>\n",
       "      <td>9.783359</td>\n",
       "    </tr>\n",
       "    <tr>\n",
       "      <th>27</th>\n",
       "      <td>(classe=obscene)</td>\n",
       "      <td>(classe=toxic)</td>\n",
       "      <td>0.049699</td>\n",
       "      <td>0.938099</td>\n",
       "      <td>9.783359</td>\n",
       "    </tr>\n",
       "    <tr>\n",
       "      <th>25</th>\n",
       "      <td>(classe=toxic)</td>\n",
       "      <td>(classe=insult)</td>\n",
       "      <td>0.046044</td>\n",
       "      <td>0.480186</td>\n",
       "      <td>9.723151</td>\n",
       "    </tr>\n",
       "    <tr>\n",
       "      <th>24</th>\n",
       "      <td>(classe=insult)</td>\n",
       "      <td>(classe=toxic)</td>\n",
       "      <td>0.046044</td>\n",
       "      <td>0.932326</td>\n",
       "      <td>9.723151</td>\n",
       "    </tr>\n",
       "  </tbody>\n",
       "</table>\n",
       "</div>"
      ],
      "text/plain": [
       "                        antecedents                      consequents  \\\n",
       "92    (classe=insult, classe=toxic)                 (classe=obscene)   \n",
       "97                 (classe=obscene)    (classe=insult, classe=toxic)   \n",
       "94   (classe=toxic, classe=obscene)                  (classe=insult)   \n",
       "95                  (classe=insult)   (classe=toxic, classe=obscene)   \n",
       "22                  (classe=insult)                 (classe=obscene)   \n",
       "23                 (classe=obscene)                  (classe=insult)   \n",
       "96                   (classe=toxic)  (classe=insult, classe=obscene)   \n",
       "93  (classe=insult, classe=obscene)                   (classe=toxic)   \n",
       "26                   (classe=toxic)                 (classe=obscene)   \n",
       "27                 (classe=obscene)                   (classe=toxic)   \n",
       "25                   (classe=toxic)                  (classe=insult)   \n",
       "24                  (classe=insult)                   (classe=toxic)   \n",
       "\n",
       "     support  confidence       lift  \n",
       "92  0.037334    0.810840  15.305006  \n",
       "97  0.037334    0.704699  15.305006  \n",
       "94  0.037334    0.751199  15.210818  \n",
       "95  0.037334    0.755967  15.210818  \n",
       "22  0.038594    0.781488  14.750969  \n",
       "23  0.038594    0.728489  14.750969  \n",
       "96  0.037334    0.389354  10.088346  \n",
       "93  0.037334    0.967344  10.088346  \n",
       "26  0.049699    0.518310   9.783359  \n",
       "27  0.049699    0.938099   9.783359  \n",
       "25  0.046044    0.480186   9.723151  \n",
       "24  0.046044    0.932326   9.723151  "
      ]
     },
     "metadata": {},
     "output_type": "display_data"
    }
   ],
   "source": [
    "# Lista das labels-alvo no formato correto\n",
    "target_labels = [f\"classe={label}\" for label in toxic_labels]\n",
    "\n",
    "# Filtrar regras cujo consequente contenha qualquer uma das classes tóxicas\n",
    "filtered_rules = rules[rules['consequents'].apply(lambda x: any(label in x for label in target_labels))]\n",
    "\n",
    "# Ordenar as regras pelo lift (decrescente)\n",
    "filtered_rules = filtered_rules.sort_values(by='lift', ascending=False)\n",
    "\n",
    "# Mostrar a tabela com colunas principais\n",
    "columns_to_show = ['antecedents', 'consequents', 'support', 'confidence', 'lift']\n",
    "display(filtered_rules[columns_to_show])"
   ]
  },
  {
   "cell_type": "markdown",
   "id": "c782edad",
   "metadata": {},
   "source": [
    "- Se um comentário é tóxico e ofensivo, é **`muito provável que também seja obsceno`**.\n",
    "\n",
    "- Quando há toxicidade e obscenidade, quase **`sempre há insulto também`**.\n",
    "\n",
    "- Quase todos os comentários **`obscenos são tóxicos`**.\n",
    "\n",
    "---"
   ]
  },
  {
   "cell_type": "markdown",
   "id": "fc82ac47",
   "metadata": {},
   "source": [
    "### **5. Mineração de Padrões Sequenciais**"
   ]
  },
  {
   "cell_type": "markdown",
   "id": "2b3d9d17",
   "metadata": {},
   "source": [
    "#### **a) Preparar representação sequencial**"
   ]
  },
  {
   "cell_type": "markdown",
   "id": "1a278dd7",
   "metadata": {},
   "source": [
    "Foi construída uma representação sequencial para cada comentário combinando:\n",
    "- **Categorias discretizadas**:\n",
    "  - `length_cat`: categoria de comprimento do comentário \n",
    "  - `flesch_cat`: categoria de legibilidade\n",
    "- **Rótulos de toxicidade ativos**:\n",
    "  - Os rótulos multilabel (`toxic`, `severe_toxic`, `obscene`, `threat`, `insult`, `identity_hate`) com valor igual a 1.\n",
    "\n",
    "Para cada comentário, foi gerada uma lista de elementos categóricos que descreve seu conteúdo e seus rótulos. Essa lista foi armazenada na coluna `sequencia` do DataFrame e servirá como entrada para mineração de padrões sequenciais ou regras de associação.\n"
   ]
  },
  {
   "cell_type": "code",
   "execution_count": 93,
   "id": "667f3818",
   "metadata": {},
   "outputs": [
    {
     "name": "stdout",
     "output_type": "stream",
     "text": [
      "Exemplo de sequência:\n",
      "Comentário 0: ['medio', 'padrão']\n",
      "Comentário 1: ['curto', 'razoavelmente fácil']\n",
      "Comentário 2: ['medio', 'padrão']\n",
      "Comentário 3: ['muito_longo', 'um pouco difícil']\n",
      "Comentário 4: ['curto', 'muito facil']\n",
      "Comentário 5: ['muito_curto', 'razoavelmente fácil']\n",
      "Comentário 6: ['muito_curto', 'razoavelmente fácil', 'toxic', 'severe_toxic', 'obscene', 'insult']\n",
      "Comentário 7: ['curto', 'razoavelmente fácil']\n",
      "Comentário 8: ['longo', 'padrão']\n",
      "Comentário 9: ['curto', 'padrão']\n"
     ]
    }
   ],
   "source": [
    "# Função que cria sequência de itens ativos\n",
    "def criar_sequencia(row):\n",
    "    seq = []\n",
    "    # Categorias\n",
    "    if pd.notnull(row['length_cat']):\n",
    "        seq.append(str(row['length_cat']))\n",
    "    if pd.notnull(row['flesch_cat']):\n",
    "        seq.append(str(row['flesch_cat']))\n",
    "    # Labels binários ativos\n",
    "    for label in toxic_labels:\n",
    "        if row[label] == 1:\n",
    "            seq.append(label)\n",
    "    return seq\n",
    "\n",
    "# Aplicar no train\n",
    "train['sequencia'] = train.apply(criar_sequencia, axis=1)\n",
    "\n",
    "# Exibir exemplos\n",
    "print(\"Exemplo de sequência:\")\n",
    "for i in range(10):\n",
    "    print(f\"Comentário {i}: {train['sequencia'].iloc[i]}\")"
   ]
  },
  {
   "cell_type": "markdown",
   "id": "dac790d4",
   "metadata": {},
   "source": [
    "##### **Comentarios:**"
   ]
  },
  {
   "cell_type": "markdown",
   "id": "50163f19",
   "metadata": {},
   "source": [
    "- Os exemplos mostram como cada comentário é transformado em uma lista de características:\n",
    "  - Os dois primeiros itens sempre indicam a **categoria de comprimento** e a **categoria de legibilidade**.\n",
    "  - Quando não há nenhum rótulo tóxico ativo, a sequência contém apenas esses dois elementos.\n",
    "  - Quando há toxicidade, os rótulos aparecem depois das categorias, aumentando o tamanho da lista.\n",
    "\n",
    "- Por exemplo:\n",
    "  - `['medio', 'padrão']`: Comentário neutro, sem toxicidade.\n",
    "  - `['muito_curto', 'razoavelmente fácil', 'toxic', 'severe_toxic', 'obscene', 'insult']`: Comentário curto e fácil de ler, mas com múltiplos rótulos de toxicidade.\n",
    "\n",
    "  ---\n"
   ]
  },
  {
   "cell_type": "code",
   "execution_count": 94,
   "id": "f4f037b1",
   "metadata": {},
   "outputs": [
    {
     "data": {
      "image/png": "[encoded data removed]",
      "text/plain": [
       "<Figure size 640x480 with 1 Axes>"
      ]
     },
     "metadata": {},
     "output_type": "display_data"
    }
   ],
   "source": [
    "train['seq_len'] = train['sequencia'].apply(len)\n",
    "train['seq_len'].hist(bins=20)\n",
    "plt.xlabel('Tamaño de la secuencia')\n",
    "plt.ylabel('Frecuencia')\n",
    "plt.title('Distribución del tamaño de las secuencias')\n",
    "plt.show()\n",
    "\n"
   ]
  },
  {
   "cell_type": "markdown",
   "id": "69e62827",
   "metadata": {},
   "source": [
    "- O gráfico apresenta quantos comentários possuem cada tamanho de sequência.\n",
    "- **A maioria absoluta está concentrada no tamanho 2**, o que significa que esses comentários contêm apenas informações de comprimento e legibilidade, sem nenhuma toxicidade.\n",
    "- À medida que o tamanho aumenta, há menos exemplos, pois são casos em que o comentário foi classificado como tóxico em uma ou várias categorias.\n",
    "- Esse comportamento reforça que o dataset é fortemente desbalanceado, com poucos comentários realmente tóxicos e muitos comentários neutros.\n",
    "\n",
    "---\n"
   ]
  },
  {
   "cell_type": "markdown",
   "id": "e7a3a265",
   "metadata": {},
   "source": [
    "#### **b) Mineração de padrões com PrefixSpan**"
   ]
  },
  {
   "cell_type": "markdown",
   "id": "44ecf7d9",
   "metadata": {},
   "source": [
    "Esta etapa analisa as sequências categóricas associadas a cada comentário **`(como “curto”, “padrão”, “tóxico”, “insult”, etc.)`** e procura subseqüências que se repetem frequentemente em diferentes comentários. O algoritmo **`PrefixSpan`**, especializado em mineração de padrões sequenciais, é usado para encontrar essas combinações comuns sem gerar todos os candidatos."
   ]
  },
  {
   "cell_type": "code",
   "execution_count": 95,
   "id": "dcecb97f",
   "metadata": {},
   "outputs": [
    {
     "name": "stdout",
     "output_type": "stream",
     "text": [
      "                                sequencia  tamanho  suporte_absoluto  \\\n",
      "87                 toxic, obscene, insult        3              5954   \n",
      "69            muito_curto, toxic, obscene        3              2555   \n",
      "33                  curto, toxic, obscene        3              2387   \n",
      "35                   curto, toxic, insult        3              2280   \n",
      "71             muito_curto, toxic, insult        3              2255   \n",
      "73           muito_curto, obscene, insult        3              1918   \n",
      "70    muito_curto, toxic, obscene, insult        4              1889   \n",
      "37                 curto, obscene, insult        3              1864   \n",
      "34          curto, toxic, obscene, insult        4              1820   \n",
      "116                 facil, toxic, obscene        3              1525   \n",
      "43    razoavelmente fácil, toxic, obscene        3              1523   \n",
      "8                   medio, toxic, obscene        3              1517   \n",
      "83           toxic, severe_toxic, obscene        3              1517   \n",
      "7                    medio, toxic, insult        3              1454   \n",
      "45     razoavelmente fácil, toxic, insult        3              1453   \n",
      "118                  facil, toxic, insult        3              1417   \n",
      "85            toxic, severe_toxic, insult        3              1371   \n",
      "84   toxic, severe_toxic, obscene, insult        4              1349   \n",
      "60            muito facil, toxic, obscene        3              1270   \n",
      "47   razoavelmente fácil, obscene, insult        3              1215   \n",
      "\n",
      "     suporte_relativo  \n",
      "87           0.037334  \n",
      "69           0.016021  \n",
      "33           0.014967  \n",
      "35           0.014297  \n",
      "71           0.014140  \n",
      "73           0.012027  \n",
      "70           0.011845  \n",
      "37           0.011688  \n",
      "34           0.011412  \n",
      "116          0.009562  \n",
      "43           0.009550  \n",
      "8            0.009512  \n",
      "83           0.009512  \n",
      "7            0.009117  \n",
      "45           0.009111  \n",
      "118          0.008885  \n",
      "85           0.008597  \n",
      "84           0.008459  \n",
      "60           0.007963  \n",
      "47           0.007619  \n"
     ]
    }
   ],
   "source": [
    "from prefixspan import PrefixSpan\n",
    "\n",
    "# Preparar las secuencias\n",
    "sequencias = train['sequencia'].tolist()\n",
    "\n",
    "# Crear el minerador\n",
    "ps = PrefixSpan(sequencias)\n",
    "\n",
    "# Soporte mínimo 0.5%\n",
    "suporte = 0.005\n",
    "suporte_minimo = int(suporte * len(sequencias))\n",
    "\n",
    "# Obtener todos los patrones\n",
    "padroes = ps.frequent(suporte_minimo, closed=True)\n",
    "\n",
    "# Convertir a DataFrame\n",
    "df_padroes = pd.DataFrame([\n",
    "    {\n",
    "        \"sequencia\": \", \".join(seq),\n",
    "        \"tamanho\": len(seq),\n",
    "        \"suporte_absoluto\": suporte,\n",
    "        \"suporte_relativo\": suporte / len(sequencias)\n",
    "    }\n",
    "    for suporte, seq in padroes\n",
    "])\n",
    "\n",
    "# Filtrar patrones con tamaño mínimo 2\n",
    "df_padroes = df_padroes[df_padroes[\"tamanho\"] >= 3]\n",
    "\n",
    "# Filtrar patrones que contengan al menos una etiqueta de toxicidad\n",
    "tox_labels = [\"toxic\", \"severe_toxic\", \"obscene\", \"threat\", \"insult\", \"identity_hate\"]\n",
    "regex = \"|\".join(tox_labels)\n",
    "df_padroes = df_padroes[df_padroes[\"sequencia\"].str.contains(regex)]\n",
    "\n",
    "# Ordenar por suporte\n",
    "df_padroes = df_padroes.sort_values(by=\"suporte_absoluto\", ascending=False)\n",
    "\n",
    "# Mostrar top 20\n",
    "print(df_padroes.head(20))\n"
   ]
  },
  {
   "cell_type": "markdown",
   "id": "33ab79c7",
   "metadata": {},
   "source": [
    "- O padrão mais forte com conteúdo tóxico é: “tóxico, obsceno, insulto”, com um **`suporte de 3,73%`** do conjunto de dados.\n",
    "\n",
    "- Aparecem padrões mixtos entre características textuais (curto, médio, fácil, etc.) e etiquetas tóxicas (tóxic, insult, etc.).\n",
    "\n",
    "- Os comentários muito curtos e curtos com conteúdo ofensivo **`têm alta frequência`**.\n",
    "\n",
    "- Também se destaca o aparecimento de combinações com severe_toxic, embora em menor quantidade.\n",
    "\n",
    "---"
   ]
  },
  {
   "cell_type": "code",
   "execution_count": 96,
   "id": "2f85e70d",
   "metadata": {},
   "outputs": [
    {
     "data": {
      "image/png": "[encoded data removed]",
      "text/plain": [
       "<Figure size 1000x500 with 1 Axes>"
      ]
     },
     "metadata": {},
     "output_type": "display_data"
    }
   ],
   "source": [
    "top_10 = padroes[:10]\n",
    "labels = [' → '.join(seq) for _, seq in top_10]\n",
    "supports = [s / len(sequencias) for s, _ in top_10]\n",
    "\n",
    "plt.figure(figsize=(10, 5))\n",
    "plt.barh(labels[::-1], supports[::-1], color='skyblue')\n",
    "plt.xlabel('Suporte Relativo')\n",
    "plt.title('Top 10 Padrões Sequenciais Frequentes')\n",
    "plt.tight_layout()\n",
    "plt.show()"
   ]
  },
  {
   "cell_type": "markdown",
   "id": "cdb6baab",
   "metadata": {},
   "source": [
    "- Comentários de tamanho **`médio são muito comuns`**.\n",
    "\n",
    "- Comentários de tamanho **`médio com legibilidade padrão`**.\n",
    "\n",
    "- Comentários de tamanho **`médio que são razoavelmente fáceis de ler`**.\n",
    "\n",
    "- Comentários de tamanho **`médio que são classificados como tóxicos`**.\n",
    "\n",
    "- Comentários de tamanho **`médio com conteúdo tóxico, obsceno ou ofensivo`**."
   ]
  },
  {
   "cell_type": "code",
   "execution_count": 97,
   "id": "9d6d0dbc",
   "metadata": {},
   "outputs": [
    {
     "name": "stdout",
     "output_type": "stream",
     "text": [
      "                       sequencia  tamanho  suporte_absoluto  suporte_relativo\n",
      "271               toxic, obscene        2              7926          0.049699\n",
      "277                toxic, insult        2              7343          0.046044\n",
      "283              obscene, insult        2              6155          0.038594\n",
      "272       toxic, obscene, insult        3              5954          0.037334\n",
      "118                 curto, toxic        2              4587          0.028762\n",
      "216           muito_curto, toxic        2              4134          0.025922\n",
      "33                  medio, toxic        2              3188          0.019990\n",
      "143   razoavelmente fácil, toxic        2              3053          0.019144\n",
      "335                 facil, toxic        2              2732          0.017131\n",
      "228         muito_curto, obscene        2              2617          0.016410\n",
      "221  muito_curto, toxic, obscene        3              2555          0.016021\n",
      "131               curto, obscene        2              2489          0.015607\n",
      "135                curto, insult        2              2402          0.015062\n",
      "119        curto, toxic, obscene        3              2387          0.014967\n",
      "62                 padrão, toxic        2              2344          0.014698\n",
      "232          muito_curto, insult        2              2338          0.014660\n",
      "127         curto, toxic, insult        3              2280          0.014297\n",
      "225   muito_curto, toxic, insult        3              2255          0.014140\n",
      "192           muito facil, toxic        2              2096          0.013143\n",
      "297                 longo, toxic        2              1944          0.012190\n"
     ]
    }
   ],
   "source": [
    "# Preparar las secuencias\n",
    "sequencias = train['sequencia'].tolist()\n",
    "\n",
    "# Crear el minerador\n",
    "ps = PrefixSpan(sequencias)\n",
    "\n",
    "# Soporte mínimo 0.1%\n",
    "suporte = 0.001\n",
    "suporte_minimo = int(suporte * len(sequencias))\n",
    "\n",
    "# Obtener todos los patrones\n",
    "padroes = ps.frequent(suporte_minimo, closed=True)\n",
    "\n",
    "# Convertir a DataFrame\n",
    "df_padroes = pd.DataFrame([\n",
    "    {\n",
    "        \"sequencia\": \", \".join(seq),\n",
    "        \"tamanho\": len(seq),\n",
    "        \"suporte_absoluto\": suporte,\n",
    "        \"suporte_relativo\": suporte / len(sequencias)\n",
    "    }\n",
    "    for suporte, seq in padroes\n",
    "])\n",
    "\n",
    "# Filtrar patrones con tamaño mínimo 2\n",
    "df_padroes = df_padroes[df_padroes[\"tamanho\"] >= 2]\n",
    "\n",
    "# Filtrar patrones que contengan al menos una etiqueta de toxicidad\n",
    "tox_labels = [\"toxic\", \"severe_toxic\", \"obscene\", \"threat\", \"insult\", \"identity_hate\"]\n",
    "regex = \"|\".join(tox_labels)\n",
    "df_padroes = df_padroes[df_padroes[\"sequencia\"].str.contains(regex)]\n",
    "\n",
    "# Ordenar por suporte\n",
    "df_padroes = df_padroes.sort_values(by=\"suporte_absoluto\", ascending=False)\n",
    "\n",
    "# Mostrar top 20\n",
    "print(df_padroes.head(20))\n"
   ]
  },
  {
   "cell_type": "markdown",
   "id": "f06de95b",
   "metadata": {},
   "source": [
    "##### **Comentario:**"
   ]
  },
  {
   "cell_type": "markdown",
   "id": "076266c6",
   "metadata": {},
   "source": [
    "- Há uma **correlação forte entre os rótulos de toxicidade** (`toxic`, `obscene`, `insult`), o que pode ajudar no desenvolvimento de modelos de classificação mais robustos.\n",
    "\n",
    "- O **comprimento do comentário** (como `medio`, `curto`, `muito_curto`) influencia bastante os padrões detectados.\n",
    "\n",
    "- Algumas **combinações de rótulos tóxicos** aparecem com suporte acima de 3%, indicando **alta coocorrência** e potenciais casos de maior severidade.\n",
    "\n",
    "---\n"
   ]
  },
  {
   "cell_type": "code",
   "execution_count": 98,
   "id": "95714f76",
   "metadata": {},
   "outputs": [
    {
     "data": {
      "image/png": "[encoded data removed]",
      "text/plain": [
       "<Figure size 1000x500 with 1 Axes>"
      ]
     },
     "metadata": {},
     "output_type": "display_data"
    }
   ],
   "source": [
    "top_10 = padroes[:10]\n",
    "labels = [' → '.join(seq) for _, seq in top_10]\n",
    "supports = [s / len(sequencias) for s, _ in top_10]\n",
    "\n",
    "plt.figure(figsize=(10, 5))\n",
    "plt.barh(labels[::-1], supports[::-1], color='skyblue')\n",
    "plt.xlabel('Suporte Relativo')\n",
    "plt.title('Top 10 Padrões Sequenciais Frequentes')\n",
    "plt.tight_layout()\n",
    "plt.show()"
   ]
  },
  {
   "cell_type": "markdown",
   "id": "65ac72a1",
   "metadata": {},
   "source": [
    "##### **Comentario:**"
   ]
  },
  {
   "cell_type": "markdown",
   "id": "670218c1",
   "metadata": {},
   "source": [
    "- **`medio`**\n",
    "   - É o padrão mais frequente (~24% de suporte relativo).\n",
    "   - Indica que comentários de comprimento médio são os mais comuns.\n",
    "\n",
    "- **`medio → padrão`**\n",
    "   - Padrão frequente (~5%).\n",
    "   - Indica uma transição entre comentários de comprimento médio para uma categoria `padrão`.\n",
    "\n",
    "- **Sequências envolvendo rótulos tóxicos (`toxic`, `obscene`, `insult`) aparecem com baixo suporte**\n",
    "   - Isso ocorre porque o gráfico mostra apenas os **10 padrões mais frequentes**, e estes são dominados por aspectos de comprimento do texto.\n",
    "\n",
    "- **`medio → razoavelmente fácil`**\n",
    "   - Aparece com ~5% de suporte.\n",
    "   - Sugere que muitos comentários de comprimento médio também foram classificados como de compreensão razoavelmente fácil.\n",
    "\n",
    "---"
   ]
  }
 ],
 "metadata": {
  "kernelspec": {
   "display_name": "env",
   "language": "python",
   "name": "python3"
  },
  "language_info": {
   "codemirror_mode": {
    "name": "ipython",
    "version": 3
   },
   "file_extension": ".py",
   "mimetype": "text/x-python",
   "name": "python",
   "nbconvert_exporter": "python",
   "pygments_lexer": "ipython3",
   "version": "3.13.1"
  }
 },
 "nbformat": 4,
 "nbformat_minor": 5
}
